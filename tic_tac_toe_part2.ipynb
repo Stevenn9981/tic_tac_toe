{
  "cells": [
    {
      "cell_type": "markdown",
      "metadata": {
        "id": "view-in-github",
        "colab_type": "text"
      },
      "source": [
        "<a href=\"https://colab.research.google.com/github/Stevenn9981/tic_tac_toe/blob/master/tic_tac_toe_part2.ipynb\" target=\"_parent\"><img src=\"https://colab.research.google.com/assets/colab-badge.svg\" alt=\"Open In Colab\"/></a>"
      ]
    },
    {
      "cell_type": "markdown",
      "metadata": {
        "id": "iEy_PMnnf-Og"
      },
      "source": [
        "## Setup"
      ]
    },
    {
      "cell_type": "code",
      "execution_count": 1,
      "metadata": {
        "colab": {
          "base_uri": "https://localhost:8080/"
        },
        "id": "fdG6QronfqnR",
        "outputId": "eafbed15-4d27-4963-d3d5-f85d49b2caf4"
      },
      "outputs": [
        {
          "output_type": "stream",
          "name": "stdout",
          "text": [
            "\r0% [Working]\r            \rGet:1 http://security.ubuntu.com/ubuntu jammy-security InRelease [110 kB]\n",
            "\r0% [Connecting to archive.ubuntu.com] [1 InRelease 14.2 kB/110 kB 13%] [Connect\r0% [Waiting for headers] [Connecting to cloud.r-project.org] [Connected to ppa.\r                                                                               \rHit:2 http://archive.ubuntu.com/ubuntu jammy InRelease\n",
            "\r                                                                               \rHit:3 https://developer.download.nvidia.com/compute/cuda/repos/ubuntu2204/x86_64  InRelease\n",
            "\r0% [Waiting for headers] [Connecting to cloud.r-project.org] [Connected to ppa.\r                                                                               \rGet:4 http://archive.ubuntu.com/ubuntu jammy-updates InRelease [119 kB]\n",
            "Hit:5 https://cloud.r-project.org/bin/linux/ubuntu jammy-cran40/ InRelease\n",
            "Get:6 http://archive.ubuntu.com/ubuntu jammy-backports InRelease [109 kB]\n",
            "Hit:7 https://ppa.launchpadcontent.net/c2d4u.team/c2d4u4.0+/ubuntu jammy InRelease\n",
            "Hit:8 https://ppa.launchpadcontent.net/deadsnakes/ppa/ubuntu jammy InRelease\n",
            "Hit:9 https://ppa.launchpadcontent.net/graphics-drivers/ppa/ubuntu jammy InRelease\n",
            "Hit:10 https://ppa.launchpadcontent.net/ubuntugis/ppa/ubuntu jammy InRelease\n",
            "Fetched 338 kB in 2s (195 kB/s)\n",
            "Reading package lists... Done\n",
            "Reading package lists... Done\n",
            "Building dependency tree... Done\n",
            "Reading state information... Done\n",
            "freeglut3-dev is already the newest version (2.8.1-6).\n",
            "ffmpeg is already the newest version (7:4.4.2-0ubuntu0.22.04.1).\n",
            "xvfb is already the newest version (2:21.1.4-2ubuntu1.7~22.04.2).\n",
            "0 upgraded, 0 newly installed, 0 to remove and 24 not upgraded.\n",
            "Requirement already satisfied: imageio==2.4.0 in /usr/local/lib/python3.10/dist-packages (2.4.0)\n",
            "Requirement already satisfied: numpy in /usr/local/lib/python3.10/dist-packages (from imageio==2.4.0) (1.23.5)\n",
            "Requirement already satisfied: pillow in /usr/local/lib/python3.10/dist-packages (from imageio==2.4.0) (9.4.0)\n",
            "Requirement already satisfied: pyvirtualdisplay in /usr/local/lib/python3.10/dist-packages (3.0)\n",
            "Requirement already satisfied: tf-agents[reverb] in /usr/local/lib/python3.10/dist-packages (0.18.0)\n",
            "Requirement already satisfied: absl-py>=0.6.1 in /usr/local/lib/python3.10/dist-packages (from tf-agents[reverb]) (1.4.0)\n",
            "Requirement already satisfied: cloudpickle>=1.3 in /usr/local/lib/python3.10/dist-packages (from tf-agents[reverb]) (2.2.1)\n",
            "Requirement already satisfied: gin-config>=0.4.0 in /usr/local/lib/python3.10/dist-packages (from tf-agents[reverb]) (0.5.0)\n",
            "Requirement already satisfied: gym<=0.23.0,>=0.17.0 in /usr/local/lib/python3.10/dist-packages (from tf-agents[reverb]) (0.23.0)\n",
            "Requirement already satisfied: numpy>=1.19.0 in /usr/local/lib/python3.10/dist-packages (from tf-agents[reverb]) (1.23.5)\n",
            "Requirement already satisfied: pillow in /usr/local/lib/python3.10/dist-packages (from tf-agents[reverb]) (9.4.0)\n",
            "Requirement already satisfied: six>=1.10.0 in /usr/local/lib/python3.10/dist-packages (from tf-agents[reverb]) (1.16.0)\n",
            "Requirement already satisfied: protobuf>=3.11.3 in /usr/local/lib/python3.10/dist-packages (from tf-agents[reverb]) (3.20.3)\n",
            "Requirement already satisfied: wrapt>=1.11.1 in /usr/local/lib/python3.10/dist-packages (from tf-agents[reverb]) (1.14.1)\n",
            "Requirement already satisfied: typing-extensions>=3.7.4.3 in /usr/local/lib/python3.10/dist-packages (from tf-agents[reverb]) (4.5.0)\n",
            "Requirement already satisfied: pygame==2.1.3 in /usr/local/lib/python3.10/dist-packages (from tf-agents[reverb]) (2.1.3)\n",
            "Requirement already satisfied: tensorflow-probability~=0.22.0 in /usr/local/lib/python3.10/dist-packages (from tf-agents[reverb]) (0.22.0)\n",
            "Requirement already satisfied: rlds in /usr/local/lib/python3.10/dist-packages (from tf-agents[reverb]) (0.1.8)\n",
            "Requirement already satisfied: dm-reverb~=0.13.0 in /usr/local/lib/python3.10/dist-packages (from tf-agents[reverb]) (0.13.0)\n",
            "Requirement already satisfied: tensorflow~=2.14.0 in /usr/local/lib/python3.10/dist-packages (from tf-agents[reverb]) (2.14.0)\n",
            "Requirement already satisfied: dm-tree in /usr/local/lib/python3.10/dist-packages (from dm-reverb~=0.13.0->tf-agents[reverb]) (0.1.8)\n",
            "Requirement already satisfied: portpicker in /usr/local/lib/python3.10/dist-packages (from dm-reverb~=0.13.0->tf-agents[reverb]) (1.5.2)\n",
            "Requirement already satisfied: gym-notices>=0.0.4 in /usr/local/lib/python3.10/dist-packages (from gym<=0.23.0,>=0.17.0->tf-agents[reverb]) (0.0.8)\n",
            "Requirement already satisfied: astunparse>=1.6.0 in /usr/local/lib/python3.10/dist-packages (from tensorflow~=2.14.0->tf-agents[reverb]) (1.6.3)\n",
            "Requirement already satisfied: flatbuffers>=23.5.26 in /usr/local/lib/python3.10/dist-packages (from tensorflow~=2.14.0->tf-agents[reverb]) (23.5.26)\n",
            "Requirement already satisfied: gast!=0.5.0,!=0.5.1,!=0.5.2,>=0.2.1 in /usr/local/lib/python3.10/dist-packages (from tensorflow~=2.14.0->tf-agents[reverb]) (0.5.4)\n",
            "Requirement already satisfied: google-pasta>=0.1.1 in /usr/local/lib/python3.10/dist-packages (from tensorflow~=2.14.0->tf-agents[reverb]) (0.2.0)\n",
            "Requirement already satisfied: h5py>=2.9.0 in /usr/local/lib/python3.10/dist-packages (from tensorflow~=2.14.0->tf-agents[reverb]) (3.9.0)\n",
            "Requirement already satisfied: libclang>=13.0.0 in /usr/local/lib/python3.10/dist-packages (from tensorflow~=2.14.0->tf-agents[reverb]) (16.0.6)\n",
            "Requirement already satisfied: ml-dtypes==0.2.0 in /usr/local/lib/python3.10/dist-packages (from tensorflow~=2.14.0->tf-agents[reverb]) (0.2.0)\n",
            "Requirement already satisfied: opt-einsum>=2.3.2 in /usr/local/lib/python3.10/dist-packages (from tensorflow~=2.14.0->tf-agents[reverb]) (3.3.0)\n",
            "Requirement already satisfied: packaging in /usr/local/lib/python3.10/dist-packages (from tensorflow~=2.14.0->tf-agents[reverb]) (23.2)\n",
            "Requirement already satisfied: setuptools in /usr/local/lib/python3.10/dist-packages (from tensorflow~=2.14.0->tf-agents[reverb]) (67.7.2)\n",
            "Requirement already satisfied: termcolor>=1.1.0 in /usr/local/lib/python3.10/dist-packages (from tensorflow~=2.14.0->tf-agents[reverb]) (2.3.0)\n",
            "Requirement already satisfied: tensorflow-io-gcs-filesystem>=0.23.1 in /usr/local/lib/python3.10/dist-packages (from tensorflow~=2.14.0->tf-agents[reverb]) (0.34.0)\n",
            "Requirement already satisfied: grpcio<2.0,>=1.24.3 in /usr/local/lib/python3.10/dist-packages (from tensorflow~=2.14.0->tf-agents[reverb]) (1.59.0)\n",
            "Requirement already satisfied: tensorboard<2.15,>=2.14 in /usr/local/lib/python3.10/dist-packages (from tensorflow~=2.14.0->tf-agents[reverb]) (2.14.1)\n",
            "Requirement already satisfied: tensorflow-estimator<2.15,>=2.14.0 in /usr/local/lib/python3.10/dist-packages (from tensorflow~=2.14.0->tf-agents[reverb]) (2.14.0)\n",
            "Requirement already satisfied: keras<2.15,>=2.14.0 in /usr/local/lib/python3.10/dist-packages (from tensorflow~=2.14.0->tf-agents[reverb]) (2.14.0)\n",
            "Requirement already satisfied: decorator in /usr/local/lib/python3.10/dist-packages (from tensorflow-probability~=0.22.0->tf-agents[reverb]) (4.4.2)\n",
            "Requirement already satisfied: wheel<1.0,>=0.23.0 in /usr/local/lib/python3.10/dist-packages (from astunparse>=1.6.0->tensorflow~=2.14.0->tf-agents[reverb]) (0.41.2)\n",
            "Requirement already satisfied: google-auth<3,>=1.6.3 in /usr/local/lib/python3.10/dist-packages (from tensorboard<2.15,>=2.14->tensorflow~=2.14.0->tf-agents[reverb]) (2.17.3)\n",
            "Requirement already satisfied: google-auth-oauthlib<1.1,>=0.5 in /usr/local/lib/python3.10/dist-packages (from tensorboard<2.15,>=2.14->tensorflow~=2.14.0->tf-agents[reverb]) (1.0.0)\n",
            "Requirement already satisfied: markdown>=2.6.8 in /usr/local/lib/python3.10/dist-packages (from tensorboard<2.15,>=2.14->tensorflow~=2.14.0->tf-agents[reverb]) (3.5)\n",
            "Requirement already satisfied: requests<3,>=2.21.0 in /usr/local/lib/python3.10/dist-packages (from tensorboard<2.15,>=2.14->tensorflow~=2.14.0->tf-agents[reverb]) (2.31.0)\n",
            "Requirement already satisfied: tensorboard-data-server<0.8.0,>=0.7.0 in /usr/local/lib/python3.10/dist-packages (from tensorboard<2.15,>=2.14->tensorflow~=2.14.0->tf-agents[reverb]) (0.7.2)\n",
            "Requirement already satisfied: werkzeug>=1.0.1 in /usr/local/lib/python3.10/dist-packages (from tensorboard<2.15,>=2.14->tensorflow~=2.14.0->tf-agents[reverb]) (3.0.1)\n",
            "Requirement already satisfied: psutil in /usr/local/lib/python3.10/dist-packages (from portpicker->dm-reverb~=0.13.0->tf-agents[reverb]) (5.9.5)\n",
            "Requirement already satisfied: cachetools<6.0,>=2.0.0 in /usr/local/lib/python3.10/dist-packages (from google-auth<3,>=1.6.3->tensorboard<2.15,>=2.14->tensorflow~=2.14.0->tf-agents[reverb]) (5.3.2)\n",
            "Requirement already satisfied: pyasn1-modules>=0.2.1 in /usr/local/lib/python3.10/dist-packages (from google-auth<3,>=1.6.3->tensorboard<2.15,>=2.14->tensorflow~=2.14.0->tf-agents[reverb]) (0.3.0)\n",
            "Requirement already satisfied: rsa<5,>=3.1.4 in /usr/local/lib/python3.10/dist-packages (from google-auth<3,>=1.6.3->tensorboard<2.15,>=2.14->tensorflow~=2.14.0->tf-agents[reverb]) (4.9)\n",
            "Requirement already satisfied: requests-oauthlib>=0.7.0 in /usr/local/lib/python3.10/dist-packages (from google-auth-oauthlib<1.1,>=0.5->tensorboard<2.15,>=2.14->tensorflow~=2.14.0->tf-agents[reverb]) (1.3.1)\n",
            "Requirement already satisfied: charset-normalizer<4,>=2 in /usr/local/lib/python3.10/dist-packages (from requests<3,>=2.21.0->tensorboard<2.15,>=2.14->tensorflow~=2.14.0->tf-agents[reverb]) (3.3.1)\n",
            "Requirement already satisfied: idna<4,>=2.5 in /usr/local/lib/python3.10/dist-packages (from requests<3,>=2.21.0->tensorboard<2.15,>=2.14->tensorflow~=2.14.0->tf-agents[reverb]) (3.4)\n",
            "Requirement already satisfied: urllib3<3,>=1.21.1 in /usr/local/lib/python3.10/dist-packages (from requests<3,>=2.21.0->tensorboard<2.15,>=2.14->tensorflow~=2.14.0->tf-agents[reverb]) (2.0.7)\n",
            "Requirement already satisfied: certifi>=2017.4.17 in /usr/local/lib/python3.10/dist-packages (from requests<3,>=2.21.0->tensorboard<2.15,>=2.14->tensorflow~=2.14.0->tf-agents[reverb]) (2023.7.22)\n",
            "Requirement already satisfied: MarkupSafe>=2.1.1 in /usr/local/lib/python3.10/dist-packages (from werkzeug>=1.0.1->tensorboard<2.15,>=2.14->tensorflow~=2.14.0->tf-agents[reverb]) (2.1.3)\n",
            "Requirement already satisfied: pyasn1<0.6.0,>=0.4.6 in /usr/local/lib/python3.10/dist-packages (from pyasn1-modules>=0.2.1->google-auth<3,>=1.6.3->tensorboard<2.15,>=2.14->tensorflow~=2.14.0->tf-agents[reverb]) (0.5.0)\n",
            "Requirement already satisfied: oauthlib>=3.0.0 in /usr/local/lib/python3.10/dist-packages (from requests-oauthlib>=0.7.0->google-auth-oauthlib<1.1,>=0.5->tensorboard<2.15,>=2.14->tensorflow~=2.14.0->tf-agents[reverb]) (3.2.2)\n",
            "Requirement already satisfied: pyglet in /usr/local/lib/python3.10/dist-packages (2.0.9)\n"
          ]
        }
      ],
      "source": [
        "!sudo apt-get update\n",
        "!sudo apt-get install -y xvfb ffmpeg freeglut3-dev\n",
        "!pip install 'imageio==2.4.0'\n",
        "!pip install pyvirtualdisplay\n",
        "!pip install tf-agents[reverb]\n",
        "!pip install pyglet"
      ]
    },
    {
      "cell_type": "code",
      "execution_count": 21,
      "metadata": {
        "id": "h-vtSiPUgOOU"
      },
      "outputs": [],
      "source": [
        "import base64\n",
        "import imageio\n",
        "import IPython\n",
        "import matplotlib\n",
        "import matplotlib.pyplot as plt\n",
        "import numpy as np\n",
        "import PIL.Image\n",
        "import pyvirtualdisplay\n",
        "import reverb\n",
        "import random\n",
        "import os\n",
        "import shutil\n",
        "import tempfile\n",
        "import zipfile\n",
        "\n",
        "import pygame as pg\n",
        "from pygame import gfxdraw\n",
        "from pygame.locals import *\n",
        "\n",
        "import tensorflow as tf\n",
        "\n",
        "from tf_agents.agents.dqn import dqn_agent\n",
        "from tf_agents.drivers import py_driver\n",
        "from tf_agents.drivers import dynamic_step_driver\n",
        "from tf_agents.environments import suite_gym\n",
        "from tf_agents.environments import py_environment\n",
        "from tf_agents.environments import tf_environment\n",
        "from tf_agents.environments import tf_py_environment\n",
        "from tf_agents.eval import metric_utils\n",
        "from tf_agents.metrics import tf_metrics\n",
        "from tf_agents.networks import sequential\n",
        "from tf_agents.networks import q_network\n",
        "from tf_agents.policies import policy_saver\n",
        "from tf_agents.policies import py_tf_eager_policy\n",
        "from tf_agents.policies import random_tf_policy\n",
        "from tf_agents.policies import random_py_policy\n",
        "from tf_agents.replay_buffers import tf_uniform_replay_buffer\n",
        "from tf_agents.replay_buffers import reverb_replay_buffer\n",
        "from tf_agents.replay_buffers import reverb_utils\n",
        "from tf_agents.trajectories import trajectory\n",
        "from tf_agents.specs import tensor_spec\n",
        "from tf_agents.specs import array_spec\n",
        "from tf_agents.utils import common\n",
        "\n",
        "tempdir = \"./\""
      ]
    },
    {
      "cell_type": "code",
      "execution_count": 3,
      "metadata": {
        "colab": {
          "base_uri": "https://localhost:8080/",
          "height": 35
        },
        "id": "MsV4e7iqg10s",
        "outputId": "9a622f4c-77ca-4119-fa2d-38170b7bc3c7"
      },
      "outputs": [
        {
          "output_type": "execute_result",
          "data": {
            "text/plain": [
              "'2.14.0'"
            ],
            "application/vnd.google.colaboratory.intrinsic+json": {
              "type": "string"
            }
          },
          "metadata": {},
          "execution_count": 3
        }
      ],
      "source": [
        "tf.version.VERSION"
      ]
    },
    {
      "cell_type": "markdown",
      "metadata": {
        "id": "sWwU8Wp7g2_X"
      },
      "source": [
        "## Hyper-parameters"
      ]
    },
    {
      "cell_type": "code",
      "execution_count": 4,
      "metadata": {
        "id": "reKJx_ybg7_L"
      },
      "outputs": [],
      "source": [
        "num_iterations = 100000 # @param {type:\"integer\"}\n",
        "\n",
        "initial_collect_steps = 100  # @param {type:\"integer\"}\n",
        "collect_steps_per_iteration = 1 # @param {type:\"integer\"}\n",
        "replay_buffer_max_length = 100000  # @param {type:\"integer\"}\n",
        "\n",
        "batch_size = 256  # @param {type:\"integer\"}\n",
        "learning_rate = 3e-3  # @param {type:\"number\"}\n",
        "log_interval = 200  # @param {type:\"integer\"}\n",
        "\n",
        "num_eval_episodes = 10  # @param {type:\"integer\"}\n",
        "eval_interval = 1000  # @param {type:\"integer\"}\n",
        "\n",
        "\n",
        "BOARD_SIZE = 9 # @param {type:\"integer\"}"
      ]
    },
    {
      "cell_type": "markdown",
      "metadata": {
        "id": "WOBVDKmMIcyJ"
      },
      "source": [
        "## Environment"
      ]
    },
    {
      "cell_type": "code",
      "execution_count": 5,
      "metadata": {
        "id": "aq7Q2oxyIhS8"
      },
      "outputs": [],
      "source": [
        "import gym\n",
        "from gym.spaces import Box, Discrete\n",
        "import numpy as np\n",
        "import math\n",
        "from tabulate import tabulate\n",
        "\n",
        "from typing import Tuple, List\n",
        "\n",
        "\n",
        "class TicTacToeEnv2(gym.Env):\n",
        "    \"\"\"\n",
        "    Implementation of a TicTacToe Environment based on OpenAI Gym standards\n",
        "    This class is modified from https://github.com/MauroLuzzatto/OpenAI-Gym-TicTacToe-Environment\n",
        "    I modified that to follow the instructions of Question 1.\n",
        "    \"\"\"\n",
        "\n",
        "    def __init__(self, mode='rgb_array') -> None:\n",
        "        \"\"\"This class contains a TicTacToe environment for OpenAI Gym\n",
        "\n",
        "        Args:\n",
        "            mode (str): 'rgb_array' or 'human'\n",
        "        \"\"\"\n",
        "        self.ener_bin_len = 0.05\n",
        "        self.num_bin = int(1 / self.ener_bin_len) + 1\n",
        "        self.n_actions = BOARD_SIZE * BOARD_SIZE * self.num_bin   # 9 * 9 * 21 actions\n",
        "        # We discretize the energy point by splitting it into (num_bin = 21) bins. i.e., it can be [0, 0.05, 0.10,..., 1.00]\n",
        "        self.action_space = gym.spaces.Discrete(self.n_actions)\n",
        "        # state: 9 * 9 * 2: the first 9 * 9 layer is the opponent's play history and the second 9 * 9 layer is ours.\n",
        "        self.observation_space = gym.spaces.MultiBinary([BOARD_SIZE, BOARD_SIZE, 2])\n",
        "        self.render_mode = mode\n",
        "        self.colors = [1, 2]\n",
        "        self.screen = None\n",
        "        self.fields_per_side = BOARD_SIZE\n",
        "        self.reset()\n",
        "\n",
        "    def reset(self) -> Tuple[np.ndarray, dict]:\n",
        "        \"\"\"\n",
        "        reset the board game and state\n",
        "        \"\"\"\n",
        "        self.board: np.ndarray = np.zeros(\n",
        "            (self.fields_per_side, self.fields_per_side), dtype=int\n",
        "        )\n",
        "        self.current_player = 1\n",
        "        self.info = {\"players\": {1: {\"actions\": [], \"energy\": 10}, 2: {\"actions\": [], \"energy\": 10}}, \"Occupied\": set()}\n",
        "\n",
        "        if self.render_mode == 'human':\n",
        "            self.render(self.render_mode)\n",
        "        return self.decompose_board_to_state()\n",
        "\n",
        "    def decompose_board_to_state(self):\n",
        "        \"\"\"\n",
        "        Our state is a 9x9x2 matrix.\n",
        "        The first layer is the opponent's play history, 0 means no stone, 1 means stones placed by the opponent.\n",
        "        The second layer is the current player's history, 0 means no stone, 1 means stones placed by the current player.\n",
        "        \"\"\"\n",
        "        opponent = 2 if self.current_player == 1 else 1\n",
        "        o_plays = (self.board == opponent) * 1\n",
        "        c_plays = (self.board == self.current_player) * 1\n",
        "        return np.stack([o_plays, c_plays], axis=2)\n",
        "\n",
        "\n",
        "    def step(self, action: tuple) -> Tuple[np.ndarray, int, bool, dict]:\n",
        "        \"\"\"step function of the tictactoeEnv2\n",
        "\n",
        "        Args:\n",
        "          action (tuple): the first element is an integer between [0, 80] representing a field on the board, and the second is to calculate the energy.\n",
        "\n",
        "        Returns:\n",
        "          state (np.array): state of 2 players' history, 0 means no stone, 1 means stones placed by the corresponding player (shape: 9x9x2).\n",
        "          reward (int): reward of the currrent step\n",
        "          done (boolean): true, if the game is finished\n",
        "          (dict): empty dict for future game related information\n",
        "        \"\"\"\n",
        "\n",
        "        if not self.action_space.contains(action):\n",
        "            raise ValueError(f\"action '{action}' is not in action_space\")\n",
        "\n",
        "        (row, col, ener) = self.decode_action(action)\n",
        "        energy_to_use = ener * self.ener_bin_len\n",
        "\n",
        "        reward = -0.1  # assign (negative) reward for every move done\n",
        "\n",
        "        # If the agent/player does not choose an empty square, randomly select an empty one.\n",
        "        if self.board[row, col] != 0:\n",
        "            play_out = random.choice(list(set(range(BOARD_SIZE * BOARD_SIZE)) - self.info[\"Occupied\"]))\n",
        "            row, col, energy_to_use = self.decode_action(play_out)\n",
        "            reward -= 0.3 # assign a negative reward if the play out position is not empty\n",
        "\n",
        "        # Check whether there is enough energy to use for the current player\n",
        "        if self.info[\"players\"][self.current_player][\"energy\"] < energy_to_use:\n",
        "            energy_to_use = self.info[\"players\"][self.current_player][\"energy\"]\n",
        "\n",
        "        # randomly select an adjacent position with probability 1/16\n",
        "        if random.random() < (1 - 1 / 9 - 6 / 9 * energy_to_use):\n",
        "            adjs = [[-1, -1], [-1, 0], [-1, 1], [0, 1], [0, -1], [1, -1], [1, 0], [1, 1]]\n",
        "            adj = random.choice(adjs)\n",
        "            row, col = row + adj[0], col + adj[1]\n",
        "\n",
        "        if 0 <= row < BOARD_SIZE and 0 <= col < BOARD_SIZE and self.board[row, col] == 0:\n",
        "            self.board[row, col] = self.current_player  # postion the token on the field\n",
        "            self.info[\"players\"][self.current_player][\"energy\"] -= energy_to_use\n",
        "            win = self._is_win(self.current_player, row, col)\n",
        "\n",
        "            play_out = row * BOARD_SIZE + col\n",
        "            self.info[\"players\"][self.current_player][\"actions\"].append(play_out)\n",
        "            self.info[\"Occupied\"].add(play_out)\n",
        "        else:\n",
        "            win = False\n",
        "\n",
        "        if win:\n",
        "            reward += 3\n",
        "\n",
        "        done = (win or len(self.info[\"Occupied\"]) == BOARD_SIZE * BOARD_SIZE)\n",
        "        self.current_player = self.current_player + 1 if self.current_player == 1 else 1\n",
        "        state = self.decompose_board_to_state()\n",
        "        return state, reward, done, self.info\n",
        "\n",
        "    def _is_win(self, color: int, r: int, c: int) -> bool:\n",
        "        \"\"\"check if this player results in a winner\n",
        "\n",
        "        Args:\n",
        "            color (int): of the player\n",
        "            r (int): row of the current play\n",
        "            c (int): column of the current play\n",
        "\n",
        "        Returns:\n",
        "            bool: indicating if there is a winner\n",
        "        \"\"\"\n",
        "\n",
        "        # check if four equal stones are aligned (horizontal, verical or diagonal)\n",
        "        directions = [[0, 1], [1, 0], [1, 1], [1, -1]]\n",
        "\n",
        "        for direct in directions:\n",
        "            count = 0\n",
        "            for offset in range(-3, 4):\n",
        "                if 0 <= r + offset * direct[0] < 9 and 0 <= c + offset * direct[1] < 9:\n",
        "                    if self.board[r + offset * direct[0], c + offset * direct[1]] == color:\n",
        "                        count += 1\n",
        "                        if count == 4:\n",
        "                            return True\n",
        "                    else:\n",
        "                        count = 0\n",
        "\n",
        "        return False\n",
        "\n",
        "    def decode_action(self, action: int) -> List[int]:\n",
        "        \"\"\"decode the action integer into a column and row value, and energy\n",
        "\n",
        "        0 = upper left corner\n",
        "        8 = lower right corner\n",
        "\n",
        "        Args:\n",
        "            action (int): action\n",
        "\n",
        "        Returns:\n",
        "            List[int, int]: a list with the [row, col] values\n",
        "        \"\"\"\n",
        "        action = np.clip(action, 0, self.n_actions)\n",
        "\n",
        "        num_places = BOARD_SIZE * BOARD_SIZE\n",
        "\n",
        "        board_position = action % num_places\n",
        "        energy = action // num_places\n",
        "\n",
        "        col = board_position % BOARD_SIZE\n",
        "        row = board_position // BOARD_SIZE\n",
        "        assert 0 <= col < BOARD_SIZE\n",
        "        assert 0 <= row < BOARD_SIZE\n",
        "        assert 0 <= energy < self.num_bin\n",
        "        return [row, col, energy]\n",
        "\n",
        "    def render(self, mode=\"human\") -> None:\n",
        "        \"\"\"render the board\n",
        "\n",
        "        The following charachters are used to represent the fields,\n",
        "            '-' no stone\n",
        "            'O' for player 0\n",
        "            'X' for player 1\n",
        "\n",
        "        An example for a 3x3 game board:\n",
        "            ╒═══╤═══╤═══╕\n",
        "            │ O │ - │ - │\n",
        "            ├───┼───┼───┤\n",
        "            │ - │ X │ - │\n",
        "            ├───┼───┼───┤\n",
        "            │ - │ - │ - │\n",
        "            ╘═══╧═══╧═══╛\n",
        "        \"\"\"\n",
        "        board = np.zeros((BOARD_SIZE, BOARD_SIZE), dtype=str)\n",
        "        for ii in range(BOARD_SIZE):\n",
        "            for jj in range(BOARD_SIZE):\n",
        "                if self.board[ii, jj] == 0:\n",
        "                    board[ii, jj] = \"-\"\n",
        "                elif self.board[ii, jj] == 1:\n",
        "                    board[ii, jj] = \"X\"\n",
        "                elif self.board[ii, jj] == 2:\n",
        "                    board[ii, jj] = \"O\"\n",
        "\n",
        "        if mode == \"human\":\n",
        "            board = tabulate(board, tablefmt=\"fancy_grid\")\n",
        "            print(board)\n",
        "            print(\"\\n\")\n",
        "\n",
        "\n",
        "        width = height = 400\n",
        "\n",
        "        white = (255, 255, 255)\n",
        "        line_color = (0, 0, 0)\n",
        "\n",
        "        os.environ[\"SDL_VIDEODRIVER\"] = \"dummy\"\n",
        "        pg.init()\n",
        "\n",
        "        # Set up the drawing window\n",
        "        if self.screen is None:\n",
        "          self.screen = pg.display.set_mode([width + 160, height + 16])\n",
        "\n",
        "        self.screen.fill(white)\n",
        "        # drawing vertical lines\n",
        "        for i in range(10):\n",
        "          pg.draw.line(self.screen, line_color, (width / BOARD_SIZE * i, 0), (width / BOARD_SIZE * i, height), 2)\n",
        "\n",
        "        # drawing horizontal lines\n",
        "        for i in range(10):\n",
        "          pg.draw.line(self.screen, line_color, (0, height / BOARD_SIZE * i), (width, height / BOARD_SIZE * i), 2)\n",
        "        pg.display.flip()\n",
        "\n",
        "        # drawing noughts and crosses\n",
        "        for i in range(BOARD_SIZE):\n",
        "          for j in range(BOARD_SIZE):\n",
        "            if self.board[i, j] == 1: # Draw crosses\n",
        "              pg.draw.lines(self.screen, line_color, True, [(width / BOARD_SIZE * (j + 0.5) - 10,\n",
        "                                                        height / BOARD_SIZE * (i + 0.5) - 10),\n",
        "                                                      (width / BOARD_SIZE * (j + 0.5) + 10,\n",
        "                                                        height / BOARD_SIZE * (i + 0.5) + 10)], 3)\n",
        "              pg.draw.lines(self.screen, line_color, True, [(width / BOARD_SIZE * (j + 0.5) - 10,\n",
        "                                                        height / BOARD_SIZE * (i + 0.5) + 10),\n",
        "                                                        (width / BOARD_SIZE * (j + 0.5) + 10,\n",
        "                                                          height / BOARD_SIZE * (i + 0.5) - 10)], 3)\n",
        "            elif self.board[i, j] == 2: # Draw noughts\n",
        "              pg.draw.circle(self.screen, line_color, (width / BOARD_SIZE * (j + 0.5), height / BOARD_SIZE * (i + 0.5)), 12, 3)\n",
        "\n",
        "        # drawing the next energy points of two players\n",
        "\n",
        "        font1 = pg.font.Font(pg.font.get_default_font(), 16)\n",
        "        font2 = pg.font.Font(pg.font.get_default_font(), 14)\n",
        "\n",
        "        # now print the text\n",
        "        text_surface1 = font1.render('Energy Points:', True, pg.Color('black'))\n",
        "        text_surface2 = font2.render(f'Player 1: {self.info[\"players\"][1][\"energy\"]:.2f}', True, pg.Color('black'))\n",
        "        text_surface3 = font2.render(f'Player 2: {self.info[\"players\"][2][\"energy\"]:.2f}', True, pg.Color('black'))\n",
        "        self.screen.blit(text_surface1, dest=(width + 15, 0))\n",
        "        self.screen.blit(text_surface2, dest=(width + 15, 22))\n",
        "        self.screen.blit(text_surface3, dest=(width + 15, 42))\n",
        "\n",
        "        board = np.transpose(\n",
        "                np.array(pg.surfarray.pixels3d(self.screen)), axes=(1, 0, 2)\n",
        "            )\n",
        "\n",
        "        return board"
      ]
    },
    {
      "cell_type": "markdown",
      "metadata": {
        "id": "LqFsRLWJslkf"
      },
      "source": [
        "## Random play test"
      ]
    },
    {
      "cell_type": "code",
      "execution_count": 6,
      "metadata": {
        "id": "qJYsgWM-79vr"
      },
      "outputs": [],
      "source": [
        "def embed_mp4(filename):\n",
        "    \"\"\"Embeds an mp4 file in the notebook.\"\"\"\n",
        "    video = open(filename,'rb').read()\n",
        "    b64 = base64.b64encode(video)\n",
        "    tag = '''\n",
        "    <video width=\"480\" height=\"480\" controls>\n",
        "      <source src=\"data:video/mp4;base64,{0}\" type=\"video/mp4\">\n",
        "    Your browser does not support the video tag.\n",
        "    </video>'''.format(b64.decode())\n",
        "\n",
        "    return IPython.display.HTML(tag)\n",
        "\n",
        "def create_policy_eval_video(policy, filename, fps=2):\n",
        "    filename = filename + \".mp4\"\n",
        "    with imageio.get_writer(filename, fps=fps) as video:\n",
        "      time_step = tf_env.reset()\n",
        "      video.append_data(py_env.render())\n",
        "      while not time_step.is_last():\n",
        "        action_step = policy.action(time_step)\n",
        "        time_step = tf_env.step(action_step.action)\n",
        "        video.append_data(py_env.render())\n",
        "\n",
        "    return embed_mp4(filename)"
      ]
    },
    {
      "cell_type": "code",
      "execution_count": 7,
      "metadata": {
        "id": "uU1h9wSWa7Lh"
      },
      "outputs": [],
      "source": [
        "py_env = suite_gym.wrap_env(TicTacToeEnv2())\n",
        "tf_env = tf_py_environment.TFPyEnvironment(py_env)"
      ]
    },
    {
      "cell_type": "code",
      "source": [
        "py_env.reset()\n",
        "PIL.Image.fromarray(py_env.render())"
      ],
      "metadata": {
        "colab": {
          "base_uri": "https://localhost:8080/",
          "height": 433
        },
        "id": "2xSiyC9g3zi3",
        "outputId": "25b359ad-659f-4477-94d0-cd2cfd6177a4"
      },
      "execution_count": 8,
      "outputs": [
        {
          "output_type": "execute_result",
          "data": {
            "text/plain": [
              "<PIL.Image.Image image mode=RGB size=560x416>"
            ],
            "image/png": "[encoded data removed]"
          },
          "metadata": {},
          "execution_count": 8
        }
      ]
    },
    {
      "cell_type": "code",
      "execution_count": 9,
      "metadata": {
        "colab": {
          "base_uri": "https://localhost:8080/",
          "height": 501
        },
        "id": "yNw07pahBY78",
        "outputId": "3f9e4840-7539-4d0d-825f-3b2950e6b114"
      },
      "outputs": [
        {
          "output_type": "execute_result",
          "data": {
            "text/plain": [
              "<IPython.core.display.HTML object>"
            ],
            "text/html": [
              "\n",
              "    <video width=\"480\" height=\"480\" controls>\n",
              "      <source src=\"data:video/mp4;base64,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\" type=\"video/mp4\">\n",
              "    Your browser does not support the video tag.\n",
              "    </video>"
            ]
          },
          "metadata": {},
          "execution_count": 9
        }
      ],
      "source": [
        "random_policy = random_tf_policy.RandomTFPolicy(tf_env.time_step_spec(), tf_env.action_spec())\n",
        "create_policy_eval_video(random_policy, \"random-agent\")"
      ]
    },
    {
      "cell_type": "markdown",
      "metadata": {
        "id": "GPHWdRyT-ND0"
      },
      "source": [
        "## Agent"
      ]
    },
    {
      "cell_type": "code",
      "execution_count": 10,
      "metadata": {
        "id": "MnqVY5icuPi4"
      },
      "outputs": [],
      "source": [
        "train_py_env = suite_gym.wrap_env(TicTacToeEnv2())\n",
        "eval_py_env = suite_gym.wrap_env(TicTacToeEnv2())\n",
        "\n",
        "train_env = tf_py_environment.TFPyEnvironment(train_py_env)\n",
        "eval_env = tf_py_environment.TFPyEnvironment(eval_py_env)"
      ]
    },
    {
      "cell_type": "code",
      "execution_count": 11,
      "metadata": {
        "id": "TgkdEPg_muzV"
      },
      "outputs": [],
      "source": [
        "conv_layer_params = [16, 32]\n",
        "action_tensor_spec = tensor_spec.from_spec(tf_env.action_spec())\n",
        "num_actions = action_tensor_spec.maximum - action_tensor_spec.minimum + 1\n",
        "\n",
        "# Define a helper function to create Conv layers configured with the right\n",
        "# activation and kernel initializer.\n",
        "def conv_layer(num_units):\n",
        "  return tf.keras.layers.Conv2D(\n",
        "                      filters=num_units,\n",
        "                      kernel_size=[3, 3],\n",
        "                      padding=\"same\",\n",
        "                      data_format=\"channels_last\",\n",
        "                      activation=tf.nn.leaky_relu,\n",
        "                      dtype=float)\n",
        "\n",
        "\n",
        "# QNetwork consists of a sequence of Conv layers followed by a dense layer\n",
        "# with `num_actions` units to generate one q_value per available action as\n",
        "# its output.\n",
        "normalization1 = tf.keras.layers.BatchNormalization()\n",
        "normalization2 = tf.keras.layers.BatchNormalization()\n",
        "conv_layers = [conv_layer(num_units) for num_units in conv_layer_params]\n",
        "action_conv = tf.keras.layers.Conv2D(filters=4,\n",
        "                    kernel_size=[1, 1], padding=\"same\",\n",
        "                    data_format=\"channels_last\",\n",
        "                    activation=tf.nn.leaky_relu)\n",
        "flatten = tf.keras.layers.Flatten()\n",
        "q_values_layer = tf.keras.layers.Dense(\n",
        "    num_actions,\n",
        "    activation=None,\n",
        "    kernel_initializer=tf.keras.initializers.RandomUniform(\n",
        "        minval=-0.03, maxval=0.03),\n",
        "    bias_initializer=tf.keras.initializers.Constant(-0.2))\n",
        "q_net = sequential.Sequential([normalization1] + conv_layers + [action_conv, normalization2, flatten, q_values_layer])"
      ]
    },
    {
      "cell_type": "code",
      "execution_count": 12,
      "metadata": {
        "id": "lg5emNEam75J"
      },
      "outputs": [],
      "source": [
        "optimizer = tf.keras.optimizers.Adam(learning_rate=learning_rate)\n",
        "\n",
        "train_step_counter = tf.Variable(0)\n",
        "\n",
        "agent = dqn_agent.DqnAgent(\n",
        "    train_env.time_step_spec(),\n",
        "    train_env.action_spec(),\n",
        "    q_network=q_net,\n",
        "    optimizer=optimizer,\n",
        "    td_errors_loss_fn=common.element_wise_squared_loss,\n",
        "    train_step_counter=train_step_counter)\n",
        "\n",
        "agent.initialize()"
      ]
    },
    {
      "cell_type": "markdown",
      "metadata": {
        "id": "QaVnWWX4xpa5"
      },
      "source": [
        "## Policy"
      ]
    },
    {
      "cell_type": "code",
      "execution_count": 13,
      "metadata": {
        "id": "uGU0pGS4xsjc"
      },
      "outputs": [],
      "source": [
        "eval_policy = agent.policy\n",
        "collect_policy = agent.collect_policy\n",
        "random_policy = random_tf_policy.RandomTFPolicy(train_env.time_step_spec(), train_env.action_spec())"
      ]
    },
    {
      "cell_type": "code",
      "execution_count": 14,
      "metadata": {
        "id": "N8vRFWNgx-tj"
      },
      "outputs": [],
      "source": [
        "def compute_avg_return(environment, policy, num_episodes=10):\n",
        "\n",
        "  total_return = 0.0\n",
        "  for _ in range(num_episodes):\n",
        "    time_step = environment.reset()\n",
        "    episode_return = 0.0\n",
        "    while not time_step.is_last():\n",
        "      action_step = policy.action(time_step)\n",
        "      time_step = environment.step(action_step.action)\n",
        "      episode_return += time_step.reward\n",
        "    total_return += episode_return\n",
        "\n",
        "  avg_return = total_return / num_episodes\n",
        "  return avg_return.numpy()[0]\n",
        "\n",
        "\n",
        "# See also the metrics module for standard implementations of different metrics.\n",
        "# https://github.com/tensorflow/agents/tree/master/tf_agents/metrics"
      ]
    },
    {
      "cell_type": "code",
      "execution_count": 15,
      "metadata": {
        "id": "vlCXIdRVyAAu",
        "colab": {
          "base_uri": "https://localhost:8080/"
        },
        "outputId": "81f80510-783a-4f48-b229-7f8dd49cf3fa"
      },
      "outputs": [
        {
          "output_type": "execute_result",
          "data": {
            "text/plain": [
              "-5.2000003"
            ]
          },
          "metadata": {},
          "execution_count": 15
        }
      ],
      "source": [
        "compute_avg_return(eval_env, agent.policy, 1)"
      ]
    },
    {
      "cell_type": "markdown",
      "metadata": {
        "id": "VBEXcoMjy7xO"
      },
      "source": [
        "## Replay Buffer"
      ]
    },
    {
      "cell_type": "code",
      "execution_count": 16,
      "metadata": {
        "id": "CMVmKJF1y_Lt"
      },
      "outputs": [],
      "source": [
        "table_name = 'uniform_table'\n",
        "replay_buffer_signature = tensor_spec.from_spec(\n",
        "      agent.collect_data_spec)\n",
        "replay_buffer_signature = tensor_spec.add_outer_dim(\n",
        "    replay_buffer_signature)\n",
        "\n",
        "table = reverb.Table(\n",
        "    table_name,\n",
        "    max_size=replay_buffer_max_length,\n",
        "    sampler=reverb.selectors.Uniform(),\n",
        "    remover=reverb.selectors.Fifo(),\n",
        "    rate_limiter=reverb.rate_limiters.MinSize(1),\n",
        "    signature=replay_buffer_signature)\n",
        "\n",
        "reverb_server = reverb.Server([table])\n",
        "\n",
        "replay_buffer = reverb_replay_buffer.ReverbReplayBuffer(\n",
        "    agent.collect_data_spec,\n",
        "    table_name=table_name,\n",
        "    sequence_length=2,\n",
        "    local_server=reverb_server)\n",
        "\n",
        "rb_observer = reverb_utils.ReverbAddTrajectoryObserver(\n",
        "  replay_buffer.py_client,\n",
        "  table_name,\n",
        "  sequence_length=2)\n",
        "\n",
        "dataset = replay_buffer.as_dataset(\n",
        "    num_parallel_calls=3,\n",
        "    sample_batch_size=batch_size,\n",
        "    num_steps=2).prefetch(3)\n",
        "\n",
        "iterator = iter(dataset)"
      ]
    },
    {
      "cell_type": "markdown",
      "source": [
        "## Set up the checkpointer and Policy saver"
      ],
      "metadata": {
        "id": "4msWLiyR8eQW"
      }
    },
    {
      "cell_type": "code",
      "source": [
        "policy_dir = os.path.join(tempdir, 'policy')\n",
        "tf_policy_saver = policy_saver.PolicySaver(agent.policy)"
      ],
      "metadata": {
        "id": "oy0ozYjy8lg2"
      },
      "execution_count": 25,
      "outputs": []
    },
    {
      "cell_type": "code",
      "source": [
        "def create_zip_file(dirname, base_filename):\n",
        "  return shutil.make_archive(base_filename, 'zip', dirname)"
      ],
      "metadata": {
        "id": "y_TMH6rn_ZXC"
      },
      "execution_count": 26,
      "outputs": []
    },
    {
      "cell_type": "markdown",
      "metadata": {
        "id": "jRVMc8V8zxj0"
      },
      "source": [
        "## Train the agent"
      ]
    },
    {
      "cell_type": "code",
      "execution_count": null,
      "metadata": {
        "id": "6_1qWkmKz0Ke",
        "colab": {
          "base_uri": "https://localhost:8080/"
        },
        "outputId": "0a171d93-f4c1-41eb-ac0a-b30f20975460"
      },
      "outputs": [
        {
          "metadata": {
            "tags": null
          },
          "name": "stdout",
          "output_type": "stream",
          "text": [
            "step = 200: loss = 366969.3125\n",
            "step = 400: loss = 4387303.0\n",
            "step = 600: loss = 2617199.25\n",
            "step = 800: loss = 2872436.0\n",
            "step = 1000: loss = 3514309.0\n",
            "step = 1000: Average Return = -16.309993743896484\n"
          ]
        },
        {
          "metadata": {
            "tags": null
          },
          "name": "stderr",
          "output_type": "stream",
          "text": [
            "/usr/local/lib/python3.10/dist-packages/tensorflow/python/saved_model/nested_structure_coder.py:458: UserWarning: Encoding a StructuredValue with type tfp.distributions.Deterministic_ACTTypeSpec; loading this StructuredValue will require that this type be imported and registered.\n",
            "  warnings.warn(\"Encoding a StructuredValue with type %s; loading this \"\n"
          ]
        },
        {
          "output_type": "stream",
          "name": "stdout",
          "text": [
            "step = 1200: loss = 7110533.5\n",
            "step = 1400: loss = 5184992.0\n",
            "step = 1600: loss = 4707011.0\n",
            "step = 1800: loss = 8446632.0\n",
            "step = 2000: loss = 358811008.0\n",
            "step = 2000: Average Return = -17.569988250732422\n"
          ]
        },
        {
          "output_type": "stream",
          "name": "stderr",
          "text": [
            "/usr/local/lib/python3.10/dist-packages/tensorflow/python/saved_model/nested_structure_coder.py:458: UserWarning: Encoding a StructuredValue with type tfp.distributions.Deterministic_ACTTypeSpec; loading this StructuredValue will require that this type be imported and registered.\n",
            "  warnings.warn(\"Encoding a StructuredValue with type %s; loading this \"\n"
          ]
        }
      ],
      "source": [
        "try:\n",
        "  %%time\n",
        "except:\n",
        "  pass\n",
        "\n",
        "py_driver.PyDriver(\n",
        "    train_py_env,\n",
        "    py_tf_eager_policy.PyTFEagerPolicy(\n",
        "      random_policy, use_tf_function=True),\n",
        "    [rb_observer],\n",
        "    max_steps=initial_collect_steps).run(train_py_env.reset())\n",
        "\n",
        "# (Optional) Optimize by wrapping some of the code in a graph using TF function.\n",
        "agent.train = common.function(agent.train)\n",
        "\n",
        "# Reset the train step.\n",
        "agent.train_step_counter.assign(0)\n",
        "\n",
        "# Evaluate the agent's policy once before training.\n",
        "avg_return = compute_avg_return(eval_env, agent.policy, num_eval_episodes)\n",
        "returns = [avg_return]\n",
        "\n",
        "# Reset the environment.\n",
        "time_step = train_py_env.reset()\n",
        "\n",
        "# Create a driver to collect experience.\n",
        "collect_driver = py_driver.PyDriver(\n",
        "    train_py_env,\n",
        "    py_tf_eager_policy.PyTFEagerPolicy(\n",
        "      agent.collect_policy, use_tf_function=True),\n",
        "    [rb_observer],\n",
        "    max_steps=collect_steps_per_iteration)\n",
        "\n",
        "for _ in range(num_iterations):\n",
        "\n",
        "    # Collect a few steps and save to the replay buffer.\n",
        "    time_step, _ = collect_driver.run(time_step)\n",
        "\n",
        "    # Sample a batch of data from the buffer and update the agent's network.\n",
        "    experience, unused_info = next(iterator)\n",
        "    train_loss = agent.train(experience).loss\n",
        "\n",
        "    step = agent.train_step_counter.numpy()\n",
        "\n",
        "    if step % log_interval == 0:\n",
        "      print('step = {0}: loss = {1}'.format(step, train_loss))\n",
        "\n",
        "    if step % eval_interval == 0:\n",
        "      avg_return = compute_avg_return(eval_env, agent.policy, num_eval_episodes)\n",
        "      print('step = {0}: Average Return = {1}'.format(step, avg_return))\n",
        "      tf_policy_saver.save(policy_dir)\n",
        "      policy_zip_filename = create_zip_file(policy_dir, os.path.join(tempdir, 'exported_policy'))\n",
        "      returns.append(avg_return)"
      ]
    },
    {
      "cell_type": "markdown",
      "source": [
        "## Load the trained policy"
      ],
      "metadata": {
        "id": "PbBsZBoh-zIj"
      }
    },
    {
      "cell_type": "code",
      "source": [
        "saved_policy = tf.saved_model.load(policy_dir)\n",
        "create_policy_eval_video(saved_policy, \"trained-agent\")"
      ],
      "metadata": {
        "colab": {
          "base_uri": "https://localhost:8080/",
          "height": 501
        },
        "id": "j2yW-ZZa-yUx",
        "outputId": "c7066d6e-e16e-497e-ddab-575c712d415d"
      },
      "execution_count": 24,
      "outputs": [
        {
          "output_type": "execute_result",
          "data": {
            "text/plain": [
              "<IPython.core.display.HTML object>"
            ],
            "text/html": [
              "\n",
              "    <video width=\"480\" height=\"480\" controls>\n",
              "      <source src=\"data:video/mp4;base64,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\" type=\"video/mp4\">\n",
              "    Your browser does not support the video tag.\n",
              "    </video>"
            ]
          },
          "metadata": {},
          "execution_count": 24
        }
      ]
    },
    {
      "cell_type": "markdown",
      "metadata": {
        "id": "Fsl0r1fyxpUD"
      },
      "source": []
    },
    {
      "cell_type": "markdown",
      "metadata": {
        "id": "WkOaR2zHrDwC"
      },
      "source": [
        "## TODO\n",
        "\n",
        "\n",
        "\n",
        "*   Check whether the `is_winner` function is correct\n",
        "*   Check whether the environment is correctly implement\n",
        "*   Add the variant in `step` function\n",
        "*   Test whether the agent always chooses an *empty* square and whether they can go to an adjacent place correctly\n",
        "\n"
      ]
    }
  ],
  "metadata": {
    "colab": {
      "provenance": [],
      "authorship_tag": "ABX9TyPG5F/NYNUG3w56OnEwX4Ov",
      "include_colab_link": true
    },
    "kernelspec": {
      "display_name": "Python 3",
      "name": "python3"
    },
    "language_info": {
      "name": "python"
    }
  },
  "nbformat": 4,
  "nbformat_minor": 0
}