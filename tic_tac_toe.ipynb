{
  "nbformat": 4,
  "nbformat_minor": 0,
  "metadata": {
    "colab": {
      "provenance": [],
      "authorship_tag": "ABX9TyMsV5za7yty1rmVTQ5L+fVx",
      "include_colab_link": true
    },
    "kernelspec": {
      "name": "python3",
      "display_name": "Python 3"
    },
    "language_info": {
      "name": "python"
    }
  },
  "cells": [
    {
      "cell_type": "markdown",
      "metadata": {
        "id": "view-in-github",
        "colab_type": "text"
      },
      "source": [
        "<a href=\"https://colab.research.google.com/github/Stevenn9981/tic_tac_toe/blob/master/tic_tac_toe.ipynb\" target=\"_parent\"><img src=\"https://colab.research.google.com/assets/colab-badge.svg\" alt=\"Open In Colab\"/></a>"
      ]
    },
    {
      "cell_type": "markdown",
      "source": [
        "## Setup"
      ],
      "metadata": {
        "id": "iEy_PMnnf-Og"
      }
    },
    {
      "cell_type": "code",
      "execution_count": 1,
      "metadata": {
        "colab": {
          "base_uri": "https://localhost:8080/"
        },
        "id": "fdG6QronfqnR",
        "outputId": "a795fd0f-d43c-4089-be62-79656ced8bcd"
      },
      "outputs": [
        {
          "output_type": "stream",
          "name": "stdout",
          "text": [
            "\r0% [Working]\r            \rHit:1 http://archive.ubuntu.com/ubuntu jammy InRelease\n",
            "\r0% [Waiting for headers] [Connecting to security.ubuntu.com (185.125.190.39)] [\r                                                                               \rHit:2 http://archive.ubuntu.com/ubuntu jammy-updates InRelease\n",
            "Hit:3 http://archive.ubuntu.com/ubuntu jammy-backports InRelease\n",
            "Hit:4 https://developer.download.nvidia.com/compute/cuda/repos/ubuntu2204/x86_64  InRelease\n",
            "Hit:5 http://security.ubuntu.com/ubuntu jammy-security InRelease\n",
            "Hit:6 https://cloud.r-project.org/bin/linux/ubuntu jammy-cran40/ InRelease\n",
            "Hit:7 https://ppa.launchpadcontent.net/c2d4u.team/c2d4u4.0+/ubuntu jammy InRelease\n",
            "Hit:8 https://ppa.launchpadcontent.net/deadsnakes/ppa/ubuntu jammy InRelease\n",
            "Hit:9 https://ppa.launchpadcontent.net/graphics-drivers/ppa/ubuntu jammy InRelease\n",
            "Hit:10 https://ppa.launchpadcontent.net/ubuntugis/ppa/ubuntu jammy InRelease\n",
            "Reading package lists... Done\n",
            "Reading package lists... Done\n",
            "Building dependency tree... Done\n",
            "Reading state information... Done\n",
            "freeglut3-dev is already the newest version (2.8.1-6).\n",
            "ffmpeg is already the newest version (7:4.4.2-0ubuntu0.22.04.1).\n",
            "xvfb is already the newest version (2:21.1.4-2ubuntu1.7~22.04.2).\n",
            "0 upgraded, 0 newly installed, 0 to remove and 22 not upgraded.\n",
            "Requirement already satisfied: imageio==2.4.0 in /usr/local/lib/python3.10/dist-packages (2.4.0)\n",
            "Requirement already satisfied: numpy in /usr/local/lib/python3.10/dist-packages (from imageio==2.4.0) (1.23.5)\n",
            "Requirement already satisfied: pillow in /usr/local/lib/python3.10/dist-packages (from imageio==2.4.0) (9.4.0)\n",
            "Requirement already satisfied: pyvirtualdisplay in /usr/local/lib/python3.10/dist-packages (3.0)\n",
            "Requirement already satisfied: tf-agents[reverb] in /usr/local/lib/python3.10/dist-packages (0.18.0)\n",
            "Requirement already satisfied: absl-py>=0.6.1 in /usr/local/lib/python3.10/dist-packages (from tf-agents[reverb]) (1.4.0)\n",
            "Requirement already satisfied: cloudpickle>=1.3 in /usr/local/lib/python3.10/dist-packages (from tf-agents[reverb]) (2.2.1)\n",
            "Requirement already satisfied: gin-config>=0.4.0 in /usr/local/lib/python3.10/dist-packages (from tf-agents[reverb]) (0.5.0)\n",
            "Requirement already satisfied: gym<=0.23.0,>=0.17.0 in /usr/local/lib/python3.10/dist-packages (from tf-agents[reverb]) (0.23.0)\n",
            "Requirement already satisfied: numpy>=1.19.0 in /usr/local/lib/python3.10/dist-packages (from tf-agents[reverb]) (1.23.5)\n",
            "Requirement already satisfied: pillow in /usr/local/lib/python3.10/dist-packages (from tf-agents[reverb]) (9.4.0)\n",
            "Requirement already satisfied: six>=1.10.0 in /usr/local/lib/python3.10/dist-packages (from tf-agents[reverb]) (1.16.0)\n",
            "Requirement already satisfied: protobuf>=3.11.3 in /usr/local/lib/python3.10/dist-packages (from tf-agents[reverb]) (3.20.3)\n",
            "Requirement already satisfied: wrapt>=1.11.1 in /usr/local/lib/python3.10/dist-packages (from tf-agents[reverb]) (1.14.1)\n",
            "Requirement already satisfied: typing-extensions>=3.7.4.3 in /usr/local/lib/python3.10/dist-packages (from tf-agents[reverb]) (4.5.0)\n",
            "Requirement already satisfied: pygame==2.1.3 in /usr/local/lib/python3.10/dist-packages (from tf-agents[reverb]) (2.1.3)\n",
            "Requirement already satisfied: tensorflow-probability~=0.22.0 in /usr/local/lib/python3.10/dist-packages (from tf-agents[reverb]) (0.22.0)\n",
            "Requirement already satisfied: rlds in /usr/local/lib/python3.10/dist-packages (from tf-agents[reverb]) (0.1.8)\n",
            "Requirement already satisfied: dm-reverb~=0.13.0 in /usr/local/lib/python3.10/dist-packages (from tf-agents[reverb]) (0.13.0)\n",
            "Requirement already satisfied: tensorflow~=2.14.0 in /usr/local/lib/python3.10/dist-packages (from tf-agents[reverb]) (2.14.0)\n",
            "Requirement already satisfied: dm-tree in /usr/local/lib/python3.10/dist-packages (from dm-reverb~=0.13.0->tf-agents[reverb]) (0.1.8)\n",
            "Requirement already satisfied: portpicker in /usr/local/lib/python3.10/dist-packages (from dm-reverb~=0.13.0->tf-agents[reverb]) (1.5.2)\n",
            "Requirement already satisfied: gym-notices>=0.0.4 in /usr/local/lib/python3.10/dist-packages (from gym<=0.23.0,>=0.17.0->tf-agents[reverb]) (0.0.8)\n",
            "Requirement already satisfied: astunparse>=1.6.0 in /usr/local/lib/python3.10/dist-packages (from tensorflow~=2.14.0->tf-agents[reverb]) (1.6.3)\n",
            "Requirement already satisfied: flatbuffers>=23.5.26 in /usr/local/lib/python3.10/dist-packages (from tensorflow~=2.14.0->tf-agents[reverb]) (23.5.26)\n",
            "Requirement already satisfied: gast!=0.5.0,!=0.5.1,!=0.5.2,>=0.2.1 in /usr/local/lib/python3.10/dist-packages (from tensorflow~=2.14.0->tf-agents[reverb]) (0.5.4)\n",
            "Requirement already satisfied: google-pasta>=0.1.1 in /usr/local/lib/python3.10/dist-packages (from tensorflow~=2.14.0->tf-agents[reverb]) (0.2.0)\n",
            "Requirement already satisfied: h5py>=2.9.0 in /usr/local/lib/python3.10/dist-packages (from tensorflow~=2.14.0->tf-agents[reverb]) (3.9.0)\n",
            "Requirement already satisfied: libclang>=13.0.0 in /usr/local/lib/python3.10/dist-packages (from tensorflow~=2.14.0->tf-agents[reverb]) (16.0.6)\n",
            "Requirement already satisfied: ml-dtypes==0.2.0 in /usr/local/lib/python3.10/dist-packages (from tensorflow~=2.14.0->tf-agents[reverb]) (0.2.0)\n",
            "Requirement already satisfied: opt-einsum>=2.3.2 in /usr/local/lib/python3.10/dist-packages (from tensorflow~=2.14.0->tf-agents[reverb]) (3.3.0)\n",
            "Requirement already satisfied: packaging in /usr/local/lib/python3.10/dist-packages (from tensorflow~=2.14.0->tf-agents[reverb]) (23.2)\n",
            "Requirement already satisfied: setuptools in /usr/local/lib/python3.10/dist-packages (from tensorflow~=2.14.0->tf-agents[reverb]) (67.7.2)\n",
            "Requirement already satisfied: termcolor>=1.1.0 in /usr/local/lib/python3.10/dist-packages (from tensorflow~=2.14.0->tf-agents[reverb]) (2.3.0)\n",
            "Requirement already satisfied: tensorflow-io-gcs-filesystem>=0.23.1 in /usr/local/lib/python3.10/dist-packages (from tensorflow~=2.14.0->tf-agents[reverb]) (0.34.0)\n",
            "Requirement already satisfied: grpcio<2.0,>=1.24.3 in /usr/local/lib/python3.10/dist-packages (from tensorflow~=2.14.0->tf-agents[reverb]) (1.59.0)\n",
            "Requirement already satisfied: tensorboard<2.15,>=2.14 in /usr/local/lib/python3.10/dist-packages (from tensorflow~=2.14.0->tf-agents[reverb]) (2.14.1)\n",
            "Requirement already satisfied: tensorflow-estimator<2.15,>=2.14.0 in /usr/local/lib/python3.10/dist-packages (from tensorflow~=2.14.0->tf-agents[reverb]) (2.14.0)\n",
            "Requirement already satisfied: keras<2.15,>=2.14.0 in /usr/local/lib/python3.10/dist-packages (from tensorflow~=2.14.0->tf-agents[reverb]) (2.14.0)\n",
            "Requirement already satisfied: decorator in /usr/local/lib/python3.10/dist-packages (from tensorflow-probability~=0.22.0->tf-agents[reverb]) (4.4.2)\n",
            "Requirement already satisfied: wheel<1.0,>=0.23.0 in /usr/local/lib/python3.10/dist-packages (from astunparse>=1.6.0->tensorflow~=2.14.0->tf-agents[reverb]) (0.41.2)\n",
            "Requirement already satisfied: google-auth<3,>=1.6.3 in /usr/local/lib/python3.10/dist-packages (from tensorboard<2.15,>=2.14->tensorflow~=2.14.0->tf-agents[reverb]) (2.17.3)\n",
            "Requirement already satisfied: google-auth-oauthlib<1.1,>=0.5 in /usr/local/lib/python3.10/dist-packages (from tensorboard<2.15,>=2.14->tensorflow~=2.14.0->tf-agents[reverb]) (1.0.0)\n",
            "Requirement already satisfied: markdown>=2.6.8 in /usr/local/lib/python3.10/dist-packages (from tensorboard<2.15,>=2.14->tensorflow~=2.14.0->tf-agents[reverb]) (3.5)\n",
            "Requirement already satisfied: requests<3,>=2.21.0 in /usr/local/lib/python3.10/dist-packages (from tensorboard<2.15,>=2.14->tensorflow~=2.14.0->tf-agents[reverb]) (2.31.0)\n",
            "Requirement already satisfied: tensorboard-data-server<0.8.0,>=0.7.0 in /usr/local/lib/python3.10/dist-packages (from tensorboard<2.15,>=2.14->tensorflow~=2.14.0->tf-agents[reverb]) (0.7.2)\n",
            "Requirement already satisfied: werkzeug>=1.0.1 in /usr/local/lib/python3.10/dist-packages (from tensorboard<2.15,>=2.14->tensorflow~=2.14.0->tf-agents[reverb]) (3.0.1)\n",
            "Requirement already satisfied: psutil in /usr/local/lib/python3.10/dist-packages (from portpicker->dm-reverb~=0.13.0->tf-agents[reverb]) (5.9.5)\n",
            "Requirement already satisfied: cachetools<6.0,>=2.0.0 in /usr/local/lib/python3.10/dist-packages (from google-auth<3,>=1.6.3->tensorboard<2.15,>=2.14->tensorflow~=2.14.0->tf-agents[reverb]) (5.3.2)\n",
            "Requirement already satisfied: pyasn1-modules>=0.2.1 in /usr/local/lib/python3.10/dist-packages (from google-auth<3,>=1.6.3->tensorboard<2.15,>=2.14->tensorflow~=2.14.0->tf-agents[reverb]) (0.3.0)\n",
            "Requirement already satisfied: rsa<5,>=3.1.4 in /usr/local/lib/python3.10/dist-packages (from google-auth<3,>=1.6.3->tensorboard<2.15,>=2.14->tensorflow~=2.14.0->tf-agents[reverb]) (4.9)\n",
            "Requirement already satisfied: requests-oauthlib>=0.7.0 in /usr/local/lib/python3.10/dist-packages (from google-auth-oauthlib<1.1,>=0.5->tensorboard<2.15,>=2.14->tensorflow~=2.14.0->tf-agents[reverb]) (1.3.1)\n",
            "Requirement already satisfied: charset-normalizer<4,>=2 in /usr/local/lib/python3.10/dist-packages (from requests<3,>=2.21.0->tensorboard<2.15,>=2.14->tensorflow~=2.14.0->tf-agents[reverb]) (3.3.1)\n",
            "Requirement already satisfied: idna<4,>=2.5 in /usr/local/lib/python3.10/dist-packages (from requests<3,>=2.21.0->tensorboard<2.15,>=2.14->tensorflow~=2.14.0->tf-agents[reverb]) (3.4)\n",
            "Requirement already satisfied: urllib3<3,>=1.21.1 in /usr/local/lib/python3.10/dist-packages (from requests<3,>=2.21.0->tensorboard<2.15,>=2.14->tensorflow~=2.14.0->tf-agents[reverb]) (2.0.7)\n",
            "Requirement already satisfied: certifi>=2017.4.17 in /usr/local/lib/python3.10/dist-packages (from requests<3,>=2.21.0->tensorboard<2.15,>=2.14->tensorflow~=2.14.0->tf-agents[reverb]) (2023.7.22)\n",
            "Requirement already satisfied: MarkupSafe>=2.1.1 in /usr/local/lib/python3.10/dist-packages (from werkzeug>=1.0.1->tensorboard<2.15,>=2.14->tensorflow~=2.14.0->tf-agents[reverb]) (2.1.3)\n",
            "Requirement already satisfied: pyasn1<0.6.0,>=0.4.6 in /usr/local/lib/python3.10/dist-packages (from pyasn1-modules>=0.2.1->google-auth<3,>=1.6.3->tensorboard<2.15,>=2.14->tensorflow~=2.14.0->tf-agents[reverb]) (0.5.0)\n",
            "Requirement already satisfied: oauthlib>=3.0.0 in /usr/local/lib/python3.10/dist-packages (from requests-oauthlib>=0.7.0->google-auth-oauthlib<1.1,>=0.5->tensorboard<2.15,>=2.14->tensorflow~=2.14.0->tf-agents[reverb]) (3.2.2)\n",
            "Requirement already satisfied: pyglet in /usr/local/lib/python3.10/dist-packages (2.0.9)\n"
          ]
        }
      ],
      "source": [
        "!sudo apt-get update\n",
        "!sudo apt-get install -y xvfb ffmpeg freeglut3-dev\n",
        "!pip install 'imageio==2.4.0'\n",
        "!pip install pyvirtualdisplay\n",
        "!pip install tf-agents[reverb]\n",
        "!pip install pyglet"
      ]
    },
    {
      "cell_type": "code",
      "source": [
        "import base64\n",
        "import imageio\n",
        "import IPython\n",
        "import matplotlib\n",
        "import matplotlib.pyplot as plt\n",
        "import numpy as np\n",
        "import PIL.Image\n",
        "import pyvirtualdisplay\n",
        "import reverb\n",
        "import random\n",
        "import os\n",
        "\n",
        "import pygame as pg\n",
        "from pygame import gfxdraw\n",
        "from pygame.locals import *\n",
        "\n",
        "import tensorflow as tf\n",
        "\n",
        "from tf_agents.agents.dqn import dqn_agent\n",
        "from tf_agents.drivers import py_driver\n",
        "from tf_agents.environments import suite_gym\n",
        "from tf_agents.environments import py_environment\n",
        "from tf_agents.environments import tf_environment\n",
        "from tf_agents.environments import tf_py_environment\n",
        "from tf_agents.eval import metric_utils\n",
        "from tf_agents.metrics import tf_metrics\n",
        "from tf_agents.networks import sequential\n",
        "from tf_agents.policies import py_tf_eager_policy\n",
        "from tf_agents.policies import random_tf_policy\n",
        "from tf_agents.replay_buffers import reverb_replay_buffer\n",
        "from tf_agents.replay_buffers import reverb_utils\n",
        "from tf_agents.trajectories import trajectory\n",
        "from tf_agents.specs import tensor_spec\n",
        "from tf_agents.utils import common"
      ],
      "metadata": {
        "id": "h-vtSiPUgOOU",
        "colab": {
          "base_uri": "https://localhost:8080/"
        },
        "outputId": "6aaae337-fe8e-4fee-85b7-fa98553403d3"
      },
      "execution_count": 2,
      "outputs": [
        {
          "output_type": "stream",
          "name": "stdout",
          "text": [
            "pygame 2.1.3 (SDL 2.0.22, Python 3.10.12)\n",
            "Hello from the pygame community. https://www.pygame.org/contribute.html\n"
          ]
        }
      ]
    },
    {
      "cell_type": "code",
      "source": [
        "tf.version.VERSION"
      ],
      "metadata": {
        "colab": {
          "base_uri": "https://localhost:8080/",
          "height": 35
        },
        "id": "MsV4e7iqg10s",
        "outputId": "f58ba4df-6e33-4d25-dc33-ef6ca64388e9"
      },
      "execution_count": 3,
      "outputs": [
        {
          "output_type": "execute_result",
          "data": {
            "text/plain": [
              "'2.14.0'"
            ],
            "application/vnd.google.colaboratory.intrinsic+json": {
              "type": "string"
            }
          },
          "metadata": {},
          "execution_count": 3
        }
      ]
    },
    {
      "cell_type": "markdown",
      "source": [
        "## Hyper-parameters"
      ],
      "metadata": {
        "id": "sWwU8Wp7g2_X"
      }
    },
    {
      "cell_type": "code",
      "source": [
        "num_iterations = 500000 # @param {type:\"integer\"}\n",
        "\n",
        "initial_collect_steps = 100  # @param {type:\"integer\"}\n",
        "collect_steps_per_iteration = 1 # @param {type:\"integer\"}\n",
        "replay_buffer_max_length = 100000  # @param {type:\"integer\"}\n",
        "\n",
        "batch_size = 256  # @param {type:\"integer\"}\n",
        "learning_rate = 3e-3  # @param {type:\"number\"}\n",
        "log_interval = 200  # @param {type:\"integer\"}\n",
        "\n",
        "num_eval_episodes = 10  # @param {type:\"integer\"}\n",
        "eval_interval = 1000  # @param {type:\"integer\"}\n",
        "\n",
        "\n",
        "BOARD_SIZE = 9 # @param {type:\"integer\"}"
      ],
      "metadata": {
        "id": "reKJx_ybg7_L"
      },
      "execution_count": 4,
      "outputs": []
    },
    {
      "cell_type": "markdown",
      "source": [
        "## Environment"
      ],
      "metadata": {
        "id": "WOBVDKmMIcyJ"
      }
    },
    {
      "cell_type": "code",
      "source": [
        "import gym\n",
        "import numpy as np\n",
        "import math\n",
        "from tabulate import tabulate\n",
        "\n",
        "from typing import Tuple, List\n",
        "\n",
        "\n",
        "class TicTacToeEnv(gym.Env):\n",
        "    \"\"\"\n",
        "    Implementation of a TicTacToe Environment based on OpenAI Gym standards\n",
        "    This class is modified from https://github.com/MauroLuzzatto/OpenAI-Gym-TicTacToe-Environment\n",
        "    I modified that to follow the instructions of Question 1.\n",
        "    \"\"\"\n",
        "\n",
        "    def __init__(self, mode='rgb_array') -> None:\n",
        "        \"\"\"This class contains a TicTacToe environment for OpenAI Gym\n",
        "\n",
        "        Args:\n",
        "            small (int): small reward for each move (punishment)\n",
        "            large (int): large reward for game winner\n",
        "        \"\"\"\n",
        "        n_actions = BOARD_SIZE * BOARD_SIZE         # 9 * 9 grids to drop\n",
        "        self.action_space = gym.spaces.Discrete(n_actions)\n",
        "        # state: 9 * 9 * 2: the first 9 * 9 layer is the opponent's play history and the second 9 * 9 layer is ours.\n",
        "        self.observation_space = gym.spaces.Box(low=0, high=1, shape=(BOARD_SIZE, BOARD_SIZE, 2), dtype=float)\n",
        "        self.render_mode = mode\n",
        "        self.colors = [1, 2]\n",
        "        self.screen = None\n",
        "        self.fields_per_side = int(math.sqrt(n_actions))\n",
        "        self.reset()\n",
        "\n",
        "    def reset(self) -> Tuple[np.ndarray, dict]:\n",
        "        \"\"\"\n",
        "        reset the board game and state\n",
        "        \"\"\"\n",
        "        self.board: np.ndarray = np.zeros(\n",
        "            (self.fields_per_side, self.fields_per_side), dtype=int\n",
        "        )\n",
        "        self.current_player = 1\n",
        "        self.info = {\"players\": {1: {\"actions\": []}, 2: {\"actions\": []}}, \"Occupied\": set()}\n",
        "\n",
        "        if self.render_mode == 'human':\n",
        "            self.render(self.render_mode)\n",
        "        return self.decompose_board_to_state()\n",
        "\n",
        "    def decompose_board_to_state(self):\n",
        "        \"\"\"\n",
        "        Our state is a 9x9x2 matrix.\n",
        "        The first layer is the opponent's play history, 0 means no stone, 1 means stones placed by the opponent.\n",
        "        The second layer is the current player's history, 0 means no stone, 1 means stones placed by the current player.\n",
        "        \"\"\"\n",
        "        opponent = 2 if self.current_player == 1 else 1\n",
        "        o_plays = (self.board == opponent) * 1\n",
        "        c_plays = (self.board == self.current_player) * 1\n",
        "        return np.stack([o_plays, c_plays], axis=2)\n",
        "\n",
        "\n",
        "    def step(self, action: int) -> Tuple[np.ndarray, int, bool, dict]:\n",
        "        \"\"\"step function of the tictactoeEnv\n",
        "\n",
        "        Args:\n",
        "          action (int): integer between 0-80, each representing a field on the board\n",
        "\n",
        "        Returns:\n",
        "          state (np.array): state of 2 players' history, 0 means no stone, 1 means stones placed by the corresponding player (shape: 9x9x2).\n",
        "          reward (int): reward of the currrent step\n",
        "          done (boolean): true, if the game is finished\n",
        "          (dict): empty dict for future game related information\n",
        "        \"\"\"\n",
        "        if not self.action_space.contains(action):\n",
        "            raise ValueError(f\"action '{action}' is not in action_space\")\n",
        "\n",
        "        reward = -0.1  # assign (negative) reward for every move done\n",
        "        (row, col) = self.decode_action(action)\n",
        "\n",
        "        # If the agent/player does not choose an empty square, randomly select an empty one.\n",
        "        if self.board[row, col] != 0:\n",
        "            action = random.choice(list(set(range(BOARD_SIZE * BOARD_SIZE)) - self.info[\"Occupied\"]))\n",
        "            (row, col) = self.decode_action(action)\n",
        "            reward -= 0.3 # assign a negative reward if the play out position is not empty\n",
        "\n",
        "\n",
        "        # randomly select an adjacent position with probability 1/16\n",
        "        if random.random() < 0.5:\n",
        "            adjs = [[-1, -1], [-1, 0], [-1, 1], [0, 1], [0, -1], [1, -1], [1, 0], [1, 1]]\n",
        "            adj = random.choice(adjs)\n",
        "            row, col = row + adj[0], col + adj[1]\n",
        "\n",
        "        if 0 <= row < BOARD_SIZE and 0 <= col < BOARD_SIZE and self.board[row, col] == 0:\n",
        "            self.board[row, col] = self.current_player  # postion the token on the field\n",
        "            win = self._is_win(self.current_player, row, col)\n",
        "\n",
        "            action = row * BOARD_SIZE + col\n",
        "            self.info[\"players\"][self.current_player][\"actions\"].append(action)\n",
        "            self.info[\"Occupied\"].add(action)\n",
        "        else:\n",
        "            win = False\n",
        "\n",
        "        if win:\n",
        "            reward += 3\n",
        "\n",
        "        done = (win or len(self.info[\"Occupied\"]) == BOARD_SIZE * BOARD_SIZE)\n",
        "        self.current_player = self.current_player + 1 if self.current_player == 1 else 1\n",
        "        state = self.decompose_board_to_state()\n",
        "        return state, reward, done, self.info\n",
        "\n",
        "    def _is_win(self, color: int, r: int, c: int) -> bool:\n",
        "        \"\"\"check if this player results in a winner\n",
        "\n",
        "        Args:\n",
        "            color (int): of the player\n",
        "            r (int): row of the current play\n",
        "            c (int): column of the current play\n",
        "\n",
        "        Returns:\n",
        "            bool: indicating if there is a winner\n",
        "        \"\"\"\n",
        "\n",
        "        # check if four equal stones are aligned (horizontal, verical or diagonal)\n",
        "        directions = [[0, 1], [1, 0], [1, 1], [1, -1]]\n",
        "\n",
        "        for direct in directions:\n",
        "            count = 0\n",
        "            for offset in range(-3, 4):\n",
        "                if 0 <= r + offset * direct[0] < 9 and 0 <= c + offset * direct[1] < 9:\n",
        "                    if self.board[r + offset * direct[0], c + offset * direct[1]] == color:\n",
        "                        count += 1\n",
        "                        if count == 4:\n",
        "                            return True\n",
        "                    else:\n",
        "                        count = 0\n",
        "\n",
        "        return False\n",
        "\n",
        "    def decode_action(self, action: int) -> List[int]:\n",
        "        \"\"\"decode the action integer into a colum and row value\n",
        "\n",
        "        0 = upper left corner\n",
        "        8 = lower right corner\n",
        "\n",
        "        Args:\n",
        "            action (int): action\n",
        "\n",
        "        Returns:\n",
        "            List[int, int]: a list with the [row, col] values\n",
        "        \"\"\"\n",
        "        col = action % BOARD_SIZE\n",
        "        row = action // BOARD_SIZE\n",
        "        assert 0 <= col < BOARD_SIZE\n",
        "        return [row, col]\n",
        "\n",
        "    def render(self, mode=\"human\") -> None:\n",
        "        \"\"\"render the board\n",
        "\n",
        "        The following charachters are used to represent the fields,\n",
        "            '-' no stone\n",
        "            'O' for player 0\n",
        "            'X' for player 1\n",
        "\n",
        "        An example for a 3x3 game board:\n",
        "            ╒═══╤═══╤═══╕\n",
        "            │ O │ - │ - │\n",
        "            ├───┼───┼───┤\n",
        "            │ - │ X │ - │\n",
        "            ├───┼───┼───┤\n",
        "            │ - │ - │ - │\n",
        "            ╘═══╧═══╧═══╛\n",
        "        \"\"\"\n",
        "        board = np.zeros((BOARD_SIZE, BOARD_SIZE), dtype=str)\n",
        "        for ii in range(BOARD_SIZE):\n",
        "            for jj in range(BOARD_SIZE):\n",
        "                if self.board[ii, jj] == 0:\n",
        "                    board[ii, jj] = \"-\"\n",
        "                elif self.board[ii, jj] == 1:\n",
        "                    board[ii, jj] = \"X\"\n",
        "                elif self.board[ii, jj] == 2:\n",
        "                    board[ii, jj] = \"O\"\n",
        "\n",
        "        if mode == \"human\":\n",
        "            board = tabulate(board, tablefmt=\"fancy_grid\")\n",
        "            print(board)\n",
        "            print(\"\\n\")\n",
        "\n",
        "\n",
        "        width = height = 400\n",
        "\n",
        "        white = (255, 255, 255)\n",
        "        line_color = (0, 0, 0)\n",
        "\n",
        "        os.environ[\"SDL_VIDEODRIVER\"] = \"dummy\"\n",
        "        pg.init()\n",
        "\n",
        "        # Set up the drawing window\n",
        "        if self.screen is None:\n",
        "          self.screen = pg.display.set_mode([width + 16, height + 16])\n",
        "\n",
        "        self.screen.fill(white)\n",
        "        # drawing vertical lines\n",
        "        for i in range(10):\n",
        "          pg.draw.line(self.screen, line_color, (width / BOARD_SIZE * i, 0), (width / BOARD_SIZE * i, height), 2)\n",
        "\n",
        "        # drawing horizontal lines\n",
        "        for i in range(10):\n",
        "          pg.draw.line(self.screen, line_color, (0, height / BOARD_SIZE * i), (width, height / BOARD_SIZE * i), 2)\n",
        "        pg.display.flip()\n",
        "\n",
        "        # drawing noughts and crosses\n",
        "        for i in range(BOARD_SIZE):\n",
        "          for j in range(BOARD_SIZE):\n",
        "            if self.board[i, j] == 1: # Draw crosses\n",
        "              pg.draw.lines(self.screen, line_color, True, [(width / BOARD_SIZE * (j + 0.5) - 10,\n",
        "                                                        height / BOARD_SIZE * (i + 0.5) - 10),\n",
        "                                                      (width / BOARD_SIZE * (j + 0.5) + 10,\n",
        "                                                        height / BOARD_SIZE * (i + 0.5) + 10)], 3)\n",
        "              pg.draw.lines(self.screen, line_color, True, [(width / BOARD_SIZE * (j + 0.5) - 10,\n",
        "                                                        height / BOARD_SIZE * (i + 0.5) + 10),\n",
        "                                                        (width / BOARD_SIZE * (j + 0.5) + 10,\n",
        "                                                          height / BOARD_SIZE * (i + 0.5) - 10)], 3)\n",
        "            elif self.board[i, j] == 2: # Draw noughts\n",
        "              pg.draw.circle(self.screen, line_color, (width / BOARD_SIZE * (j + 0.5), height / BOARD_SIZE * (i + 0.5)), 12, 3)\n",
        "\n",
        "        board = np.transpose(\n",
        "                np.array(pg.surfarray.pixels3d(self.screen)), axes=(1, 0, 2)\n",
        "            )\n",
        "\n",
        "        return board"
      ],
      "metadata": {
        "id": "aq7Q2oxyIhS8"
      },
      "execution_count": 5,
      "outputs": []
    },
    {
      "cell_type": "markdown",
      "source": [
        "## Random play test"
      ],
      "metadata": {
        "id": "LqFsRLWJslkf"
      }
    },
    {
      "cell_type": "code",
      "source": [
        "def embed_mp4(filename):\n",
        "    \"\"\"Embeds an mp4 file in the notebook.\"\"\"\n",
        "    video = open(filename,'rb').read()\n",
        "    b64 = base64.b64encode(video)\n",
        "    tag = '''\n",
        "    <video width=\"480\" height=\"480\" controls>\n",
        "      <source src=\"data:video/mp4;base64,{0}\" type=\"video/mp4\">\n",
        "    Your browser does not support the video tag.\n",
        "    </video>'''.format(b64.decode())\n",
        "\n",
        "    return IPython.display.HTML(tag)\n",
        "\n",
        "def create_policy_eval_video(policy, filename, fps=2):\n",
        "    filename = filename + \".mp4\"\n",
        "    with imageio.get_writer(filename, fps=fps) as video:\n",
        "      time_step = tf_env.reset()\n",
        "      video.append_data(py_env.render())\n",
        "      while not time_step.is_last():\n",
        "        action_step = policy.action(time_step)\n",
        "        time_step = tf_env.step(action_step.action)\n",
        "        video.append_data(py_env.render())\n",
        "\n",
        "    return embed_mp4(filename)"
      ],
      "metadata": {
        "id": "qJYsgWM-79vr"
      },
      "execution_count": 6,
      "outputs": []
    },
    {
      "cell_type": "code",
      "source": [
        "py_env = suite_gym.wrap_env(TicTacToeEnv())\n",
        "tf_env = tf_py_environment.TFPyEnvironment(py_env)"
      ],
      "metadata": {
        "id": "uU1h9wSWa7Lh"
      },
      "execution_count": 7,
      "outputs": []
    },
    {
      "cell_type": "code",
      "source": [
        "random_policy = random_tf_policy.RandomTFPolicy(tf_env.time_step_spec(), tf_env.action_spec())\n",
        "create_policy_eval_video(random_policy, \"random-agent\")"
      ],
      "metadata": {
        "colab": {
          "base_uri": "https://localhost:8080/",
          "height": 500
        },
        "id": "yNw07pahBY78",
        "outputId": "42981c13-6483-486f-b551-d85f33ac6a32"
      },
      "execution_count": 8,
      "outputs": [
        {
          "output_type": "execute_result",
          "data": {
            "text/plain": [
              "<IPython.core.display.HTML object>"
            ],
            "text/html": [
              "\n",
              "    <video width=\"480\" height=\"480\" controls>\n",
              "      <source src=\"data:video/mp4;base64,AAAAIGZ0eXBpc29tAAACAGlzb21pc28yYXZjMW1wNDEAAAAIZnJlZQAAMM1tZGF0AAACrQYF//+p3EXpvebZSLeWLNgg2SPu73gyNjQgLSBjb3JlIDE2MyByMzA2MCA1ZGI2YWE2IC0gSC4yNjQvTVBFRy00IEFWQyBjb2RlYyAtIENvcHlsZWZ0IDIwMDMtMjAyMSAtIGh0dHA6Ly93d3cudmlkZW9sYW4ub3JnL3gyNjQuaHRtbCAtIG9wdGlvbnM6IGNhYmFjPTEgcmVmPTMgZGVibG9jaz0xOjA6MCBhbmFseXNlPTB4MzoweDExMyBtZT1oZXggc3VibWU9NyBwc3k9MSBwc3lfcmQ9MS4wMDowLjAwIG1peGVkX3JlZj0xIG1lX3JhbmdlPTE2IGNocm9tYV9tZT0xIHRyZWxsaXM9MSA4eDhkY3Q9MSBjcW09MCBkZWFkem9uZT0yMSwxMSBmYXN0X3Bza2lwPTEgY2hyb21hX3FwX29mZnNldD0tMiB0aHJlYWRzPTMgbG9va2FoZWFkX3RocmVhZHM9MSBzbGljZWRfdGhyZWFkcz0wIG5yPTAgZGVjaW1hdGU9MSBpbnRlcmxhY2VkPTAgYmx1cmF5X2NvbXBhdD0wIGNvbnN0cmFpbmVkX2ludHJhPTAgYmZyYW1lcz0zIGJfcHlyYW1pZD0yIGJfYWRhcHQ9MSBiX2JpYXM9MCBkaXJlY3Q9MSB3ZWlnaHRiPTEgb3Blbl9nb3A9MCB3ZWlnaHRwPTIga2V5aW50PTI1MCBrZXlpbnRfbWluPTIgc2NlbmVjdXQ9NDAgaW50cmFfcmVmcmVzaD0wIHJjX2xvb2thaGVhZD00MCByYz1jcmYgbWJ0cmVlPTEgY3JmPTI1LjAgcWNvbXA9MC42MCBxcG1pbj0wIHFwbWF4PTY5IHFwc3RlcD00IGlwX3JhdGlvPTEuNDAgYXE9MToxLjAwAIAAAAnJZYiEAE9jU4bm1btEhiAd2XjZPtzZdWdDWrrkglxN4HNAoRhLOnLdjNVNQmayyg06cD9H03uOCcftMr5iVS1EYQwCa8v3afcX/UmsMJgNdLm7vv+f1sf7aiZx0hS+A7I9F8tefUdy7cFC9u3ndU+y/blCIBRqfCHGh5u0lRqR7DSfMPELUVRPC06Pc+J8CC9ey2+kvMiK1rZqO8+ZXJYwUWM8FA1k09XkYiMwAIDVCbJIg1CYSN/5viwDvfiQSOAC8bOQBMbpGgEMYIIQ+gM8pl60gNUJs0qCyDD9b3H7eHr/gpLd35f0mGVkjbXRgV2El2W7TUQINKcWd6uHmsuY8JLzSY+OpcEIW/+ZyMzv2Zr9gPlwV331bRXk1qP919Z7AfLgLia253fUKjus1uFQxB4UWx3tNITSroF0ujKrkC6unDWahgNLISOHhUaFhWYbyJRUc06hf8LJNftc67QSAbZZpUAIr3kCZ/1PwDOo1NlZVj1dbPQawJQkdRi6nDRRpf4h+BdIzeK29j2DMvlSYGH+V4sA734kEjgQyxrO8DgdMiUDdSNo/jnZ2Kmb8if3ARZxXIECsYoTG9NtQ4zXTKMXmRjobq6l1f3MVnd8rQhEAcQci913BNEh/ucI1kV2XoAAAB/lRBxOCSJ50vohUYg9rbZcWEqSPpo5lylCkBEm1At9Ft/hnL26BglJ0hhdbOhI6pQDpCskdKCmOL+5nJfyRnn9jwbZTR0n5yzWUKH08gTzjIS30XuIJaSnIHRSVYMlVs9BrAlB0F66BtKlK+neo6cfSAw4jr9j1dbPQawJP71W/04qOPSd/ZLIlJzeK29j2DMvlXsFKN8Ta2LJQmN6bd1vVDlWOmzB9/a3TSA1QmzSoNZfLiB0Jq6ev+Ckrh6OVVRL4SAAACRDvweuD5pvVNAhcjAvdhYFaJS2MR5TgQuV5rCt1W5Hjp5PJWzjQfQmU8qgap7nlk3GnskZPH8/8RF4QdIIL5/ReoafltWKzHIlBMv/apEQ5EeVn2aMuh+5ZzROqPWEarZ1fmnQva7HxWwgdPQc2tjkewUv40qyM9j1Xx+flkTY5AdDUEDOJkzG1ajT1uUnbrNGvCyvSXqLpXL4azB6qyYk7aepkpyWNhZekjyZDZg+lcAABIp8fW/4vFYLABOkuvbLgQhvtUTtkAvz3sbN1tf0TuDeCTSVbGubkvWiZp6z/qNOsps4qr0kbhfnheNSoIUlxi8qWoAweBWQoiuj4AUv+OcC8+gdE7/oRrbZjqlg9ZN453o475XK2kRxlsxLOrTkkMc/BRY4JKQ9tWwBrwYpfaWOteMuOKVjPfis6fdNUzPG1ajeQ+/e//BmueP3bUFmxs3sJYBTvelx9Hrdr/F4WXpI8mQtupX33vqAAAGQjGMOWu7YA6rPkT4M9B7c9+g0yBMe5D6t0jSpbEYArLDJIp1W5BzPeviWggj/qYF2DTbfPzRsg5DzEw58DLaiITZzfSA8OTRfb9kdn6/vgK2qulYZbw3qBmaresLkueg8W5e9/5JPLecg4GJNg/mH2UVyg26+AbETQy7MKoMMF47q8O98clEkfQJ8veLiSnoMoe0rB7xF1r0Bql3eoTck9nH3WNxWTo8CQRYmR56/kbiqJRNCfPudxnsHui7tcaJvPvM1B6T84+wjQDlIISwFcwdPcWLbwuTvx5icLvsj2qm8DtL8MioltfsljlZ17jAbfmWHf8NaLUo02ilq/Fq51Nmdy+uklmLqrJnCKMamwMHflxKmKOXeKtCvJ+QMqeidBFBgqFA0OWT/Yg5ryj2lvfAAKecutjRTxTIWLA9jIihRbJ8eIzdRHBaV9p3cTm9/YmztMiKFDZe/2yBTfqY0qksXHz7Or/MiKFDZdbKnSO+yghlNkDH7KSX9WnrUOLA2KeLueWV5YGJpORUxvyD3PiID4eSYinQAcCBN4gadsXTHeL9mlcHkzij4ugUIT8jKzFUqzUmbO7b8mraYfzZPr5+k+rt3WTR/iuJanu0c8jzX9wCk+8NhGs9cUI4tdJu2CNCUsivxAo0YRaswYMjTDlNCT8wKUNKkBM0NmtEBqX33PhVUEPzula0i3V9JryGsZrnsVp6/kbixhcryeZNDZrRAal+FTZ4KIg6LJ4wWZL3dkeZcMADPXx4+jDfd+vmoyTc0IPYo3xxG9yXogIAAABQQRxBxy0rBZSASsUFpIVUS/zgXrIWOV047j7/5E+HgOLJc7zofaAqrEw6f1WXNAqol/mr8Oe281Z2r3Ers6rZZPG5q3OLRD8c5r+bxh1Tjg07jt/KTMlDy9ORA8Srw0aPC7tO3gTJdmj7DwwgU5DVQsZTO0MVdX0hs48yapGQt8uunWaNlDwPPf+Mww6o58i3CU3To5Ms1MWCwYqJ5qEJzVtNllpMSrmoMvwhcmAdcmLQCQNXI/gjV8O/JPKlaxP0Eo94NmBzSQs2UavXkn35alXyWYLdpWV0irQoPk2Wm5O2YGndtjL6cpxSaj2MalpI1NfCSdDzKPTBQTfmzqiKvBGs0VjxCy3iDppFOrIvTUTxNmCnCbdy+9rV2Eg6+ALT1n0meTWiSIXziyUSz3JBxzINdjURUwcXN+4LjtZ9KdoTNkx1gUFlj59ph9Hkgilq3i89wrxQGp9aCI6r0tE4jx7W4C09Z9JnpbpIYNJGjOZWbsNZsQCl9QJDA6/jzTAvtra8ujTyM121pV9re/7TNbhtCFgAAAwP5wqeHy7KoC0DQSstnsIi5832Q/h+h/4blvuwzNq2Vh7YfryHhf0QHyG7sNX7m46epV41dow2PiurR4DEYaOchezoHCffXNAqomBUNvxa0n3navcSuzquPyZEbsmI0TfeDo8wLzvcVzfBp3Hb+eYYBfirPDK1jp07KwqnSR8dtX60ufnZzkEYtSfi0KayUu5Nx/AuNm3mozfaszs2esa3lrHsydYEwouZh3vtafzMwcJJQP+NvcCFXYI0vWkuESPk2Wm5O4cr77dhBeVImptWjwpxRw9auTUf5NmVJrqjOWRELpApViOkiKTfjb56kEgYzUGW03C/fKBdYDDMNNxqB9LLdLsg4azi9s6psGULo06LSzVk/Qdr5cRFfNspNePN9G2UrxQGp9aCG4DyOeWvJgW4Sz6hQccyDXatsCMgsN/wBaes+kz0uhRtF0Qrx75ofQwAjlCQVDI1NmEgxfMA1VZtyRNjeHAZYbyqiR2nEBY2mtPoWvIw0LcXPO38EQxIU6MgCH5XRj0k8MONcxPbGu19N/fnCsZsbg91aQewABOoAAAvR4qwFvWUbIjJCC1oGEmoGmnanyea6YyKl2RoJXiPt0IgdAAAFc0GaJGxE/4cAITumFu93h1hxDjIOf//44P/BuGa5j4Loo2PJdy2hnG4Ln6wKnJo52L5Me92JeYeRnSGsJiX4QdoYXbvX0MOmLdlkUH14PjaaIQG7tlBj4G7Yezsgz89eoai9uqM0yllc+qXa0P+LQ77p2KckFsyfxbayN76SUlwFhWKQ/kN5j3tMYK+UguYrPevkxfTIs9wK+AqX6ifMhb8C81KZcShtkiaRZhTtvNaj2I6OpEijMni0aN/nrzDnM3rMqrmbG9uZh5Hkz87MXinIAb3NLGW9NEWPMsOkTSxQxjAhHFPkjNhjBBnUnPfZVTewhgiUBiL/zTXt4AfsVobmBXnxXqIiDV4QACEfbOCFV4dFmVqRWnmi/j4DTibTdffCnMWEfs2m5Mp0MxZv6SxtUnotyCTK3nzV5rdxCC46Eyd5DUZAid6rVzqk7dP6Dz6YjEcIw/D6uBjRK2+Ynt327h6nTExSQdjN4Wwd62c0HZ/d6JTLpGwkYzV8hzvviviQsv7HtxwKpb4m1HH6hzZAcfSiLT7l4p8LcTTwEmrj1vf0A5irrtzq6gIAq6wSk1gGC1PykhpxQMlfIzgMJMq6+8ju61lfBNMbNOce6qBMH+MTtmjB/LbPyNbJ+Z/+YYMPyfABPyT4oa72461BLTFDnBmatR1p7D7m/A3WRl2HSkh173+iSOORLeaiH681FeNFP69PJdu9IegNHbmWDV5P4YDJxip7fPg/bp17sj1eqMv3iRAp+oa/8gagUfixjn4PyiDZI7AVHDjXA1nhV7h0l5UuqY+frXgU8Vdn7Jol6FvJ/xY9Kg0m9j9sQzXiA+gbu50Z85Ieg5sD445XEMubrWWg9h6OWVcapu3O+cDP/hEHSA6adMvW3kG5u9BILoGVRYjYjN3TAPwztdo3wJ9uBV2N8jknieD2LGQGR4TSdZvA5FCmhP490dK6ZxbqjEkNxAYF9yDuzEZ80pKlXO6pZApG85lquXu1evX9iSU/gcMM+26bzf6zivv1pj57yVxtW6zwAh4KBa64pAWJZBN/rXn9XjULkqcq6VjLBqA7VnsNMaXVWZmmXc30zLEV/j+GXDm/H95MNTeNeAbslYFW42hIfoQ9CRnJO1l4zTeP1IpT4iGNi47SYS6AEOnq2NDKQrILN4UlYSxbSBa2/AQ523p1rVFgJQcV1Flabjptc2Qde+VzTIQFMu5jaXT60aJOUDMUercCBg6lYfdmU1TGfSFU38pKX36GLCLtlbCYgq4GJLp5DujkwHU6OlhvICIdBWblqzdpXQhXEQ7Sz2f09VKP8/W5WnvRMHbl80NgD9RxzvqycXH0WLPQKe1fmvJqtdEJPFEeMpDgCST/GhNYVwT80hdb89pbvMImtkAPF70jQYNdkEH1jOw4f7gLDeZGwkdsTNuQzqzez25sJ84xT4KY0Nn3q18+xmuWDU6RnHGPr34QR4SQbIc7AzH2xWNTp1I99vM9lwSi1jcgUWs4DS7nsb48JO6vTPqRX7+8hxEfDoQoU9I39vznlYH/N86CjZ2oLSforosqCwj1cv/MLsDIj2bf9lRKIbMB9Wp7//R464qtI3maFJLamQl1l7oqZHlKz3D8ci38JkIEWdE2zlAGo/M4KevkvK4zqKUKX9PYiA0bfyLIAgQU3F4AQlQ678ncXLzb28GaF+ltYgrkHxZtNQFkdia0em6ZQwpsiQm6SX7i9I2RSYOxiFJoYQHM+QrxUJB9KFTOhAfKzEIL1zO/CdJZrfQOYU/9O8hgFL52KH52JWqq8Dn2OuZSaQHyCp8pJ7ukVZ28ORQ0dILxYeclSRhlTgVjdRmiuh+aOc6+rR/0KSNrBDaBugUn7+hLwAAAAERBnkJ4k/8Hi7h2NWDkgY+70mPVRe68+TYcJp8PTA+k0iVa4YmFA2YvJubc8MAIYMSxorgkhmNpmBPfHsuFn2sYynqECQAAABwBnmF0RH8CAqdy9FuexIPhtCAd8RFPHoFgcKzAAAAANwGeY2pEfwjORaghaLY8F52+biZDFZ0kTT8TlmjOxxlMp8uWQfU0UmLVGD3GqPG49NGF5xuKl4EAAAXvQZpoSahBaJlMCJ+HCUy+gYDfhIF4N8MPLb1vxJnIJYiFOCfGzpuPT4qbu6P8jxdrBUPwGSD0jawpivmhJUYY0SDRI/dDKfy99eGoCulDZytwzzJuZDnzZpMojU2xClc7oI8mgZEltajzi/OvFb8zMvXu3+g9Gbbul1wOW2BXwSVySs5N3BvdYckFO6dstgiIQjySYH0Itfc0SDhOecAoiXhNfHCnK/E1sTSzBJyiCWY4ibCjWk/3r04LKfUxnqEnZEmhhZ9G2llqeixh0FNAbQpA8Ik3XXBelyUxfEF92rBHxP6t11wAWfsuUi29/SlNDWXg3M6oimBXdZDF0ORiSrzRzCCAD0lkmjHMWEMamQmMq2GHKGCY++sD2AAZX5QtoOdA40HpE5CsoEnlTTywyqcpP0AK3H4FLni1bNahe4jQA4TO+TcZ9wKd0Zn//H3keA4GqRy9PLehLmfejwQggAC4vtSaXMP84VX4RBS6nzL86V9rcHuXlAjHI8TJyP6JgE/ZXnO/kz5BBacpBHs4I9Fsitueau9Q1r/gCwagCk6XpulDjLqDfvL9IeTFp4aP1zAwvAKt8MSCZ0NE/YUxvIC0v9lqft7vCvG3cfRjED/Iq27OtovMusxi5xird9u1UZToc1Zli4+yCwdqBeiSEmmBrHpPTIZun3EXM+UbckXHqqNGSOd3cq1yYxJ2/Yl68QmXbAM+yOP436jwgXdEVAK0eVEsD1ENq/LevRX6pDZjp1EjsjtmxFkwZm73tg22JioSesKJIi08lE0sc1Ws2LPuqoEr8Y2BtPgpyrsqmx+mIKNEM32pSr3d9eWQQto/go22FuVL7M1ozINiL4tmuIx8TpyYkjKvItLfGLlAef/nkF3gu05fpXn1NXKnlLtN0PSyHRF31qVGPT/NSCbeKsvGEMXZ433ZQpWeXDIsNmP0xrWGca1tsQJcyoOweoTZ4KLyArMywPgW7zEf3E9dP2aOo0tNJWCkB0TpW/56Mjeg7RHVILUSgm01hsDa6846nGuX88A9yFNin9GaCZ8QSQEbN9PJCbSMXhhSQJuQgs0CG6jMfy4DnbtKMAvvZIbIBPMyZmFpI+RN9hsDiKxO3KrE5pdjcvceB/94/UpxNE54VbYL6z5/3d0g0cNFhWgJjh/c6/8o8pMoKCZsmc69WZIFSr8wbq2h9PhLioMclGlrKi5wiz4fzII/jFKE9lf6GLJDkB6Iy+XMXmMn3m9ZWWPHOfGqFiRQglzEKLfaxoij6jqEvFgu/ieJwiISH99UW+nBiVZ2e3dlPWIiq4Sjjmh+XwAp/lG8e4peIrXgzoDPRhHuoUocu9evyDNAktXY7kqPri0d1v9RNYqEnlZwiWwTLN1PeyQKDmmXwb3hoTFsZDwv/UF8K3UbNCuYPKnA88Wb9rOTimV/DBwDp0mks3VeoLvVvaiGUi9Sn/uLWSWOHANzOZ8WNkpI3N2k/dNcoipctiPzbPETSmJeLRXZw/76Lkmbe9FIV0NZZaSRUdgG1YLmEX9iCVpQTj3j6MVURQ6PpnNBOCHfru9ttLMCCqmHqsPvhcNDh9dOyOg+8HnralT0nNbO8+KwDfnk/wcQ+Ye1ehta/GVtbCm+VvqcmHqGOrVtmlpIsJMGruuE+tnVOclKtxwNG5Q4F/JRFkD1aL+afiMVqqtR1rAGQgRtW5jMl7i2wJBxwc7DIy/Ontl14ap1OykmuWdKPn4f+ZHzQx78eECiwlUGDToLu/7ZUItx15pNpzy6iGDLwJClqQ4cGMEHXJ3DHdh/7ugpFClkb2lFsW9wJd3lPHinV0ISn9apfR20FC74f925enRl73pFO/9BcdQdGrFJP0YNtlwHcBcw6Da3u/Po3xU1qiAQZ1St/YkWJBJJmB+/6y1njOOoeoS3HAAWkQYCd85RKzAYazjcH+F/dhQC6mGuRtg0tOr7wS38Pv5dlBnrsrTg7khpF4CHnUxetWSStbQCgINZzYbWeRdyIJ9lL7ScNxJR9xEJQ+YEBzGxLMLjau/lNwAAAGlBnoZFESyfB33UWZu0REdTfN9H8CEL9H6ZejM/F1oZoVeEdeVDThaZvdRHZVHPRq5jViqp9LA0HkRE3ScqqTpyvATfPduBcjXRAAHancyC8o8aLz6WWIRLSIEZV4cpnHTHEbLqFu6smIEAAAAgAZ6ldER/CNmTkJYm6J/JZ217NkD8Q+QfF6UsV/UYnMEAAAA9AZ6nakR/AEVRDoAu2rU1KMANMuNfS4wkHq0OsuAqJhpFmqn02D+7e9W0iubXReN2sdYjyIq8iSsNzRKydAAABEJBmqxJqEFsmUwIn4cAOlLwAAILnuRwnFFiZTZhCD/hH//4r7FMyCk0WCEt8xkosbyk7YKSj/5VzkPi8LE2HbzndwczmIzsWwt9eIXAzf2rjoE/k9Wzcjdd9EDDpsQ/XVX2s9iVVGaLIWPcBEx2bQIlHow1GFp4J/0nwW4eBWGrzcvOF/aCaJTeRTCZwc9hUR1qqI4jlcoC/mUQkJc3yjvyXu5sfMKYPoZkoaBlbG1gl5J4m/VHfhYTJwFR5BAJqDCMbzbHzWJFpTXrflDHaDQfjuO/gWWeDzbVs5ENJt1ploFVLawrDOoAk9acZpwvDL2f1ZKG9K7NKlgn+oUbi7tb1i/VuTVD8h7cqcSk9L6w3M1QEqRrucCS9h6qqHEM9s4KVeJUfl976715cHlwYwLB1fyHN5lLfLjqv+y0Q0FiZHqvicJBTRa74WPN2e1SoyD434/03xw2CwtZx5wWTkc3S8Ze1EKe1X6S0qgAgoN7nc3Jugrr9i45saja/0HtTQvZrCvcac7sjCHDO+y7oRgMAuGoQm64olgW1SAH43beRllTdYzp17vSqA/GCwRmSSScrdqa0bLQDnLg2wAxXl8Hfyi8m0R5cbFpa0nP2Qnow0yhkoBZLx/UFTTh7RxnvadR3B8IDxTfViTMMXc+fz1d/1tVaUnQ14CHC0BL4JqP7gWbDOfaItNdsC2w3wpqakA3u+D99Sfj482vXRnL9wbdt4Qkw2aCD7jQOd3AiSY8tVcXYcFbNeaV8wFK+qtFeEZZxQMwn8fTqv4dkx84eWjjDAmmZVuuVf0AFX11nbkzQoNn4D96grDlaNzwT5iGLpBR3gH1NtzTxSXsxKfq0Rw/BzAGUQYiFznjY7tSO+qf8UW/tS6GRTGsWKUOeS4TXMjrRYqaDtQcRIvoGdCUA0xnXY/lqdvM37aT0DeqQZwGq+bjUHlLLMHY198Mmzkp+Khm6jz2Me9BbWBmtAtWVod/hARAPfBTLGAn9hvzGR8LtjU8uZpv34R2M6aix10M3XaZRNgZwsSkQmbrx9juOB9hzPthRh4L/xyQnyPFfzOChsB6uJ+jIzJXkSEUzYMqJwjMyoCkRUANwK6DelYgRSNBl18yA0Q6CQ7Q4Jd2BJdEWB8RUNoK8pHpFt99sjxurN5pjMRGPjNFMB0qGoJ8RCyaoh1VFReOlEZMmUHJjdV1eTutTnRFNLku6VmPZknmKPlYSKhU2FTHN/r77xM5LZzd0xtepXcM08aozqQK0ClyzouIE639+SxDP7XBB+oI1qo5syjIZeAlQxROI/W3K9HiL4tu4YcclYBDp1cperYd3h7xMmDMxDVCCaZN6idpxQX8TI7XCwXoccw9sWoZY43xE846xLCsiEDYbttZpEMD0vTBn9/KDipT4uk7LIF1ow18ljn74qGaBl5FFmoQHsKrOpckaoQiL6ABULOGYrPCuBlAAAAAWEGeykUVLJ8IyFJwdnhfe5gODCV3DPwn//222PiwxFnbiT9kf4Yc5Kyv4YMQwD6jbNj86zaV9exZJTjGPFWZhKaVbrE0AeKDfwvJzm3milyKvYJPxhRd9ZEAAAAfAZ7pdER/ClgMwL6L9+v0cwMKHHmG9OYBqz0wXNBjQAAAABcBnutqRH8KLKs84Rng6QAW/EI+MRgQgAAABARBmvBJqEFsmUwIn4cAJgocKMU9v+5LZX+klbNk0TLNPVLJWv//wfYAiUtzy6dbiWQ3c4IYQLBt+GkCwrMEnCkV2+XXNcpSG2M6VnpTNxRt46XWOOX7FQulQvdG6tmXroJm3K9wn6kU4h/o9YXvcnQcEiiXQzum4P0ztyIfskyEQkg67S9uHiZUycF+utW1+JMZ0/n6wPePDMQP4C9i1yIO+BW6w4yME9/k3LNHS5XkhjH3W5xxg7CHYx7UIpjS7+27brfuoJwU/kCJfweaByXu49vIkXpsKhwS8OR8IX0csa/L3gTtpF3Mefppe4DOJ60ePXs6zdswr0JprgOfIAutlnVQQpilDQsdbucmyWMNinCOPfwKfX0OfaaTDUzJyfophzMjLLrTConyarjiGp9JldzdDn5lRNiqDkSK1wstgee+M0NXt2j1+1vnU0wgzF2Pg1BLWODAyMYROByDaGKu8QE+rWMvq9/JyjdceQBsmVajfgh7CO7ZWBHXpH9NkWLOJUD+5sZ7sH0y4sFL5Xxd8IC0i5ehIp3mCBDsJvqDq8hLwYtcr6syK8F5uj8ZYvGKkdr/KlEXwtMUwZyr0fGhwlVHSDoxy6U4S/oJgMbJ5sJaZPZbFvqNm6VfQP1wqO4zZfMzyB+AcyvfIur30St9YTlywjbCbFM45cMcxNLp7Ef/kVY1cmuyw83qGK+2MT0J9vON/99HVn3mXmwVc18onZj38Dvasrnsv0U3ziZwcPWZy9pRf9l+us6mKZEpKkccBJpZ47rvSnX5LBN+qTe6NRt0aD/+fvS7JrLviWNaTJ8PNItx1InWd+zLi2hdZoz8blrbH2dAdnpshmJmUwmEefZzQYNgSuuBrK30KxcOyDc7ALAWBUD4cQ0Od90dA64k6OD3SvIylrCLgCxkcKzp4ydgd/11YaP+HiQXdy/tri7op4hDvxL5SCSD3o8s4q8rWS2VmAnw6oioxpPVIqRqL8kNLZz2yLXAD7w1ydx0KXvmtCeTW7rGiDHy5KOGezp0xLnFOl7nbgU6Jj7kL1U49HTmTTXM1Wd7EK5WskqdLbj80vx4nFT8/DHc5BGP9znSnVDYFRAW9iAUmoAbxkoZa4qG0nygTRBx0U2rzc4IsfgbmbIv1GdeDpnKjt5A2rZaHhaU3W5XtFPN3ExMmL2oB9DAVgV3G4WrCw+uPY2hKc8e4JKZIWdlvNSpqnbO2/FYxBBNK2oInspl5kuU7QvU/DtB1BUhmbwFfrwct9ocJkNrG4mTfMq6fZ1tMrMk7Bj6QMaAzesNcfuhdhYr9LL1UpElUCobW6lDV2y2mLegVogPztKlRwHHiHDEcsbuvojhNdHCab2hTwe88T97j0vTTqrSRQAAAEVBnw5FFSyfCIrhQG+67iX8E3+E7xXBgD6uDJlB67P/IMHHqZg1TIz1v4jfj0TeKjPmfxf/IgVIa9qZbMIjkRt1IaJ9LdEAAAAYAZ8tdER/ChNNADV8BmAC+u2mYCdgh8MhAAAANwGfL2pEfwGW1si1mMcBQHDU1AwS7FucdIiZMlmkWiEraRPhYhzwD+Pmo9DN0RwQSKkD5j5ojmAAAAO9QZs0SahBbJlMCf8AEAyYABlPGwYiseILJ4IMeCad7OEkdrPyUKlvwbyY5BPTAcK9/kLf//8KmkfemiiOm7kwXw0Gp3OCPHxK86V637KCTPX0ZBJETO3v1DX1ACpetFjC33vL15BTLCcsyNac4A3WRkBqjlDOrcezthFqNxU4JgPIaClUa0h3mQ9s308/O1lC2HjRz3cL0JDrC8fNLgRxbe8UgqH2wfm1D6luT/4eykQ21ZPswqnN2BFnd7CSsSSVmAznfAD29caRnFX1bZtxRJfkE/GNCh9MlXeqzx2cJXxogp3RV/ASuvKpGroyE+CHfZ0nJGwYvWZ80vKBEoIs515ArJRIawIxGUeBHCa470iwptUBnYHgBy+h09kbcoZmpiydu83l3xvh7CjE4jbmhm5hdoHy8KNSd17iXXCxY5D/H7nlJPRX0o8xiM67rbjqyvUPkIoGotQAx71044KqU8j3l46n1YpD0JDvA5JtiXFQRx2lamxatg3P5PuJoGC+0HGQVAvqdvE19XOWa2uit4Q1eb3IpYILSCPqn99YSZPQP0bSe0CEli/9mp9pQpsQw7k/PAbIvd4gu//swBRVAL8BQDSFyUJkeCeeEpvsm8g6GPKs8T5Q6HnHKCLp1V/Fr1SAYDnyhAeZel5262pw/whf2so3LP0lAfQIJB+raz9f7G+n2pnMfB8Bc95R6r2OGYf2QUKFpjAifACVdTkb7hJD3nVjk3OxTWGLVXkzGKGAG3N+HVG9pNDHoCzl1Uk8Z1aPkVm9V2vy71X1TcSMmDe5P3lMGNLPRyl/l4FccdRhB085Mt7Puy2IM9dlPym3FZbo4D9IlLw/GNEGo0DB5IQBM7x+4CKcH7xMSf2z4o3oo35ERjLeKKwt6QBdgj4ciSPtWxsi0t4GS9YLqlyW3Ze2Y/u0sPHgbQ/UTdKK6uiKVpQXq1MsJceGLNzQbR6nQEM43DXWdc0sY7mqkGBoEUvH3B7dL008gN5P9UThUYVYwd06TY5yTsOmQcIZGaqUUoN3jmyyVMSlN6tXI24PIqOd2rxLPEVO3ykAJbzrJJWmoXPz621420Ghk+FlmWQMj/kIqAyTGTEgBb5tjqflfcWVt0fSzUImeKbpFe/CatNoXCfd/fdWfjzmko864Xx7gte9hGVR7xMCmqkrSAJlXKGlYFKYMq8M3wRcrItGLOgqC2h9kBH0T4N50o9saERTaAoJnmXrVHRqahJi+KsAV/XxfbV+1ECiv7mp8+d8tlPP1dd2aH7vsba0Uk+YAAAAXEGfUkUVLJ81j914ENpkAZ8eOW0Z/Eaez/8/yF16cTqqWiS3f72NPavA1EvP6SHBxvSZ5iM5qwdUPg0DRfYCxfqQRicDYOt4o7fSC4iPqbRTyidMt9orbOmYb9hJAAAAHwGfcXREfz1uOX6j7cKoXGrHqeoJsmjDg8XHGzRURMAAAABJAZ9zakR/DLbMzWTMxjk11mNIfpmZhlc5POGph2Oa+jM9EOT8YlXh/xLf59pnwWpQB5RXU57kFlS495kqaIS39hpl07nvT/dW9gAABDNBm3hJqEFsmUwL/wBd03L73ENdEbEf/6kEa9rSotf0Lar6QdzpFu/poN5L8KlSLu8Fbgtr3/0YPcDq/5FXG/Y5Ido8k4aXaGHnrb9WNdbgCmmsxO3oXNWcqrLfZ+a+TaHJtKk2g+x7exJRQs1qiyMlmx2XyctYeDmvxqlFpWejXdLzW53wGevdnAkzRRe58OLwJqjGNdiiRNAgaG+tj2mAAR9y11QAAen6UyRarwbaEAcR/AfCLEGBSAEBRW1o06NNT4u9a3X4x7lfA04ATTJ21mLRxIVAuf736jZiQ6m8fccabv3NcKC3U3BFXV4zSozW5QvIkykXxwX1qDpnjMNxWF3r0XL9XhEIW3yYzQ35TMhTyRKqcwCUAoQ0w4MQacS/Mbj6urf87DHqfFXaLVXySboqPNCEvXW1Fy90QhrmpZhOGxcp9TICW32JYiVFMWUl7kW06n//O8uGEm/0FraW0kz3pxGJsUyt9hUYwNzpy2rMmV1If89hXsVM3V8+bC1WcMaPxgn/s5W0b+1IeuGz0tyfo02/09wud55uFdnKdKhcs9LXKNo1TF9Z0+a9NLTc+Lfs0CgN4JpsjGikBoiRADyE3w4UW7U20e1D9nKZzOzWVc1VZDO9s+bMCdpLA6X0j8JncGV+QBxl1Nt28T4pmhE/RneEiko0G+sTwiOYc94NeG/gmbIyNp6+qSUM/8OGfkOblwl1LbzTE7higvFl/2Jec6eRaZg3h9uREQ+vftiQzB037ac81JFDMCT5IaN2FSJngJr+qFiwGAGf/H5AgfxA/2PhkdRKdn6cnLuBVapgNiSARKJONnf9aEiRTmfvFXmhU3nYb8UBpHwFy4G9kMBiN0d0EZ71cpe3FlTluR0zdHt1L8tBiGsBfquCzsoi6mYV7wDCiey5odfLOplGhbrG0Ft8Ql8Wujo5EpaF0OQNaNiWIBvod3jrtG5I2Udtlz7/Mf59QtGWwOAltrB2fyH8aeBcH1k2hhtDv66fQLhPeDslRzm3AzrqzzPA7G5BBZGm9Ent1YN7B43LKpKwM4kJupUKybu5p0n0wkqczFhaBT5bgDWpOiWSJ+x9F1oBDvRYqCvshp1w9PFMlK1Oa7N5xYAM8KR8yK/fFykh/e/xzj8fnFNuzfUJ5Fe5Opv7CKKU9EJo31x0E6DHoxQkAgC0IzQ5DaBI/RaJkAVVcjw0KPgILnPGkrDVCM3NgdUwLNXtzF+twpbu81/Ykw13Vfk46JCgmdpGuCM2x1e3SM1revNm+8AD8Z8Zv9IZmNp2ZSRX6O0sMLzNYKXmN4zVjb3fxUQYf2PeOK7I6bCy0uJNz0x03v9VOm+ppq4z+c683tRGRg6+O+xpaJMrpZF4z1NnWkFhbkI/3Mxs83yulw9nzMw1AwvxS/mxFPpaAen3uOc+UpvZ6XpVmMrSjsbJLjMhAAAARUGflkUVLJ84nPAR6D3ojkKH6Vadn/47/aGvD8SXEsAlpoMKs9dzPdOxaI5IjPujpJg5SOtBTa2dXSgl5hZK6U/+gOaOYAAAABoBn7V0RH8MsCMHz7Bhu6QzLjHwkIM6AxhJYwAAADQBn7dqRH9AqZS50ZlVOnWxEUgJfj4sq7xcxX1+UXJlNAbpIvtUvrD2811oYxXoRspR/jThAAADsEGbvEmoQWyZTAiPAo/+i4HZWag++Nl9y6vlGeUrbIzLaq8yH399gse4PcHkt+oHrVLVlLXcNicE0q2qZux3bFU1/GQ9Rgnonf5NgoeRxq/GOWed+YC+5jAoWhtygLEEyopjHjmjfECLtCF0+x7IZ2CfWsaYW+IYHwJoduB5gAX0GradvAri++SMUkcjXpC6QvFl9LZKRYcmtVfyIlL5SRP/PSiNDVZiiaMLJHpUsiyokUJxm7NCyyH+1YqLqOtyskgxUQeXxRp46mO+fXEB9a/zGP/VjdEfvWPwXctsoNPt0p8Cn//LboEQOQejnXhZvNchcOYoNPlAO0JhkyLajenZ3u6+3sCjdsDhH7lUcSRAgvQv9jUF9bMtyYrobJfap3cHjtJp6Qs3uubtENbMrex35v4JfYH7l9cu/+cATexdTfC9BM3cL+AflHuXkIgaiNV2+SKSYbJ0Vfpzx4fSSrrDsrxXRJmb6GBGsTzWD7mqakfyJuNMloxmEi7knlLDiByJdaQmYMFrdIkx4x4tFgGaOslFETOVlItR4TJEVmszy+rTzBElo/wNzBL8VkZflmYjriPtZsazRjuIpfzGPy3By2/280ZN4cWCucQ+OxFRYtRyWssc17zYENOS5nv9p9JdiEFgsLdiqC21trZlVZAumChhYEZxuSa/6U2EfxcfdzzvPHd5RR3X4qXO2vJu0t1If/1jc2K98lDFR2TahMRP1/oLFqFxXK3GtoHPwZXxAoQX6iRzuzljZsUPNQ7wDeelJYADNJvhja+wCamWoVHHzERQXBaWTEAPP+RaofAU4r7jHFOluu32fQPsW5N+X3lo9zOOkPf8EfUt5jXTlD+tZKq7irA3aK3VxVIjUCp4WyhsCxHuiUYvN/lxUlDQq59u4TUlFTaHYWWwinAOvpx6xGt/q+z8iuCFG6/DxPcOhgf93LzOb/ZehHFCB+/VPef2fgV1ttu6pwdY79wT4ezyTkjhl9fE3sNGmkYhf2DhHdOi/IvuMmN04AIuiym8p/ZAvTqx3wcQOKvKv38YAgAFL45Z0ysnjxKtQYK2R8JTG7zQ+YrO7qpGr6nbOuhAd5YSsEudExmHEA23K+tUZpK98Lwks4RxlgluDIILgNdvBYhR7kkWnPl7XAT2iowTzUdVGPY3acsLf8Ico+ET3IgFSV2WCPA7wBiFtdrl4alBkdYIoTguBH6oMvhuQWyFrsNqJg7og2e3jG/67XHzpVbzyIv/EcuBr+qJ8A3cANWAAAAAXkGf2kUVLJ8zkLM8FQ6z1Id1l3wmxdsgv/SSIm+EzZz8lXS3RT7P1MJd87IQjCNHa6ZgkEgs3+N6rvQ4cD3E80CdP7YS7F0LbwR9E+9qOvIQg6O2AeGCR6IVUKGDgbUAAAAgAZ/5dER/O/ooyDl/pcd66WVtsuLcXcWlvOotCaAVBZQAAAA7AZ/7akR/HuS0o31oKwkwqCIFw/Si1DiIcsFjV5tfBkDWle/oiu+/lcOz8Io4TQYDaUnkSvQgVyXgwIEAAASFbW9vdgAAAGxtdmhkAAAAAAAAAAAAAAAAAAAD6AAAOKQAAQAAAQAAAAAAAAAAAAAAAAEAAAAAAAAAAAAAAAAAAAABAAAAAAAAAAAAAAAAAABAAAAAAAAAAAAAAAAAAAAAAAAAAAAAAAAAAAAAAAAAAgAAA690cmFrAAAAXHRraGQAAAADAAAAAAAAAAAAAAABAAAAAAAAOKQAAAAAAAAAAAAAAAAAAAAAAAEAAAAAAAAAAAAAAAAAAAABAAAAAAAAAAAAAAAAAABAAAAAAaAAAAGgAAAAAAAkZWR0cwAAABxlbHN0AAAAAAAAAAEAADikAABAAAABAAAAAAMnbWRpYQAAACBtZGhkAAAAAAAAAAAAAAAAAABAAAADoABVxAAAAAAALWhkbHIAAAAAAAAAAHZpZGUAAAAAAAAAAAAAAABWaWRlb0hhbmRsZXIAAAAC0m1pbmYAAAAUdm1oZAAAAAEAAAAAAAAAAAAAACRkaW5mAAAAHGRyZWYAAAAAAAAAAQAAAAx1cmwgAAAAAQAAApJzdGJsAAAArnN0c2QAAAAAAAAAAQAAAJ5hdmMxAAAAAAAAAAEAAAAAAAAAAAAAAAAAAAAAAaABoABIAAAASAAAAAAAAAABAAAAAAAAAAAAAAAAAAAAAAAAAAAAAAAAAAAAAAAAAAAAGP//AAAANGF2Y0MBZAAV/+EAGGdkABWs2UGg1oQAAAMABAAAAwAQPFi2WAEABWjr5yyL/fj4AAAAABRidHJ0AAAAAAAAGugAABroAAAAGHN0dHMAAAAAAAAAAQAAAB0AACAAAAAAFHN0c3MAAAAAAAAAAQAAAAEAAAD4Y3R0cwAAAAAAAAAdAAAAAQAAQAAAAAABAACgAAAAAAEAAEAAAAAAAQAAAAAAAAABAAAgAAAAAAEAAKAAAAAAAQAAQAAAAAABAAAAAAAAAAEAACAAAAAAAQAAoAAAAAABAABAAAAAAAEAAAAAAAAAAQAAIAAAAAABAACgAAAAAAEAAEAAAAAAAQAAAAAAAAABAAAgAAAAAAEAAKAAAAAAAQAAQAAAAAABAAAAAAAAAAEAACAAAAAAAQAAoAAAAAABAABAAAAAAAEAAAAAAAAAAQAAIAAAAAABAACgAAAAAAEAAEAAAAAAAQAAAAAAAAABAAAgAAAAABxzdHNjAAAAAAAAAAEAAAABAAAAHQAAAAEAAACIc3RzegAAAAAAAAAAAAAAHQAADH4AAAV3AAAASAAAACAAAAA7AAAF8wAAAG0AAAAkAAAAQQAABEYAAABcAAAAIwAAABsAAAQIAAAASQAAABwAAAA7AAADwQAAAGAAAAAjAAAATQAABDcAAABJAAAAHgAAADgAAAO0AAAAYgAAACQAAAA/AAAAFHN0Y28AAAAAAAAAAQAAADAAAABidWR0YQAAAFptZXRhAAAAAAAAACFoZGxyAAAAAAAAAABtZGlyYXBwbAAAAAAAAAAAAAAAAC1pbHN0AAAAJal0b28AAAAdZGF0YQAAAAEAAAAATGF2ZjU4Ljc2LjEwMA==\" type=\"video/mp4\">\n",
              "    Your browser does not support the video tag.\n",
              "    </video>"
            ]
          },
          "metadata": {},
          "execution_count": 8
        }
      ]
    },
    {
      "cell_type": "markdown",
      "source": [
        "## Agent"
      ],
      "metadata": {
        "id": "GPHWdRyT-ND0"
      }
    },
    {
      "cell_type": "code",
      "source": [
        "train_py_env = suite_gym.wrap_env(TicTacToeEnv())\n",
        "eval_py_env = suite_gym.wrap_env(TicTacToeEnv())\n",
        "\n",
        "train_env = tf_py_environment.TFPyEnvironment(train_py_env)\n",
        "eval_env = tf_py_environment.TFPyEnvironment(eval_py_env)"
      ],
      "metadata": {
        "id": "MnqVY5icuPi4"
      },
      "execution_count": 9,
      "outputs": []
    },
    {
      "cell_type": "code",
      "execution_count": 10,
      "metadata": {
        "id": "TgkdEPg_muzV"
      },
      "outputs": [],
      "source": [
        "conv_layer_params = (8, 16)\n",
        "action_tensor_spec = tensor_spec.from_spec(tf_env.action_spec())\n",
        "num_actions = action_tensor_spec.maximum - action_tensor_spec.minimum + 1\n",
        "\n",
        "# Define a helper function to create Conv layers configured with the right\n",
        "# activation and kernel initializer.\n",
        "def conv_layer(num_units):\n",
        "  return tf.keras.layers.Conv2D(filters=num_units,\n",
        "                                kernel_size=[3, 3],\n",
        "                                padding=\"same\",\n",
        "                                data_format=\"channels_last\",\n",
        "                                activation='relu')\n",
        "\n",
        "\n",
        "# QNetwork consists of a sequence of Conv layers followed by a dense layer\n",
        "# with `num_actions` units to generate one q_value per available action as\n",
        "# its output.\n",
        "conv_layers = [conv_layer(num_units) for num_units in conv_layer_params]\n",
        "action_conv = tf.keras.layers.Conv2D(filters=4,\n",
        "                                      kernel_size=[1, 1], padding=\"same\",\n",
        "                                      data_format=\"channels_last\",\n",
        "                                      activation='relu')\n",
        "flatten = tf.keras.layers.Flatten()\n",
        "q_values_layer = tf.keras.layers.Dense(\n",
        "    num_actions,\n",
        "    activation=None,\n",
        "    kernel_initializer=tf.keras.initializers.RandomUniform(\n",
        "        minval=-0.03, maxval=0.03),\n",
        "    bias_initializer=tf.keras.initializers.Constant(-0.2))\n",
        "q_net = sequential.Sequential(conv_layers + [action_conv, flatten, q_values_layer])"
      ]
    },
    {
      "cell_type": "code",
      "source": [
        "optimizer = tf.keras.optimizers.Adam(learning_rate=learning_rate)\n",
        "\n",
        "train_step_counter = tf.Variable(0)\n",
        "\n",
        "agent = dqn_agent.DqnAgent(\n",
        "    train_env.time_step_spec(),\n",
        "    train_env.action_spec(),\n",
        "    q_network=q_net,\n",
        "    optimizer=optimizer,\n",
        "    td_errors_loss_fn=common.element_wise_squared_loss,\n",
        "    train_step_counter=train_step_counter)\n",
        "\n",
        "agent.initialize()"
      ],
      "metadata": {
        "id": "lg5emNEam75J"
      },
      "execution_count": 11,
      "outputs": []
    },
    {
      "cell_type": "markdown",
      "source": [
        "## Policy"
      ],
      "metadata": {
        "id": "QaVnWWX4xpa5"
      }
    },
    {
      "cell_type": "code",
      "source": [
        "eval_policy = agent.policy\n",
        "collect_policy = agent.collect_policy\n",
        "random_policy = random_tf_policy.RandomTFPolicy(train_env.time_step_spec(), train_env.action_spec())"
      ],
      "metadata": {
        "id": "uGU0pGS4xsjc"
      },
      "execution_count": 12,
      "outputs": []
    },
    {
      "cell_type": "code",
      "source": [
        "def compute_avg_return(environment, policy, num_episodes=10):\n",
        "\n",
        "  total_return = 0.0\n",
        "  for i in range(num_episodes):\n",
        "    time_step = environment.reset()\n",
        "    episode_return = 0.0\n",
        "\n",
        "    while not time_step.is_last():\n",
        "      action_step = policy.action(time_step)\n",
        "      time_step = environment.step(action_step.action)\n",
        "      episode_return += time_step.reward\n",
        "    total_return += episode_return\n",
        "\n",
        "  avg_return = total_return / num_episodes\n",
        "  return avg_return.numpy()[0]\n",
        "\n",
        "\n",
        "# See also the metrics module for standard implementations of different metrics.\n",
        "# https://github.com/tensorflow/agents/tree/master/tf_agents/metrics"
      ],
      "metadata": {
        "id": "N8vRFWNgx-tj"
      },
      "execution_count": 13,
      "outputs": []
    },
    {
      "cell_type": "code",
      "source": [
        "compute_avg_return(eval_env, agent.policy, num_eval_episodes)"
      ],
      "metadata": {
        "colab": {
          "base_uri": "https://localhost:8080/"
        },
        "id": "vlCXIdRVyAAu",
        "outputId": "a3beafd3-02b2-4b93-ee6e-b708da7e1474"
      },
      "execution_count": 14,
      "outputs": [
        {
          "output_type": "execute_result",
          "data": {
            "text/plain": [
              "-9.499997"
            ]
          },
          "metadata": {},
          "execution_count": 14
        }
      ]
    },
    {
      "cell_type": "markdown",
      "source": [
        "## Replay Buffer"
      ],
      "metadata": {
        "id": "VBEXcoMjy7xO"
      }
    },
    {
      "cell_type": "code",
      "source": [
        "table_name = 'uniform_table'\n",
        "replay_buffer_signature = tensor_spec.from_spec(\n",
        "      agent.collect_data_spec)\n",
        "replay_buffer_signature = tensor_spec.add_outer_dim(\n",
        "    replay_buffer_signature)\n",
        "\n",
        "table = reverb.Table(\n",
        "    table_name,\n",
        "    max_size=replay_buffer_max_length,\n",
        "    sampler=reverb.selectors.Uniform(),\n",
        "    remover=reverb.selectors.Fifo(),\n",
        "    rate_limiter=reverb.rate_limiters.MinSize(1),\n",
        "    signature=replay_buffer_signature)\n",
        "\n",
        "reverb_server = reverb.Server([table])\n",
        "\n",
        "replay_buffer = reverb_replay_buffer.ReverbReplayBuffer(\n",
        "    agent.collect_data_spec,\n",
        "    table_name=table_name,\n",
        "    sequence_length=2,\n",
        "    local_server=reverb_server)\n",
        "\n",
        "rb_observer = reverb_utils.ReverbAddTrajectoryObserver(\n",
        "  replay_buffer.py_client,\n",
        "  table_name,\n",
        "  sequence_length=2)\n",
        "\n",
        "dataset = replay_buffer.as_dataset(\n",
        "    num_parallel_calls=3,\n",
        "    sample_batch_size=batch_size,\n",
        "    num_steps=2).prefetch(3)\n",
        "\n",
        "iterator = iter(dataset)"
      ],
      "metadata": {
        "id": "CMVmKJF1y_Lt"
      },
      "execution_count": 15,
      "outputs": []
    },
    {
      "cell_type": "code",
      "source": [
        "py_driver.PyDriver(\n",
        "    train_py_env,\n",
        "    py_tf_eager_policy.PyTFEagerPolicy(\n",
        "      random_policy, use_tf_function=True),\n",
        "    [rb_observer],\n",
        "    max_steps=initial_collect_steps).run(train_py_env.reset())"
      ],
      "metadata": {
        "colab": {
          "base_uri": "https://localhost:8080/"
        },
        "id": "RomK5WUjtYbO",
        "outputId": "e32464c5-17b6-491c-defd-c8cd7f23d3a7"
      },
      "execution_count": 16,
      "outputs": [
        {
          "output_type": "execute_result",
          "data": {
            "text/plain": [
              "(TimeStep(\n",
              " {'discount': array(1., dtype=float32),\n",
              "  'observation': array([[[0., 0.],\n",
              "         [0., 0.],\n",
              "         [0., 0.],\n",
              "         [0., 0.],\n",
              "         [0., 0.],\n",
              "         [0., 0.],\n",
              "         [0., 0.],\n",
              "         [0., 0.],\n",
              "         [0., 0.]],\n",
              " \n",
              "        [[0., 0.],\n",
              "         [0., 0.],\n",
              "         [0., 1.],\n",
              "         [0., 0.],\n",
              "         [0., 0.],\n",
              "         [0., 0.],\n",
              "         [0., 0.],\n",
              "         [0., 0.],\n",
              "         [0., 0.]],\n",
              " \n",
              "        [[0., 0.],\n",
              "         [0., 0.],\n",
              "         [0., 0.],\n",
              "         [1., 0.],\n",
              "         [0., 1.],\n",
              "         [0., 1.],\n",
              "         [0., 0.],\n",
              "         [0., 0.],\n",
              "         [0., 1.]],\n",
              " \n",
              "        [[0., 0.],\n",
              "         [1., 0.],\n",
              "         [1., 0.],\n",
              "         [0., 0.],\n",
              "         [0., 0.],\n",
              "         [0., 0.],\n",
              "         [0., 0.],\n",
              "         [0., 0.],\n",
              "         [0., 1.]],\n",
              " \n",
              "        [[0., 0.],\n",
              "         [0., 0.],\n",
              "         [1., 0.],\n",
              "         [0., 0.],\n",
              "         [0., 0.],\n",
              "         [0., 0.],\n",
              "         [0., 0.],\n",
              "         [0., 1.],\n",
              "         [0., 0.]],\n",
              " \n",
              "        [[0., 0.],\n",
              "         [0., 0.],\n",
              "         [0., 0.],\n",
              "         [0., 0.],\n",
              "         [0., 0.],\n",
              "         [0., 0.],\n",
              "         [0., 1.],\n",
              "         [0., 0.],\n",
              "         [0., 0.]],\n",
              " \n",
              "        [[0., 0.],\n",
              "         [0., 0.],\n",
              "         [0., 1.],\n",
              "         [0., 0.],\n",
              "         [0., 0.],\n",
              "         [0., 0.],\n",
              "         [1., 0.],\n",
              "         [1., 0.],\n",
              "         [0., 0.]],\n",
              " \n",
              "        [[0., 0.],\n",
              "         [0., 1.],\n",
              "         [0., 0.],\n",
              "         [0., 0.],\n",
              "         [1., 0.],\n",
              "         [1., 0.],\n",
              "         [0., 0.],\n",
              "         [0., 0.],\n",
              "         [0., 0.]],\n",
              " \n",
              "        [[1., 0.],\n",
              "         [1., 0.],\n",
              "         [0., 0.],\n",
              "         [0., 0.],\n",
              "         [0., 0.],\n",
              "         [0., 0.],\n",
              "         [0., 0.],\n",
              "         [0., 0.],\n",
              "         [0., 0.]]]),\n",
              "  'reward': array(-0.1, dtype=float32),\n",
              "  'step_type': array(1, dtype=int32)}),\n",
              " ())"
            ]
          },
          "metadata": {},
          "execution_count": 16
        }
      ]
    },
    {
      "cell_type": "markdown",
      "source": [
        "## Train the agent"
      ],
      "metadata": {
        "id": "jRVMc8V8zxj0"
      }
    },
    {
      "cell_type": "code",
      "source": [
        "try:\n",
        "  %%time\n",
        "except:\n",
        "  pass\n",
        "\n",
        "# (Optional) Optimize by wrapping some of the code in a graph using TF function.\n",
        "agent.train = common.function(agent.train)\n",
        "\n",
        "# Reset the train step.\n",
        "agent.train_step_counter.assign(0)\n",
        "\n",
        "# Evaluate the agent's policy once before training.\n",
        "avg_return = compute_avg_return(eval_env, agent.policy, num_eval_episodes)\n",
        "returns = [avg_return]\n",
        "\n",
        "# Reset the environment.\n",
        "time_step = train_py_env.reset()\n",
        "\n",
        "# Create a driver to collect experience.\n",
        "collect_driver = py_driver.PyDriver(\n",
        "    train_py_env,\n",
        "    py_tf_eager_policy.PyTFEagerPolicy(\n",
        "      agent.collect_policy, use_tf_function=True),\n",
        "    [rb_observer],\n",
        "    max_steps=collect_steps_per_iteration)\n",
        "\n",
        "for _ in range(num_iterations):\n",
        "\n",
        "    # Collect a few steps and save to the replay buffer.\n",
        "    time_step, _ = collect_driver.run(time_step)\n",
        "\n",
        "    # Sample a batch of data from the buffer and update the agent's network.\n",
        "    experience, unused_info = next(iterator)\n",
        "    train_loss = agent.train(experience).loss\n",
        "\n",
        "    step = agent.train_step_counter.numpy()\n",
        "\n",
        "    if step % log_interval == 0:\n",
        "      print('step = {0}: loss = {1}'.format(step, train_loss))\n",
        "\n",
        "    if step % eval_interval == 0:\n",
        "      avg_return = compute_avg_return(eval_env, agent.policy, num_eval_episodes)\n",
        "      print('step = {0}: Average Return = {1}'.format(step, avg_return))\n",
        "      returns.append(avg_return)"
      ],
      "metadata": {
        "id": "6_1qWkmKz0Ke",
        "colab": {
          "base_uri": "https://localhost:8080/"
        },
        "outputId": "c3c9990a-3e62-4af9-8425-3e138eac1539"
      },
      "execution_count": null,
      "outputs": [
        {
          "output_type": "stream",
          "name": "stderr",
          "text": [
            "WARNING:tensorflow:From /usr/local/lib/python3.10/dist-packages/tensorflow/python/util/dispatch.py:1260: calling foldr_v2 (from tensorflow.python.ops.functional_ops) with back_prop=False is deprecated and will be removed in a future version.\n",
            "Instructions for updating:\n",
            "back_prop=False is deprecated. Consider using tf.stop_gradient instead.\n",
            "Instead of:\n",
            "results = tf.foldr(fn, elems, back_prop=False)\n",
            "Use:\n",
            "results = tf.nest.map_structure(tf.stop_gradient, tf.foldr(fn, elems))\n"
          ]
        },
        {
          "output_type": "stream",
          "name": "stdout",
          "text": [
            "step = 200: loss = 160931479552.0\n",
            "step = 400: loss = 180837215633408.0\n",
            "step = 600: loss = 7917261109067776.0\n",
            "step = 800: loss = 5.437429455729459e+16\n",
            "step = 1000: loss = 2.199300366841938e+17\n",
            "step = 1000: Average Return = -14.969993591308594\n",
            "step = 1200: loss = 1.1056972053159608e+18\n",
            "step = 1400: loss = 3.4920022005723955e+18\n",
            "step = 1600: loss = 2.8430885798008586e+18\n",
            "step = 1800: loss = 1.6137556350124163e+19\n",
            "step = 2000: loss = 2.527254084624528e+19\n",
            "step = 2000: Average Return = -16.429990768432617\n",
            "step = 2200: loss = 8.202376974222911e+19\n",
            "step = 2400: loss = 1.2005190990904793e+20\n",
            "step = 2600: loss = 3.179308064536621e+20\n",
            "step = 2800: loss = 1.8183132202708396e+20\n",
            "step = 3000: loss = 4.040556754026585e+20\n",
            "step = 3000: Average Return = -14.61999225616455\n",
            "step = 3200: loss = 1.6791753893925303e+20\n",
            "step = 3400: loss = 5.7170336780017625e+20\n",
            "step = 3600: loss = 6.895634496577643e+20\n",
            "step = 3800: loss = 1.0689608263850346e+21\n",
            "step = 4000: loss = 7.928774324845271e+20\n",
            "step = 4000: Average Return = -10.989995956420898\n",
            "step = 4200: loss = 2.3113055940867177e+21\n"
          ]
        }
      ]
    },
    {
      "cell_type": "code",
      "source": [
        "create_policy_eval_video(agent.policy, \"trained-agent\")"
      ],
      "metadata": {
        "id": "HDMa0xH3rAS6"
      },
      "execution_count": null,
      "outputs": []
    },
    {
      "cell_type": "markdown",
      "source": [],
      "metadata": {
        "id": "Fsl0r1fyxpUD"
      }
    },
    {
      "cell_type": "markdown",
      "source": [
        "## TODO\n",
        "\n",
        "\n",
        "\n",
        "*   Check whether the `is_winner` function is correct\n",
        "*   Check whether the environment is correctly implement\n",
        "*   Add the variant in `step` function\n",
        "*   Test whether the agent always chooses an *empty* square and whether they can go to an adjacent place correctly\n",
        "\n"
      ],
      "metadata": {
        "id": "WkOaR2zHrDwC"
      }
    }
  ]
}