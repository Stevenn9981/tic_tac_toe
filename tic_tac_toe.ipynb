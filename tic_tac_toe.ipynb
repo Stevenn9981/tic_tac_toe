{
  "nbformat": 4,
  "nbformat_minor": 0,
  "metadata": {
    "colab": {
      "provenance": [],
      "authorship_tag": "ABX9TyPq1bM7JY/lXTFTM3HBNXio",
      "include_colab_link": true
    },
    "kernelspec": {
      "name": "python3",
      "display_name": "Python 3"
    },
    "language_info": {
      "name": "python"
    }
  },
  "cells": [
    {
      "cell_type": "markdown",
      "metadata": {
        "id": "view-in-github",
        "colab_type": "text"
      },
      "source": [
        "<a href=\"https://colab.research.google.com/github/Stevenn9981/tic_tac_toe/blob/master/tic_tac_toe.ipynb\" target=\"_parent\"><img src=\"https://colab.research.google.com/assets/colab-badge.svg\" alt=\"Open In Colab\"/></a>"
      ]
    },
    {
      "cell_type": "markdown",
      "source": [
        "## Setup"
      ],
      "metadata": {
        "id": "iEy_PMnnf-Og"
      }
    },
    {
      "cell_type": "code",
      "execution_count": 1,
      "metadata": {
        "colab": {
          "base_uri": "https://localhost:8080/"
        },
        "id": "fdG6QronfqnR",
        "outputId": "7a626b60-bac7-4844-da0b-c8ba44cee6b1"
      },
      "outputs": [
        {
          "output_type": "stream",
          "name": "stdout",
          "text": [
            "\r0% [Working]\r            \rHit:1 https://cloud.r-project.org/bin/linux/ubuntu jammy-cran40/ InRelease\n",
            "\r0% [Connecting to archive.ubuntu.com] [Connecting to security.ubuntu.com (91.18\r                                                                               \rHit:2 http://security.ubuntu.com/ubuntu jammy-security InRelease\n",
            "Hit:3 https://developer.download.nvidia.com/compute/cuda/repos/ubuntu2204/x86_64  InRelease\n",
            "Hit:4 https://ppa.launchpadcontent.net/c2d4u.team/c2d4u4.0+/ubuntu jammy InRelease\n",
            "Hit:5 https://ppa.launchpadcontent.net/deadsnakes/ppa/ubuntu jammy InRelease\n",
            "Hit:6 https://ppa.launchpadcontent.net/graphics-drivers/ppa/ubuntu jammy InRelease\n",
            "Hit:7 https://ppa.launchpadcontent.net/ubuntugis/ppa/ubuntu jammy InRelease\n",
            "Hit:8 http://archive.ubuntu.com/ubuntu jammy InRelease\n",
            "Hit:9 http://archive.ubuntu.com/ubuntu jammy-updates InRelease\n",
            "Hit:10 http://archive.ubuntu.com/ubuntu jammy-backports InRelease\n",
            "Reading package lists... Done\n",
            "Reading package lists... Done\n",
            "Building dependency tree... Done\n",
            "Reading state information... Done\n",
            "freeglut3-dev is already the newest version (2.8.1-6).\n",
            "ffmpeg is already the newest version (7:4.4.2-0ubuntu0.22.04.1).\n",
            "xvfb is already the newest version (2:21.1.4-2ubuntu1.7~22.04.2).\n",
            "0 upgraded, 0 newly installed, 0 to remove and 22 not upgraded.\n",
            "Requirement already satisfied: imageio==2.4.0 in /usr/local/lib/python3.10/dist-packages (2.4.0)\n",
            "Requirement already satisfied: numpy in /usr/local/lib/python3.10/dist-packages (from imageio==2.4.0) (1.23.5)\n",
            "Requirement already satisfied: pillow in /usr/local/lib/python3.10/dist-packages (from imageio==2.4.0) (9.4.0)\n",
            "Requirement already satisfied: pyvirtualdisplay in /usr/local/lib/python3.10/dist-packages (3.0)\n",
            "Requirement already satisfied: tf-agents[reverb] in /usr/local/lib/python3.10/dist-packages (0.18.0)\n",
            "Requirement already satisfied: absl-py>=0.6.1 in /usr/local/lib/python3.10/dist-packages (from tf-agents[reverb]) (1.4.0)\n",
            "Requirement already satisfied: cloudpickle>=1.3 in /usr/local/lib/python3.10/dist-packages (from tf-agents[reverb]) (2.2.1)\n",
            "Requirement already satisfied: gin-config>=0.4.0 in /usr/local/lib/python3.10/dist-packages (from tf-agents[reverb]) (0.5.0)\n",
            "Requirement already satisfied: gym<=0.23.0,>=0.17.0 in /usr/local/lib/python3.10/dist-packages (from tf-agents[reverb]) (0.23.0)\n",
            "Requirement already satisfied: numpy>=1.19.0 in /usr/local/lib/python3.10/dist-packages (from tf-agents[reverb]) (1.23.5)\n",
            "Requirement already satisfied: pillow in /usr/local/lib/python3.10/dist-packages (from tf-agents[reverb]) (9.4.0)\n",
            "Requirement already satisfied: six>=1.10.0 in /usr/local/lib/python3.10/dist-packages (from tf-agents[reverb]) (1.16.0)\n",
            "Requirement already satisfied: protobuf>=3.11.3 in /usr/local/lib/python3.10/dist-packages (from tf-agents[reverb]) (3.20.3)\n",
            "Requirement already satisfied: wrapt>=1.11.1 in /usr/local/lib/python3.10/dist-packages (from tf-agents[reverb]) (1.14.1)\n",
            "Requirement already satisfied: typing-extensions>=3.7.4.3 in /usr/local/lib/python3.10/dist-packages (from tf-agents[reverb]) (4.5.0)\n",
            "Requirement already satisfied: pygame==2.1.3 in /usr/local/lib/python3.10/dist-packages (from tf-agents[reverb]) (2.1.3)\n",
            "Requirement already satisfied: tensorflow-probability~=0.22.0 in /usr/local/lib/python3.10/dist-packages (from tf-agents[reverb]) (0.22.0)\n",
            "Requirement already satisfied: rlds in /usr/local/lib/python3.10/dist-packages (from tf-agents[reverb]) (0.1.8)\n",
            "Requirement already satisfied: dm-reverb~=0.13.0 in /usr/local/lib/python3.10/dist-packages (from tf-agents[reverb]) (0.13.0)\n",
            "Requirement already satisfied: tensorflow~=2.14.0 in /usr/local/lib/python3.10/dist-packages (from tf-agents[reverb]) (2.14.0)\n",
            "Requirement already satisfied: dm-tree in /usr/local/lib/python3.10/dist-packages (from dm-reverb~=0.13.0->tf-agents[reverb]) (0.1.8)\n",
            "Requirement already satisfied: portpicker in /usr/local/lib/python3.10/dist-packages (from dm-reverb~=0.13.0->tf-agents[reverb]) (1.5.2)\n",
            "Requirement already satisfied: gym-notices>=0.0.4 in /usr/local/lib/python3.10/dist-packages (from gym<=0.23.0,>=0.17.0->tf-agents[reverb]) (0.0.8)\n",
            "Requirement already satisfied: astunparse>=1.6.0 in /usr/local/lib/python3.10/dist-packages (from tensorflow~=2.14.0->tf-agents[reverb]) (1.6.3)\n",
            "Requirement already satisfied: flatbuffers>=23.5.26 in /usr/local/lib/python3.10/dist-packages (from tensorflow~=2.14.0->tf-agents[reverb]) (23.5.26)\n",
            "Requirement already satisfied: gast!=0.5.0,!=0.5.1,!=0.5.2,>=0.2.1 in /usr/local/lib/python3.10/dist-packages (from tensorflow~=2.14.0->tf-agents[reverb]) (0.5.4)\n",
            "Requirement already satisfied: google-pasta>=0.1.1 in /usr/local/lib/python3.10/dist-packages (from tensorflow~=2.14.0->tf-agents[reverb]) (0.2.0)\n",
            "Requirement already satisfied: h5py>=2.9.0 in /usr/local/lib/python3.10/dist-packages (from tensorflow~=2.14.0->tf-agents[reverb]) (3.9.0)\n",
            "Requirement already satisfied: libclang>=13.0.0 in /usr/local/lib/python3.10/dist-packages (from tensorflow~=2.14.0->tf-agents[reverb]) (16.0.6)\n",
            "Requirement already satisfied: ml-dtypes==0.2.0 in /usr/local/lib/python3.10/dist-packages (from tensorflow~=2.14.0->tf-agents[reverb]) (0.2.0)\n",
            "Requirement already satisfied: opt-einsum>=2.3.2 in /usr/local/lib/python3.10/dist-packages (from tensorflow~=2.14.0->tf-agents[reverb]) (3.3.0)\n",
            "Requirement already satisfied: packaging in /usr/local/lib/python3.10/dist-packages (from tensorflow~=2.14.0->tf-agents[reverb]) (23.2)\n",
            "Requirement already satisfied: setuptools in /usr/local/lib/python3.10/dist-packages (from tensorflow~=2.14.0->tf-agents[reverb]) (67.7.2)\n",
            "Requirement already satisfied: termcolor>=1.1.0 in /usr/local/lib/python3.10/dist-packages (from tensorflow~=2.14.0->tf-agents[reverb]) (2.3.0)\n",
            "Requirement already satisfied: tensorflow-io-gcs-filesystem>=0.23.1 in /usr/local/lib/python3.10/dist-packages (from tensorflow~=2.14.0->tf-agents[reverb]) (0.34.0)\n",
            "Requirement already satisfied: grpcio<2.0,>=1.24.3 in /usr/local/lib/python3.10/dist-packages (from tensorflow~=2.14.0->tf-agents[reverb]) (1.59.0)\n",
            "Requirement already satisfied: tensorboard<2.15,>=2.14 in /usr/local/lib/python3.10/dist-packages (from tensorflow~=2.14.0->tf-agents[reverb]) (2.14.1)\n",
            "Requirement already satisfied: tensorflow-estimator<2.15,>=2.14.0 in /usr/local/lib/python3.10/dist-packages (from tensorflow~=2.14.0->tf-agents[reverb]) (2.14.0)\n",
            "Requirement already satisfied: keras<2.15,>=2.14.0 in /usr/local/lib/python3.10/dist-packages (from tensorflow~=2.14.0->tf-agents[reverb]) (2.14.0)\n",
            "Requirement already satisfied: decorator in /usr/local/lib/python3.10/dist-packages (from tensorflow-probability~=0.22.0->tf-agents[reverb]) (4.4.2)\n",
            "Requirement already satisfied: wheel<1.0,>=0.23.0 in /usr/local/lib/python3.10/dist-packages (from astunparse>=1.6.0->tensorflow~=2.14.0->tf-agents[reverb]) (0.41.2)\n",
            "Requirement already satisfied: google-auth<3,>=1.6.3 in /usr/local/lib/python3.10/dist-packages (from tensorboard<2.15,>=2.14->tensorflow~=2.14.0->tf-agents[reverb]) (2.17.3)\n",
            "Requirement already satisfied: google-auth-oauthlib<1.1,>=0.5 in /usr/local/lib/python3.10/dist-packages (from tensorboard<2.15,>=2.14->tensorflow~=2.14.0->tf-agents[reverb]) (1.0.0)\n",
            "Requirement already satisfied: markdown>=2.6.8 in /usr/local/lib/python3.10/dist-packages (from tensorboard<2.15,>=2.14->tensorflow~=2.14.0->tf-agents[reverb]) (3.5)\n",
            "Requirement already satisfied: requests<3,>=2.21.0 in /usr/local/lib/python3.10/dist-packages (from tensorboard<2.15,>=2.14->tensorflow~=2.14.0->tf-agents[reverb]) (2.31.0)\n",
            "Requirement already satisfied: tensorboard-data-server<0.8.0,>=0.7.0 in /usr/local/lib/python3.10/dist-packages (from tensorboard<2.15,>=2.14->tensorflow~=2.14.0->tf-agents[reverb]) (0.7.2)\n",
            "Requirement already satisfied: werkzeug>=1.0.1 in /usr/local/lib/python3.10/dist-packages (from tensorboard<2.15,>=2.14->tensorflow~=2.14.0->tf-agents[reverb]) (3.0.1)\n",
            "Requirement already satisfied: psutil in /usr/local/lib/python3.10/dist-packages (from portpicker->dm-reverb~=0.13.0->tf-agents[reverb]) (5.9.5)\n",
            "Requirement already satisfied: cachetools<6.0,>=2.0.0 in /usr/local/lib/python3.10/dist-packages (from google-auth<3,>=1.6.3->tensorboard<2.15,>=2.14->tensorflow~=2.14.0->tf-agents[reverb]) (5.3.2)\n",
            "Requirement already satisfied: pyasn1-modules>=0.2.1 in /usr/local/lib/python3.10/dist-packages (from google-auth<3,>=1.6.3->tensorboard<2.15,>=2.14->tensorflow~=2.14.0->tf-agents[reverb]) (0.3.0)\n",
            "Requirement already satisfied: rsa<5,>=3.1.4 in /usr/local/lib/python3.10/dist-packages (from google-auth<3,>=1.6.3->tensorboard<2.15,>=2.14->tensorflow~=2.14.0->tf-agents[reverb]) (4.9)\n",
            "Requirement already satisfied: requests-oauthlib>=0.7.0 in /usr/local/lib/python3.10/dist-packages (from google-auth-oauthlib<1.1,>=0.5->tensorboard<2.15,>=2.14->tensorflow~=2.14.0->tf-agents[reverb]) (1.3.1)\n",
            "Requirement already satisfied: charset-normalizer<4,>=2 in /usr/local/lib/python3.10/dist-packages (from requests<3,>=2.21.0->tensorboard<2.15,>=2.14->tensorflow~=2.14.0->tf-agents[reverb]) (3.3.1)\n",
            "Requirement already satisfied: idna<4,>=2.5 in /usr/local/lib/python3.10/dist-packages (from requests<3,>=2.21.0->tensorboard<2.15,>=2.14->tensorflow~=2.14.0->tf-agents[reverb]) (3.4)\n",
            "Requirement already satisfied: urllib3<3,>=1.21.1 in /usr/local/lib/python3.10/dist-packages (from requests<3,>=2.21.0->tensorboard<2.15,>=2.14->tensorflow~=2.14.0->tf-agents[reverb]) (2.0.7)\n",
            "Requirement already satisfied: certifi>=2017.4.17 in /usr/local/lib/python3.10/dist-packages (from requests<3,>=2.21.0->tensorboard<2.15,>=2.14->tensorflow~=2.14.0->tf-agents[reverb]) (2023.7.22)\n",
            "Requirement already satisfied: MarkupSafe>=2.1.1 in /usr/local/lib/python3.10/dist-packages (from werkzeug>=1.0.1->tensorboard<2.15,>=2.14->tensorflow~=2.14.0->tf-agents[reverb]) (2.1.3)\n",
            "Requirement already satisfied: pyasn1<0.6.0,>=0.4.6 in /usr/local/lib/python3.10/dist-packages (from pyasn1-modules>=0.2.1->google-auth<3,>=1.6.3->tensorboard<2.15,>=2.14->tensorflow~=2.14.0->tf-agents[reverb]) (0.5.0)\n",
            "Requirement already satisfied: oauthlib>=3.0.0 in /usr/local/lib/python3.10/dist-packages (from requests-oauthlib>=0.7.0->google-auth-oauthlib<1.1,>=0.5->tensorboard<2.15,>=2.14->tensorflow~=2.14.0->tf-agents[reverb]) (3.2.2)\n",
            "Requirement already satisfied: pyglet in /usr/local/lib/python3.10/dist-packages (2.0.9)\n"
          ]
        }
      ],
      "source": [
        "!sudo apt-get update\n",
        "!sudo apt-get install -y xvfb ffmpeg freeglut3-dev\n",
        "!pip install 'imageio==2.4.0'\n",
        "!pip install pyvirtualdisplay\n",
        "!pip install tf-agents[reverb]\n",
        "!pip install pyglet"
      ]
    },
    {
      "cell_type": "code",
      "source": [
        "import base64\n",
        "import imageio\n",
        "import IPython\n",
        "import matplotlib\n",
        "import matplotlib.pyplot as plt\n",
        "import numpy as np\n",
        "import PIL.Image\n",
        "import pyvirtualdisplay\n",
        "import reverb\n",
        "import random\n",
        "import os\n",
        "\n",
        "import pygame as pg\n",
        "from pygame import gfxdraw\n",
        "from pygame.locals import *\n",
        "\n",
        "import tensorflow as tf\n",
        "\n",
        "from tf_agents.agents.dqn import dqn_agent\n",
        "from tf_agents.drivers import py_driver\n",
        "from tf_agents.environments import suite_gym\n",
        "from tf_agents.environments import py_environment\n",
        "from tf_agents.environments import tf_environment\n",
        "from tf_agents.environments import tf_py_environment\n",
        "from tf_agents.eval import metric_utils\n",
        "from tf_agents.metrics import tf_metrics\n",
        "from tf_agents.networks import sequential\n",
        "from tf_agents.policies import py_tf_eager_policy\n",
        "from tf_agents.policies import random_tf_policy\n",
        "from tf_agents.replay_buffers import reverb_replay_buffer\n",
        "from tf_agents.replay_buffers import reverb_utils\n",
        "from tf_agents.trajectories import trajectory\n",
        "from tf_agents.specs import tensor_spec\n",
        "from tf_agents.utils import common"
      ],
      "metadata": {
        "id": "h-vtSiPUgOOU",
        "colab": {
          "base_uri": "https://localhost:8080/"
        },
        "outputId": "42d175cd-77e3-417c-d05f-96065150ff0b"
      },
      "execution_count": 2,
      "outputs": [
        {
          "output_type": "stream",
          "name": "stdout",
          "text": [
            "pygame 2.1.3 (SDL 2.0.22, Python 3.10.12)\n",
            "Hello from the pygame community. https://www.pygame.org/contribute.html\n"
          ]
        }
      ]
    },
    {
      "cell_type": "code",
      "source": [
        "tf.version.VERSION"
      ],
      "metadata": {
        "colab": {
          "base_uri": "https://localhost:8080/",
          "height": 35
        },
        "id": "MsV4e7iqg10s",
        "outputId": "396d14eb-b7af-4ce8-e73c-18d0c37d9b28"
      },
      "execution_count": 3,
      "outputs": [
        {
          "output_type": "execute_result",
          "data": {
            "text/plain": [
              "'2.14.0'"
            ],
            "application/vnd.google.colaboratory.intrinsic+json": {
              "type": "string"
            }
          },
          "metadata": {},
          "execution_count": 3
        }
      ]
    },
    {
      "cell_type": "markdown",
      "source": [
        "## Hyper-parameters"
      ],
      "metadata": {
        "id": "sWwU8Wp7g2_X"
      }
    },
    {
      "cell_type": "code",
      "source": [
        "num_iterations = 500000 # @param {type:\"integer\"}\n",
        "\n",
        "initial_collect_steps = 100  # @param {type:\"integer\"}\n",
        "collect_steps_per_iteration = 1 # @param {type:\"integer\"}\n",
        "replay_buffer_max_length = 100000  # @param {type:\"integer\"}\n",
        "\n",
        "batch_size = 256  # @param {type:\"integer\"}\n",
        "learning_rate = 3e-3  # @param {type:\"number\"}\n",
        "log_interval = 200  # @param {type:\"integer\"}\n",
        "\n",
        "num_eval_episodes = 10  # @param {type:\"integer\"}\n",
        "eval_interval = 1000  # @param {type:\"integer\"}\n",
        "\n",
        "\n",
        "BOARD_SIZE = 9 # @param {type:\"integer\"}"
      ],
      "metadata": {
        "id": "reKJx_ybg7_L"
      },
      "execution_count": 4,
      "outputs": []
    },
    {
      "cell_type": "markdown",
      "source": [
        "## Environment"
      ],
      "metadata": {
        "id": "WOBVDKmMIcyJ"
      }
    },
    {
      "cell_type": "code",
      "source": [
        "import gym\n",
        "import numpy as np\n",
        "import math\n",
        "from tabulate import tabulate\n",
        "\n",
        "from typing import Tuple, List\n",
        "\n",
        "\n",
        "class TicTacToeEnv(gym.Env):\n",
        "    \"\"\"\n",
        "    Implementation of a TicTacToe Environment based on OpenAI Gym standards\n",
        "    This class is modified from https://github.com/MauroLuzzatto/OpenAI-Gym-TicTacToe-Environment\n",
        "    I modified that to follow the instructions of Question 1.\n",
        "    \"\"\"\n",
        "\n",
        "    def __init__(self, mode='rgb_array') -> None:\n",
        "        \"\"\"This class contains a TicTacToe environment for OpenAI Gym\n",
        "\n",
        "        Args:\n",
        "            small (int): small reward for each move (punishment)\n",
        "            large (int): large reward for game winner\n",
        "        \"\"\"\n",
        "        n_actions = BOARD_SIZE * BOARD_SIZE         # 9 * 9 grids to drop\n",
        "        self.action_space = gym.spaces.Discrete(n_actions)\n",
        "        # state: 9 * 9 * 2: the first 9 * 9 layer is the opponent's play history and the second 9 * 9 layer is ours.\n",
        "        self.observation_space = gym.spaces.Box(low=0, high=1, shape=(BOARD_SIZE, BOARD_SIZE, 2), dtype=float)\n",
        "        self.render_mode = mode\n",
        "        self.colors = [1, 2]\n",
        "        self.screen = None\n",
        "        self.fields_per_side = int(math.sqrt(n_actions))\n",
        "        self.reset()\n",
        "\n",
        "    def reset(self) -> Tuple[np.ndarray, dict]:\n",
        "        \"\"\"\n",
        "        reset the board game and state\n",
        "        \"\"\"\n",
        "        self.board: np.ndarray = np.zeros(\n",
        "            (self.fields_per_side, self.fields_per_side), dtype=int\n",
        "        )\n",
        "        self.current_player = 1\n",
        "        self.info = {\"players\": {1: {\"actions\": []}, 2: {\"actions\": []}}, \"Occupied\": set()}\n",
        "\n",
        "        if self.render_mode == 'human':\n",
        "            self.render(self.render_mode)\n",
        "        return self.decompose_board_to_state()\n",
        "\n",
        "    def decompose_board_to_state(self):\n",
        "        \"\"\"\n",
        "        Our state is a 9x9x2 matrix.\n",
        "        The first layer is the opponent's play history, 0 means no stone, 1 means stones placed by the opponent.\n",
        "        The second layer is the current player's history, 0 means no stone, 1 means stones placed by the current player.\n",
        "        \"\"\"\n",
        "        opponent = 2 if self.current_player == 1 else 1\n",
        "        o_plays = (self.board == opponent) * 1\n",
        "        c_plays = (self.board == self.current_player) * 1\n",
        "        return np.stack([o_plays, c_plays], axis=2)\n",
        "\n",
        "\n",
        "    def step(self, action: int) -> Tuple[np.ndarray, int, bool, dict]:\n",
        "        \"\"\"step function of the tictactoeEnv\n",
        "\n",
        "        Args:\n",
        "          action (int): integer between 0-80, each representing a field on the board\n",
        "\n",
        "        Returns:\n",
        "          state (np.array): state of 2 players' history, 0 means no stone, 1 means stones placed by the corresponding player (shape: 9x9x2).\n",
        "          reward (int): reward of the currrent step\n",
        "          done (boolean): true, if the game is finished\n",
        "          (dict): empty dict for future game related information\n",
        "        \"\"\"\n",
        "        if not self.action_space.contains(action):\n",
        "            raise ValueError(f\"action '{action}' is not in action_space\")\n",
        "\n",
        "        reward = -0.1  # assign (negative) reward for every move done\n",
        "        (row, col) = self.decode_action(action)\n",
        "\n",
        "        # If the agent/player does not choose an empty square, randomly select an empty one.\n",
        "        if self.board[row, col] != 0:\n",
        "            action = random.choice(list(set(range(BOARD_SIZE * BOARD_SIZE)) - self.info[\"Occupied\"]))\n",
        "            (row, col) = self.decode_action(action)\n",
        "            reward -= 0.3 # assign a negative reward if the play out position is not empty\n",
        "\n",
        "\n",
        "        # randomly select an adjacent position with probability 1/16\n",
        "        if random.random() < 0.5:\n",
        "            adjs = [[-1, -1], [-1, 0], [-1, 1], [0, 1], [0, -1], [1, -1], [1, 0], [1, 1]]\n",
        "            adj = random.choice(adjs)\n",
        "            row, col = row + adj[0], col + adj[1]\n",
        "\n",
        "        if 0 <= row < BOARD_SIZE and 0 <= col < BOARD_SIZE and self.board[row, col] == 0:\n",
        "            self.board[row, col] = self.current_player  # postion the token on the field\n",
        "            win = self._is_win(self.current_player, row, col)\n",
        "\n",
        "            action = row * BOARD_SIZE + col\n",
        "            self.info[\"players\"][self.current_player][\"actions\"].append(action)\n",
        "            self.info[\"Occupied\"].add(action)\n",
        "        else:\n",
        "            win = False\n",
        "\n",
        "        if win:\n",
        "            reward += 3\n",
        "\n",
        "        done = (win or len(self.info[\"Occupied\"]) == BOARD_SIZE * BOARD_SIZE)\n",
        "        self.current_player = self.current_player + 1 if self.current_player == 1 else 1\n",
        "        state = self.decompose_board_to_state()\n",
        "        return state, reward, done, self.info\n",
        "\n",
        "    def _is_win(self, color: int, r: int, c: int) -> bool:\n",
        "        \"\"\"check if this player results in a winner\n",
        "\n",
        "        Args:\n",
        "            color (int): of the player\n",
        "            r (int): row of the current play\n",
        "            c (int): column of the current play\n",
        "\n",
        "        Returns:\n",
        "            bool: indicating if there is a winner\n",
        "        \"\"\"\n",
        "\n",
        "        # check if four equal stones are aligned (horizontal, verical or diagonal)\n",
        "        directions = [[0, 1], [1, 0], [1, 1], [1, -1]]\n",
        "\n",
        "        for direct in directions:\n",
        "            count = 0\n",
        "            for offset in range(-3, 4):\n",
        "                if 0 <= r + offset * direct[0] < 9 and 0 <= c + offset * direct[1] < 9:\n",
        "                    if self.board[r + offset * direct[0], c + offset * direct[1]] == color:\n",
        "                        count += 1\n",
        "                        if count == 4:\n",
        "                            return True\n",
        "                    else:\n",
        "                        count = 0\n",
        "\n",
        "        return False\n",
        "\n",
        "    def decode_action(self, action: int) -> List[int]:\n",
        "        \"\"\"decode the action integer into a colum and row value\n",
        "\n",
        "        0 = upper left corner\n",
        "        8 = lower right corner\n",
        "\n",
        "        Args:\n",
        "            action (int): action\n",
        "\n",
        "        Returns:\n",
        "            List[int, int]: a list with the [row, col] values\n",
        "        \"\"\"\n",
        "        col = action % BOARD_SIZE\n",
        "        row = action // BOARD_SIZE\n",
        "        assert 0 <= col < BOARD_SIZE\n",
        "        return [row, col]\n",
        "\n",
        "    def render(self, mode=\"human\") -> None:\n",
        "        \"\"\"render the board\n",
        "\n",
        "        The following charachters are used to represent the fields,\n",
        "            '-' no stone\n",
        "            'O' for player 0\n",
        "            'X' for player 1\n",
        "\n",
        "        An example for a 3x3 game board:\n",
        "            ╒═══╤═══╤═══╕\n",
        "            │ O │ - │ - │\n",
        "            ├───┼───┼───┤\n",
        "            │ - │ X │ - │\n",
        "            ├───┼───┼───┤\n",
        "            │ - │ - │ - │\n",
        "            ╘═══╧═══╧═══╛\n",
        "        \"\"\"\n",
        "        board = np.zeros((BOARD_SIZE, BOARD_SIZE), dtype=str)\n",
        "        for ii in range(BOARD_SIZE):\n",
        "            for jj in range(BOARD_SIZE):\n",
        "                if self.board[ii, jj] == 0:\n",
        "                    board[ii, jj] = \"-\"\n",
        "                elif self.board[ii, jj] == 1:\n",
        "                    board[ii, jj] = \"X\"\n",
        "                elif self.board[ii, jj] == 2:\n",
        "                    board[ii, jj] = \"O\"\n",
        "\n",
        "        if mode == \"human\":\n",
        "            board = tabulate(board, tablefmt=\"fancy_grid\")\n",
        "            print(board)\n",
        "            print(\"\\n\")\n",
        "\n",
        "\n",
        "        width = height = 400\n",
        "\n",
        "        white = (255, 255, 255)\n",
        "        line_color = (0, 0, 0)\n",
        "\n",
        "        os.environ[\"SDL_VIDEODRIVER\"] = \"dummy\"\n",
        "        pg.init()\n",
        "\n",
        "        # Set up the drawing window\n",
        "        if self.screen is None:\n",
        "          self.screen = pg.display.set_mode([width + 16, height + 16])\n",
        "\n",
        "        self.screen.fill(white)\n",
        "        # drawing vertical lines\n",
        "        for i in range(10):\n",
        "          pg.draw.line(self.screen, line_color, (width / BOARD_SIZE * i, 0), (width / BOARD_SIZE * i, height), 2)\n",
        "\n",
        "        # drawing horizontal lines\n",
        "        for i in range(10):\n",
        "          pg.draw.line(self.screen, line_color, (0, height / BOARD_SIZE * i), (width, height / BOARD_SIZE * i), 2)\n",
        "        pg.display.flip()\n",
        "\n",
        "        # drawing noughts and crosses\n",
        "        for i in range(BOARD_SIZE):\n",
        "          for j in range(BOARD_SIZE):\n",
        "            if self.board[i, j] == 1: # Draw crosses\n",
        "              pg.draw.lines(self.screen, line_color, True, [(width / BOARD_SIZE * (j + 0.5) - 10,\n",
        "                                                        height / BOARD_SIZE * (i + 0.5) - 10),\n",
        "                                                      (width / BOARD_SIZE * (j + 0.5) + 10,\n",
        "                                                        height / BOARD_SIZE * (i + 0.5) + 10)], 3)\n",
        "              pg.draw.lines(self.screen, line_color, True, [(width / BOARD_SIZE * (j + 0.5) - 10,\n",
        "                                                        height / BOARD_SIZE * (i + 0.5) + 10),\n",
        "                                                        (width / BOARD_SIZE * (j + 0.5) + 10,\n",
        "                                                          height / BOARD_SIZE * (i + 0.5) - 10)], 3)\n",
        "            elif self.board[i, j] == 2: # Draw noughts\n",
        "              pg.draw.circle(self.screen, line_color, (width / BOARD_SIZE * (j + 0.5), height / BOARD_SIZE * (i + 0.5)), 12, 3)\n",
        "\n",
        "        board = np.transpose(\n",
        "                np.array(pg.surfarray.pixels3d(self.screen)), axes=(1, 0, 2)\n",
        "            )\n",
        "\n",
        "        return board"
      ],
      "metadata": {
        "id": "aq7Q2oxyIhS8"
      },
      "execution_count": 5,
      "outputs": []
    },
    {
      "cell_type": "markdown",
      "source": [
        "## Random play test"
      ],
      "metadata": {
        "id": "LqFsRLWJslkf"
      }
    },
    {
      "cell_type": "code",
      "source": [
        "def embed_mp4(filename):\n",
        "    \"\"\"Embeds an mp4 file in the notebook.\"\"\"\n",
        "    video = open(filename,'rb').read()\n",
        "    b64 = base64.b64encode(video)\n",
        "    tag = '''\n",
        "    <video width=\"480\" height=\"480\" controls>\n",
        "      <source src=\"data:video/mp4;base64,{0}\" type=\"video/mp4\">\n",
        "    Your browser does not support the video tag.\n",
        "    </video>'''.format(b64.decode())\n",
        "\n",
        "    return IPython.display.HTML(tag)\n",
        "\n",
        "def create_policy_eval_video(policy, filename, fps=2):\n",
        "    filename = filename + \".mp4\"\n",
        "    with imageio.get_writer(filename, fps=fps) as video:\n",
        "      time_step = tf_env.reset()\n",
        "      video.append_data(py_env.render())\n",
        "      while not time_step.is_last():\n",
        "        action_step = policy.action(time_step)\n",
        "        time_step = tf_env.step(action_step.action)\n",
        "        video.append_data(py_env.render())\n",
        "\n",
        "    return embed_mp4(filename)"
      ],
      "metadata": {
        "id": "qJYsgWM-79vr"
      },
      "execution_count": 6,
      "outputs": []
    },
    {
      "cell_type": "code",
      "source": [
        "py_env = suite_gym.wrap_env(TicTacToeEnv())\n",
        "tf_env = tf_py_environment.TFPyEnvironment(py_env)"
      ],
      "metadata": {
        "id": "uU1h9wSWa7Lh"
      },
      "execution_count": 7,
      "outputs": []
    },
    {
      "cell_type": "code",
      "source": [
        "random_policy = random_tf_policy.RandomTFPolicy(tf_env.time_step_spec(), tf_env.action_spec())\n",
        "create_policy_eval_video(random_policy, \"random-agent\")"
      ],
      "metadata": {
        "colab": {
          "base_uri": "https://localhost:8080/",
          "height": 500
        },
        "id": "yNw07pahBY78",
        "outputId": "20eafbff-59ac-45f9-db70-63f1d2634068"
      },
      "execution_count": 8,
      "outputs": [
        {
          "output_type": "execute_result",
          "data": {
            "text/plain": [
              "<IPython.core.display.HTML object>"
            ],
            "text/html": [
              "\n",
              "    <video width=\"480\" height=\"480\" controls>\n",
              "      <source src=\"data:video/mp4;base64,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\" type=\"video/mp4\">\n",
              "    Your browser does not support the video tag.\n",
              "    </video>"
            ]
          },
          "metadata": {},
          "execution_count": 8
        }
      ]
    },
    {
      "cell_type": "markdown",
      "source": [
        "## Agent"
      ],
      "metadata": {
        "id": "GPHWdRyT-ND0"
      }
    },
    {
      "cell_type": "code",
      "source": [
        "train_py_env = suite_gym.wrap_env(TicTacToeEnv())\n",
        "eval_py_env = suite_gym.wrap_env(TicTacToeEnv())\n",
        "\n",
        "train_env = tf_py_environment.TFPyEnvironment(train_py_env)\n",
        "eval_env = tf_py_environment.TFPyEnvironment(eval_py_env)"
      ],
      "metadata": {
        "id": "MnqVY5icuPi4"
      },
      "execution_count": 9,
      "outputs": []
    },
    {
      "cell_type": "code",
      "execution_count": 10,
      "metadata": {
        "id": "TgkdEPg_muzV"
      },
      "outputs": [],
      "source": [
        "conv_layer_params = (8, 16)\n",
        "action_tensor_spec = tensor_spec.from_spec(tf_env.action_spec())\n",
        "num_actions = action_tensor_spec.maximum - action_tensor_spec.minimum + 1\n",
        "\n",
        "# Define a helper function to create Conv layers configured with the right\n",
        "# activation and kernel initializer.\n",
        "def conv_layer(num_units):\n",
        "  return tf.keras.layers.Conv2D(filters=num_units,\n",
        "                      kernel_size=[3, 3],\n",
        "                      padding=\"same\",\n",
        "                      data_format=\"channels_last\",\n",
        "                      activation=tf.nn.leaky_relu)\n",
        "\n",
        "\n",
        "# QNetwork consists of a sequence of Conv layers followed by a dense layer\n",
        "# with `num_actions` units to generate one q_value per available action as\n",
        "# its output.\n",
        "conv_layers = [conv_layer(num_units) for num_units in conv_layer_params]\n",
        "action_conv = tf.keras.layers.Conv2D(filters=4,\n",
        "                    kernel_size=[1, 1], padding=\"same\",\n",
        "                    data_format=\"channels_last\",\n",
        "                    activation=tf.nn.leaky_relu)\n",
        "flatten = tf.keras.layers.Flatten()\n",
        "q_values_layer = tf.keras.layers.Dense(\n",
        "    num_actions,\n",
        "    activation=None,\n",
        "    kernel_initializer=tf.keras.initializers.RandomUniform(\n",
        "        minval=-0.03, maxval=0.03),\n",
        "    bias_initializer=tf.keras.initializers.Constant(-0.2))\n",
        "q_net = sequential.Sequential(conv_layers + [action_conv, flatten, q_values_layer])"
      ]
    },
    {
      "cell_type": "code",
      "source": [
        "optimizer = tf.keras.optimizers.Adam(learning_rate=learning_rate)\n",
        "\n",
        "train_step_counter = tf.Variable(0)\n",
        "\n",
        "agent = dqn_agent.DqnAgent(\n",
        "    train_env.time_step_spec(),\n",
        "    train_env.action_spec(),\n",
        "    q_network=q_net,\n",
        "    optimizer=optimizer,\n",
        "    td_errors_loss_fn=common.element_wise_squared_loss,\n",
        "    train_step_counter=train_step_counter)\n",
        "\n",
        "agent.initialize()"
      ],
      "metadata": {
        "id": "lg5emNEam75J"
      },
      "execution_count": 11,
      "outputs": []
    },
    {
      "cell_type": "markdown",
      "source": [
        "## Policy"
      ],
      "metadata": {
        "id": "QaVnWWX4xpa5"
      }
    },
    {
      "cell_type": "code",
      "source": [
        "eval_policy = agent.policy\n",
        "collect_policy = agent.collect_policy\n",
        "random_policy = random_tf_policy.RandomTFPolicy(train_env.time_step_spec(), train_env.action_spec())"
      ],
      "metadata": {
        "id": "uGU0pGS4xsjc"
      },
      "execution_count": 12,
      "outputs": []
    },
    {
      "cell_type": "code",
      "source": [
        "def compute_avg_return(environment, policy, num_episodes=10):\n",
        "\n",
        "  total_return = 0.0\n",
        "  for i in range(num_episodes):\n",
        "    time_step = environment.reset()\n",
        "    episode_return = 0.0\n",
        "\n",
        "    while not time_step.is_last():\n",
        "      action_step = policy.action(time_step)\n",
        "      time_step = environment.step(action_step.action)\n",
        "      episode_return += time_step.reward\n",
        "    total_return += episode_return\n",
        "\n",
        "  avg_return = total_return / num_episodes\n",
        "  return avg_return.numpy()[0]\n",
        "\n",
        "\n",
        "# See also the metrics module for standard implementations of different metrics.\n",
        "# https://github.com/tensorflow/agents/tree/master/tf_agents/metrics"
      ],
      "metadata": {
        "id": "N8vRFWNgx-tj"
      },
      "execution_count": 13,
      "outputs": []
    },
    {
      "cell_type": "code",
      "source": [
        "compute_avg_return(eval_env, agent.policy, num_eval_episodes)"
      ],
      "metadata": {
        "colab": {
          "base_uri": "https://localhost:8080/"
        },
        "id": "vlCXIdRVyAAu",
        "outputId": "66dc7118-5faf-4d05-ce96-a598f8ea83a7"
      },
      "execution_count": 14,
      "outputs": [
        {
          "output_type": "execute_result",
          "data": {
            "text/plain": [
              "-11.329996"
            ]
          },
          "metadata": {},
          "execution_count": 14
        }
      ]
    },
    {
      "cell_type": "markdown",
      "source": [
        "## Replay Buffer"
      ],
      "metadata": {
        "id": "VBEXcoMjy7xO"
      }
    },
    {
      "cell_type": "code",
      "source": [
        "table_name = 'uniform_table'\n",
        "replay_buffer_signature = tensor_spec.from_spec(\n",
        "      agent.collect_data_spec)\n",
        "replay_buffer_signature = tensor_spec.add_outer_dim(\n",
        "    replay_buffer_signature)\n",
        "\n",
        "table = reverb.Table(\n",
        "    table_name,\n",
        "    max_size=replay_buffer_max_length,\n",
        "    sampler=reverb.selectors.Uniform(),\n",
        "    remover=reverb.selectors.Fifo(),\n",
        "    rate_limiter=reverb.rate_limiters.MinSize(1),\n",
        "    signature=replay_buffer_signature)\n",
        "\n",
        "reverb_server = reverb.Server([table])\n",
        "\n",
        "replay_buffer = reverb_replay_buffer.ReverbReplayBuffer(\n",
        "    agent.collect_data_spec,\n",
        "    table_name=table_name,\n",
        "    sequence_length=2,\n",
        "    local_server=reverb_server)\n",
        "\n",
        "rb_observer = reverb_utils.ReverbAddTrajectoryObserver(\n",
        "  replay_buffer.py_client,\n",
        "  table_name,\n",
        "  sequence_length=2)\n",
        "\n",
        "dataset = replay_buffer.as_dataset(\n",
        "    num_parallel_calls=3,\n",
        "    sample_batch_size=batch_size,\n",
        "    num_steps=2).prefetch(3)\n",
        "\n",
        "iterator = iter(dataset)"
      ],
      "metadata": {
        "id": "CMVmKJF1y_Lt"
      },
      "execution_count": 15,
      "outputs": []
    },
    {
      "cell_type": "code",
      "source": [
        "py_driver.PyDriver(\n",
        "    train_py_env,\n",
        "    py_tf_eager_policy.PyTFEagerPolicy(\n",
        "      random_policy, use_tf_function=True),\n",
        "    [rb_observer],\n",
        "    max_steps=initial_collect_steps).run(train_py_env.reset())"
      ],
      "metadata": {
        "colab": {
          "base_uri": "https://localhost:8080/"
        },
        "id": "RomK5WUjtYbO",
        "outputId": "ac63ec5d-5e46-49bf-e9bd-f1dc2d51ed7f"
      },
      "execution_count": 16,
      "outputs": [
        {
          "output_type": "execute_result",
          "data": {
            "text/plain": [
              "(TimeStep(\n",
              " {'discount': array(1., dtype=float32),\n",
              "  'observation': array([[[0., 1.],\n",
              "         [0., 0.],\n",
              "         [0., 0.],\n",
              "         [1., 0.],\n",
              "         [1., 0.],\n",
              "         [0., 0.],\n",
              "         [0., 0.],\n",
              "         [0., 1.],\n",
              "         [0., 0.]],\n",
              " \n",
              "        [[1., 0.],\n",
              "         [0., 0.],\n",
              "         [1., 0.],\n",
              "         [0., 1.],\n",
              "         [0., 0.],\n",
              "         [0., 0.],\n",
              "         [0., 0.],\n",
              "         [0., 1.],\n",
              "         [0., 0.]],\n",
              " \n",
              "        [[1., 0.],\n",
              "         [0., 0.],\n",
              "         [0., 0.],\n",
              "         [0., 1.],\n",
              "         [1., 0.],\n",
              "         [0., 1.],\n",
              "         [0., 0.],\n",
              "         [0., 0.],\n",
              "         [1., 0.]],\n",
              " \n",
              "        [[0., 0.],\n",
              "         [0., 0.],\n",
              "         [0., 1.],\n",
              "         [0., 0.],\n",
              "         [1., 0.],\n",
              "         [0., 0.],\n",
              "         [0., 0.],\n",
              "         [0., 1.],\n",
              "         [0., 0.]],\n",
              " \n",
              "        [[1., 0.],\n",
              "         [0., 0.],\n",
              "         [0., 0.],\n",
              "         [0., 0.],\n",
              "         [0., 1.],\n",
              "         [0., 0.],\n",
              "         [0., 0.],\n",
              "         [0., 0.],\n",
              "         [1., 0.]],\n",
              " \n",
              "        [[0., 0.],\n",
              "         [0., 0.],\n",
              "         [1., 0.],\n",
              "         [0., 0.],\n",
              "         [0., 1.],\n",
              "         [0., 1.],\n",
              "         [0., 0.],\n",
              "         [1., 0.],\n",
              "         [0., 0.]],\n",
              " \n",
              "        [[0., 0.],\n",
              "         [0., 0.],\n",
              "         [1., 0.],\n",
              "         [0., 0.],\n",
              "         [0., 0.],\n",
              "         [0., 0.],\n",
              "         [0., 0.],\n",
              "         [0., 0.],\n",
              "         [0., 0.]],\n",
              " \n",
              "        [[0., 0.],\n",
              "         [1., 0.],\n",
              "         [1., 0.],\n",
              "         [0., 0.],\n",
              "         [0., 0.],\n",
              "         [0., 0.],\n",
              "         [0., 0.],\n",
              "         [0., 0.],\n",
              "         [1., 0.]],\n",
              " \n",
              "        [[0., 0.],\n",
              "         [0., 0.],\n",
              "         [0., 0.],\n",
              "         [0., 0.],\n",
              "         [0., 0.],\n",
              "         [0., 1.],\n",
              "         [0., 1.],\n",
              "         [1., 0.],\n",
              "         [0., 0.]]]),\n",
              "  'reward': array(-0.1, dtype=float32),\n",
              "  'step_type': array(1, dtype=int32)}),\n",
              " ())"
            ]
          },
          "metadata": {},
          "execution_count": 16
        }
      ]
    },
    {
      "cell_type": "markdown",
      "source": [
        "## Train the agent"
      ],
      "metadata": {
        "id": "jRVMc8V8zxj0"
      }
    },
    {
      "cell_type": "code",
      "source": [
        "try:\n",
        "  %%time\n",
        "except:\n",
        "  pass\n",
        "\n",
        "# (Optional) Optimize by wrapping some of the code in a graph using TF function.\n",
        "agent.train = common.function(agent.train)\n",
        "\n",
        "# Reset the train step.\n",
        "agent.train_step_counter.assign(0)\n",
        "\n",
        "# Evaluate the agent's policy once before training.\n",
        "avg_return = compute_avg_return(eval_env, agent.policy, num_eval_episodes)\n",
        "returns = [avg_return]\n",
        "\n",
        "# Reset the environment.\n",
        "time_step = train_py_env.reset()\n",
        "\n",
        "# Create a driver to collect experience.\n",
        "collect_driver = py_driver.PyDriver(\n",
        "    train_py_env,\n",
        "    py_tf_eager_policy.PyTFEagerPolicy(\n",
        "      agent.collect_policy, use_tf_function=True),\n",
        "    [rb_observer],\n",
        "    max_steps=collect_steps_per_iteration)\n",
        "\n",
        "for _ in range(num_iterations):\n",
        "\n",
        "    # Collect a few steps and save to the replay buffer.\n",
        "    time_step, _ = collect_driver.run(time_step)\n",
        "\n",
        "    # Sample a batch of data from the buffer and update the agent's network.\n",
        "    experience, unused_info = next(iterator)\n",
        "    train_loss = agent.train(experience).loss\n",
        "\n",
        "    step = agent.train_step_counter.numpy()\n",
        "\n",
        "    if step % log_interval == 0:\n",
        "      print('step = {0}: loss = {1}'.format(step, train_loss))\n",
        "\n",
        "    if step % eval_interval == 0:\n",
        "      avg_return = compute_avg_return(eval_env, agent.policy, num_eval_episodes)\n",
        "      print('step = {0}: Average Return = {1}'.format(step, avg_return))\n",
        "      returns.append(avg_return)"
      ],
      "metadata": {
        "id": "6_1qWkmKz0Ke",
        "colab": {
          "base_uri": "https://localhost:8080/"
        },
        "outputId": "f424c9b3-6acf-49cd-8cda-51487dae2841"
      },
      "execution_count": null,
      "outputs": [
        {
          "output_type": "stream",
          "name": "stderr",
          "text": [
            "WARNING:tensorflow:From /usr/local/lib/python3.10/dist-packages/tensorflow/python/util/dispatch.py:1260: calling foldr_v2 (from tensorflow.python.ops.functional_ops) with back_prop=False is deprecated and will be removed in a future version.\n",
            "Instructions for updating:\n",
            "back_prop=False is deprecated. Consider using tf.stop_gradient instead.\n",
            "Instead of:\n",
            "results = tf.foldr(fn, elems, back_prop=False)\n",
            "Use:\n",
            "results = tf.nest.map_structure(tf.stop_gradient, tf.foldr(fn, elems))\n"
          ]
        },
        {
          "output_type": "stream",
          "name": "stdout",
          "text": [
            "step = 200: loss = 87627628544.0\n",
            "step = 400: loss = 69650620612608.0\n",
            "step = 600: loss = 4491568618668032.0\n",
            "step = 800: loss = 1.1022852102815744e+16\n",
            "step = 1000: loss = 2.085737136568402e+17\n",
            "step = 1000: Average Return = -14.729992866516113\n",
            "step = 1200: loss = 4.076764403104481e+17\n",
            "step = 1400: loss = 1.3552912926234378e+18\n",
            "step = 1600: loss = 2.537064806976848e+18\n",
            "step = 1800: loss = 6.449190400522453e+18\n",
            "step = 2000: loss = 8.150432306587238e+18\n",
            "step = 2000: Average Return = -16.59998893737793\n",
            "step = 2200: loss = 1.910704918470066e+19\n",
            "step = 2400: loss = 6.803752444008124e+19\n",
            "step = 2600: loss = 1.2153325993491798e+20\n",
            "step = 2800: loss = 8.037336760456525e+19\n",
            "step = 3000: loss = 1.556616610564339e+20\n",
            "step = 3000: Average Return = -14.659993171691895\n",
            "step = 3200: loss = 3.057978627669214e+20\n",
            "step = 3400: loss = 5.599682538086439e+20\n",
            "step = 3600: loss = 4.0779763892742206e+20\n",
            "step = 3800: loss = 2.667752627112908e+20\n",
            "step = 4000: loss = 5.191872795735019e+20\n",
            "step = 4000: Average Return = -13.879992485046387\n",
            "step = 4200: loss = 1.0903023294879808e+21\n"
          ]
        }
      ]
    },
    {
      "cell_type": "code",
      "source": [
        "create_policy_eval_video(agent.policy, \"trained-agent\")"
      ],
      "metadata": {
        "id": "HDMa0xH3rAS6"
      },
      "execution_count": null,
      "outputs": []
    },
    {
      "cell_type": "markdown",
      "source": [],
      "metadata": {
        "id": "Fsl0r1fyxpUD"
      }
    },
    {
      "cell_type": "markdown",
      "source": [
        "## TODO\n",
        "\n",
        "\n",
        "\n",
        "*   Check whether the `is_winner` function is correct\n",
        "*   Check whether the environment is correctly implement\n",
        "*   Add the variant in `step` function\n",
        "*   Test whether the agent always chooses an *empty* square and whether they can go to an adjacent place correctly\n",
        "\n"
      ],
      "metadata": {
        "id": "WkOaR2zHrDwC"
      }
    }
  ]
}