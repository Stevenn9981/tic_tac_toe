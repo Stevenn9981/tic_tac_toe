{
  "cells": [
    {
      "cell_type": "markdown",
      "metadata": {
        "id": "view-in-github",
        "colab_type": "text"
      },
      "source": [
        "<a href=\"https://colab.research.google.com/github/Stevenn9981/tic_tac_toe/blob/master/tic_tac_toe_part1.ipynb\" target=\"_parent\"><img src=\"https://colab.research.google.com/assets/colab-badge.svg\" alt=\"Open In Colab\"/></a>"
      ]
    },
    {
      "cell_type": "markdown",
      "metadata": {
        "id": "iEy_PMnnf-Og"
      },
      "source": [
        "## Setup"
      ]
    },
    {
      "cell_type": "code",
      "execution_count": 1,
      "metadata": {
        "colab": {
          "base_uri": "https://localhost:8080/"
        },
        "id": "fdG6QronfqnR",
        "outputId": "baabefa5-0c8c-43e2-d321-593339e514a5"
      },
      "outputs": [
        {
          "output_type": "stream",
          "name": "stdout",
          "text": [
            "\r0% [Working]\r            \rHit:1 http://archive.ubuntu.com/ubuntu jammy InRelease\n",
            "\r0% [Connecting to security.ubuntu.com (91.189.91.81)] [Connected to cloud.r-pro\r                                                                               \rHit:2 http://archive.ubuntu.com/ubuntu jammy-updates InRelease\n",
            "\r                                                                               \rHit:3 http://archive.ubuntu.com/ubuntu jammy-backports InRelease\n",
            "\r0% [Waiting for headers] [Waiting for headers] [Connected to ppa.launchpadconte\r                                                                               \rHit:4 https://cloud.r-project.org/bin/linux/ubuntu jammy-cran40/ InRelease\n",
            "\r0% [Waiting for headers] [Connected to ppa.launchpadcontent.net (185.125.190.52\r                                                                               \rHit:5 https://ppa.launchpadcontent.net/c2d4u.team/c2d4u4.0+/ubuntu jammy InRelease\n",
            "\r0% [Waiting for headers] [Connecting to ppa.launchpadcontent.net] [Waiting for \r                                                                               \rHit:6 https://developer.download.nvidia.com/compute/cuda/repos/ubuntu2204/x86_64  InRelease\n",
            "\r0% [Waiting for headers] [Connected to ppa.launchpadcontent.net (185.125.190.52\r                                                                               \rHit:7 http://security.ubuntu.com/ubuntu jammy-security InRelease\n",
            "Hit:8 https://ppa.launchpadcontent.net/deadsnakes/ppa/ubuntu jammy InRelease\n",
            "Hit:9 https://ppa.launchpadcontent.net/graphics-drivers/ppa/ubuntu jammy InRelease\n",
            "Hit:10 https://ppa.launchpadcontent.net/ubuntugis/ppa/ubuntu jammy InRelease\n",
            "Reading package lists... Done\n",
            "Reading package lists... Done\n",
            "Building dependency tree... Done\n",
            "Reading state information... Done\n",
            "freeglut3-dev is already the newest version (2.8.1-6).\n",
            "ffmpeg is already the newest version (7:4.4.2-0ubuntu0.22.04.1).\n",
            "xvfb is already the newest version (2:21.1.4-2ubuntu1.7~22.04.2).\n",
            "0 upgraded, 0 newly installed, 0 to remove and 28 not upgraded.\n",
            "Requirement already satisfied: imageio in /usr/local/lib/python3.10/dist-packages (2.31.6)\n",
            "Requirement already satisfied: numpy in /usr/local/lib/python3.10/dist-packages (from imageio) (1.23.5)\n",
            "Requirement already satisfied: pillow<10.1.0,>=8.3.2 in /usr/local/lib/python3.10/dist-packages (from imageio) (9.4.0)\n",
            "Requirement already satisfied: pyvirtualdisplay in /usr/local/lib/python3.10/dist-packages (3.0)\n",
            "Requirement already satisfied: tf-agents[reverb] in /usr/local/lib/python3.10/dist-packages (0.18.0)\n",
            "Requirement already satisfied: absl-py>=0.6.1 in /usr/local/lib/python3.10/dist-packages (from tf-agents[reverb]) (1.4.0)\n",
            "Requirement already satisfied: cloudpickle>=1.3 in /usr/local/lib/python3.10/dist-packages (from tf-agents[reverb]) (2.2.1)\n",
            "Requirement already satisfied: gin-config>=0.4.0 in /usr/local/lib/python3.10/dist-packages (from tf-agents[reverb]) (0.5.0)\n",
            "Requirement already satisfied: gym<=0.23.0,>=0.17.0 in /usr/local/lib/python3.10/dist-packages (from tf-agents[reverb]) (0.23.0)\n",
            "Requirement already satisfied: numpy>=1.19.0 in /usr/local/lib/python3.10/dist-packages (from tf-agents[reverb]) (1.23.5)\n",
            "Requirement already satisfied: pillow in /usr/local/lib/python3.10/dist-packages (from tf-agents[reverb]) (9.4.0)\n",
            "Requirement already satisfied: six>=1.10.0 in /usr/local/lib/python3.10/dist-packages (from tf-agents[reverb]) (1.16.0)\n",
            "Requirement already satisfied: protobuf>=3.11.3 in /usr/local/lib/python3.10/dist-packages (from tf-agents[reverb]) (3.20.3)\n",
            "Requirement already satisfied: wrapt>=1.11.1 in /usr/local/lib/python3.10/dist-packages (from tf-agents[reverb]) (1.14.1)\n",
            "Requirement already satisfied: typing-extensions>=3.7.4.3 in /usr/local/lib/python3.10/dist-packages (from tf-agents[reverb]) (4.5.0)\n",
            "Requirement already satisfied: pygame==2.1.3 in /usr/local/lib/python3.10/dist-packages (from tf-agents[reverb]) (2.1.3)\n",
            "Requirement already satisfied: tensorflow-probability~=0.22.0 in /usr/local/lib/python3.10/dist-packages (from tf-agents[reverb]) (0.22.0)\n",
            "Requirement already satisfied: rlds in /usr/local/lib/python3.10/dist-packages (from tf-agents[reverb]) (0.1.8)\n",
            "Requirement already satisfied: dm-reverb~=0.13.0 in /usr/local/lib/python3.10/dist-packages (from tf-agents[reverb]) (0.13.0)\n",
            "Requirement already satisfied: tensorflow~=2.14.0 in /usr/local/lib/python3.10/dist-packages (from tf-agents[reverb]) (2.14.0)\n",
            "Requirement already satisfied: dm-tree in /usr/local/lib/python3.10/dist-packages (from dm-reverb~=0.13.0->tf-agents[reverb]) (0.1.8)\n",
            "Requirement already satisfied: portpicker in /usr/local/lib/python3.10/dist-packages (from dm-reverb~=0.13.0->tf-agents[reverb]) (1.5.2)\n",
            "Requirement already satisfied: gym-notices>=0.0.4 in /usr/local/lib/python3.10/dist-packages (from gym<=0.23.0,>=0.17.0->tf-agents[reverb]) (0.0.8)\n",
            "Requirement already satisfied: astunparse>=1.6.0 in /usr/local/lib/python3.10/dist-packages (from tensorflow~=2.14.0->tf-agents[reverb]) (1.6.3)\n",
            "Requirement already satisfied: flatbuffers>=23.5.26 in /usr/local/lib/python3.10/dist-packages (from tensorflow~=2.14.0->tf-agents[reverb]) (23.5.26)\n",
            "Requirement already satisfied: gast!=0.5.0,!=0.5.1,!=0.5.2,>=0.2.1 in /usr/local/lib/python3.10/dist-packages (from tensorflow~=2.14.0->tf-agents[reverb]) (0.5.4)\n",
            "Requirement already satisfied: google-pasta>=0.1.1 in /usr/local/lib/python3.10/dist-packages (from tensorflow~=2.14.0->tf-agents[reverb]) (0.2.0)\n",
            "Requirement already satisfied: h5py>=2.9.0 in /usr/local/lib/python3.10/dist-packages (from tensorflow~=2.14.0->tf-agents[reverb]) (3.9.0)\n",
            "Requirement already satisfied: libclang>=13.0.0 in /usr/local/lib/python3.10/dist-packages (from tensorflow~=2.14.0->tf-agents[reverb]) (16.0.6)\n",
            "Requirement already satisfied: ml-dtypes==0.2.0 in /usr/local/lib/python3.10/dist-packages (from tensorflow~=2.14.0->tf-agents[reverb]) (0.2.0)\n",
            "Requirement already satisfied: opt-einsum>=2.3.2 in /usr/local/lib/python3.10/dist-packages (from tensorflow~=2.14.0->tf-agents[reverb]) (3.3.0)\n",
            "Requirement already satisfied: packaging in /usr/local/lib/python3.10/dist-packages (from tensorflow~=2.14.0->tf-agents[reverb]) (23.2)\n",
            "Requirement already satisfied: setuptools in /usr/local/lib/python3.10/dist-packages (from tensorflow~=2.14.0->tf-agents[reverb]) (67.7.2)\n",
            "Requirement already satisfied: termcolor>=1.1.0 in /usr/local/lib/python3.10/dist-packages (from tensorflow~=2.14.0->tf-agents[reverb]) (2.3.0)\n",
            "Requirement already satisfied: tensorflow-io-gcs-filesystem>=0.23.1 in /usr/local/lib/python3.10/dist-packages (from tensorflow~=2.14.0->tf-agents[reverb]) (0.34.0)\n",
            "Requirement already satisfied: grpcio<2.0,>=1.24.3 in /usr/local/lib/python3.10/dist-packages (from tensorflow~=2.14.0->tf-agents[reverb]) (1.59.2)\n",
            "Requirement already satisfied: tensorboard<2.15,>=2.14 in /usr/local/lib/python3.10/dist-packages (from tensorflow~=2.14.0->tf-agents[reverb]) (2.14.1)\n",
            "Requirement already satisfied: tensorflow-estimator<2.15,>=2.14.0 in /usr/local/lib/python3.10/dist-packages (from tensorflow~=2.14.0->tf-agents[reverb]) (2.14.0)\n",
            "Requirement already satisfied: keras<2.15,>=2.14.0 in /usr/local/lib/python3.10/dist-packages (from tensorflow~=2.14.0->tf-agents[reverb]) (2.14.0)\n",
            "Requirement already satisfied: decorator in /usr/local/lib/python3.10/dist-packages (from tensorflow-probability~=0.22.0->tf-agents[reverb]) (4.4.2)\n",
            "Requirement already satisfied: wheel<1.0,>=0.23.0 in /usr/local/lib/python3.10/dist-packages (from astunparse>=1.6.0->tensorflow~=2.14.0->tf-agents[reverb]) (0.41.3)\n",
            "Requirement already satisfied: google-auth<3,>=1.6.3 in /usr/local/lib/python3.10/dist-packages (from tensorboard<2.15,>=2.14->tensorflow~=2.14.0->tf-agents[reverb]) (2.17.3)\n",
            "Requirement already satisfied: google-auth-oauthlib<1.1,>=0.5 in /usr/local/lib/python3.10/dist-packages (from tensorboard<2.15,>=2.14->tensorflow~=2.14.0->tf-agents[reverb]) (1.0.0)\n",
            "Requirement already satisfied: markdown>=2.6.8 in /usr/local/lib/python3.10/dist-packages (from tensorboard<2.15,>=2.14->tensorflow~=2.14.0->tf-agents[reverb]) (3.5.1)\n",
            "Requirement already satisfied: requests<3,>=2.21.0 in /usr/local/lib/python3.10/dist-packages (from tensorboard<2.15,>=2.14->tensorflow~=2.14.0->tf-agents[reverb]) (2.31.0)\n",
            "Requirement already satisfied: tensorboard-data-server<0.8.0,>=0.7.0 in /usr/local/lib/python3.10/dist-packages (from tensorboard<2.15,>=2.14->tensorflow~=2.14.0->tf-agents[reverb]) (0.7.2)\n",
            "Requirement already satisfied: werkzeug>=1.0.1 in /usr/local/lib/python3.10/dist-packages (from tensorboard<2.15,>=2.14->tensorflow~=2.14.0->tf-agents[reverb]) (3.0.1)\n",
            "Requirement already satisfied: psutil in /usr/local/lib/python3.10/dist-packages (from portpicker->dm-reverb~=0.13.0->tf-agents[reverb]) (5.9.5)\n",
            "Requirement already satisfied: cachetools<6.0,>=2.0.0 in /usr/local/lib/python3.10/dist-packages (from google-auth<3,>=1.6.3->tensorboard<2.15,>=2.14->tensorflow~=2.14.0->tf-agents[reverb]) (5.3.2)\n",
            "Requirement already satisfied: pyasn1-modules>=0.2.1 in /usr/local/lib/python3.10/dist-packages (from google-auth<3,>=1.6.3->tensorboard<2.15,>=2.14->tensorflow~=2.14.0->tf-agents[reverb]) (0.3.0)\n",
            "Requirement already satisfied: rsa<5,>=3.1.4 in /usr/local/lib/python3.10/dist-packages (from google-auth<3,>=1.6.3->tensorboard<2.15,>=2.14->tensorflow~=2.14.0->tf-agents[reverb]) (4.9)\n",
            "Requirement already satisfied: requests-oauthlib>=0.7.0 in /usr/local/lib/python3.10/dist-packages (from google-auth-oauthlib<1.1,>=0.5->tensorboard<2.15,>=2.14->tensorflow~=2.14.0->tf-agents[reverb]) (1.3.1)\n",
            "Requirement already satisfied: charset-normalizer<4,>=2 in /usr/local/lib/python3.10/dist-packages (from requests<3,>=2.21.0->tensorboard<2.15,>=2.14->tensorflow~=2.14.0->tf-agents[reverb]) (3.3.2)\n",
            "Requirement already satisfied: idna<4,>=2.5 in /usr/local/lib/python3.10/dist-packages (from requests<3,>=2.21.0->tensorboard<2.15,>=2.14->tensorflow~=2.14.0->tf-agents[reverb]) (3.4)\n",
            "Requirement already satisfied: urllib3<3,>=1.21.1 in /usr/local/lib/python3.10/dist-packages (from requests<3,>=2.21.0->tensorboard<2.15,>=2.14->tensorflow~=2.14.0->tf-agents[reverb]) (2.0.7)\n",
            "Requirement already satisfied: certifi>=2017.4.17 in /usr/local/lib/python3.10/dist-packages (from requests<3,>=2.21.0->tensorboard<2.15,>=2.14->tensorflow~=2.14.0->tf-agents[reverb]) (2023.7.22)\n",
            "Requirement already satisfied: MarkupSafe>=2.1.1 in /usr/local/lib/python3.10/dist-packages (from werkzeug>=1.0.1->tensorboard<2.15,>=2.14->tensorflow~=2.14.0->tf-agents[reverb]) (2.1.3)\n",
            "Requirement already satisfied: pyasn1<0.6.0,>=0.4.6 in /usr/local/lib/python3.10/dist-packages (from pyasn1-modules>=0.2.1->google-auth<3,>=1.6.3->tensorboard<2.15,>=2.14->tensorflow~=2.14.0->tf-agents[reverb]) (0.5.0)\n",
            "Requirement already satisfied: oauthlib>=3.0.0 in /usr/local/lib/python3.10/dist-packages (from requests-oauthlib>=0.7.0->google-auth-oauthlib<1.1,>=0.5->tensorboard<2.15,>=2.14->tensorflow~=2.14.0->tf-agents[reverb]) (3.2.2)\n",
            "Requirement already satisfied: pyglet in /usr/local/lib/python3.10/dist-packages (2.0.10)\n"
          ]
        }
      ],
      "source": [
        "!sudo apt-get update\n",
        "!sudo apt-get install -y xvfb ffmpeg freeglut3-dev\n",
        "!pip install imageio\n",
        "!pip install pyvirtualdisplay\n",
        "!pip install tf-agents[reverb]\n",
        "!pip install pyglet"
      ]
    },
    {
      "cell_type": "code",
      "execution_count": 2,
      "metadata": {
        "id": "h-vtSiPUgOOU",
        "colab": {
          "base_uri": "https://localhost:8080/"
        },
        "outputId": "6cbe5e14-87c2-4d5a-aeb8-20ebe271db02"
      },
      "outputs": [
        {
          "output_type": "stream",
          "name": "stdout",
          "text": [
            "pygame 2.1.3 (SDL 2.0.22, Python 3.10.12)\n",
            "Hello from the pygame community. https://www.pygame.org/contribute.html\n"
          ]
        }
      ],
      "source": [
        "import base64\n",
        "import imageio\n",
        "import IPython\n",
        "import matplotlib\n",
        "import matplotlib.pyplot as plt\n",
        "import numpy as np\n",
        "import PIL.Image\n",
        "import pyvirtualdisplay\n",
        "import reverb\n",
        "import random\n",
        "import os\n",
        "import shutil\n",
        "import tempfile\n",
        "import zipfile\n",
        "\n",
        "import pygame as pg\n",
        "from pygame import gfxdraw\n",
        "from pygame.locals import *\n",
        "\n",
        "import tensorflow as tf\n",
        "\n",
        "from tf_agents.agents.categorical_dqn import categorical_dqn_agent\n",
        "from tf_agents.agents.dqn import dqn_agent\n",
        "from tf_agents.drivers import py_driver\n",
        "from tf_agents.drivers import dynamic_step_driver\n",
        "from tf_agents.environments import suite_gym\n",
        "from tf_agents.environments import py_environment\n",
        "from tf_agents.environments import tf_environment\n",
        "from tf_agents.environments import tf_py_environment\n",
        "from tf_agents.eval import metric_utils\n",
        "from tf_agents.metrics import tf_metrics\n",
        "from tf_agents.networks import sequential\n",
        "from tf_agents.networks import q_network\n",
        "from tf_agents.networks import categorical_q_network\n",
        "from tf_agents.policies import policy_saver\n",
        "from tf_agents.policies import py_tf_eager_policy\n",
        "from tf_agents.policies import random_tf_policy\n",
        "from tf_agents.policies import random_py_policy\n",
        "from tf_agents.replay_buffers import tf_uniform_replay_buffer\n",
        "from tf_agents.replay_buffers import reverb_replay_buffer\n",
        "from tf_agents.replay_buffers import reverb_utils\n",
        "from tf_agents.trajectories import trajectory\n",
        "from tf_agents.specs import tensor_spec\n",
        "from tf_agents.specs import array_spec\n",
        "from tf_agents.utils import common\n",
        "from tf_agents.trajectories import time_step as ts\n",
        "\n",
        "tempdir = \"./\""
      ]
    },
    {
      "cell_type": "code",
      "execution_count": 3,
      "metadata": {
        "colab": {
          "base_uri": "https://localhost:8080/",
          "height": 35
        },
        "id": "MsV4e7iqg10s",
        "outputId": "b5cc035d-65a3-45a3-cda5-9e546e4ad247"
      },
      "outputs": [
        {
          "output_type": "execute_result",
          "data": {
            "text/plain": [
              "'2.14.0'"
            ],
            "application/vnd.google.colaboratory.intrinsic+json": {
              "type": "string"
            }
          },
          "metadata": {},
          "execution_count": 3
        }
      ],
      "source": [
        "tf.version.VERSION"
      ]
    },
    {
      "cell_type": "markdown",
      "metadata": {
        "id": "sWwU8Wp7g2_X"
      },
      "source": [
        "## Hyper-parameters"
      ]
    },
    {
      "cell_type": "code",
      "execution_count": 4,
      "metadata": {
        "id": "reKJx_ybg7_L"
      },
      "outputs": [],
      "source": [
        "num_iterations = 3000 # @param {type:\"integer\"}\n",
        "\n",
        "initial_collect_steps = 100  # @param {type:\"integer\"}\n",
        "initial_collect_episodes = 5  # @param {type:\"integer\"}\n",
        "collect_steps_per_iteration = 1 # @param {type:\"integer\"}\n",
        "collect_episodes_per_iteration = 1 # @param {type:\"integer\"}\n",
        "replay_buffer_max_length = 100000  # @param {type:\"integer\"}\n",
        "\n",
        "batch_size = 32  # @param {type:\"integer\"}\n",
        "learning_rate = 3e-4  # @param {type:\"number\"}\n",
        "log_interval = 10  # @param {type:\"integer\"}\n",
        "\n",
        "num_eval_episodes = 50  # @param {type:\"integer\"}\n",
        "eval_interval = 50  # @param {type:\"integer\"}\n",
        "\n",
        "gamma = 0.99    # @param {type:\"number\"}\n",
        "n_step_update = 2  # @param {type:\"integer\"}\n",
        "num_atoms = 51  # @param {type:\"integer\"}\n",
        "min_q_value = -5  # @param {type:\"integer\"}\n",
        "max_q_value = 5  # @param {type:\"integer\"}\n",
        "fc_layer_params = (100,)\n",
        "\n",
        "BOARD_SIZE = 9 # @param {type:\"integer\"}\n",
        "\n",
        "REWARD_DRAW = 0    # @param {type:\"number\"}\n",
        "REWARD_ALIVE = -0.02    # @param {type:\"number\"}\n",
        "REWARD_NON_ADJ = -0.02    # @param {type:\"number\"}\n",
        "\n",
        "# '_' means empty position, 'O' and 'X' means two players.\n",
        "REWARD_ACTIVE_TWO = 0.1 # @param {type:\"number\"} _OO_ or _XX_, we call it active_two\n",
        "REWARD_NONACT_THREE = 0.2 # @param {type:\"number\"} _OOOX or _XXXO or XOOO_ or OXXX_, we call it non_active_three\n",
        "REWARD_ACTIVE_THREE = 0.5 # @param {type:\"number\"} _OOO_ or _XXX_, we call it active_three\n",
        "REWARD_WIN = 1    # @param {type:\"number\"} _OOOO_ or _XXXX_"
      ]
    },
    {
      "cell_type": "markdown",
      "metadata": {
        "id": "WOBVDKmMIcyJ"
      },
      "source": [
        "## Environment"
      ]
    },
    {
      "cell_type": "code",
      "execution_count": 5,
      "metadata": {
        "id": "aq7Q2oxyIhS8"
      },
      "outputs": [],
      "source": [
        "import gym\n",
        "import numpy as np\n",
        "import math\n",
        "from tabulate import tabulate\n",
        "\n",
        "from typing import Tuple, List\n",
        "\n",
        "\n",
        "class TicTacToeEnv1(py_environment.PyEnvironment):\n",
        "    \"\"\"\n",
        "    Implementation of a TicTacToe Environment based on OpenAI Gym standards\n",
        "    This class is modified from https://github.com/MauroLuzzatto/OpenAI-Gym-TicTacToe-Environment\n",
        "    I modified that to follow the instructions of Question 1.\n",
        "    \"\"\"\n",
        "\n",
        "    def __init__(self) -> None:\n",
        "        \"\"\"This class contains a TicTacToe environment for OpenAI Gym\n",
        "\n",
        "        Args:\n",
        "            mode (str): render mode: human or rgb_array, which returns a text or RGB array of a picture that shows the current board\n",
        "        \"\"\"\n",
        "        self.n_actions = BOARD_SIZE * BOARD_SIZE         # 9 * 9 grids to drop\n",
        "\n",
        "        self._observation_spec = {'state': array_spec.BoundedArraySpec(shape=(BOARD_SIZE, BOARD_SIZE, 4), dtype=np.int_, minimum=0, maximum=1),\n",
        "                                  'legal_moves': array_spec.ArraySpec(shape=(self.n_actions,), dtype=np.bool_)}\n",
        "\n",
        "        self._action_spec = array_spec.BoundedArraySpec(shape=(), dtype=np.int_, minimum=0, maximum=80)\n",
        "        self.colors = [1, 2]\n",
        "        self.screen = None\n",
        "        self.fields_per_side = BOARD_SIZE\n",
        "        self.reset()\n",
        "\n",
        "    def observation_spec(self):\n",
        "        return self._observation_spec\n",
        "\n",
        "    def action_spec(self):\n",
        "        return self._action_spec\n",
        "\n",
        "    def get_result(self):\n",
        "        return self.result\n",
        "\n",
        "    def if_chess_nearby(self, row, col) -> bool:\n",
        "        \"\"\"\n",
        "        Determine whether there are chess pieces in 2 squares around the given position (row, col)\n",
        "\n",
        "        Args:\n",
        "          row (int): row index\n",
        "          col (int): column index\n",
        "\n",
        "        Returns:\n",
        "          res (boolean): true, if there are\n",
        "        \"\"\"\n",
        "        for i in range(-2, 3):\n",
        "            for j in range(-2, 3):\n",
        "                if 0 <= row + i < BOARD_SIZE and 0 <= col + j < BOARD_SIZE:\n",
        "                    if self.board[row + i, col + j] != 0:\n",
        "                        return True\n",
        "        return False\n",
        "\n",
        "\n",
        "\n",
        "    def _reset(self) -> Tuple[np.ndarray, dict]:\n",
        "        \"\"\"\n",
        "        reset the board game and state\n",
        "        \"\"\"\n",
        "        self.board: np.ndarray = np.zeros(\n",
        "            (self.fields_per_side, self.fields_per_side), dtype=int\n",
        "        )\n",
        "        self.current_player = 1\n",
        "        self.info = {\"players\": {1: {\"actions\": []}, 2: {\"actions\": []}}, \"Occupied\": set(), \"legal_moves\": np.ones((self.n_actions,), dtype=bool)}\n",
        "        self.latest_action = None\n",
        "\n",
        "        # 0 means not finished, 1 or 2 means the winner and 3 means draw\n",
        "        self.result = 0\n",
        "\n",
        "        # return self.decompose_board_to_state()\n",
        "        observations_and_legal_moves = {'state': self.decompose_board_to_state(), 'legal_moves': self.info[\"legal_moves\"]}\n",
        "        return ts.restart(observations_and_legal_moves)\n",
        "\n",
        "    def decompose_board_to_state(self):\n",
        "        \"\"\"\n",
        "        Our state is a 9x9x4 matrix.\n",
        "        The first layer is the opponent's play history, 0 means no stone, 1 means stones placed by the opponent.\n",
        "        The second layer is the current player's history, 0 means no stone, 1 means stones placed by the current player.\n",
        "        The third layer is the opponent's latest play-out; only one entry is 1 and the others are 0.\n",
        "        The fourth layer is whether the current player is the first hand. an array that is full of 1 means yes, and 0 means no.\n",
        "        \"\"\"\n",
        "        opponent = 2 if self.current_player == 1 else 1\n",
        "        o_plays = (self.board == opponent) * 1\n",
        "        c_plays = (self.board == self.current_player) * 1\n",
        "        l_play = np.zeros_like(self.board)\n",
        "        if self.latest_action:\n",
        "            r, c = self.decode_action(self.latest_action)\n",
        "            l_play[r, c] = 1\n",
        "        if_first = np.full_like(self.board, (self.current_player == 1) * 1)\n",
        "        return np.stack([o_plays, c_plays, l_play, if_first], axis=2)\n",
        "\n",
        "\n",
        "    def _step(self, action: int) -> Tuple[np.ndarray, int, bool, dict]:\n",
        "        \"\"\"step function of the tictactoeEnv1\n",
        "\n",
        "        Args:\n",
        "          action (int): integer between [0, 80], each representing a field on the board\n",
        "\n",
        "        Returns:\n",
        "          state (np.array): state of 2 players' history, 0 means no stone, 1 means stones placed by the corresponding player (shape: 9x9x2).\n",
        "          reward (int): reward of the currrent step\n",
        "          done (boolean): true, if the game is finished\n",
        "          (dict): empty dict for future game related information\n",
        "        \"\"\"\n",
        "        action = int(action)\n",
        "        if not (0 <= action < self.n_actions):\n",
        "            raise ValueError(f\"action '{action}' is not in action_space\")\n",
        "\n",
        "        reward = REWARD_ALIVE\n",
        "        (row, col) = self.decode_action(action)\n",
        "\n",
        "        # If the agent/player does not choose an empty square, randomly select an empty one.\n",
        "        if self.board[row, col] != 0:\n",
        "            if len(self.info[\"Occupied\"]) == BOARD_SIZE * BOARD_SIZE:\n",
        "                raise ValueError('BORAD IS FULL!')\n",
        "            raise ValueError('ERROR: Not A LEGAL MOVE (NOT EMPTY)')\n",
        "            # action = random.choice(list(set(range(BOARD_SIZE * BOARD_SIZE)) - self.info[\"Occupied\"]))\n",
        "            # (row, col) = self.decode_action(action)\n",
        "            # reward -= 5 # assign a negative reward if the play-out position is not empty\n",
        "\n",
        "        # According to the game rules, randomly select an adjacent position with a probability of 1/16\n",
        "        if random.random() < 0.5:\n",
        "            row, col = self.choose_adj_pos(row, col)\n",
        "\n",
        "        # if len(self.info[\"Occupied\"]) != 0 and not self.if_chess_nearby(row, col):\n",
        "        #     reward += REWARD_NON_ADJ\n",
        "\n",
        "        win = False\n",
        "        if 0 <= row < BOARD_SIZE and 0 <= col < BOARD_SIZE and self.board[row, col] == 0:\n",
        "            self.board[row, col] = self.current_player  # drop the piece on the field\n",
        "            win = self._is_win(self.current_player, row, col)\n",
        "\n",
        "            cnt_act_two = self.detect_alive_two(row, col)\n",
        "            cnt_non_act_three, cnt_act_three = self.detect_three(row, col)\n",
        "\n",
        "            reward += (cnt_act_two * REWARD_ACTIVE_TWO + cnt_non_act_three * REWARD_NONACT_THREE + cnt_act_three * REWARD_ACTIVE_THREE)\n",
        "\n",
        "            action = row * BOARD_SIZE + col\n",
        "            self.latest_action = action\n",
        "            self.info[\"players\"][self.current_player][\"actions\"].append(action)\n",
        "            self.info[\"Occupied\"].add(action)\n",
        "            self.info['legal_moves'][action] = False\n",
        "\n",
        "        if win:\n",
        "            self.result = self.current_player\n",
        "            reward += REWARD_WIN\n",
        "        elif len(self.info[\"Occupied\"]) == BOARD_SIZE * BOARD_SIZE: # Draw\n",
        "            self.result = 3\n",
        "            reward += REWARD_DRAW\n",
        "\n",
        "        done = (win or len(self.info[\"Occupied\"]) == BOARD_SIZE * BOARD_SIZE)\n",
        "        self.current_player = self.current_player + 1 if self.current_player == 1 else 1\n",
        "        state = self.decompose_board_to_state()\n",
        "\n",
        "        observations_and_legal_moves = {'state': state, 'legal_moves': self.info['legal_moves']}\n",
        "\n",
        "        if done:\n",
        "            return ts.termination(observations_and_legal_moves, reward)\n",
        "        else:\n",
        "            return ts.transition(observations_and_legal_moves, reward)\n",
        "\n",
        "    def detect_alive_two(self, row: int, col: int) -> int:\n",
        "        \"\"\" Detect how many alive_two can obtain by this play out.\n",
        "\n",
        "        Args:\n",
        "            row (int): row of the current play\n",
        "            col (int): column of the current play\n",
        "\n",
        "        Returns:\n",
        "            cnt (int): the number of alive_two\n",
        "        \"\"\"\n",
        "        cnt = 0\n",
        "        adjs = [[-1, -1], [-1, 0], [-1, 1], [0, 1], [0, -1], [1, -1], [1, 0], [1, 1]]\n",
        "        for adj in adjs:\n",
        "            p1_r, p1_c = row + 2 * adj[0], col + 2 * adj[1]\n",
        "            p2_r, p2_c = row - adj[0], col - adj[1]\n",
        "            if 0 <= p1_r < 9 and 0 <= p1_c < 9 and 0 <= p2_r < 9 and 0 <= p2_c < 9:\n",
        "                if self.board[row + adj[0], col + adj[1]] == self.current_player and self.board[p1_r, p1_c] == 0 and self.board[p2_r, p2_c] == 0:\n",
        "                    cnt += 1\n",
        "        return cnt\n",
        "\n",
        "    def detect_three(self, r: int, c: int) -> tuple:\n",
        "        \"\"\" Detect how many non_active_three and active_three can obtain by this play out.\n",
        "\n",
        "        Args:\n",
        "            r (int): row of the current play\n",
        "            c (int): column of the current play\n",
        "\n",
        "        Returns:\n",
        "            cnt_non_act (int): the number of non_active_three\n",
        "            cnt_act (int): the number of active_three\n",
        "        \"\"\"\n",
        "        cnt_non_act = 0\n",
        "        cnt_act = 0\n",
        "        opponent = self.current_player + 1 if self.current_player == 1 else 1\n",
        "        directions = [[0, 1], [1, 0], [1, 1], [1, -1]]\n",
        "\n",
        "        for direct in directions:\n",
        "            count = 0\n",
        "            for offset in range(-2, 3):\n",
        "                if 0 <= r + offset * direct[0] < 9 and 0 <= c + offset * direct[1] < 9:\n",
        "                    if self.board[r + offset * direct[0], c + offset * direct[1]] == self.current_player:\n",
        "                        count += 1\n",
        "                        if count == 3:\n",
        "                            p1_r, p1_c = r + (offset + 1) * direct[0], c + (offset + 1) * direct[1]\n",
        "                            p2_r, p2_c = r + (offset - 3) * direct[0], c + (offset - 3) * direct[1]\n",
        "\n",
        "                            p1_is_empty = (0 <= p1_r < 9 and 0 <= p1_c < 9 and self.board[p1_r, p1_c] == 0)\n",
        "                            p2_is_empty = (0 <= p2_r < 9 and 0 <= p2_c < 9 and self.board[p2_r, p2_c] == 0)\n",
        "\n",
        "                            if p1_is_empty and p2_is_empty:\n",
        "                                cnt_act += 1\n",
        "                            elif p1_is_empty or p2_is_empty:\n",
        "                                cnt_non_act += 1\n",
        "                            break\n",
        "                    else:\n",
        "                        count = 0\n",
        "\n",
        "        return cnt_non_act, cnt_act\n",
        "\n",
        "    def choose_adj_pos(self, row: int, col: int) -> tuple:\n",
        "        \"\"\" Randomly select an adjacent position with equal probabilities.\n",
        "\n",
        "        Args:\n",
        "            row (int): row of the current play\n",
        "            col (int): column of the current play\n",
        "\n",
        "        Returns:\n",
        "            row (int): row of the selected adjacent position\n",
        "            col (int): column of the selected adjacent position\n",
        "        \"\"\"\n",
        "\n",
        "        adjs = [[-1, -1], [-1, 0], [-1, 1], [0, 1], [0, -1], [1, -1], [1, 0], [1, 1]]\n",
        "        adj = random.choice(adjs)\n",
        "        row, col = row + adj[0], col + adj[1]\n",
        "        return row, col\n",
        "\n",
        "    def _is_win(self, color: int, r: int, c: int) -> bool:\n",
        "        \"\"\"check if this player results in a winner\n",
        "\n",
        "        Args:\n",
        "            color (int): of the player\n",
        "            r (int): row of the current play\n",
        "            c (int): column of the current play\n",
        "\n",
        "        Returns:\n",
        "            bool: indicating if there is a winner\n",
        "        \"\"\"\n",
        "\n",
        "        # check if four equal stones are aligned (horizontal, verical or diagonal)\n",
        "        directions = [[0, 1], [1, 0], [1, 1], [1, -1]]\n",
        "\n",
        "        for direct in directions:\n",
        "            count = 0\n",
        "            for offset in range(-3, 4):\n",
        "                if 0 <= r + offset * direct[0] < 9 and 0 <= c + offset * direct[1] < 9:\n",
        "                    if self.board[r + offset * direct[0], c + offset * direct[1]] == color:\n",
        "                        count += 1\n",
        "                        if count == 4:\n",
        "                            return True\n",
        "                    else:\n",
        "                        count = 0\n",
        "\n",
        "        return False\n",
        "\n",
        "    def decode_action(self, action: int) -> List[int]:\n",
        "        \"\"\"decode the action integer into a colum and row value\n",
        "\n",
        "        0 = upper left corner\n",
        "        8 = lower right corner\n",
        "\n",
        "        Args:\n",
        "            action (int): action\n",
        "\n",
        "        Returns:\n",
        "            List[int, int]: a list with the [row, col] values\n",
        "        \"\"\"\n",
        "        col = action % BOARD_SIZE\n",
        "        row = action // BOARD_SIZE\n",
        "        assert 0 <= col < BOARD_SIZE\n",
        "        return [row, col]\n",
        "\n",
        "    def render(self, render_mode=\"rgb_array\") -> None:\n",
        "        \"\"\"Render the board\n",
        "        Print a string that shows the current board, if render_mode == human,\n",
        "        Return the RGB array of a figure which shows the current board.\n",
        "        \"\"\"\n",
        "        board = np.zeros((BOARD_SIZE, BOARD_SIZE), dtype=str)\n",
        "        for ii in range(BOARD_SIZE):\n",
        "            for jj in range(BOARD_SIZE):\n",
        "                if self.board[ii, jj] == 0:\n",
        "                    board[ii, jj] = \"-\"\n",
        "                elif self.board[ii, jj] == 1:\n",
        "                    board[ii, jj] = \"X\"\n",
        "                elif self.board[ii, jj] == 2:\n",
        "                    board[ii, jj] = \"O\"\n",
        "\n",
        "        if render_mode == \"human\":\n",
        "            board = tabulate(board, tablefmt=\"fancy_grid\")\n",
        "            print(board)\n",
        "            print(\"\\n\")\n",
        "\n",
        "\n",
        "        width = height = 400\n",
        "\n",
        "        white = (255, 255, 255)\n",
        "        line_color = (0, 0, 0)\n",
        "\n",
        "        os.environ[\"SDL_VIDEODRIVER\"] = \"dummy\"\n",
        "        pg.init()\n",
        "\n",
        "        # Set up the drawing window\n",
        "        if self.screen is None:\n",
        "          self.screen = pg.display.set_mode([width + 16, height + 16])\n",
        "\n",
        "        self.screen.fill(white)\n",
        "        # drawing vertical lines\n",
        "        for i in range(10):\n",
        "          pg.draw.line(self.screen, line_color, (width / BOARD_SIZE * i, 0), (width / BOARD_SIZE * i, height), 2)\n",
        "\n",
        "        # drawing horizontal lines\n",
        "        for i in range(10):\n",
        "          pg.draw.line(self.screen, line_color, (0, height / BOARD_SIZE * i), (width, height / BOARD_SIZE * i), 2)\n",
        "        pg.display.flip()\n",
        "\n",
        "        # drawing noughts and crosses\n",
        "        for i in range(BOARD_SIZE):\n",
        "          for j in range(BOARD_SIZE):\n",
        "            if self.board[i, j] == 1: # Draw crosses\n",
        "              pg.draw.lines(self.screen, line_color, True, [(width / BOARD_SIZE * (j + 0.5) - 10,\n",
        "                                                        height / BOARD_SIZE * (i + 0.5) - 10),\n",
        "                                                      (width / BOARD_SIZE * (j + 0.5) + 10,\n",
        "                                                        height / BOARD_SIZE * (i + 0.5) + 10)], 3)\n",
        "              pg.draw.lines(self.screen, line_color, True, [(width / BOARD_SIZE * (j + 0.5) - 10,\n",
        "                                                        height / BOARD_SIZE * (i + 0.5) + 10),\n",
        "                                                        (width / BOARD_SIZE * (j + 0.5) + 10,\n",
        "                                                          height / BOARD_SIZE * (i + 0.5) - 10)], 3)\n",
        "            elif self.board[i, j] == 2: # Draw noughts\n",
        "              pg.draw.circle(self.screen, line_color, (width / BOARD_SIZE * (j + 0.5), height / BOARD_SIZE * (i + 0.5)), 12, 3)\n",
        "\n",
        "        board = np.transpose(\n",
        "                np.array(pg.surfarray.pixels3d(self.screen)), axes=(1, 0, 2)\n",
        "            )\n",
        "\n",
        "        return board"
      ]
    },
    {
      "cell_type": "code",
      "execution_count": 6,
      "metadata": {
        "id": "Yhocpw-j36C0"
      },
      "outputs": [],
      "source": [
        "def observation_and_action_constraint_splitter(obs):\n",
        "    return obs['state'], obs['legal_moves']"
      ]
    },
    {
      "cell_type": "markdown",
      "metadata": {
        "id": "LqFsRLWJslkf"
      },
      "source": [
        "## Random play test"
      ]
    },
    {
      "cell_type": "code",
      "execution_count": 7,
      "metadata": {
        "id": "uU1h9wSWa7Lh"
      },
      "outputs": [],
      "source": [
        "# py_env = suite_gym.wrap_env(TicTacToeEnv1())\n",
        "py_env = TicTacToeEnv1()\n",
        "tf_env = tf_py_environment.TFPyEnvironment(py_env)"
      ]
    },
    {
      "cell_type": "code",
      "execution_count": 8,
      "metadata": {
        "id": "qJYsgWM-79vr"
      },
      "outputs": [],
      "source": [
        "def embed_mp4(filename):\n",
        "    \"\"\"Embeds an mp4 file in the notebook.\"\"\"\n",
        "    video = open(filename,'rb').read()\n",
        "    b64 = base64.b64encode(video)\n",
        "    tag = '''\n",
        "    <video width=\"480\" height=\"480\" controls>\n",
        "      <source src=\"data:video/mp4;base64,{0}\" type=\"video/mp4\">\n",
        "    Your browser does not support the video tag.\n",
        "    </video>'''.format(b64.decode())\n",
        "\n",
        "    return IPython.display.HTML(tag)\n",
        "\n",
        "def create_policy_eval_video(policy, filename, fps=2):\n",
        "    py_env = TicTacToeEnv1()\n",
        "    tf_env = tf_py_environment.TFPyEnvironment(py_env)\n",
        "    filename = filename + \".mp4\"\n",
        "    with imageio.get_writer(filename, fps=fps) as video:\n",
        "      time_step = tf_env.reset()\n",
        "      video.append_data(py_env.render())\n",
        "      while not time_step.is_last():\n",
        "        action_step = policy.action(time_step)\n",
        "        time_step = tf_env.step(action_step.action)\n",
        "        video.append_data(py_env.render())\n",
        "\n",
        "    return embed_mp4(filename)\n",
        "\n",
        "\n",
        "def create_policy_battle_video(policy1, policy2, filename, fps=2):\n",
        "    py_env = TicTacToeEnv1()\n",
        "    tf_env = tf_py_environment.TFPyEnvironment(py_env)\n",
        "    filename = filename + \".mp4\"\n",
        "    with imageio.get_writer(filename, fps=fps) as video:\n",
        "      time_step = tf_env.reset()\n",
        "      video.append_data(py_env.render())\n",
        "      while not time_step.is_last():\n",
        "        action_step = policy1.action(time_step)\n",
        "        time_step = tf_env.step(action_step.action)\n",
        "        video.append_data(py_env.render())\n",
        "        if not time_step.is_last():\n",
        "          action_step = policy2.action(time_step)\n",
        "          time_step = tf_env.step(action_step.action)\n",
        "          video.append_data(py_env.render())\n",
        "\n",
        "    return embed_mp4(filename)"
      ]
    },
    {
      "cell_type": "code",
      "execution_count": 9,
      "metadata": {
        "colab": {
          "base_uri": "https://localhost:8080/",
          "height": 501
        },
        "id": "yNw07pahBY78",
        "outputId": "2cb2695b-f6f7-4190-8af6-f84421fecce8"
      },
      "outputs": [
        {
          "output_type": "execute_result",
          "data": {
            "text/plain": [
              "<IPython.core.display.HTML object>"
            ],
            "text/html": [
              "\n",
              "    <video width=\"480\" height=\"480\" controls>\n",
              "      <source src=\"data:video/mp4;base64,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\" type=\"video/mp4\">\n",
              "    Your browser does not support the video tag.\n",
              "    </video>"
            ]
          },
          "metadata": {},
          "execution_count": 9
        }
      ],
      "source": [
        "random_policy = random_tf_policy.RandomTFPolicy(tf_env.time_step_spec(), tf_env.action_spec(),\n",
        "    observation_and_action_constraint_splitter=observation_and_action_constraint_splitter)\n",
        "create_policy_eval_video(random_policy, \"random-agent\")"
      ]
    },
    {
      "cell_type": "markdown",
      "metadata": {
        "id": "GPHWdRyT-ND0"
      },
      "source": [
        "## Agent"
      ]
    },
    {
      "cell_type": "code",
      "execution_count": 10,
      "metadata": {
        "id": "MnqVY5icuPi4"
      },
      "outputs": [],
      "source": [
        "train_py_env = TicTacToeEnv1()\n",
        "eval_py_env = TicTacToeEnv1()\n",
        "\n",
        "train_env = tf_py_environment.TFPyEnvironment(train_py_env)\n",
        "eval_env = tf_py_environment.TFPyEnvironment(eval_py_env)"
      ]
    },
    {
      "cell_type": "code",
      "execution_count": 11,
      "metadata": {
        "id": "TgkdEPg_muzV"
      },
      "outputs": [],
      "source": [
        "conv_layer_params = [16, 32]\n",
        "action_tensor_spec = tensor_spec.from_spec(tf_env.action_spec())\n",
        "num_actions = action_tensor_spec.maximum - action_tensor_spec.minimum + 1\n",
        "\n",
        "# Define a helper function to create Conv layers configured with the right\n",
        "# activation and kernel initializer.\n",
        "def conv_layer(num_units):\n",
        "  return tf.keras.layers.Conv2D(\n",
        "                      filters=num_units,\n",
        "                      kernel_size=[3, 3],\n",
        "                      padding=\"same\",\n",
        "                      data_format=\"channels_last\",\n",
        "                      activation=tf.nn.leaky_relu,\n",
        "                      dtype=float)\n",
        "\n",
        "\n",
        "# QNetwork consists of a sequence of Conv layers followed by a dense layer\n",
        "# with `num_actions` units to generate one q_value per available action as\n",
        "# its output.\n",
        "normalization1 = tf.keras.layers.BatchNormalization()\n",
        "normalization2 = tf.keras.layers.BatchNormalization()\n",
        "conv_layers = [conv_layer(num_units) for num_units in conv_layer_params]\n",
        "action_conv = tf.keras.layers.Conv2D(filters=4,\n",
        "                    kernel_size=[1, 1], padding=\"same\",\n",
        "                    data_format=\"channels_last\",\n",
        "                    activation=tf.nn.leaky_relu)\n",
        "flatten = tf.keras.layers.Flatten()\n",
        "q_values_layer = tf.keras.layers.Dense(\n",
        "    num_actions,\n",
        "    activation=None,\n",
        "    kernel_initializer=tf.keras.initializers.RandomUniform(\n",
        "        minval=-0.03, maxval=0.03),\n",
        "    bias_initializer=tf.keras.initializers.Constant(-0.2))\n",
        "q_net = sequential.Sequential([normalization1] + conv_layers + [action_conv, normalization2, flatten, q_values_layer])\n"
      ]
    },
    {
      "cell_type": "code",
      "execution_count": 12,
      "metadata": {
        "id": "BeZ-5rpD-58G"
      },
      "outputs": [],
      "source": [
        "class ConvNestedLayer(tf.keras.layers.Layer):\n",
        "    def __init__(self, *args, **kwds):\n",
        "        super().__init__(*args, **kwds)\n",
        "        self.conv1 = tf.keras.layers.Conv2D(\n",
        "                      filters=32,\n",
        "                      kernel_size=[3, 3],\n",
        "                      padding=\"same\",\n",
        "                      data_format=\"channels_last\",\n",
        "                      activation=tf.nn.leaky_relu,\n",
        "                      dtype=float)\n",
        "        self.conv2 = tf.keras.layers.Conv2D(\n",
        "                      filters=64,\n",
        "                      kernel_size=[3, 3],\n",
        "                      padding=\"same\",\n",
        "                      data_format=\"channels_last\",\n",
        "                      activation=tf.nn.leaky_relu,\n",
        "                      dtype=float)\n",
        "        self.norm1 = tf.keras.layers.BatchNormalization()\n",
        "        self.norm2 = tf.keras.layers.BatchNormalization()\n",
        "        self.flatten = tf.keras.layers.Flatten()\n",
        "\n",
        "    def call(self, x):\n",
        "        x = self.norm1(x)\n",
        "        x = self.conv1(x)\n",
        "        x = self.norm2(x)\n",
        "        x = self.conv2(x)\n",
        "        x = self.flatten(x)\n",
        "        return x"
      ]
    },
    {
      "cell_type": "code",
      "execution_count": 13,
      "metadata": {
        "id": "NtrMeYVG4Jpr"
      },
      "outputs": [],
      "source": [
        "categorical_q_net = categorical_q_network.CategoricalQNetwork(\n",
        "    train_env.observation_spec()['state'],\n",
        "    train_env.action_spec(),\n",
        "    num_atoms=num_atoms,\n",
        "    preprocessing_layers = ConvNestedLayer(),\n",
        "    fc_layer_params=fc_layer_params)"
      ]
    },
    {
      "cell_type": "code",
      "execution_count": 14,
      "metadata": {
        "id": "lg5emNEam75J"
      },
      "outputs": [],
      "source": [
        "optimizer = tf.keras.optimizers.Adam(learning_rate=learning_rate)\n",
        "\n",
        "# agent = dqn_agent.DqnAgent(\n",
        "#     train_env.time_step_spec(),\n",
        "#     train_env.action_spec(),\n",
        "#     q_network=q_net,\n",
        "#     observation_and_action_constraint_splitter=observation_and_action_constraint_splitter,\n",
        "#     optimizer=optimizer,\n",
        "#     td_errors_loss_fn=common.element_wise_squared_loss,\n",
        "#     train_step_counter=train_step_counter)\n",
        "\n",
        "\n",
        "agent1 = categorical_dqn_agent.CategoricalDqnAgent(\n",
        "    train_env.time_step_spec(),\n",
        "    train_env.action_spec(),\n",
        "    categorical_q_network=categorical_q_net,\n",
        "    observation_and_action_constraint_splitter=observation_and_action_constraint_splitter,\n",
        "    optimizer=optimizer,\n",
        "    min_q_value=min_q_value,\n",
        "    max_q_value=max_q_value,\n",
        "    n_step_update=n_step_update,\n",
        "    td_errors_loss_fn=common.element_wise_squared_loss,\n",
        "    gamma=gamma,\n",
        "    train_step_counter=tf.Variable(0))\n",
        "\n",
        "agent2 = categorical_dqn_agent.CategoricalDqnAgent(\n",
        "    train_env.time_step_spec(),\n",
        "    train_env.action_spec(),\n",
        "    categorical_q_network=categorical_q_net,\n",
        "    observation_and_action_constraint_splitter=observation_and_action_constraint_splitter,\n",
        "    optimizer=optimizer,\n",
        "    min_q_value=min_q_value,\n",
        "    max_q_value=max_q_value,\n",
        "    n_step_update=n_step_update,\n",
        "    td_errors_loss_fn=common.element_wise_squared_loss,\n",
        "    gamma=gamma,\n",
        "    train_step_counter=tf.Variable(0))\n",
        "\n",
        "agent1.initialize()\n",
        "agent2.initialize()"
      ]
    },
    {
      "cell_type": "markdown",
      "metadata": {
        "id": "QaVnWWX4xpa5"
      },
      "source": [
        "## Policy"
      ]
    },
    {
      "cell_type": "code",
      "execution_count": 15,
      "metadata": {
        "id": "uGU0pGS4xsjc"
      },
      "outputs": [],
      "source": [
        "random_policy = random_tf_policy.RandomTFPolicy(train_env.time_step_spec(), train_env.action_spec(),\n",
        "    observation_and_action_constraint_splitter=observation_and_action_constraint_splitter)"
      ]
    },
    {
      "cell_type": "code",
      "execution_count": 16,
      "metadata": {
        "id": "N8vRFWNgx-tj"
      },
      "outputs": [],
      "source": [
        "def compute_avg_return(environment, policy, num_episodes=10):\n",
        "\n",
        "  total_return = 0.0\n",
        "  for _ in range(num_episodes):\n",
        "    time_step = environment.reset()\n",
        "    episode_return = 0.0\n",
        "    while not time_step.is_last():\n",
        "      action_step = policy.action(time_step)\n",
        "      time_step = environment.step(action_step.action)\n",
        "      episode_return += time_step.reward\n",
        "    total_return += episode_return\n",
        "\n",
        "  avg_return = total_return / num_episodes\n",
        "  return avg_return.numpy()[0]\n",
        "\n",
        "def compute_avg_return_battle(environment, policy1, policy2, num_episodes=10):\n",
        "\n",
        "  total_return_1 = 0.0\n",
        "  total_return_2 = 0.0\n",
        "  for _ in range(num_episodes):\n",
        "    episode_return_1 = 0.0\n",
        "    episode_return_2 = 0.0\n",
        "    time_step = environment.reset()\n",
        "    while not time_step.is_last():\n",
        "      action_step = policy1.action(time_step)\n",
        "      time_step = environment.step(action_step.action)\n",
        "      episode_return_1 += time_step.reward\n",
        "      if not time_step.is_last():\n",
        "        action_step = policy2.action(time_step)\n",
        "        time_step = environment.step(action_step.action)\n",
        "        episode_return_2 += time_step.reward\n",
        "    total_return_1 += episode_return_1\n",
        "    total_return_2 += episode_return_2\n",
        "\n",
        "  avg_return_1 = total_return_1 / num_episodes\n",
        "  avg_return_2 = total_return_2 / num_episodes\n",
        "  return [avg_return_1.numpy()[0], avg_return_2.numpy()[0]]\n",
        "\n",
        "def compute_avg_win_battle(environment, policy1, policy2, num_episodes=10):\n",
        "\n",
        "  total_return_1 = 0.0\n",
        "  total_return_2 = 0.0\n",
        "  for _ in range(num_episodes):\n",
        "    time_step = environment.reset()\n",
        "    while not time_step.is_last():\n",
        "      action_step = policy1.action(time_step)\n",
        "      time_step = environment.step(action_step.action)\n",
        "      if not time_step.is_last():\n",
        "        action_step = policy2.action(time_step)\n",
        "        time_step = environment.step(action_step.action)\n",
        "    if environment._envs[0].get_result() == 1:\n",
        "        total_return_1 += 1\n",
        "    elif environment._envs[0].get_result() == 2:\n",
        "        total_return_2 += 1\n",
        "\n",
        "  avg_return_1 = total_return_1 / num_episodes\n",
        "  avg_return_2 = total_return_2 / num_episodes\n",
        "  return [avg_return_1, avg_return_2]"
      ]
    },
    {
      "cell_type": "code",
      "execution_count": null,
      "metadata": {
        "colab": {
          "base_uri": "https://localhost:8080/"
        },
        "id": "vlCXIdRVyAAu",
        "outputId": "311ac5e9-dfad-4f1c-f1da-5dec72c7c306"
      },
      "outputs": [
        {
          "output_type": "stream",
          "name": "stdout",
          "text": [
            "4.3400006\n",
            "2.3400002\n",
            "[1.852, 0.536]\n"
          ]
        }
      ],
      "source": [
        "print(compute_avg_return(eval_env, agent1.policy, 1))\n",
        "print(compute_avg_return(eval_env, agent2.policy, 1))\n",
        "print(compute_avg_return_battle(eval_env, agent1.policy, agent2.policy, 10))\n",
        "print(compute_avg_win_battle(eval_env, agent1.policy, agent2.policy, 10))"
      ]
    },
    {
      "cell_type": "markdown",
      "metadata": {
        "id": "VBEXcoMjy7xO"
      },
      "source": [
        "## Replay Buffer"
      ]
    },
    {
      "cell_type": "code",
      "execution_count": null,
      "metadata": {
        "id": "CMVmKJF1y_Lt"
      },
      "outputs": [],
      "source": [
        "replay_buffer1 = tf_uniform_replay_buffer.TFUniformReplayBuffer(\n",
        "    data_spec=agent1.collect_data_spec,\n",
        "    batch_size=train_env.batch_size,\n",
        "    max_length=replay_buffer_max_length)\n",
        "\n",
        "replay_buffer2 = tf_uniform_replay_buffer.TFUniformReplayBuffer(\n",
        "    data_spec=agent2.collect_data_spec,\n",
        "    batch_size=train_env.batch_size,\n",
        "    max_length=replay_buffer_max_length)\n",
        "\n",
        "def collect_episode(environment, policy1, replay_buffer1, policy2, replay_buffer2):\n",
        "    time_step = environment.reset()\n",
        "    trajs_1, trajs_2 = [], []\n",
        "\n",
        "    while not time_step.is_last():\n",
        "      action_step = agent1.collect_policy.action(time_step)\n",
        "      next_time_step = environment.step(action_step.action)\n",
        "      traj1 = trajectory.from_transition(time_step, action_step, next_time_step)\n",
        "      trajs_1.append(traj1)\n",
        "      time_step = next_time_step\n",
        "\n",
        "      if not time_step.is_last():\n",
        "        action_step = agent2.collect_policy.action(time_step)\n",
        "        next_time_step = environment.step(action_step.action)\n",
        "        traj2 = trajectory.from_transition(time_step, action_step, next_time_step)\n",
        "        trajs_2.append(traj2)\n",
        "        time_step = next_time_step\n",
        "\n",
        "    # print('Before update:')\n",
        "    # for tsj in trajs_1:\n",
        "    #     print(f'Policy 1: {tsj.reward}')\n",
        "    # for tsj in trajs_2:\n",
        "    #     print(f'Policy 2: {tsj.reward}')\n",
        "    # print('After update:')\n",
        "\n",
        "    if len(trajs_1) == len(trajs_2): # Player 2 won\n",
        "        for i in range(len(trajs_1) - 1):\n",
        "            trajs_1[i] = trajs_1[i].replace(reward=trajs_1[i].reward - trajs_2[i].reward)\n",
        "            trajs_2[i] = trajs_2[i].replace(reward=trajs_2[i].reward - trajs_1[i + 1].reward)\n",
        "        trajs_1[-1] = trajs_1[-1].replace(reward=trajs_1[-1].reward - trajs_2[-1].reward)\n",
        "    else: # Player 1 won\n",
        "        for i in range(len(trajs_1) - 1):\n",
        "            trajs_1[i] = trajs_1[i].replace(reward=trajs_1[i].reward - trajs_2[i].reward)\n",
        "            trajs_2[i] = trajs_2[i].replace(reward=trajs_2[i].reward - trajs_1[i + 1].reward)\n",
        "\n",
        "\n",
        "    for tsj in trajs_1:\n",
        "        # print(f'Policy 1: {tsj.reward}')\n",
        "        replay_buffer1.add_batch(tsj)\n",
        "    for tsj in trajs_2:\n",
        "        # print(f'Policy 2: {tsj.reward}')\n",
        "        replay_buffer2.add_batch(tsj)\n",
        "\n",
        "    # print()\n",
        "\n",
        "for _ in range(initial_collect_episodes):\n",
        "    collect_episode(train_env, agent1.collect_policy, replay_buffer1, agent2.collect_policy, replay_buffer2)\n",
        "\n",
        "dataset1 = replay_buffer1.as_dataset(\n",
        "    num_parallel_calls=3, sample_batch_size=batch_size,\n",
        "    num_steps=n_step_update + 1).prefetch(3)\n",
        "iterator1 = iter(dataset1)\n",
        "\n",
        "dataset2 = replay_buffer2.as_dataset(\n",
        "    num_parallel_calls=3, sample_batch_size=batch_size,\n",
        "    num_steps=n_step_update + 1).prefetch(3)\n",
        "iterator2 = iter(dataset2)"
      ]
    },
    {
      "cell_type": "markdown",
      "metadata": {
        "id": "tmMc8b6mBqli"
      },
      "source": [
        "## Set up the checkpointer and Policy saver"
      ]
    },
    {
      "cell_type": "code",
      "execution_count": null,
      "metadata": {
        "id": "dRLhR6v4BsEb"
      },
      "outputs": [],
      "source": [
        "def create_zip_file(dirname, base_filename):\n",
        "  return shutil.make_archive(base_filename, 'zip', dirname)"
      ]
    },
    {
      "cell_type": "code",
      "execution_count": null,
      "metadata": {
        "id": "aI2LVHZXBv4q"
      },
      "outputs": [],
      "source": [
        "policy_dir_1 = os.path.join(tempdir, 'policy_1')\n",
        "tf_policy_saver_1 = policy_saver.PolicySaver(agent1.policy)\n",
        "\n",
        "policy_dir_2 = os.path.join(tempdir, 'policy_2')\n",
        "tf_policy_saver_2 = policy_saver.PolicySaver(agent2.policy)"
      ]
    },
    {
      "cell_type": "markdown",
      "metadata": {
        "id": "jRVMc8V8zxj0"
      },
      "source": [
        "## Train the agent"
      ]
    },
    {
      "cell_type": "code",
      "execution_count": null,
      "metadata": {
        "id": "6_1qWkmKz0Ke"
      },
      "outputs": [],
      "source": [
        "try:\n",
        "  %%time\n",
        "except:\n",
        "  pass\n",
        "\n",
        "# (Optional) Optimize by wrapping some of the code in a graph using TF function.\n",
        "agent1.train = common.function(agent1.train)\n",
        "agent2.train = common.function(agent2.train)\n",
        "\n",
        "# Reset the train step.\n",
        "agent1.train_step_counter.assign(0)\n",
        "agent2.train_step_counter.assign(0)\n",
        "\n",
        "# Evaluate the agent's policy before training.\n",
        "avg_return = compute_avg_win_battle(eval_env, agent1.policy, agent2.policy, 5)\n",
        "policy1_win_rate = compute_avg_win_battle(eval_env, agent1.policy, random_policy, num_eval_episodes)[0]\n",
        "policy2_win_rate = compute_avg_win_battle(eval_env, random_policy, agent2.policy, num_eval_episodes)[1]\n",
        "print('Before training: 1_win = {0}, 2_win = {1}, Average Return = {2}'.format(policy1_win_rate, policy2_win_rate, str(avg_return)))\n",
        "returns = [avg_return]\n",
        "\n",
        "bst1, bst2 = policy1_win_rate, policy2_win_rate\n",
        "\n",
        "# Reset the environment.\n",
        "time_step = train_env.reset()\n",
        "\n",
        "for idx in range(num_iterations):\n",
        "\n",
        "    # Collect a few episodes using collect_policy and save to the replay buffer.\n",
        "    for _ in range(collect_episodes_per_iteration):\n",
        "      if idx % 2:\n",
        "          collect_episode(train_env, agent1.collect_policy, replay_buffer1, agent2.collect_policy, replay_buffer2)\n",
        "      else:\n",
        "          collect_episode(train_env, agent2.collect_policy, replay_buffer2, agent1.collect_policy, replay_buffer1)\n",
        "\n",
        "    # Sample a batch of data from the buffer and update the agent's network.\n",
        "    experience, unused_info = next(iterator1)\n",
        "    train_loss_1 = agent1.train(experience).loss\n",
        "    experience, unused_info = next(iterator2)\n",
        "    train_loss_2 = agent2.train(experience).loss\n",
        "\n",
        "    step = agent1.train_step_counter.numpy()\n",
        "\n",
        "    if step % log_interval == 0:\n",
        "      print('step = {0}: loss = {1}'.format(step, (train_loss_1 + train_loss_2) / 2))\n",
        "\n",
        "    if step % eval_interval == 0:\n",
        "      avg_return = compute_avg_return_battle(eval_env, agent1.policy, agent2.policy, 5)\n",
        "      policy1_win_rate = compute_avg_win_battle(eval_env, agent1.policy, random_policy, num_eval_episodes)[0]\n",
        "      policy2_win_rate = compute_avg_win_battle(eval_env, random_policy, agent2.policy, num_eval_episodes)[1]\n",
        "      print('step = {0}: 1_win = {1}, 2_win = {2}, Average Return = {3}'.format(step, policy1_win_rate, policy2_win_rate, str(avg_return)))\n",
        "      if policy1_win_rate > bst1:\n",
        "        bst1 = policy1_win_rate\n",
        "        tf_policy_saver_1.save(policy_dir_1)\n",
        "        policy_zip_filename = create_zip_file(policy_dir_1, os.path.join(tempdir, 'exported_policy_1'))\n",
        "      if policy2_win_rate > bst2:\n",
        "        bst2 = policy2_win_rate\n",
        "        tf_policy_saver_2.save(policy_dir_2)\n",
        "        policy_zip_filename = create_zip_file(policy_dir_2, os.path.join(tempdir, 'exported_policy_2'))\n",
        "      returns.append(avg_return)"
      ]
    },
    {
      "cell_type": "markdown",
      "metadata": {
        "id": "euOj19B0B1ky"
      },
      "source": [
        "## Load the trained model"
      ]
    },
    {
      "cell_type": "code",
      "execution_count": null,
      "metadata": {
        "id": "NSRWvH6Udnd1"
      },
      "outputs": [],
      "source": [
        "random_policy = random_tf_policy.RandomTFPolicy(train_env.time_step_spec(), train_env.action_spec(),\n",
        "    observation_and_action_constraint_splitter=observation_and_action_constraint_splitter)"
      ]
    },
    {
      "cell_type": "code",
      "execution_count": null,
      "metadata": {
        "id": "HDMa0xH3rAS6"
      },
      "outputs": [],
      "source": [
        "saved_policy_1 = tf.saved_model.load(policy_dir_1)\n",
        "print(compute_avg_win_battle(eval_env, saved_policy_1, random_policy, 200))\n",
        "create_policy_eval_video(saved_policy_1, \"trained-agent-1\")"
      ]
    },
    {
      "cell_type": "code",
      "execution_count": null,
      "metadata": {
        "id": "aUd9jzRPMdTa"
      },
      "outputs": [],
      "source": [
        "saved_policy_2 = tf.saved_model.load(policy_dir_2)\n",
        "print(compute_avg_win_battle(eval_env, saved_policy_2, random_policy, 200))\n",
        "create_policy_eval_video(saved_policy_2, \"trained-agent-2\")"
      ]
    },
    {
      "cell_type": "code",
      "source": [
        "create_policy_battle_video(saved_policy_1, random_policy, 'trained-agent-1-with-random')"
      ],
      "metadata": {
        "id": "ZMvc6ac05OAu"
      },
      "execution_count": null,
      "outputs": []
    },
    {
      "cell_type": "code",
      "source": [
        "create_policy_battle_video(saved_policy_2, random_policy, 'trained-agent-2-with-random')"
      ],
      "metadata": {
        "id": "J7eVTU-d5OiW"
      },
      "execution_count": null,
      "outputs": []
    },
    {
      "cell_type": "code",
      "source": [
        "create_policy_battle_video(saved_policy_1, saved_policy_2, 'trained-agent-battle')"
      ],
      "metadata": {
        "id": "6SAhQ2Ph5Ft2"
      },
      "execution_count": null,
      "outputs": []
    },
    {
      "cell_type": "markdown",
      "metadata": {
        "id": "Fsl0r1fyxpUD"
      },
      "source": []
    },
    {
      "cell_type": "markdown",
      "metadata": {
        "id": "WkOaR2zHrDwC"
      },
      "source": [
        "## TODO\n",
        "\n",
        "\n",
        "\n",
        "*   Check whether all functions are correct\n",
        "*   Check whether the environment is correctly implement\n",
        "*   Add the variant in `step` function\n",
        "*   Test whether the agent always chooses an *empty* square and whether they can go to an adjacent place correctly\n",
        "\n"
      ]
    }
  ],
  "metadata": {
    "colab": {
      "provenance": [],
      "authorship_tag": "ABX9TyPvTADIsjDIC58T/Nzwndly",
      "include_colab_link": true
    },
    "kernelspec": {
      "display_name": "Python 3",
      "name": "python3"
    },
    "language_info": {
      "name": "python"
    }
  },
  "nbformat": 4,
  "nbformat_minor": 0
}