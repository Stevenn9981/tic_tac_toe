{
 "cells": [
  {
   "cell_type": "markdown",
   "metadata": {
    "id": "view-in-github",
    "colab_type": "text"
   },
   "source": [
    "<a href=\"https://colab.research.google.com/github/Stevenn9981/tic_tac_toe/blob/master/tic_tac_toe_part1.ipynb\" target=\"_parent\"><img src=\"https://colab.research.google.com/assets/colab-badge.svg\" alt=\"Open In Colab\"/></a>"
   ]
  },
  {
   "cell_type": "markdown",
   "metadata": {
    "id": "iEy_PMnnf-Og"
   },
   "source": [
    "## Setup"
   ]
  },
  {
   "cell_type": "code",
   "execution_count": 1,
   "metadata": {
    "colab": {
     "base_uri": "https://localhost:8080/"
    },
    "id": "fdG6QronfqnR",
    "outputId": "b56cb3e4-c673-4a4c-db0d-afc61bf13e7f"
   },
   "outputs": [
    {
     "name": "stdout",
     "output_type": "stream",
     "text": [
      "\r0% [Working]\r            \rHit:1 http://archive.ubuntu.com/ubuntu jammy InRelease\n",
      "\r0% [Waiting for headers] [Connecting to security.ubuntu.com (185.125.190.39)] [\r                                                                               \rHit:2 http://archive.ubuntu.com/ubuntu jammy-updates InRelease\n",
      "\r0% [Waiting for headers] [Waiting for headers] [Waiting for headers] [Connected\r                                                                               \rGet:3 https://cloud.r-project.org/bin/linux/ubuntu jammy-cran40/ InRelease [3,626 B]\n",
      "\r0% [Waiting for headers] [Waiting for headers] [3 InRelease 3,626 B/3,626 B 100\r0% [Waiting for headers] [Waiting for headers] [Connected to ppa.launchpadconte\r                                                                               \rHit:4 http://archive.ubuntu.com/ubuntu jammy-backports InRelease\n",
      "\r0% [Waiting for headers] [Connected to ppa.launchpadcontent.net (185.125.190.80\r                                                                               \rHit:5 https://developer.download.nvidia.com/compute/cuda/repos/ubuntu2204/x86_64  InRelease\n",
      "Hit:6 http://security.ubuntu.com/ubuntu jammy-security InRelease\n",
      "Get:7 https://cloud.r-project.org/bin/linux/ubuntu jammy-cran40/ Packages [47.6 kB]\n",
      "Hit:8 https://ppa.launchpadcontent.net/c2d4u.team/c2d4u4.0+/ubuntu jammy InRelease\n",
      "Hit:9 https://ppa.launchpadcontent.net/deadsnakes/ppa/ubuntu jammy InRelease\n",
      "Hit:10 https://ppa.launchpadcontent.net/graphics-drivers/ppa/ubuntu jammy InRelease\n",
      "Hit:11 https://ppa.launchpadcontent.net/ubuntugis/ppa/ubuntu jammy InRelease\n",
      "Fetched 51.2 kB in 1s (46.2 kB/s)\n",
      "Reading package lists... Done\n",
      "Reading package lists... Done\n",
      "Building dependency tree... Done\n",
      "Reading state information... Done\n",
      "freeglut3-dev is already the newest version (2.8.1-6).\n",
      "ffmpeg is already the newest version (7:4.4.2-0ubuntu0.22.04.1).\n",
      "xvfb is already the newest version (2:21.1.4-2ubuntu1.7~22.04.2).\n",
      "0 upgraded, 0 newly installed, 0 to remove and 19 not upgraded.\n",
      "Requirement already satisfied: imageio in /usr/local/lib/python3.10/dist-packages (2.31.6)\n",
      "Requirement already satisfied: numpy in /usr/local/lib/python3.10/dist-packages (from imageio) (1.23.5)\n",
      "Requirement already satisfied: pillow<10.1.0,>=8.3.2 in /usr/local/lib/python3.10/dist-packages (from imageio) (9.4.0)\n",
      "Requirement already satisfied: pyvirtualdisplay in /usr/local/lib/python3.10/dist-packages (3.0)\n",
      "Requirement already satisfied: tf-agents[reverb] in /usr/local/lib/python3.10/dist-packages (0.18.0)\n",
      "Requirement already satisfied: absl-py>=0.6.1 in /usr/local/lib/python3.10/dist-packages (from tf-agents[reverb]) (1.4.0)\n",
      "Requirement already satisfied: cloudpickle>=1.3 in /usr/local/lib/python3.10/dist-packages (from tf-agents[reverb]) (2.2.1)\n",
      "Requirement already satisfied: gin-config>=0.4.0 in /usr/local/lib/python3.10/dist-packages (from tf-agents[reverb]) (0.5.0)\n",
      "Requirement already satisfied: gym<=0.23.0,>=0.17.0 in /usr/local/lib/python3.10/dist-packages (from tf-agents[reverb]) (0.23.0)\n",
      "Requirement already satisfied: numpy>=1.19.0 in /usr/local/lib/python3.10/dist-packages (from tf-agents[reverb]) (1.23.5)\n",
      "Requirement already satisfied: pillow in /usr/local/lib/python3.10/dist-packages (from tf-agents[reverb]) (9.4.0)\n",
      "Requirement already satisfied: six>=1.10.0 in /usr/local/lib/python3.10/dist-packages (from tf-agents[reverb]) (1.16.0)\n",
      "Requirement already satisfied: protobuf>=3.11.3 in /usr/local/lib/python3.10/dist-packages (from tf-agents[reverb]) (3.20.3)\n",
      "Requirement already satisfied: wrapt>=1.11.1 in /usr/local/lib/python3.10/dist-packages (from tf-agents[reverb]) (1.14.1)\n",
      "Requirement already satisfied: typing-extensions>=3.7.4.3 in /usr/local/lib/python3.10/dist-packages (from tf-agents[reverb]) (4.5.0)\n",
      "Requirement already satisfied: pygame==2.1.3 in /usr/local/lib/python3.10/dist-packages (from tf-agents[reverb]) (2.1.3)\n",
      "Requirement already satisfied: tensorflow-probability~=0.22.0 in /usr/local/lib/python3.10/dist-packages (from tf-agents[reverb]) (0.22.0)\n",
      "Requirement already satisfied: rlds in /usr/local/lib/python3.10/dist-packages (from tf-agents[reverb]) (0.1.8)\n",
      "Requirement already satisfied: dm-reverb~=0.13.0 in /usr/local/lib/python3.10/dist-packages (from tf-agents[reverb]) (0.13.0)\n",
      "Requirement already satisfied: tensorflow~=2.14.0 in /usr/local/lib/python3.10/dist-packages (from tf-agents[reverb]) (2.14.0)\n",
      "Requirement already satisfied: dm-tree in /usr/local/lib/python3.10/dist-packages (from dm-reverb~=0.13.0->tf-agents[reverb]) (0.1.8)\n",
      "Requirement already satisfied: portpicker in /usr/local/lib/python3.10/dist-packages (from dm-reverb~=0.13.0->tf-agents[reverb]) (1.5.2)\n",
      "Requirement already satisfied: gym-notices>=0.0.4 in /usr/local/lib/python3.10/dist-packages (from gym<=0.23.0,>=0.17.0->tf-agents[reverb]) (0.0.8)\n",
      "Requirement already satisfied: astunparse>=1.6.0 in /usr/local/lib/python3.10/dist-packages (from tensorflow~=2.14.0->tf-agents[reverb]) (1.6.3)\n",
      "Requirement already satisfied: flatbuffers>=23.5.26 in /usr/local/lib/python3.10/dist-packages (from tensorflow~=2.14.0->tf-agents[reverb]) (23.5.26)\n",
      "Requirement already satisfied: gast!=0.5.0,!=0.5.1,!=0.5.2,>=0.2.1 in /usr/local/lib/python3.10/dist-packages (from tensorflow~=2.14.0->tf-agents[reverb]) (0.5.4)\n",
      "Requirement already satisfied: google-pasta>=0.1.1 in /usr/local/lib/python3.10/dist-packages (from tensorflow~=2.14.0->tf-agents[reverb]) (0.2.0)\n",
      "Requirement already satisfied: h5py>=2.9.0 in /usr/local/lib/python3.10/dist-packages (from tensorflow~=2.14.0->tf-agents[reverb]) (3.9.0)\n",
      "Requirement already satisfied: libclang>=13.0.0 in /usr/local/lib/python3.10/dist-packages (from tensorflow~=2.14.0->tf-agents[reverb]) (16.0.6)\n",
      "Requirement already satisfied: ml-dtypes==0.2.0 in /usr/local/lib/python3.10/dist-packages (from tensorflow~=2.14.0->tf-agents[reverb]) (0.2.0)\n",
      "Requirement already satisfied: opt-einsum>=2.3.2 in /usr/local/lib/python3.10/dist-packages (from tensorflow~=2.14.0->tf-agents[reverb]) (3.3.0)\n",
      "Requirement already satisfied: packaging in /usr/local/lib/python3.10/dist-packages (from tensorflow~=2.14.0->tf-agents[reverb]) (23.2)\n",
      "Requirement already satisfied: setuptools in /usr/local/lib/python3.10/dist-packages (from tensorflow~=2.14.0->tf-agents[reverb]) (67.7.2)\n",
      "Requirement already satisfied: termcolor>=1.1.0 in /usr/local/lib/python3.10/dist-packages (from tensorflow~=2.14.0->tf-agents[reverb]) (2.3.0)\n",
      "Requirement already satisfied: tensorflow-io-gcs-filesystem>=0.23.1 in /usr/local/lib/python3.10/dist-packages (from tensorflow~=2.14.0->tf-agents[reverb]) (0.34.0)\n",
      "Requirement already satisfied: grpcio<2.0,>=1.24.3 in /usr/local/lib/python3.10/dist-packages (from tensorflow~=2.14.0->tf-agents[reverb]) (1.59.2)\n",
      "Requirement already satisfied: tensorboard<2.15,>=2.14 in /usr/local/lib/python3.10/dist-packages (from tensorflow~=2.14.0->tf-agents[reverb]) (2.14.1)\n",
      "Requirement already satisfied: tensorflow-estimator<2.15,>=2.14.0 in /usr/local/lib/python3.10/dist-packages (from tensorflow~=2.14.0->tf-agents[reverb]) (2.14.0)\n",
      "Requirement already satisfied: keras<2.15,>=2.14.0 in /usr/local/lib/python3.10/dist-packages (from tensorflow~=2.14.0->tf-agents[reverb]) (2.14.0)\n",
      "Requirement already satisfied: decorator in /usr/local/lib/python3.10/dist-packages (from tensorflow-probability~=0.22.0->tf-agents[reverb]) (4.4.2)\n",
      "Requirement already satisfied: wheel<1.0,>=0.23.0 in /usr/local/lib/python3.10/dist-packages (from astunparse>=1.6.0->tensorflow~=2.14.0->tf-agents[reverb]) (0.41.3)\n",
      "Requirement already satisfied: google-auth<3,>=1.6.3 in /usr/local/lib/python3.10/dist-packages (from tensorboard<2.15,>=2.14->tensorflow~=2.14.0->tf-agents[reverb]) (2.17.3)\n",
      "Requirement already satisfied: google-auth-oauthlib<1.1,>=0.5 in /usr/local/lib/python3.10/dist-packages (from tensorboard<2.15,>=2.14->tensorflow~=2.14.0->tf-agents[reverb]) (1.0.0)\n",
      "Requirement already satisfied: markdown>=2.6.8 in /usr/local/lib/python3.10/dist-packages (from tensorboard<2.15,>=2.14->tensorflow~=2.14.0->tf-agents[reverb]) (3.5.1)\n",
      "Requirement already satisfied: requests<3,>=2.21.0 in /usr/local/lib/python3.10/dist-packages (from tensorboard<2.15,>=2.14->tensorflow~=2.14.0->tf-agents[reverb]) (2.31.0)\n",
      "Requirement already satisfied: tensorboard-data-server<0.8.0,>=0.7.0 in /usr/local/lib/python3.10/dist-packages (from tensorboard<2.15,>=2.14->tensorflow~=2.14.0->tf-agents[reverb]) (0.7.2)\n",
      "Requirement already satisfied: werkzeug>=1.0.1 in /usr/local/lib/python3.10/dist-packages (from tensorboard<2.15,>=2.14->tensorflow~=2.14.0->tf-agents[reverb]) (3.0.1)\n",
      "Requirement already satisfied: psutil in /usr/local/lib/python3.10/dist-packages (from portpicker->dm-reverb~=0.13.0->tf-agents[reverb]) (5.9.5)\n",
      "Requirement already satisfied: cachetools<6.0,>=2.0.0 in /usr/local/lib/python3.10/dist-packages (from google-auth<3,>=1.6.3->tensorboard<2.15,>=2.14->tensorflow~=2.14.0->tf-agents[reverb]) (5.3.2)\n",
      "Requirement already satisfied: pyasn1-modules>=0.2.1 in /usr/local/lib/python3.10/dist-packages (from google-auth<3,>=1.6.3->tensorboard<2.15,>=2.14->tensorflow~=2.14.0->tf-agents[reverb]) (0.3.0)\n",
      "Requirement already satisfied: rsa<5,>=3.1.4 in /usr/local/lib/python3.10/dist-packages (from google-auth<3,>=1.6.3->tensorboard<2.15,>=2.14->tensorflow~=2.14.0->tf-agents[reverb]) (4.9)\n",
      "Requirement already satisfied: requests-oauthlib>=0.7.0 in /usr/local/lib/python3.10/dist-packages (from google-auth-oauthlib<1.1,>=0.5->tensorboard<2.15,>=2.14->tensorflow~=2.14.0->tf-agents[reverb]) (1.3.1)\n",
      "Requirement already satisfied: charset-normalizer<4,>=2 in /usr/local/lib/python3.10/dist-packages (from requests<3,>=2.21.0->tensorboard<2.15,>=2.14->tensorflow~=2.14.0->tf-agents[reverb]) (3.3.2)\n",
      "Requirement already satisfied: idna<4,>=2.5 in /usr/local/lib/python3.10/dist-packages (from requests<3,>=2.21.0->tensorboard<2.15,>=2.14->tensorflow~=2.14.0->tf-agents[reverb]) (3.4)\n",
      "Requirement already satisfied: urllib3<3,>=1.21.1 in /usr/local/lib/python3.10/dist-packages (from requests<3,>=2.21.0->tensorboard<2.15,>=2.14->tensorflow~=2.14.0->tf-agents[reverb]) (2.0.7)\n",
      "Requirement already satisfied: certifi>=2017.4.17 in /usr/local/lib/python3.10/dist-packages (from requests<3,>=2.21.0->tensorboard<2.15,>=2.14->tensorflow~=2.14.0->tf-agents[reverb]) (2023.7.22)\n",
      "Requirement already satisfied: MarkupSafe>=2.1.1 in /usr/local/lib/python3.10/dist-packages (from werkzeug>=1.0.1->tensorboard<2.15,>=2.14->tensorflow~=2.14.0->tf-agents[reverb]) (2.1.3)\n",
      "Requirement already satisfied: pyasn1<0.6.0,>=0.4.6 in /usr/local/lib/python3.10/dist-packages (from pyasn1-modules>=0.2.1->google-auth<3,>=1.6.3->tensorboard<2.15,>=2.14->tensorflow~=2.14.0->tf-agents[reverb]) (0.5.0)\n",
      "Requirement already satisfied: oauthlib>=3.0.0 in /usr/local/lib/python3.10/dist-packages (from requests-oauthlib>=0.7.0->google-auth-oauthlib<1.1,>=0.5->tensorboard<2.15,>=2.14->tensorflow~=2.14.0->tf-agents[reverb]) (3.2.2)\n",
      "Requirement already satisfied: pyglet in /usr/local/lib/python3.10/dist-packages (2.0.10)\n"
     ]
    }
   ],
   "source": [
    "!sudo apt-get update\n",
    "!sudo apt-get install -y xvfb ffmpeg freeglut3-dev\n",
    "!pip install imageio\n",
    "!pip install pyvirtualdisplay\n",
    "!pip install tf-agents[reverb]\n",
    "!pip install pyglet"
   ]
  },
  {
   "cell_type": "code",
   "execution_count": 2,
   "metadata": {
    "colab": {
     "base_uri": "https://localhost:8080/"
    },
    "id": "h-vtSiPUgOOU",
    "outputId": "d64df9be-e75d-4052-eb3c-7459eb6ccf5b"
   },
   "outputs": [
    {
     "name": "stdout",
     "output_type": "stream",
     "text": [
      "pygame 2.1.3 (SDL 2.0.22, Python 3.10.12)\n",
      "Hello from the pygame community. https://www.pygame.org/contribute.html\n"
     ]
    }
   ],
   "source": [
    "import base64\n",
    "import imageio\n",
    "import IPython\n",
    "import matplotlib\n",
    "import matplotlib.pyplot as plt\n",
    "import numpy as np\n",
    "import PIL.Image\n",
    "import pyvirtualdisplay\n",
    "import reverb\n",
    "import random\n",
    "import os\n",
    "import shutil\n",
    "import tempfile\n",
    "import zipfile\n",
    "import copy\n",
    "\n",
    "import pygame as pg\n",
    "from pygame import gfxdraw\n",
    "from pygame.locals import *\n",
    "\n",
    "import tensorflow as tf\n",
    "\n",
    "from tf_agents.agents.categorical_dqn import categorical_dqn_agent\n",
    "from tf_agents.agents.dqn import dqn_agent\n",
    "from tf_agents.drivers import py_driver\n",
    "from tf_agents.drivers import dynamic_step_driver\n",
    "from tf_agents.environments import suite_gym\n",
    "from tf_agents.environments import py_environment\n",
    "from tf_agents.environments import tf_environment\n",
    "from tf_agents.environments import tf_py_environment\n",
    "from tf_agents.eval import metric_utils\n",
    "from tf_agents.metrics import tf_metrics\n",
    "from tf_agents.networks import sequential\n",
    "from tf_agents.networks import q_network\n",
    "from tf_agents.networks import categorical_q_network\n",
    "from tf_agents.policies import policy_saver\n",
    "from tf_agents.policies import py_tf_eager_policy\n",
    "from tf_agents.policies import random_tf_policy\n",
    "from tf_agents.policies import random_py_policy\n",
    "from tf_agents.replay_buffers import tf_uniform_replay_buffer\n",
    "from tf_agents.replay_buffers import reverb_replay_buffer\n",
    "from tf_agents.replay_buffers import reverb_utils\n",
    "from tf_agents.trajectories import trajectory\n",
    "from tf_agents.trajectories import PolicyStep\n",
    "from tf_agents.specs import tensor_spec\n",
    "from tf_agents.specs import array_spec\n",
    "from tf_agents.utils import common\n",
    "from tf_agents.trajectories import time_step as ts, TimeStep\n",
    "\n",
    "import gym\n",
    "import numpy as np\n",
    "import math\n",
    "from tabulate import tabulate\n",
    "\n",
    "from typing import Tuple, List\n",
    "\n",
    "\n",
    "tempdir = \"./\""
   ]
  },
  {
   "cell_type": "code",
   "execution_count": 3,
   "metadata": {
    "colab": {
     "base_uri": "https://localhost:8080/",
     "height": 35.0
    },
    "id": "MsV4e7iqg10s",
    "outputId": "6a26bdea-6c66-461b-d329-e7a8895a0981"
   },
   "outputs": [
    {
     "data": {
      "text/plain": [
       "'2.14.0'"
      ]
     },
     "execution_count": 3,
     "metadata": {},
     "output_type": "execute_result"
    }
   ],
   "source": [
    "tf.version.VERSION"
   ]
  },
  {
   "cell_type": "markdown",
   "metadata": {
    "id": "sWwU8Wp7g2_X"
   },
   "source": [
    "## Hyper-parameters"
   ]
  },
  {
   "cell_type": "code",
   "execution_count": 4,
   "metadata": {
    "id": "reKJx_ybg7_L"
   },
   "outputs": [],
   "source": [
    "num_iterations = 1000  # @param {type:\"integer\"}\n",
    "\n",
    "initial_collect_steps = 100  # @param {type:\"integer\"}\n",
    "initial_collect_episodes = 5  # @param {type:\"integer\"}\n",
    "collect_steps_per_iteration = 1  # @param {type:\"integer\"}\n",
    "collect_episodes_per_iteration = 1  # @param {type:\"integer\"}\n",
    "replay_buffer_max_length = 10000  # @param {type:\"integer\"}\n",
    "\n",
    "batch_size = 128  # @param {type:\"integer\"}\n",
    "learning_rate = 2e-4  # @param {type:\"number\"}\n",
    "log_interval = 5  # @param {type:\"integer\"}\n",
    "\n",
    "num_eval_episodes = 50  # @param {type:\"integer\"}\n",
    "eval_interval = 20  # @param {type:\"integer\"}\n",
    "\n",
    "gamma = 0  # @param {type:\"number\"}\n",
    "n_step_update = 1  # @param {type:\"integer\"}\n",
    "fc_layer_params = (100,)\n",
    "\n",
    "BOARD_SIZE = 9  # @param {type:\"integer\"}\n",
    "\n",
    "REWARD_DRAW = 0  # @param {type:\"number\"}\n",
    "REWARD_ALIVE = 0  # @param {type:\"number\"}\n",
    "REWARD_NON_ADJ = -0.03  # @param {type:\"number\"}\n",
    "\n",
    "# '_' means empty position, 'O' and 'X' means two players.\n",
    "REWARD_ACTIVE_TWO = 0.1  # @param {type:\"number\"} _OO_ or _XX_, we call it active_two\n",
    "REWARD_NONACT_THREE = 0.3  # @param {type:\"number\"} _OOOX or _XXXO or XOOO_ or OXXX_, we call it non_active_three\n",
    "REWARD_ACTIVE_THREE = 0.9  # @param {type:\"number\"} _OOO_ or _XXX_, we call it active_three\n",
    "REWARD_WIN = 3  # @param {type:\"number\"} _OOOO_ or _XXXX_\n",
    "\n",
    "tempdir = \"./\""
   ]
  },
  {
   "cell_type": "markdown",
   "metadata": {
    "id": "WOBVDKmMIcyJ"
   },
   "source": [
    "## Environment"
   ]
  },
  {
   "cell_type": "code",
   "execution_count": 5,
   "metadata": {
    "id": "aq7Q2oxyIhS8"
   },
   "outputs": [],
   "source": [
    "class TicTacToeEnv1(py_environment.PyEnvironment):\n",
    "    \"\"\"\n",
    "    Implementation of a TicTacToe Environment based on the instructions of Part 1, Question 1.\n",
    "    \"\"\"\n",
    "\n",
    "    def __init__(self, train=False) -> None:\n",
    "        \"\"\"This class contains a TicTacToe environment for Part 1\n",
    "\n",
    "        Args:\n",
    "            train (bool): whether this is an environment for training.\n",
    "        \"\"\"\n",
    "        self.n_actions = BOARD_SIZE * BOARD_SIZE  # 9 * 9 grids to drop\n",
    "\n",
    "        self._observation_spec = {\n",
    "            'state': array_spec.BoundedArraySpec(shape=(BOARD_SIZE, BOARD_SIZE, 5), dtype=np.int_, minimum=0,\n",
    "                                                 maximum=1),\n",
    "            'legal_moves': array_spec.ArraySpec(shape=(self.n_actions,), dtype=np.bool_)}\n",
    "\n",
    "        self._action_spec = array_spec.BoundedArraySpec(shape=(), dtype=np.int_, minimum=0, maximum=self.n_actions - 1)\n",
    "        self.colors = [1, 2]\n",
    "        self.screen = None\n",
    "        self.fields_per_side = BOARD_SIZE\n",
    "        self.train = train\n",
    "        self.reset()\n",
    "\n",
    "    def observation_spec(self):\n",
    "        return self._observation_spec\n",
    "\n",
    "    def action_spec(self):\n",
    "        return self._action_spec\n",
    "\n",
    "    def get_result(self):\n",
    "        return self.result\n",
    "\n",
    "    def if_chess_nearby(self, row, col) -> bool:\n",
    "        \"\"\"\n",
    "        Determine whether there are chess pieces in 2 squares around the given position (row, col)\n",
    "\n",
    "        Args:\n",
    "          row (int): row index\n",
    "          col (int): column index\n",
    "\n",
    "        Returns:\n",
    "          res (boolean): true, if there are\n",
    "        \"\"\"\n",
    "        for i in range(-2, 3):\n",
    "            for j in range(-2, 3):\n",
    "                if 0 <= row + i < BOARD_SIZE and 0 <= col + j < BOARD_SIZE:\n",
    "                    if self.board[row + i, col + j] != 0:\n",
    "                        return True\n",
    "        return False\n",
    "\n",
    "    def _reset(self) -> Tuple[np.ndarray, dict]:\n",
    "        \"\"\"\n",
    "        reset the board game and state\n",
    "        \"\"\"\n",
    "        self.board: np.ndarray = np.zeros(\n",
    "            (self.fields_per_side, self.fields_per_side), dtype=int\n",
    "        )\n",
    "        self.current_player = 1\n",
    "        self.info = {\"Occupied\": set(), \"legal_moves\": np.ones((self.n_actions,), dtype=bool)}\n",
    "        self.latest_action = None\n",
    "\n",
    "        # 0 means not finished, 1 or 2 means the winner and 3 means draw\n",
    "        self.result = 0\n",
    "\n",
    "        # return self.decompose_board_to_state()\n",
    "        observations_and_legal_moves = {'state': self.decompose_board_to_state(),\n",
    "                                        'legal_moves': self.info[\"legal_moves\"]}\n",
    "        return ts.restart(observations_and_legal_moves)\n",
    "\n",
    "    def decompose_board_to_state(self):\n",
    "        \"\"\"\n",
    "        Our state is a 9x9x5 matrix.\n",
    "        The first layer is the opponent's play history, 0 means no stone, 1 means stones placed by the opponent.\n",
    "        The second layer is the current player's history, 0 means no stone, 1 means stones placed by the current player.\n",
    "        The third layer is the opponent's latest play-out; only one entry is 1 and the others are 0. If the board is empty now, all entries are 0.\n",
    "        The fourth layer is whether the current player is the first hand. an array that is full of 1 means yes, and 0 means no.\n",
    "        The fifth layer shows the empty positions whose adjacent positions are not all empty. 1 means there is at least one chess piece in its adjacent positions, and 0 means no.\n",
    "        \"\"\"\n",
    "        opponent = 2 if self.current_player == 1 else 1\n",
    "        o_plays = (self.board == opponent) * 1\n",
    "        c_plays = (self.board == self.current_player) * 1\n",
    "        l_play = np.zeros_like(self.board)\n",
    "        if self.latest_action:\n",
    "            r, c = self.decode_action(self.latest_action)\n",
    "            l_play[r, c] = 1\n",
    "        if_first = np.full_like(self.board, (self.current_player == 1) * 1)\n",
    "        adj_play = np.zeros_like(self.board)\n",
    "        for row in range(adj_play.shape[0]):\n",
    "            for col in range(adj_play.shape[1]):\n",
    "                if self.board[row, col] == 0 and self.if_chess_nearby(row, col):\n",
    "                    adj_play[row, col] = 1\n",
    "        return np.stack([o_plays, c_plays, l_play, if_first, adj_play], axis=2)\n",
    "\n",
    "    def _step(self, action: int) -> TimeStep:\n",
    "        \"\"\"step function of the tictactoeEnv1\n",
    "\n",
    "        Args:\n",
    "          action (int): integer between [0, 80], each representing a field on the board\n",
    "\n",
    "        Returns:\n",
    "          state (np.array): state of 2 players' history, 0 means no stone, 1 means stones placed by the corresponding player (shape: 9x9x2).\n",
    "          reward (int): reward of the currrent step\n",
    "          done (boolean): true, if the game is finished\n",
    "          (dict): empty dict for future game related information\n",
    "        \"\"\"\n",
    "        action = int(action)\n",
    "        if not (0 <= action < self.n_actions):\n",
    "            raise ValueError(f\"action '{action}' is not in action_space\")\n",
    "\n",
    "        reward = REWARD_ALIVE\n",
    "        (row, col) = self.decode_action(action)\n",
    "\n",
    "        # If the agent/player does not choose an empty square, raise the ValueError.\n",
    "        if self.board[row, col] != 0:\n",
    "            if len(self.info[\"Occupied\"]) == BOARD_SIZE * BOARD_SIZE:\n",
    "                raise ValueError('BORAD IS FULL!')\n",
    "            raise ValueError('ERROR: Not A LEGAL MOVE (NOT EMPTY)')\n",
    "\n",
    "        # According to the game rules, randomly select an adjacent position with a probability of 1/16.\n",
    "        # Note that since this will bring some randomness to the training process, we disable this during training.\n",
    "        if not self.train:\n",
    "            if random.random() < 0.5:\n",
    "                row, col = self.choose_adj_pos(row, col)\n",
    "\n",
    "        # if len(self.info[\"Occupied\"]) != 0 and not self.if_chess_nearby(row, col):\n",
    "        #     reward += REWARD_NON_ADJ\n",
    "\n",
    "        win = False\n",
    "        if 0 <= row < BOARD_SIZE and 0 <= col < BOARD_SIZE and self.board[row, col] == 0:\n",
    "            self.board[row, col] = self.current_player  # drop the piece on the field\n",
    "            win = self._is_win(self.current_player, row, col)\n",
    "\n",
    "            cnt_act_two = self.detect_alive_two(row, col)\n",
    "            cnt_non_act_three, cnt_act_three = self.detect_three(row, col)\n",
    "\n",
    "            reward += (\n",
    "                    cnt_act_two * REWARD_ACTIVE_TWO + cnt_non_act_three * REWARD_NONACT_THREE + cnt_act_three * REWARD_ACTIVE_THREE)\n",
    "\n",
    "            action = row * BOARD_SIZE + col\n",
    "            self.latest_action = action\n",
    "            self.info[\"Occupied\"].add(action)\n",
    "            self.info['legal_moves'][action] = False\n",
    "\n",
    "        if win:\n",
    "            self.result = self.current_player\n",
    "            reward += REWARD_WIN\n",
    "        elif len(self.info[\"Occupied\"]) == BOARD_SIZE * BOARD_SIZE:  # Draw\n",
    "            self.result = 3\n",
    "            reward += REWARD_DRAW\n",
    "\n",
    "        done = (win or len(self.info[\"Occupied\"]) == BOARD_SIZE * BOARD_SIZE)\n",
    "        self.current_player = self.current_player + 1 if self.current_player == 1 else 1\n",
    "        state = self.decompose_board_to_state()\n",
    "\n",
    "        observations_and_legal_moves = {'state': state, 'legal_moves': self.info['legal_moves']}\n",
    "\n",
    "        if done:\n",
    "            return ts.termination(observations_and_legal_moves, reward)\n",
    "        else:\n",
    "            return ts.transition(observations_and_legal_moves, reward)\n",
    "\n",
    "    def detect_alive_two(self, row: int, col: int) -> int:\n",
    "        \"\"\" Detect how many alive_two can obtain by this play out.\n",
    "\n",
    "        Args:\n",
    "            row (int): row of the current play\n",
    "            col (int): column of the current play\n",
    "\n",
    "        Returns:\n",
    "            cnt (int): the number of alive_two\n",
    "        \"\"\"\n",
    "        cnt = 0\n",
    "        adjs = [[-1, -1], [-1, 0], [-1, 1], [0, 1], [0, -1], [1, -1], [1, 0], [1, 1]]\n",
    "        for adj in adjs:\n",
    "            p1_r, p1_c = row + 2 * adj[0], col + 2 * adj[1]\n",
    "            p2_r, p2_c = row - adj[0], col - adj[1]\n",
    "            if 0 <= p1_r < 9 and 0 <= p1_c < 9 and 0 <= p2_r < 9 and 0 <= p2_c < 9:\n",
    "                if self.board[row + adj[0], col + adj[1]] == self.current_player and self.board[p1_r, p1_c] == 0 and \\\n",
    "                        self.board[p2_r, p2_c] == 0:\n",
    "                    cnt += 1\n",
    "        return cnt\n",
    "\n",
    "    def detect_three(self, r: int, c: int) -> tuple:\n",
    "        \"\"\" Detect how many non_active_three and active_three can obtain by this play out.\n",
    "\n",
    "        Args:\n",
    "            r (int): row of the current play\n",
    "            c (int): column of the current play\n",
    "\n",
    "        Returns:\n",
    "            cnt_non_act (int): the number of non_active_three\n",
    "            cnt_act (int): the number of active_three\n",
    "        \"\"\"\n",
    "        cnt_non_act = 0\n",
    "        cnt_act = 0\n",
    "        opponent = self.current_player + 1 if self.current_player == 1 else 1\n",
    "        directions = [[0, 1], [1, 0], [1, 1], [1, -1]]\n",
    "\n",
    "        for direct in directions:\n",
    "            count = 0\n",
    "            for offset in range(-2, 3):\n",
    "                if 0 <= r + offset * direct[0] < 9 and 0 <= c + offset * direct[1] < 9:\n",
    "                    if self.board[r + offset * direct[0], c + offset * direct[1]] == self.current_player:\n",
    "                        count += 1\n",
    "                        if count == 3:\n",
    "                            p1_r, p1_c = r + (offset + 1) * direct[0], c + (offset + 1) * direct[1]\n",
    "                            p2_r, p2_c = r + (offset - 3) * direct[0], c + (offset - 3) * direct[1]\n",
    "\n",
    "                            p1_is_empty = (0 <= p1_r < 9 and 0 <= p1_c < 9 and self.board[p1_r, p1_c] == 0)\n",
    "                            p2_is_empty = (0 <= p2_r < 9 and 0 <= p2_c < 9 and self.board[p2_r, p2_c] == 0)\n",
    "\n",
    "                            if p1_is_empty and p2_is_empty:\n",
    "                                cnt_act += 1\n",
    "                            elif p1_is_empty or p2_is_empty:\n",
    "                                cnt_non_act += 1\n",
    "                            break\n",
    "                    else:\n",
    "                        count = 0\n",
    "\n",
    "        return cnt_non_act, cnt_act\n",
    "\n",
    "    def choose_adj_pos(self, row: int, col: int) -> tuple:\n",
    "        \"\"\" Randomly select an adjacent position with equal probabilities.\n",
    "\n",
    "        Args:\n",
    "            row (int): row of the current play\n",
    "            col (int): column of the current play\n",
    "\n",
    "        Returns:\n",
    "            row (int): row of the selected adjacent position\n",
    "            col (int): column of the selected adjacent position\n",
    "        \"\"\"\n",
    "\n",
    "        adjs = [[-1, -1], [-1, 0], [-1, 1], [0, 1], [0, -1], [1, -1], [1, 0], [1, 1]]\n",
    "        adj = random.choice(adjs)\n",
    "        row, col = row + adj[0], col + adj[1]\n",
    "        return row, col\n",
    "\n",
    "    def _is_win(self, color: int, r: int, c: int) -> bool:\n",
    "        \"\"\"check if this player results in a winner\n",
    "\n",
    "        Args:\n",
    "            color (int): of the player\n",
    "            r (int): row of the current play\n",
    "            c (int): column of the current play\n",
    "\n",
    "        Returns:\n",
    "            bool: indicating if there is a winner\n",
    "        \"\"\"\n",
    "\n",
    "        # check if four equal stones are aligned (horizontal, verical or diagonal)\n",
    "        directions = [[0, 1], [1, 0], [1, 1], [1, -1]]\n",
    "\n",
    "        for direct in directions:\n",
    "            count = 0\n",
    "            for offset in range(-3, 4):\n",
    "                if 0 <= r + offset * direct[0] < 9 and 0 <= c + offset * direct[1] < 9:\n",
    "                    if self.board[r + offset * direct[0], c + offset * direct[1]] == color:\n",
    "                        count += 1\n",
    "                        if count == 4:\n",
    "                            return True\n",
    "                    else:\n",
    "                        count = 0\n",
    "\n",
    "        return False\n",
    "\n",
    "    def decode_action(self, action: int) -> List[int]:\n",
    "        \"\"\"decode the action integer into a colum and row value\n",
    "\n",
    "        0 = upper left corner\n",
    "        8 = lower right corner\n",
    "\n",
    "        Args:\n",
    "            action (int): action\n",
    "\n",
    "        Returns:\n",
    "            List[int, int]: a list with the [row, col] values\n",
    "        \"\"\"\n",
    "        col = action % BOARD_SIZE\n",
    "        row = action // BOARD_SIZE\n",
    "        assert 0 <= col < BOARD_SIZE\n",
    "        return [row, col]\n",
    "\n",
    "    def render(self, render_mode=\"rgb_array\") -> np.ndarray:\n",
    "        \"\"\"Render the board\n",
    "        Print a string that shows the current board, if render_mode == human,\n",
    "        Return the RGB array of a figure which shows the current board.\n",
    "        \"\"\"\n",
    "        board = np.zeros((BOARD_SIZE, BOARD_SIZE), dtype=str)\n",
    "        for ii in range(BOARD_SIZE):\n",
    "            for jj in range(BOARD_SIZE):\n",
    "                if self.board[ii, jj] == 0:\n",
    "                    board[ii, jj] = \"-\"\n",
    "                elif self.board[ii, jj] == 1:\n",
    "                    board[ii, jj] = \"X\"\n",
    "                elif self.board[ii, jj] == 2:\n",
    "                    board[ii, jj] = \"O\"\n",
    "\n",
    "        if render_mode == \"human\":\n",
    "            board = tabulate(board, tablefmt=\"fancy_grid\")\n",
    "            print(board)\n",
    "            print(\"\\n\")\n",
    "\n",
    "        width = height = 400\n",
    "\n",
    "        white = (255, 255, 255)\n",
    "        line_color = (0, 0, 0)\n",
    "        red = (255, 0, 0)\n",
    "\n",
    "        os.environ[\"SDL_VIDEODRIVER\"] = \"dummy\"\n",
    "        pg.init()\n",
    "\n",
    "        # Set up the drawing window\n",
    "        if self.screen is None:\n",
    "            self.screen = pg.display.set_mode([width + 16, height + 16])\n",
    "\n",
    "        self.screen.fill(white)\n",
    "        # drawing vertical lines\n",
    "        for i in range(10):\n",
    "            pg.draw.line(self.screen, line_color, (width / BOARD_SIZE * i, 0), (width / BOARD_SIZE * i, height), 2)\n",
    "\n",
    "        # drawing horizontal lines\n",
    "        for i in range(10):\n",
    "            pg.draw.line(self.screen, line_color, (0, height / BOARD_SIZE * i), (width, height / BOARD_SIZE * i), 2)\n",
    "        pg.display.flip()\n",
    "\n",
    "        latest_row, latest_col = -1, -1\n",
    "        if self.latest_action:\n",
    "            latest_row, latest_col = self.decode_action(self.latest_action)\n",
    "\n",
    "        # drawing noughts and crosses\n",
    "        for i in range(BOARD_SIZE):\n",
    "            for j in range(BOARD_SIZE):\n",
    "                color = line_color\n",
    "                if latest_row == i and latest_col == j:\n",
    "                    color = red\n",
    "                if self.board[i, j] == 1:  # Draw crosses\n",
    "                    pg.draw.lines(self.screen, color, True, [(width / BOARD_SIZE * (j + 0.5) - 10,\n",
    "                                                              height / BOARD_SIZE * (i + 0.5) - 10),\n",
    "                                                             (width / BOARD_SIZE * (j + 0.5) + 10,\n",
    "                                                              height / BOARD_SIZE * (i + 0.5) + 10)], 3)\n",
    "                    pg.draw.lines(self.screen, color, True, [(width / BOARD_SIZE * (j + 0.5) - 10,\n",
    "                                                              height / BOARD_SIZE * (i + 0.5) + 10),\n",
    "                                                             (width / BOARD_SIZE * (j + 0.5) + 10,\n",
    "                                                              height / BOARD_SIZE * (i + 0.5) - 10)], 3)\n",
    "                elif self.board[i, j] == 2:  # Draw noughts\n",
    "                    pg.draw.circle(self.screen, color,\n",
    "                                   (width / BOARD_SIZE * (j + 0.5), height / BOARD_SIZE * (i + 0.5)), 12, 3)\n",
    "\n",
    "        board = np.transpose(\n",
    "            np.array(pg.surfarray.pixels3d(self.screen)), axes=(1, 0, 2)\n",
    "        )\n",
    "\n",
    "        return board\n"
   ]
  },
  {
   "cell_type": "code",
   "execution_count": 6,
   "metadata": {
    "id": "Yhocpw-j36C0"
   },
   "outputs": [],
   "source": [
    "def observation_and_action_constraint_splitter(obs):\n",
    "    return obs['state'], obs['legal_moves']"
   ]
  },
  {
   "cell_type": "markdown",
   "metadata": {
    "id": "LqFsRLWJslkf"
   },
   "source": [
    "## Random play test"
   ]
  },
  {
   "cell_type": "code",
   "execution_count": 7,
   "metadata": {
    "id": "qJYsgWM-79vr"
   },
   "outputs": [],
   "source": [
    "def embed_mp4(filename):\n",
    "    \"\"\"Embeds an mp4 file in the notebook.\"\"\"\n",
    "    video = open(filename,'rb').read()\n",
    "    b64 = base64.b64encode(video)\n",
    "    tag = '''\n",
    "    <video width=\"480\" height=\"480\" controls>\n",
    "      <source src=\"data:video/mp4;base64,{0}\" type=\"video/mp4\">\n",
    "    Your browser does not support the video tag.\n",
    "    </video>'''.format(b64.decode())\n",
    "\n",
    "    return IPython.display.HTML(tag)\n",
    "\n",
    "def create_policy_eval_video(eval_env, policy, filename, fps=2):\n",
    "    py_env = eval_env._envs[0]\n",
    "    tf_env = eval_env\n",
    "    filename = filename + \".mp4\"\n",
    "    with imageio.get_writer(filename, fps=fps) as video:\n",
    "      time_step = tf_env.reset()\n",
    "      video.append_data(py_env.render())\n",
    "      while not time_step.is_last():\n",
    "        action_step = policy.action(time_step, eval_env)\n",
    "        time_step = tf_env.step(action_step.action)\n",
    "        video.append_data(py_env.render())\n",
    "\n",
    "    return embed_mp4(filename)\n",
    "\n",
    "\n",
    "def create_policy_battle_video(eval_env, policy1, policy2, filename, fps=2):\n",
    "    py_env = eval_env._envs[0]\n",
    "    tf_env = eval_env\n",
    "    filename = filename + \".mp4\"\n",
    "    with imageio.get_writer(filename, fps=fps) as video:\n",
    "      time_step = tf_env.reset()\n",
    "      video.append_data(py_env.render())\n",
    "      while not time_step.is_last():\n",
    "        action_step = policy1.action(time_step, eval_env)\n",
    "        time_step = tf_env.step(action_step.action)\n",
    "        video.append_data(py_env.render())\n",
    "        if not time_step.is_last():\n",
    "          action_step = policy2.action(time_step, eval_env)\n",
    "          time_step = tf_env.step(action_step.action)\n",
    "          video.append_data(py_env.render())\n",
    "\n",
    "    return embed_mp4(filename)\n",
    "\n",
    "def create_random_policy(train_env):\n",
    "    return random_tf_policy.RandomTFPolicy(train_env.time_step_spec(), train_env.action_spec(),\n",
    "                                           observation_and_action_constraint_splitter=observation_and_action_constraint_splitter)"
   ]
  },
  {
   "cell_type": "code",
   "execution_count": 8,
   "metadata": {
    "colab": {
     "base_uri": "https://localhost:8080/",
     "height": 501.0
    },
    "id": "yNw07pahBY78",
    "outputId": "ea08c0b8-9868-4bd7-cedd-1dd670a49648"
   },
   "outputs": [
    {
     "data": {
      "text/html": [
       "\n",
       "    <video width=\"480\" height=\"480\" controls>\n",
       "      <source src=\"data:video/mp4;base64,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\" type=\"video/mp4\">\n",
       "    Your browser does not support the video tag.\n",
       "    </video>"
      ],
      "text/plain": [
       "<IPython.core.display.HTML object>"
      ]
     },
     "execution_count": 8,
     "metadata": {},
     "output_type": "execute_result"
    }
   ],
   "source": [
    "py_env = TicTacToeEnv1()\n",
    "tf_env = tf_py_environment.TFPyEnvironment(py_env)\n",
    "random_policy = create_random_policy(tf_env)\n",
    "create_policy_eval_video(tf_env, random_policy, \"random-agent-part1\")"
   ]
  },
  {
   "cell_type": "markdown",
   "metadata": {
    "id": "GPHWdRyT-ND0"
   },
   "source": [
    "## Agent"
   ]
  },
  {
   "cell_type": "code",
   "execution_count": 9,
   "metadata": {
    "id": "TgkdEPg_muzV"
   },
   "outputs": [],
   "source": [
    "def create_q_net(train_env):\n",
    "  conv_layer_params = [32, 64, 128]\n",
    "  action_tensor_spec = tensor_spec.from_spec(train_env.action_spec())\n",
    "  num_actions = action_tensor_spec.maximum - action_tensor_spec.minimum + 1\n",
    "\n",
    "  # Define a helper function to create Conv layers configured with the right\n",
    "  # activation and kernel initializer.\n",
    "  def conv_layer(num_units):\n",
    "    return tf.keras.layers.Conv2D(\n",
    "                        filters=num_units,\n",
    "                        kernel_size=[3, 3],\n",
    "                        padding=\"same\",\n",
    "                        data_format=\"channels_last\",\n",
    "                        activation=tf.nn.leaky_relu,\n",
    "                        dtype=float)\n",
    "\n",
    "\n",
    "  # QNetwork consists of a sequence of Conv layers followed by a dense layer\n",
    "  # with `num_actions` units to generate one q_value per available action as\n",
    "  # its output.\n",
    "  normalization1 = tf.keras.layers.BatchNormalization()\n",
    "  normalization2 = tf.keras.layers.BatchNormalization()\n",
    "  conv_layers = [conv_layer(num_units) for num_units in conv_layer_params]\n",
    "  action_conv = tf.keras.layers.Conv2D(filters=4,\n",
    "                      kernel_size=[1, 1], padding=\"same\",\n",
    "                      data_format=\"channels_last\")\n",
    "  flatten = tf.keras.layers.Flatten()\n",
    "  q_values_layer = tf.keras.layers.Dense(\n",
    "      num_actions,\n",
    "      activation=None,\n",
    "      kernel_initializer=tf.keras.initializers.RandomUniform(\n",
    "          minval=-0.03, maxval=0.03),\n",
    "      bias_initializer=tf.keras.initializers.Constant(-0.2))\n",
    "  q_net = sequential.Sequential([normalization1] + conv_layers + [action_conv, normalization2, flatten, q_values_layer])\n",
    "  return q_net\n"
   ]
  },
  {
   "cell_type": "code",
   "execution_count": 10,
   "metadata": {
    "id": "SHfKpTle0cOC"
   },
   "outputs": [],
   "source": [
    "def create_dqn_agent(train_env):\n",
    "  optimizer = tf.keras.optimizers.Adam(learning_rate=learning_rate)\n",
    "  q_net = create_q_net(train_env)\n",
    "  agent = dqn_agent.DqnAgent(\n",
    "      train_env.time_step_spec(),\n",
    "      train_env.action_spec(),\n",
    "      q_network=q_net,\n",
    "      gamma=gamma,\n",
    "      observation_and_action_constraint_splitter=observation_and_action_constraint_splitter,\n",
    "      optimizer=optimizer,\n",
    "      td_errors_loss_fn=common.element_wise_squared_loss,\n",
    "      train_step_counter=tf.Variable(0))\n",
    "  agent.initialize()\n",
    "  return agent"
   ]
  },
  {
   "cell_type": "code",
   "execution_count": 11,
   "metadata": {
    "id": "GfDHHq84JCYa"
   },
   "outputs": [],
   "source": [
    "class PlayPolicy():\n",
    "    def __init__(self, policy):\n",
    "        self.policy = policy\n",
    "\n",
    "    def action(self, act: int, env=None):\n",
    "        action_step = self.policy.action(act)\n",
    "        if env:\n",
    "            # when the board is empty, choose the center position.\n",
    "            py_env = env._envs[0]\n",
    "            if np.sum(py_env.board) == 0:\n",
    "                return PolicyStep(action=tf.convert_to_tensor(np.array([40])))\n",
    "            elif np.sum(py_env.board) > 6:\n",
    "                current_player = py_env.current_player\n",
    "                opponent = current_player + 1 if current_player == 1 else 1\n",
    "                occupied_positions = py_env.info['Occupied']\n",
    "                for act in range(81):\n",
    "                    if act not in occupied_positions and self.drop_here_will_win(py_env, act, current_player):\n",
    "                        return PolicyStep(action=tf.convert_to_tensor(np.array([act])))\n",
    "                for act in range(81):\n",
    "                    if act not in occupied_positions and self.drop_here_will_win(py_env, act, opponent):\n",
    "                        return PolicyStep(action=tf.convert_to_tensor(np.array([act])))\n",
    "        return action_step\n",
    "\n",
    "    def drop_here_will_win(self, py_env, action, color):\n",
    "        # check if four equal stones are aligned (horizontal, vertical or diagonal)\n",
    "        directions = [[0, 1], [1, 0], [1, 1], [1, -1]]\n",
    "\n",
    "        current_board = copy.deepcopy(py_env.board)\n",
    "        r, c = py_env.decode_action(action)\n",
    "        current_board[r, c] = color\n",
    "\n",
    "        for direct in directions:\n",
    "            count = 0\n",
    "            for offset in range(-3, 4):\n",
    "                if 0 <= r + offset * direct[0] < 9 and 0 <= c + offset * direct[1] < 9:\n",
    "                    if current_board[r + offset * direct[0], c + offset * direct[1]] == color:\n",
    "                        count += 1\n",
    "                        if count == 4:\n",
    "                            return True\n",
    "                    else:\n",
    "                        count = 0\n",
    "\n",
    "        return False"
   ]
  },
  {
   "cell_type": "markdown",
   "metadata": {
    "id": "QaVnWWX4xpa5"
   },
   "source": [
    "## Util functions"
   ]
  },
  {
   "cell_type": "code",
   "execution_count": 12,
   "metadata": {
    "id": "N8vRFWNgx-tj"
   },
   "outputs": [],
   "source": [
    "def compute_avg_return(environment, policy, num_episodes=10):\n",
    "\n",
    "  total_return = 0.0\n",
    "  for _ in range(num_episodes):\n",
    "    time_step = environment.reset()\n",
    "    episode_return = 0.0\n",
    "    while not time_step.is_last():\n",
    "      action_step = policy.action(time_step)\n",
    "      time_step = environment.step(action_step.action)\n",
    "      episode_return += time_step.reward\n",
    "    total_return += episode_return\n",
    "\n",
    "  avg_return = total_return / num_episodes\n",
    "  return avg_return.numpy()[0]\n",
    "\n",
    "def compute_avg_return_battle(environment, policy1, policy2, num_episodes=10):\n",
    "\n",
    "  total_return_1 = 0.0\n",
    "  total_return_2 = 0.0\n",
    "  for _ in range(num_episodes):\n",
    "    episode_return_1 = 0.0\n",
    "    episode_return_2 = 0.0\n",
    "    time_step = environment.reset()\n",
    "    while not time_step.is_last():\n",
    "      action_step = policy1.action(time_step)\n",
    "      time_step = environment.step(action_step.action)\n",
    "      episode_return_1 += time_step.reward\n",
    "      if not time_step.is_last():\n",
    "        action_step = policy2.action(time_step)\n",
    "        time_step = environment.step(action_step.action)\n",
    "        episode_return_2 += time_step.reward\n",
    "    total_return_1 += episode_return_1\n",
    "    total_return_2 += episode_return_2\n",
    "\n",
    "  avg_return_1 = total_return_1 / num_episodes\n",
    "  avg_return_2 = total_return_2 / num_episodes\n",
    "  return [avg_return_1.numpy()[0], avg_return_2.numpy()[0]]\n",
    "\n",
    "def compute_avg_win_battle(environment, policy1, policy2, num_episodes=10):\n",
    "\n",
    "  total_return_1 = 0.0\n",
    "  total_return_2 = 0.0\n",
    "  for _ in range(num_episodes):\n",
    "    time_step = environment.reset()\n",
    "    while not time_step.is_last():\n",
    "      action_step = policy1.action(time_step)\n",
    "      time_step = environment.step(action_step.action)\n",
    "      if not time_step.is_last():\n",
    "        action_step = policy2.action(time_step)\n",
    "        time_step = environment.step(action_step.action)\n",
    "    if environment._envs[0].get_result() == 1:\n",
    "        total_return_1 += 1\n",
    "    elif environment._envs[0].get_result() == 2:\n",
    "        total_return_2 += 1\n",
    "\n",
    "  avg_return_1 = total_return_1 / num_episodes\n",
    "  avg_return_2 = total_return_2 / num_episodes\n",
    "  return [avg_return_1, avg_return_2]\n",
    "\n",
    "def create_zip_file(dirname, base_filename):\n",
    "  return shutil.make_archive(base_filename, 'zip', dirname)"
   ]
  },
  {
   "cell_type": "markdown",
   "metadata": {
    "id": "VBEXcoMjy7xO"
   },
   "source": [
    "## Collect training data"
   ]
  },
  {
   "cell_type": "code",
   "execution_count": 13,
   "metadata": {
    "id": "CMVmKJF1y_Lt"
   },
   "outputs": [],
   "source": [
    "def collect_episode(environment, agent1, agent2, replay_buffer):\n",
    "    time_step = environment.reset()\n",
    "    trajs_1, trajs_2 = [], []\n",
    "\n",
    "    while not time_step.is_last():\n",
    "        action_step = agent1.collect_policy.action(time_step)\n",
    "        next_time_step = environment.step(action_step.action)\n",
    "        traj1 = trajectory.from_transition(time_step, action_step, next_time_step)\n",
    "        trajs_1.append(traj1)\n",
    "        time_step = next_time_step\n",
    "\n",
    "        if not time_step.is_last():\n",
    "            action_step = agent2.collect_policy.action(time_step)\n",
    "            next_time_step = environment.step(action_step.action)\n",
    "            traj2 = trajectory.from_transition(time_step, action_step, next_time_step)\n",
    "            trajs_2.append(traj2)\n",
    "            time_step = next_time_step\n",
    "\n",
    "    change_flag = False\n",
    "    # Modify the reward of each step according to the opponent's next step\n",
    "    if len(trajs_1) == len(trajs_2):  # Player 2 won\n",
    "        for i in range(len(trajs_1) - 1):\n",
    "            trajs_1[i] = trajs_1[i].replace(reward=trajs_1[i].reward - trajs_2[i].reward)\n",
    "            trajs_2[i] = trajs_2[i].replace(reward=trajs_2[i].reward - trajs_1[i + 1].reward)\n",
    "        trajs_1[-1] = trajs_1[-1].replace(reward=trajs_1[-1].reward - trajs_2[-1].reward)\n",
    "    else:  # Player 1 won\n",
    "        change_flag = True\n",
    "        for i in range(len(trajs_1) - 1):\n",
    "            trajs_1[i] = trajs_1[i].replace(reward=trajs_1[i].reward - trajs_2[i].reward)\n",
    "            trajs_2[i] = trajs_2[i].replace(reward=trajs_2[i].reward - trajs_1[i + 1].reward)\n",
    "\n",
    "    for i in range(len(trajs_1)):\n",
    "        replay_buffer.add_batch(trajs_1[i])\n",
    "    for i in range(len(trajs_2)):\n",
    "        replay_buffer.add_batch(trajs_2[i])\n",
    "\n",
    "    # If the first player wins, then change the order in the next game.\n",
    "    return change_flag"
   ]
  },
  {
   "cell_type": "markdown",
   "metadata": {
    "id": "jRVMc8V8zxj0"
   },
   "source": [
    "## Train the agent"
   ]
  },
  {
   "cell_type": "code",
   "execution_count": 14,
   "metadata": {
    "id": "6_1qWkmKz0Ke"
   },
   "outputs": [],
   "source": [
    "def train_game_agent():\n",
    "    train_py_env = TicTacToeEnv1(train=True)\n",
    "    eval_py_env = TicTacToeEnv1()\n",
    "\n",
    "    train_env = tf_py_environment.TFPyEnvironment(train_py_env)\n",
    "    eval_env = tf_py_environment.TFPyEnvironment(eval_py_env)\n",
    "\n",
    "    agent1 = create_dqn_agent(train_env)\n",
    "    agent2 = create_dqn_agent(train_env)\n",
    "\n",
    "    play_policy = PlayPolicy(agent1.policy)\n",
    "    random_policy = create_random_policy(train_env)\n",
    "\n",
    "    replay_buffer = tf_uniform_replay_buffer.TFUniformReplayBuffer(\n",
    "        data_spec=agent1.collect_data_spec,\n",
    "        batch_size=train_env.batch_size,\n",
    "        max_length=replay_buffer_max_length)\n",
    "\n",
    "    for _ in range(initial_collect_episodes):\n",
    "        collect_episode(train_env, agent1, agent2, replay_buffer)\n",
    "\n",
    "    dataset = replay_buffer.as_dataset(\n",
    "        num_parallel_calls=3, sample_batch_size=batch_size,\n",
    "        num_steps=n_step_update + 1).prefetch(3)\n",
    "    iterator = iter(dataset)\n",
    "\n",
    "    policy_dir = os.path.join(tempdir, 'play_policy_part1')\n",
    "    tf_policy_saver = policy_saver.PolicySaver(play_policy.policy)\n",
    "\n",
    "    # (Optional) Optimize by wrapping some of the code in a graph using TF function.\n",
    "    agent1.train = common.function(agent1.train)\n",
    "    agent2.train = common.function(agent2.train)\n",
    "\n",
    "    # Reset the train step.\n",
    "    agent1.train_step_counter.assign(0)\n",
    "    agent2.train_step_counter.assign(0)\n",
    "    policy_win_rate = compute_avg_win_battle(eval_env, play_policy, random_policy, num_eval_episodes)[0]\n",
    "    print('Before training: 1_win = {0}'.format(policy_win_rate))\n",
    "\n",
    "    bst = 0\n",
    "\n",
    "    # Reset the environment.\n",
    "    train_env.reset()\n",
    "\n",
    "    x, y, change_flag = agent1, agent2, False\n",
    "    for idx in range(num_iterations):\n",
    "        # Collect a few episodes using collect_policy and store the transitions to the replay buffer.\n",
    "        for _ in range(collect_episodes_per_iteration):\n",
    "            if change_flag:\n",
    "                x, y = y, x\n",
    "            change_flag = collect_episode(train_env, x, y, replay_buffer)\n",
    "\n",
    "        # Sample a batch of data from the buffer and update the agent's network.\n",
    "        experience, unused_info = next(iterator)\n",
    "        train_loss1 = agent1.train(experience).loss\n",
    "        experience, unused_info = next(iterator)\n",
    "        agent2.train(experience)\n",
    "\n",
    "        step = agent1.train_step_counter.numpy()\n",
    "\n",
    "        if step % log_interval == 0:\n",
    "            print('step = {0}: loss1 = {1}'.format(step, train_loss1))\n",
    "\n",
    "        if step % eval_interval == 0:\n",
    "            policy_win_rate1 = compute_avg_win_battle(eval_env, play_policy, random_policy, num_eval_episodes)[0]\n",
    "            policy_win_rate2 = compute_avg_win_battle(eval_env, random_policy, play_policy, num_eval_episodes)[1]\n",
    "            print('Evaluation (step = {0}): offense_win = {1}, defense_win = {2}'.format(step,\n",
    "                                                                                         policy_win_rate1,\n",
    "                                                                                         policy_win_rate2,\n",
    "                                                                                         ))\n",
    "            policy_win_rate = (policy_win_rate1 + policy_win_rate2) / 2\n",
    "            if policy_win_rate >= bst:\n",
    "                bst = policy_win_rate\n",
    "                tf_policy_saver.save(policy_dir)\n",
    "                # create_zip_file(policy_dir, os.path.join(tempdir, 'exported_policy_part1'))"
   ]
  },
  {
   "cell_type": "code",
   "execution_count": 15,
   "metadata": {
    "colab": {
     "base_uri": "https://localhost:8080/"
    },
    "id": "n8CTaM4JuW1n",
    "outputId": "27344c2d-1e82-4a00-ffdb-a8498e4f8267"
   },
   "outputs": [
    {
     "name": "stderr",
     "output_type": "stream",
     "text": [
      "WARNING:tensorflow:From /usr/local/lib/python3.10/dist-packages/tf_agents/replay_buffers/tf_uniform_replay_buffer.py:364: CounterV2 (from tensorflow.python.data.experimental.ops.counter) is deprecated and will be removed in a future version.\n",
      "Instructions for updating:\n",
      "Use `tf.data.Dataset.counter(...)` instead.\n",
      "WARNING:tensorflow:From /usr/local/lib/python3.10/dist-packages/tensorflow/python/autograph/impl/api.py:377: ReplayBuffer.get_next (from tf_agents.replay_buffers.replay_buffer) is deprecated and will be removed in a future version.\n",
      "Instructions for updating:\n",
      "Use `as_dataset(..., single_deterministic_pass=False) instead.\n"
     ]
    },
    {
     "name": "stdout",
     "output_type": "stream",
     "text": [
      "Before training: 1_win = 0.66\n"
     ]
    },
    {
     "name": "stderr",
     "output_type": "stream",
     "text": [
      "WARNING:tensorflow:From /usr/local/lib/python3.10/dist-packages/tensorflow/python/util/dispatch.py:1260: calling foldr_v2 (from tensorflow.python.ops.functional_ops) with back_prop=False is deprecated and will be removed in a future version.\n",
      "Instructions for updating:\n",
      "back_prop=False is deprecated. Consider using tf.stop_gradient instead.\n",
      "Instead of:\n",
      "results = tf.foldr(fn, elems, back_prop=False)\n",
      "Use:\n",
      "results = tf.nest.map_structure(tf.stop_gradient, tf.foldr(fn, elems))\n"
     ]
    },
    {
     "name": "stdout",
     "output_type": "stream",
     "text": [
      "step = 5: loss1 = 0.4214813709259033\n",
      "step = 10: loss1 = 0.405700147151947\n",
      "step = 15: loss1 = 0.49970102310180664\n",
      "step = 20: loss1 = 0.2586626410484314\n"
     ]
    },
    {
     "name": "stderr",
     "output_type": "stream",
     "text": [
      "WARNING:absl:`0/step_type` is not a valid tf.function parameter name. Sanitizing to `arg_0_step_type`.\n",
      "WARNING:absl:`0/reward` is not a valid tf.function parameter name. Sanitizing to `arg_0_reward`.\n",
      "WARNING:absl:`0/discount` is not a valid tf.function parameter name. Sanitizing to `arg_0_discount`.\n",
      "WARNING:absl:`0/observation/legal_moves` is not a valid tf.function parameter name. Sanitizing to `arg_0_observation_legal_moves`.\n",
      "WARNING:absl:`0/observation/state` is not a valid tf.function parameter name. Sanitizing to `arg_0_observation_state`.\n"
     ]
    },
    {
     "name": "stdout",
     "output_type": "stream",
     "text": [
      "Evaluation (step = 20): offense_win = 0.62, defense_win = 0.54\n"
     ]
    },
    {
     "name": "stderr",
     "output_type": "stream",
     "text": [
      "/usr/local/lib/python3.10/dist-packages/tensorflow/python/saved_model/nested_structure_coder.py:458: UserWarning: Encoding a StructuredValue with type tfp.distributions.Deterministic_ACTTypeSpec; loading this StructuredValue will require that this type be imported and registered.\n",
      "  warnings.warn(\"Encoding a StructuredValue with type %s; loading this \"\n"
     ]
    },
    {
     "name": "stdout",
     "output_type": "stream",
     "text": [
      "step = 25: loss1 = 0.43478110432624817\n",
      "step = 30: loss1 = 0.1534682661294937\n",
      "step = 35: loss1 = 0.5508114695549011\n",
      "step = 40: loss1 = 0.3468225598335266\n",
      "Evaluation (step = 40): offense_win = 0.66, defense_win = 0.64\n"
     ]
    },
    {
     "name": "stderr",
     "output_type": "stream",
     "text": [
      "/usr/local/lib/python3.10/dist-packages/tensorflow/python/saved_model/nested_structure_coder.py:458: UserWarning: Encoding a StructuredValue with type tfp.distributions.Deterministic_ACTTypeSpec; loading this StructuredValue will require that this type be imported and registered.\n",
      "  warnings.warn(\"Encoding a StructuredValue with type %s; loading this \"\n"
     ]
    },
    {
     "name": "stdout",
     "output_type": "stream",
     "text": [
      "step = 45: loss1 = 0.36897215247154236\n",
      "step = 50: loss1 = 0.31867605447769165\n",
      "step = 55: loss1 = 0.6172968745231628\n",
      "step = 60: loss1 = 0.6916666030883789\n",
      "Evaluation (step = 60): offense_win = 0.64, defense_win = 0.74\n"
     ]
    },
    {
     "name": "stderr",
     "output_type": "stream",
     "text": [
      "/usr/local/lib/python3.10/dist-packages/tensorflow/python/saved_model/nested_structure_coder.py:458: UserWarning: Encoding a StructuredValue with type tfp.distributions.Deterministic_ACTTypeSpec; loading this StructuredValue will require that this type be imported and registered.\n",
      "  warnings.warn(\"Encoding a StructuredValue with type %s; loading this \"\n"
     ]
    },
    {
     "name": "stdout",
     "output_type": "stream",
     "text": [
      "step = 65: loss1 = 0.3188591003417969\n",
      "step = 70: loss1 = 0.256058007478714\n",
      "step = 75: loss1 = 0.7118085622787476\n",
      "step = 80: loss1 = 0.4013752043247223\n",
      "Evaluation (step = 80): offense_win = 0.64, defense_win = 0.78\n"
     ]
    },
    {
     "name": "stderr",
     "output_type": "stream",
     "text": [
      "/usr/local/lib/python3.10/dist-packages/tensorflow/python/saved_model/nested_structure_coder.py:458: UserWarning: Encoding a StructuredValue with type tfp.distributions.Deterministic_ACTTypeSpec; loading this StructuredValue will require that this type be imported and registered.\n",
      "  warnings.warn(\"Encoding a StructuredValue with type %s; loading this \"\n"
     ]
    },
    {
     "name": "stdout",
     "output_type": "stream",
     "text": [
      "step = 85: loss1 = 0.43719482421875\n",
      "step = 90: loss1 = 0.4383103549480438\n",
      "step = 95: loss1 = 0.5979937314987183\n",
      "step = 100: loss1 = 0.38217055797576904\n",
      "Evaluation (step = 100): offense_win = 0.8, defense_win = 0.7\n"
     ]
    },
    {
     "name": "stderr",
     "output_type": "stream",
     "text": [
      "/usr/local/lib/python3.10/dist-packages/tensorflow/python/saved_model/nested_structure_coder.py:458: UserWarning: Encoding a StructuredValue with type tfp.distributions.Deterministic_ACTTypeSpec; loading this StructuredValue will require that this type be imported and registered.\n",
      "  warnings.warn(\"Encoding a StructuredValue with type %s; loading this \"\n"
     ]
    },
    {
     "name": "stdout",
     "output_type": "stream",
     "text": [
      "step = 105: loss1 = 0.5451362133026123\n",
      "step = 110: loss1 = 0.6747903823852539\n",
      "step = 115: loss1 = 0.5263586044311523\n",
      "step = 120: loss1 = 0.42611581087112427\n",
      "Evaluation (step = 120): offense_win = 0.7, defense_win = 0.68\n",
      "step = 125: loss1 = 0.5496566295623779\n",
      "step = 130: loss1 = 0.4393576383590698\n",
      "step = 135: loss1 = 0.37223929166793823\n",
      "step = 140: loss1 = 0.39707326889038086\n",
      "Evaluation (step = 140): offense_win = 0.94, defense_win = 0.98\n"
     ]
    },
    {
     "name": "stderr",
     "output_type": "stream",
     "text": [
      "/usr/local/lib/python3.10/dist-packages/tensorflow/python/saved_model/nested_structure_coder.py:458: UserWarning: Encoding a StructuredValue with type tfp.distributions.Deterministic_ACTTypeSpec; loading this StructuredValue will require that this type be imported and registered.\n",
      "  warnings.warn(\"Encoding a StructuredValue with type %s; loading this \"\n"
     ]
    },
    {
     "name": "stdout",
     "output_type": "stream",
     "text": [
      "step = 145: loss1 = 0.495246559381485\n",
      "step = 150: loss1 = 0.33086544275283813\n",
      "step = 155: loss1 = 0.4034455418586731\n",
      "step = 160: loss1 = 0.4890889823436737\n",
      "Evaluation (step = 160): offense_win = 0.84, defense_win = 0.84\n",
      "step = 165: loss1 = 0.6752336025238037\n",
      "step = 170: loss1 = 0.7466434836387634\n",
      "step = 175: loss1 = 0.29333996772766113\n",
      "step = 180: loss1 = 0.467541366815567\n",
      "Evaluation (step = 180): offense_win = 0.88, defense_win = 0.76\n",
      "step = 185: loss1 = 0.657752275466919\n",
      "step = 190: loss1 = 0.3767414093017578\n",
      "step = 195: loss1 = 0.27918222546577454\n",
      "step = 200: loss1 = 0.3595358729362488\n",
      "Evaluation (step = 200): offense_win = 0.98, defense_win = 0.72\n",
      "step = 205: loss1 = 0.4070771336555481\n",
      "step = 210: loss1 = 0.4603281319141388\n",
      "step = 215: loss1 = 0.5682844519615173\n",
      "step = 220: loss1 = 0.45713093876838684\n",
      "Evaluation (step = 220): offense_win = 0.96, defense_win = 0.78\n",
      "step = 225: loss1 = 0.5527327060699463\n",
      "step = 230: loss1 = 0.3695642650127411\n",
      "step = 235: loss1 = 0.3485789895057678\n",
      "step = 240: loss1 = 0.6662274599075317\n",
      "Evaluation (step = 240): offense_win = 0.88, defense_win = 0.74\n",
      "step = 245: loss1 = 0.2543826103210449\n",
      "step = 250: loss1 = 0.5494195818901062\n",
      "step = 255: loss1 = 0.4291650056838989\n",
      "step = 260: loss1 = 0.6315776109695435\n",
      "Evaluation (step = 260): offense_win = 0.92, defense_win = 0.76\n",
      "step = 265: loss1 = 0.6285556554794312\n",
      "step = 270: loss1 = 0.6644847393035889\n",
      "step = 275: loss1 = 0.40856748819351196\n",
      "step = 280: loss1 = 0.7021592259407043\n",
      "Evaluation (step = 280): offense_win = 0.84, defense_win = 0.62\n",
      "step = 285: loss1 = 0.40612462162971497\n",
      "step = 290: loss1 = 0.5953371524810791\n",
      "step = 295: loss1 = 0.46876561641693115\n",
      "step = 300: loss1 = 0.1877862960100174\n",
      "Evaluation (step = 300): offense_win = 0.96, defense_win = 0.88\n",
      "step = 305: loss1 = 0.36891061067581177\n",
      "step = 310: loss1 = 0.4328617453575134\n",
      "step = 315: loss1 = 0.21768245100975037\n",
      "step = 320: loss1 = 0.30048689246177673\n",
      "Evaluation (step = 320): offense_win = 0.92, defense_win = 0.84\n",
      "step = 325: loss1 = 0.37495583295822144\n",
      "step = 330: loss1 = 0.5531536936759949\n",
      "step = 335: loss1 = 0.7388930320739746\n",
      "step = 340: loss1 = 0.5981918573379517\n",
      "Evaluation (step = 340): offense_win = 0.94, defense_win = 0.76\n",
      "step = 345: loss1 = 0.4517138600349426\n",
      "step = 350: loss1 = 0.311789870262146\n",
      "step = 355: loss1 = 0.6544822454452515\n",
      "step = 360: loss1 = 0.7966445684432983\n",
      "Evaluation (step = 360): offense_win = 0.92, defense_win = 0.84\n",
      "step = 365: loss1 = 0.6811597347259521\n",
      "step = 370: loss1 = 0.5305684804916382\n",
      "step = 375: loss1 = 0.4998819828033447\n",
      "step = 380: loss1 = 0.3930670917034149\n",
      "Evaluation (step = 380): offense_win = 0.86, defense_win = 0.78\n",
      "step = 385: loss1 = 0.8943451046943665\n",
      "step = 390: loss1 = 0.35467877984046936\n",
      "step = 395: loss1 = 0.5826276540756226\n",
      "step = 400: loss1 = 0.7777493000030518\n",
      "Evaluation (step = 400): offense_win = 0.94, defense_win = 0.88\n",
      "step = 405: loss1 = 0.42941558361053467\n",
      "step = 410: loss1 = 0.7021291255950928\n",
      "step = 415: loss1 = 0.5402262210845947\n",
      "step = 420: loss1 = 0.6606456637382507\n",
      "Evaluation (step = 420): offense_win = 0.98, defense_win = 0.8\n",
      "step = 425: loss1 = 0.669574499130249\n",
      "step = 430: loss1 = 0.6388197541236877\n",
      "step = 435: loss1 = 0.6515873670578003\n",
      "step = 440: loss1 = 0.27910876274108887\n",
      "Evaluation (step = 440): offense_win = 0.82, defense_win = 0.94\n",
      "step = 445: loss1 = 0.36118990182876587\n",
      "step = 450: loss1 = 0.3057626187801361\n",
      "step = 455: loss1 = 0.5435137152671814\n",
      "step = 460: loss1 = 0.4192902445793152\n",
      "Evaluation (step = 460): offense_win = 0.94, defense_win = 0.9\n",
      "step = 465: loss1 = 0.7155693769454956\n",
      "step = 470: loss1 = 0.5436195135116577\n",
      "step = 475: loss1 = 0.6575106382369995\n",
      "step = 480: loss1 = 0.6737045645713806\n",
      "Evaluation (step = 480): offense_win = 0.88, defense_win = 0.7\n",
      "step = 485: loss1 = 0.8104839324951172\n",
      "step = 490: loss1 = 0.49598193168640137\n",
      "step = 495: loss1 = 0.6100905537605286\n",
      "step = 500: loss1 = 0.5528149604797363\n",
      "Evaluation (step = 500): offense_win = 0.86, defense_win = 0.88\n",
      "step = 505: loss1 = 0.34076642990112305\n",
      "step = 510: loss1 = 0.49434489011764526\n",
      "step = 515: loss1 = 0.3931145966053009\n",
      "step = 520: loss1 = 0.5064127445220947\n",
      "Evaluation (step = 520): offense_win = 0.84, defense_win = 0.72\n",
      "step = 525: loss1 = 0.41551682353019714\n",
      "step = 530: loss1 = 0.6480158567428589\n",
      "step = 535: loss1 = 0.7388460636138916\n",
      "step = 540: loss1 = 0.6611428260803223\n",
      "Evaluation (step = 540): offense_win = 1.0, defense_win = 0.96\n"
     ]
    },
    {
     "name": "stderr",
     "output_type": "stream",
     "text": [
      "/usr/local/lib/python3.10/dist-packages/tensorflow/python/saved_model/nested_structure_coder.py:458: UserWarning: Encoding a StructuredValue with type tfp.distributions.Deterministic_ACTTypeSpec; loading this StructuredValue will require that this type be imported and registered.\n",
      "  warnings.warn(\"Encoding a StructuredValue with type %s; loading this \"\n"
     ]
    },
    {
     "name": "stdout",
     "output_type": "stream",
     "text": [
      "step = 545: loss1 = 0.4303995668888092\n",
      "step = 550: loss1 = 0.5646833777427673\n",
      "step = 555: loss1 = 0.49671801924705505\n",
      "step = 560: loss1 = 0.6017032861709595\n",
      "Evaluation (step = 560): offense_win = 0.86, defense_win = 0.78\n",
      "step = 565: loss1 = 0.5174349546432495\n",
      "step = 570: loss1 = 0.649512529373169\n",
      "step = 575: loss1 = 0.6740238666534424\n",
      "step = 580: loss1 = 0.5784139633178711\n",
      "Evaluation (step = 580): offense_win = 0.88, defense_win = 0.92\n",
      "step = 585: loss1 = 0.45006394386291504\n",
      "step = 590: loss1 = 0.9429632425308228\n",
      "step = 595: loss1 = 0.6859896183013916\n",
      "step = 600: loss1 = 0.46428489685058594\n",
      "Evaluation (step = 600): offense_win = 0.94, defense_win = 0.86\n",
      "step = 605: loss1 = 0.6023715734481812\n",
      "step = 610: loss1 = 0.5669482350349426\n",
      "step = 615: loss1 = 0.514978289604187\n",
      "step = 620: loss1 = 0.8237144351005554\n",
      "Evaluation (step = 620): offense_win = 0.92, defense_win = 0.72\n",
      "step = 625: loss1 = 0.5787755250930786\n",
      "step = 630: loss1 = 0.4227519631385803\n",
      "step = 635: loss1 = 0.5270649790763855\n",
      "step = 640: loss1 = 0.5569367408752441\n",
      "Evaluation (step = 640): offense_win = 0.88, defense_win = 0.96\n",
      "step = 645: loss1 = 0.6382845640182495\n",
      "step = 650: loss1 = 0.8436189293861389\n",
      "step = 655: loss1 = 0.6356854438781738\n",
      "step = 660: loss1 = 0.5247763991355896\n",
      "Evaluation (step = 660): offense_win = 0.9, defense_win = 0.78\n",
      "step = 665: loss1 = 0.5591565370559692\n",
      "step = 670: loss1 = 0.30557477474212646\n",
      "step = 675: loss1 = 0.7255933284759521\n",
      "step = 680: loss1 = 0.5400403141975403\n",
      "Evaluation (step = 680): offense_win = 0.96, defense_win = 0.92\n",
      "step = 685: loss1 = 0.43285077810287476\n",
      "step = 690: loss1 = 0.3970429301261902\n",
      "step = 695: loss1 = 0.4177721440792084\n",
      "step = 700: loss1 = 0.5955331325531006\n",
      "Evaluation (step = 700): offense_win = 0.96, defense_win = 0.96\n",
      "step = 705: loss1 = 0.4255830645561218\n",
      "step = 710: loss1 = 0.645569384098053\n",
      "step = 715: loss1 = 0.6322447061538696\n",
      "step = 720: loss1 = 0.49282899498939514\n",
      "Evaluation (step = 720): offense_win = 0.98, defense_win = 0.9\n",
      "step = 725: loss1 = 0.3780633807182312\n",
      "step = 730: loss1 = 0.21102721989154816\n",
      "step = 735: loss1 = 0.26186132431030273\n",
      "step = 740: loss1 = 0.6199148297309875\n",
      "Evaluation (step = 740): offense_win = 0.92, defense_win = 0.92\n",
      "step = 745: loss1 = 0.28931310772895813\n",
      "step = 750: loss1 = 0.6376292705535889\n",
      "step = 755: loss1 = 0.5225857496261597\n",
      "step = 760: loss1 = 0.5258975028991699\n",
      "Evaluation (step = 760): offense_win = 1.0, defense_win = 0.9\n",
      "step = 765: loss1 = 0.8737689256668091\n",
      "step = 770: loss1 = 0.47490137815475464\n",
      "step = 775: loss1 = 0.43550291657447815\n",
      "step = 780: loss1 = 0.7072490453720093\n",
      "Evaluation (step = 780): offense_win = 0.94, defense_win = 0.88\n",
      "step = 785: loss1 = 0.5271061062812805\n",
      "step = 790: loss1 = 0.3601135313510895\n",
      "step = 795: loss1 = 0.48589611053466797\n",
      "step = 800: loss1 = 0.6594245433807373\n",
      "Evaluation (step = 800): offense_win = 0.94, defense_win = 0.98\n",
      "step = 805: loss1 = 0.45394831895828247\n",
      "step = 810: loss1 = 0.46711522340774536\n",
      "step = 815: loss1 = 0.47412794828414917\n",
      "step = 820: loss1 = 0.5835576057434082\n",
      "Evaluation (step = 820): offense_win = 0.92, defense_win = 0.74\n",
      "step = 825: loss1 = 0.33345550298690796\n",
      "step = 830: loss1 = 0.6324386596679688\n",
      "step = 835: loss1 = 0.48172372579574585\n",
      "step = 840: loss1 = 0.4981909990310669\n",
      "Evaluation (step = 840): offense_win = 0.96, defense_win = 0.86\n",
      "step = 845: loss1 = 0.4154309630393982\n",
      "step = 850: loss1 = 0.5929780602455139\n",
      "step = 855: loss1 = 0.4747709333896637\n",
      "step = 860: loss1 = 0.21953201293945312\n",
      "Evaluation (step = 860): offense_win = 0.96, defense_win = 0.86\n",
      "step = 865: loss1 = 0.6855754852294922\n",
      "step = 870: loss1 = 0.40318483114242554\n",
      "step = 875: loss1 = 0.3187350034713745\n",
      "step = 880: loss1 = 0.2647075057029724\n",
      "Evaluation (step = 880): offense_win = 0.98, defense_win = 0.9\n",
      "step = 885: loss1 = 0.23617830872535706\n",
      "step = 890: loss1 = 0.4885938763618469\n",
      "step = 895: loss1 = 0.514137327671051\n",
      "step = 900: loss1 = 0.49124765396118164\n",
      "Evaluation (step = 900): offense_win = 0.96, defense_win = 0.88\n",
      "step = 905: loss1 = 0.46459174156188965\n",
      "step = 910: loss1 = 0.5765881538391113\n",
      "step = 915: loss1 = 1.0360689163208008\n",
      "step = 920: loss1 = 0.4644303619861603\n",
      "Evaluation (step = 920): offense_win = 0.98, defense_win = 0.84\n",
      "step = 925: loss1 = 0.6463969945907593\n",
      "step = 930: loss1 = 0.4455995559692383\n",
      "step = 935: loss1 = 0.816908597946167\n",
      "step = 940: loss1 = 0.5313376188278198\n",
      "Evaluation (step = 940): offense_win = 0.82, defense_win = 0.88\n",
      "step = 945: loss1 = 0.9902188777923584\n",
      "step = 950: loss1 = 0.3554379940032959\n",
      "step = 955: loss1 = 0.4585148096084595\n",
      "step = 960: loss1 = 0.506048321723938\n",
      "Evaluation (step = 960): offense_win = 0.96, defense_win = 0.88\n",
      "step = 965: loss1 = 0.7079359292984009\n",
      "step = 970: loss1 = 0.2570156157016754\n",
      "step = 975: loss1 = 0.5879513025283813\n",
      "step = 980: loss1 = 0.36279308795928955\n",
      "Evaluation (step = 980): offense_win = 0.96, defense_win = 0.9\n",
      "step = 985: loss1 = 0.5227012038230896\n",
      "step = 990: loss1 = 0.42860329151153564\n",
      "step = 995: loss1 = 0.5005801916122437\n",
      "step = 1000: loss1 = 0.4610624313354492\n",
      "Evaluation (step = 1000): offense_win = 0.98, defense_win = 0.84\n",
      "step = 1005: loss1 = 0.6326656341552734\n",
      "step = 1010: loss1 = 0.5044806003570557\n",
      "step = 1015: loss1 = 0.6145797967910767\n",
      "step = 1020: loss1 = 0.39435070753097534\n",
      "Evaluation (step = 1020): offense_win = 1.0, defense_win = 0.92\n",
      "step = 1025: loss1 = 0.4682943820953369\n",
      "step = 1030: loss1 = 0.36051666736602783\n",
      "step = 1035: loss1 = 0.4286142885684967\n",
      "step = 1040: loss1 = 0.2731969356536865\n",
      "Evaluation (step = 1040): offense_win = 0.98, defense_win = 0.94\n",
      "step = 1045: loss1 = 0.2669743299484253\n",
      "step = 1050: loss1 = 0.31124234199523926\n",
      "step = 1055: loss1 = 0.4941270351409912\n",
      "step = 1060: loss1 = 0.45744815468788147\n",
      "Evaluation (step = 1060): offense_win = 0.86, defense_win = 0.92\n",
      "step = 1065: loss1 = 0.31689709424972534\n",
      "step = 1070: loss1 = 0.594549834728241\n",
      "step = 1075: loss1 = 0.3965016007423401\n",
      "step = 1080: loss1 = 0.6356504559516907\n",
      "Evaluation (step = 1080): offense_win = 0.98, defense_win = 0.98\n"
     ]
    },
    {
     "name": "stderr",
     "output_type": "stream",
     "text": [
      "/usr/local/lib/python3.10/dist-packages/tensorflow/python/saved_model/nested_structure_coder.py:458: UserWarning: Encoding a StructuredValue with type tfp.distributions.Deterministic_ACTTypeSpec; loading this StructuredValue will require that this type be imported and registered.\n",
      "  warnings.warn(\"Encoding a StructuredValue with type %s; loading this \"\n"
     ]
    },
    {
     "name": "stdout",
     "output_type": "stream",
     "text": [
      "step = 1085: loss1 = 0.5321691036224365\n",
      "step = 1090: loss1 = 0.39632394909858704\n",
      "step = 1095: loss1 = 0.7223044633865356\n",
      "step = 1100: loss1 = 0.3855694532394409\n",
      "Evaluation (step = 1100): offense_win = 0.92, defense_win = 0.92\n",
      "step = 1105: loss1 = 0.3563395142555237\n",
      "step = 1110: loss1 = 0.5082623958587646\n",
      "step = 1115: loss1 = 0.626622200012207\n",
      "step = 1120: loss1 = 0.5985217094421387\n",
      "Evaluation (step = 1120): offense_win = 0.96, defense_win = 0.96\n",
      "step = 1125: loss1 = 0.5637821555137634\n",
      "step = 1130: loss1 = 0.8004348278045654\n",
      "step = 1135: loss1 = 0.3627011179924011\n",
      "step = 1140: loss1 = 0.5957256555557251\n",
      "Evaluation (step = 1140): offense_win = 0.88, defense_win = 0.92\n",
      "step = 1145: loss1 = 0.4438571333885193\n",
      "step = 1150: loss1 = 0.4830997884273529\n",
      "step = 1155: loss1 = 0.26561248302459717\n",
      "step = 1160: loss1 = 0.43267685174942017\n",
      "Evaluation (step = 1160): offense_win = 0.94, defense_win = 0.8\n",
      "step = 1165: loss1 = 0.340800404548645\n",
      "step = 1170: loss1 = 0.28731441497802734\n",
      "step = 1175: loss1 = 0.38133504986763\n",
      "step = 1180: loss1 = 0.36350083351135254\n",
      "Evaluation (step = 1180): offense_win = 0.88, defense_win = 0.94\n",
      "step = 1185: loss1 = 0.2791014313697815\n",
      "step = 1190: loss1 = 0.2878398597240448\n",
      "step = 1195: loss1 = 0.39289590716362\n",
      "step = 1200: loss1 = 0.5188308954238892\n",
      "Evaluation (step = 1200): offense_win = 0.96, defense_win = 0.88\n"
     ]
    }
   ],
   "source": [
    "train_game_agent()"
   ]
  },
  {
   "cell_type": "markdown",
   "metadata": {
    "id": "euOj19B0B1ky"
   },
   "source": [
    "## Evaluate the trained model"
   ]
  },
  {
   "cell_type": "code",
   "execution_count": 19,
   "metadata": {
    "id": "s_wl7mg6ugoW"
   },
   "outputs": [],
   "source": [
    "eval_py_env = TicTacToeEnv1()\n",
    "eval_env = tf_py_environment.TFPyEnvironment(eval_py_env)\n",
    "random_policy = create_random_policy(eval_env)\n",
    "policy_dir = os.path.join(tempdir, 'play_policy_part1')\n",
    "\n",
    "play_policy = PlayPolicy(tf.saved_model.load(policy_dir))"
   ]
  },
  {
   "cell_type": "markdown",
   "metadata": {
    "id": "l_qJ0PoMxVk2"
   },
   "source": [
    "#### Trained agent (X) v.s. Random policy (O)"
   ]
  },
  {
   "cell_type": "code",
   "execution_count": 20,
   "metadata": {
    "id": "NSRWvH6Udnd1",
    "colab": {
     "base_uri": "https://localhost:8080/",
     "height": 501.0
    },
    "outputId": "fd36e543-4083-4c85-afa3-5ad0b4da5c1e"
   },
   "outputs": [
    {
     "data": {
      "text/html": [
       "\n",
       "    <video width=\"480\" height=\"480\" controls>\n",
       "      <source src=\"data:video/mp4;base64,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\" type=\"video/mp4\">\n",
       "    Your browser does not support the video tag.\n",
       "    </video>"
      ],
      "text/plain": [
       "<IPython.core.display.HTML object>"
      ]
     },
     "execution_count": 20,
     "metadata": {},
     "output_type": "execute_result"
    }
   ],
   "source": [
    "create_policy_battle_video(eval_env, play_policy, random_policy, 'trained-agent-1-with-random')"
   ]
  },
  {
   "cell_type": "markdown",
   "metadata": {
    "id": "UTsrQIhi1elu"
   },
   "source": [
    "#### Random policy (O) v.s. Trained agent (X)"
   ]
  },
  {
   "cell_type": "code",
   "execution_count": 21,
   "metadata": {
    "colab": {
     "base_uri": "https://localhost:8080/",
     "height": 501.0
    },
    "id": "hXOhayRA1kr9",
    "outputId": "f65f6f7b-8e32-4185-f07d-243b2737cd82"
   },
   "outputs": [
    {
     "data": {
      "text/html": [
       "\n",
       "    <video width=\"480\" height=\"480\" controls>\n",
       "      <source src=\"data:video/mp4;base64,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\" type=\"video/mp4\">\n",
       "    Your browser does not support the video tag.\n",
       "    </video>"
      ],
      "text/plain": [
       "<IPython.core.display.HTML object>"
      ]
     },
     "execution_count": 21,
     "metadata": {},
     "output_type": "execute_result"
    }
   ],
   "source": [
    "create_policy_battle_video(eval_env, random_policy, play_policy, 'random-with-trained-agent-1')"
   ]
  },
  {
   "cell_type": "markdown",
   "metadata": {
    "id": "uJvOotJdxfeE"
   },
   "source": [
    "#### Trained agent (X) v.s. Trained agent (O)"
   ]
  },
  {
   "cell_type": "code",
   "execution_count": 22,
   "metadata": {
    "colab": {
     "base_uri": "https://localhost:8080/",
     "height": 501.0
    },
    "id": "9drEVaBPxSAz",
    "outputId": "d911de7e-80bb-4722-924d-0e3ae8413a51"
   },
   "outputs": [
    {
     "data": {
      "text/html": [
       "\n",
       "    <video width=\"480\" height=\"480\" controls>\n",
       "      <source src=\"data:video/mp4;base64,AAAAIGZ0eXBpc29tAAACAGlzb21pc28yYXZjMW1wNDEAAAAIZnJlZQAAR85tZGF0AAACrQYF//+p3EXpvebZSLeWLNgg2SPu73gyNjQgLSBjb3JlIDE1OSByMjk5MSAxNzcxYjU1IC0gSC4yNjQvTVBFRy00IEFWQyBjb2RlYyAtIENvcHlsZWZ0IDIwMDMtMjAxOSAtIGh0dHA6Ly93d3cudmlkZW9sYW4ub3JnL3gyNjQuaHRtbCAtIG9wdGlvbnM6IGNhYmFjPTEgcmVmPTMgZGVibG9jaz0xOjA6MCBhbmFseXNlPTB4MzoweDExMyBtZT1oZXggc3VibWU9NyBwc3k9MSBwc3lfcmQ9MS4wMDowLjAwIG1peGVkX3JlZj0xIG1lX3JhbmdlPTE2IGNocm9tYV9tZT0xIHRyZWxsaXM9MSA4eDhkY3Q9MSBjcW09MCBkZWFkem9uZT0yMSwxMSBmYXN0X3Bza2lwPTEgY2hyb21hX3FwX29mZnNldD0tMiB0aHJlYWRzPTMgbG9va2FoZWFkX3RocmVhZHM9MSBzbGljZWRfdGhyZWFkcz0wIG5yPTAgZGVjaW1hdGU9MSBpbnRlcmxhY2VkPTAgYmx1cmF5X2NvbXBhdD0wIGNvbnN0cmFpbmVkX2ludHJhPTAgYmZyYW1lcz0zIGJfcHlyYW1pZD0yIGJfYWRhcHQ9MSBiX2JpYXM9MCBkaXJlY3Q9MSB3ZWlnaHRiPTEgb3Blbl9nb3A9MCB3ZWlnaHRwPTIga2V5aW50PTI1MCBrZXlpbnRfbWluPTIgc2NlbmVjdXQ9NDAgaW50cmFfcmVmcmVzaD0wIHJjX2xvb2thaGVhZD00MCByYz1jcmYgbWJ0cmVlPTEgY3JmPTIzLjAgcWNvbXA9MC42MCBxcG1pbj0wIHFwbWF4PTY5IHFwc3RlcD00IGlwX3JhdGlvPTEuNDAgYXE9MToxLjAwAIAAAApAZYiEAE927CE63r4Z55OSLoBY9auNNnqYZ96pxKHDZa4/MbcB0uIsiFcsqK17jCmhQhjeBay8DO6L5arbBgQpwuQu0+4tGWaaGCzkpaig9ziQCmMp5n+WggAw0e0ch8HPF0eoes4jBM/YpwjgoQLEdBUjKxY1eUfNNardYtuQSHJ/LThZVGTy2nT2+Kw32VQI2tJJ5XDu+SHvGRdCa7hZ96wXe476X0lmTne9BQq79gceaDwvaZLMB9vBlvu8D6tC9+EZcmMt7UhwM8qD7V8shQiFqYWr0WfR8/NFHaxz7fMb9QJThnxc79bnJcKV5YFMzLWPQlwcBgp1qwwTZRKpdf4ANyEVRc/KJMnL1KHTdjDDdZ5bPdgZgKBs/vHoMadZ8pIqHCIsoPWqEKqzTA8OoeMKykCyWeBFO8FSQvqcrxPY+Lc+x3Hz3vdGPBijJgBNNrQETebtF+0sZSID/GkJyHsVSV5MzOjpI64gnI37gW6Ldv4GsLWcNLNi4ARXDRUhR8Dm3dGlI46yg4uns6ip8PRZ+XIEj6CahaO4KOB77lLgGmB4KEsdZSVTKRQYJLLgww2c1CFpxGCvNzUyFFGXhxiPv4m01FR8h3/ycUgflu4v4prwMvIcqmikD+hcxO69cHV41uV6fXEaP6eBB7n+hnV7KJVyXEZKCAAAAwASkYxcD7R/PM0iNwE7I6cxgd59AmKStF4P5qhu5MfF+px1OCd1eJj8xUcCCVDvrtBN326JDbopdZs+T4mQFBnYfYcuJh6EgoN9lDYt2OSRVx9jqpx4mqpns5nxopQ/qsg8PkQRrSZKF2DH/g/yEMFUYfqyKiuaCBcU223D5AfaUzK3J8Zr2U85AuTb4o91QddlLVpPA+a4JOjSUuAaYHgoSx1lJZ1soWW+7mWVDLK8ToMYBdoFL1O0kDU7oEF+HcV8+Cgou2JNrm4nGMw9Cad3PJuq6ZdX0/kSSV7WgAACCWaE6P/I9RDsq6qlD1P7jBkitqA6OzwBIAvXSAWuvMugN9Wn1Y4GEB7axI+KCIJDmzwfO9Km38X6XisPyUf0W3Lubo7RlfmelPGA8PjpYUedtNCLPCS/OmA6sPpamTAqm3rx/owLu6IpN04Eov2CQdmUeNPFV0uQLZSaj0MB7zB5qM7jcAb6ydlnn8qCQA1Q3QasEJ3plIcsR72iaXvM13ANxWzJjC8Ax501y+5GUOAAABdD0X5oMyBbfgaxwaYTmLXS6Ay1XHqbIULBhR926PzkJeoj1bPLdCaxHqOlDTHbb/nYyoN2F6j8/IRgLjLkqiyBezJPmpPpWY29/vU62Xp5GQacfw/aSz/nUhAvmYNDxSDMcCikJc8lk0FQ/eDW2XSzZV0ERbb0YeIgoBOvqztN36g7p2UgOaTtt4fn+sNosdee2//U/6ecuJjdYpg1mYf3Zuifl7WK8ElqwXHnGTwritPlaa+a3MOeVgAaGAqehFq0T/F76cyI7yTig5Y6qt8JkEK9ldKPRsFlZTh1J5ZbCqQoq7IqhXecfvUjyJzLKBwa61NJ5Fp9m/a36UuvrczMYJumR8Ne/YHpNlPmoGWfEa9cv/PHW9c+sMFJlo5/5PVY9GHWVLxWdq8NTInf/Cwu+r8M4drCkFsM7wJZtw9j/Sar1Ayg3UZBmSGM8Qcx6Axplzwue8lLPpWGJq2OEqv7j/F8XMfucaRxzpZuFf4zqDioA/d4SpMqKWkUza1k7d/0QZ7kFQRZoZznRLLv9qDMfYsQipIDQdI+dDvlli5/JsbsTfsmHqmbnYo0p3fyHCqgFsSUlSQGg6abE77G6faLc9AsrrJYyQ7MUqxEY1+demADkKprGJLVKtK78lus7VsXWwsM522t+7nTixBZOiM9HcB873nq9klkvchg49E/GM163Nt9GPt6EM56ckA4EejKZTCUXW05o0+uS07Nd/8nMro+HH7JDY9d8o5xRnznxWkZQd3SKk/0yjgsoswUAABX1ktpdAQayuITR4zE0dxC0/SY3rSzu0pxbRYIqmhWDRwKv58/fVokbDBGBRJhmbN6aN+DDdD1n7ONDd4cXT2f0zSFe7PNwWzJrxJsTwFvlRp9yE6zsmYUFzcctb4a23VcAWyoMWgMb5rwvPuDHNOovbkZDN6h/3wJccuptxw0WABTInSm5kjvQ+5BLMvnPDxkj6iIf+YIRSj93zLbNEkxoDZsTrX+OKnhkIq+rVvkOYKOwWk3e0LhO4SdmbdgHhl3BvtY7Jxo6rGJ3MiBIhkOoV5/UEBGDH68bxO6ys8YAGegQT2Db/qXXRBoKB7gOfB1zhUkdX49QxnfYvr4CBZWpa82eigTBUnzC/wj2pO5GBq73wCIrgAAAwABj3m7JJGezcCqpYkOkVyOOGaDDHP3fgLNaCRSC7xOVT73D3bB4ZZEL5fTg+3x+nzArexYH8UgqOExeOz9abR8LEJlHddMzvgFp23uUMwDXYcjTTujfau/FhazJ3zAQwYR8ORAqjkbsP+5G8Nz1i28J4LIaue0wY5nV1fznn0X76k+AzHW3Lk4+0wVe5uLLsDHMtScXEBu/M4EKzd6jErRf58z1XUCjElqKgW3HprjW0fRb0Mi6T2QbyQ5JvcBncBa2xecDufxJ6wcfum/k0hIpYdKdsmdX/RCjn8Fog0syRgUz+2FF/ikrM0OnAvDUQv7Nt8mwMMSJ5l3PtVJ6rZM8cUQ+4ShDDWIkYyKK5lWwA3ANtJR3dITdIreb0KyhXyDKt7sKp867gIsj+jHzIhXx/mANjzpv+eEsuzhqugWzL+f1Vpzbe1ItbhNS6NSV8qkA4KLWM0F/TpP+HcO6+uyM0niKHsDvqQZFw3m9FxhMDDTcVjpkExaFPRwwoFdGlQzFmUcGNKE2xHs+hQWcpLdwMFIke3DSBH4s98qlkLE8AAAAwAEFUTgc3riQdvjE81Ea6qtehBY3/gRhDmmdmUjhbCRzHZ3AZ31WfVRUPesxoQndC87JI44ZoZ9q9YzO7Egd7MkMSarPXT/B/SJelEAff4Qm2EYBY2tfKC+fQihZ+KNSg84VIT4ciBVHI3Yf/QVy7VZzckJXnMaudrlP81his9AR+D7YWDLeK1NZ4TDAYtCiePcGqVc0XsbUgpVzO9zgxpAsCORLXdbclj9SKgW3HprjW0fSuTpK3+yDeSHJN7gM7gLW2L+SKBZ9YBLs9VS41DbtiMBLGxtgq/LpjBH4myMkYFM/thRf4pdjwnWn0lcjztnoCSoN/1LHuE4TKOm0WtNoOB/FtpFyPuXn8dg+lhpDdZEenoDxfxyVDBtQrhYO6rmEdtPjsuzhqugWzL+f1t3IxQ98NNxWOmPmNoU9HDE911DeTa3Cal0akr5VIBwUWlbrGUTTUFQkpbnFLM/0YCZFfqyak4F022ccU6aZTWUAhR+w6NUDIQmJRJgzhVkw/W+NwvZmvSnGMAAAAMAD2RtrIF/TTwNQcr12QFftvI5eB2pq2j+N5Zs2Yt4mMHXoDzTpYEAAANDQZohbET/8yEnH79TZplxH+9MLqwAl+3/8oMxUHpRKF02FxAkOOcesELZKW6MoWNpIrp2ysxqFulrNSS6Dij9M3OEGkjbvz0XnbbevMWuWt+iWeqxff1nGSj4/GNfDP/i7WwAZwrrSetgENLup2BN1ZFlB9MjZsQsXqmLmi8+0bSMVWEG6EgsAtU63NxGd+zWFFcaeV//QtGFDwc6LCicfdD2sy9l/05tKLn+IVptIJdW3RqI9u/be4/8Jj0eFefi3g0h7ziAY6huJWCy4wGCc3VDNC2dmmrjYprdcAfMgjeKJ/tloS8K5QU5TQ3Sye5oW5CVzMETch4MCY0Bww1PS++zYQa56KCA3rFph6SwUw+1M8bItiBrghpJ+TgZxjYBARIlrSaLkRJw2yV5huhdZHFg3hzcqYSI99Y/gH1m3rXR4qojh8C0o8enIhiXWaNbZ/L/aH99OIN+V8+3mP/UbLvSBprkD9is1YozjkHzC6xbXGBVGAMJTY2j+6L9sQVcK7/NwpOYD2EhbF48zBV9pI2/aAtvH4PCY2ezGHxjniBkIC2sntS+XYy77DV5PGzGg+1xox4bQaoCEjSV7ofon/4kD3RYiw7BN7CT2mhzHd6MSlvJRbtkpgbtq/2/jVj/xKHTF+AMwavXzk2n2/FBghtgT6cDLjW1U1DYYgNxD3ZHPcyuvrNJxe3gFB4zEXQOjyBxxMK2Cp786+ZQrCYLvHBWxxyIgEYrTaQS6tCUMkg1riQguuvfFPFUBka6rzSxBJOCHHVoDwG6R6mk8nk2mCbZYd6oDFyDJL8baM1dvbqtOuf7UU+8Jr4g6VqqIHNtI0P+gHgx7xHh7b3JQOBDN4+45zeaIRYBn1aj/ORcE0aQUw9zgd94DANVgZIzXi3LUrAL/8NmlX9ZN2JkgCZ9rxk2gdLMDryt0OGQYNBqpqzoNjX32L7kyRGndACuuCqi4FAOkuPEMUzWgZbeR8is66RV/RCbzFv2hToe7wEtFWJHSurQ6OQkIjVygK0GIn6wlMQjO+yc4r7KeoL65/2qsdt1JwHgKZWzJe+scMdiEPAHfh53KtzwdDxrGZlpqpvjhJ2PzNWqDrHXP0MLacOdzGMHpAAABFtBmkI8IZMphE/zIABp8c/tVm/2Ow6XC6pNk4qYOjyQSIT2uyOVXNatvuuNLR7Al+9VT5reL6B/41+xhvqRQnO2AVuD84RpNDwzbPwvZsV4jsdvXhH7Nr2Nm/3mSSnJqW+P+vOhhMNqwG1I3VWcDTkshaEASRBRUnuJQMeNHfwKHWki/90knXWjVvKu+3f1lcBAIuO5v7rcLrEIFdCRK0gu5N2Nvsk0tGLiuXc2QQODOqBAhwUe+jurgoux1UZQL54HyCpK7hH3OFJSEvqs0cavNG0ns8STyxgdiJJMxrF+i2pBI4QFP2GYZAWupf7vtzNAtcVez9IkAKIYMsEY9+IviOSVycKHviEtYOhv6iBM1kuBd96wjObHmyGu1lZ2D90iKz1YSam6eiJsbuOzg3JEJf/ELSystRwe7AYyNxt+vGFpUlrY2zacBSP1c8Vr2S1cgGHCJ5TrpPfe/pYstoPDvRnBZTUDEpj9EU9ZauK8lYCJnu/FC15sKHlD73UBc+g/qDsypWlpAAuAcyWl6Z1aCbfvwECYTEI9LXAnRcrsD+IZVSuvAQIy1WivPs2MjsGUn7WxdCB4O3NIQJj1OwFluXAR0wqIUpXaqoVU/k4kiiqCGKm4+kKFaApkoFALH86M2HpIBZZjRZP64yK2viKM1iXIaNBrDXqQaIeyl4ApxZm0eo8+FJtC1XaQNrfHQ+QFT3VtFFo7q+5LV0TtfHw3Lpy4J6wzTJDEIW4R3DCCEU9h1yQUhslTLyuoEORF+oAgRfYLvVJYJqToCpxXQ74LRefKFP7J3wHBj0fQ6ACKvb0ZqDW53uPT4OHXI6cgR0vt8m8dM7fnkT2gUWUdCll94ezXTgVV9Hj+y3u6E8pe7fNV2Gay64YRYb8LLLeYITXrx6IDZxVwqCMS3Hhn7ORKKMXwUd3/W5OIzqVApXGno9/ojM44KpyWExo+Le4J5wP1ej0u0LyddPtdP/dwo80vwjjyY31+IKnclWZXJsslcSGAaOUkcO1vTR3ZaUHSlMoQVkIV5o/7S8dSNIuTtHX/iPNCkvQoBFoshzqOve02wzr2H4b7VscCGQqU83E8pTcPxriynoq4YwD8Hbzvx3cucR48I+HdyJqXMgeJSwmiVUyXQgrFS7NB+pmL62zt9HFhuWPdQfUULIwFu5KiWWy+dTfRumaHX0nzTOwFUYzIXjmFAvv9ZewNN6xtKSGhJpos6omv1FAdrv11zaqvfMry6n+N/pCneC9sEt0WlePzkI69xiGroJEJH2MC6lLUa6FPEBFuibPLznPNCEoM/3aYTb5du58ZvoogBBZHGK8M+Iz0j5iQhqjLibbGs418nIf5jeghDi5ejMB/7LyyBo09EI9uxT6s+OoKtj6peeOF5BEysQOjy1AYfjkGUcuCSkrxH7CDv/Flw7WuozC8wSJ2og0+TVB3mhTZL75PTGIDaG/Fv9jhzooN0Brv8ql0ZGU261mNT//Zi4jegQAABItBmmNJ4Q8mUwIn//MgAGlAOcRQwuqTAjzMDYSAdu6zSjT8PDWxtZt5o6ZizUrhgw26dPYYdr3U7f+g/ier2JK9qfUh/LVes/gHXIvm/SRndrv67uWgoGrAij/dG95dOS364ubgDsGdDpjsJbg6z4SzRjLnCAC6crUuTGP7gtAIwQCLdrb/oRdzDz8ig6ggkrCr80PD8FnFaww/z3bGJYyltup+bN/OA5QUOnuZeS/4e/Gm9/X3LzwNjgT6sNti3/Ffq51+vDQZ39uB0h5fDpp7Qfw0Hrej/eYvkwnji6PPzmpthnSH5VXGQAPHBmkcT5x8uJbQ/3svhW5+yY+BipJZbdrdzS78mVELfbO4l/aT6qxUFYkmtMM7p0DZGG5OfouXq9iRCo/uDBWM8mW8WgWcJgWwb3C9iM54txZC0ZtYHwA5eH1Y6ZJQuBkYNXA2PCFRo4guov7TGWqUCHfwPBdHxfV07ZkBI094SbBqdaHpoXc9SsXH26OxcsW4Oci8+WcVOCsnS7ZjdFVjPfJFLFlUkgrVpUPqhoJmLInL5wHUe6dwQc3pd4PuMA/jfBn3kjt/DkGI3icApSb3q40m29RWSoIVuXUdcha/ZHHDNDPudSJg9vsbbNfHIrERCkDJozrFbX6wlF/S/bCYCJrnIDh9LjQtClJ9Ss4bncjj+l/1Vx2TrmaNfSwtjH18JwsQKh/Z4F4KFvcAjn/nNQgng7qcCgScivM7ir85OotIY3MrXyaE5w9ANW+o3I17Wmh39jDP4P4RCaDZU1Vh3QPCJfct2NXfWsxqx6ITidm+NJxsQcKRwz6HeqLJZIAAF9GTYWJRjYBMML+gYvluRL5hGHwhl03ybhIPfSkuV6XcVu/OxksCIFwb+dNy2oxkKkGmvUGk9MPXYFTCRcUO8hMMBOong2LARhTIouCinucgxqOpiqHygx9KQzjQzK9HDR0RGY4N/TEbwYyavA0vbchTYcEbxVUaOeokl18+6exh8znXetpsci3QSDbUq908ChR5WeXJ9RDtafK0Dx3h/z5ELYUusRiZGNP+ndW6AzOwgpzb4aX7u1NfIyY0q2A5ZXngY/oq5RfBC8gtYZV9NypajQ+rQGKdeMpzWom4uG/VEJ0ovJYH8WzgJkURGqkdQguSsiOf73vX16vq8mex3/Laq1M+awJphIYU1nqGGvpNmnhkzfW0fQFx/AT46jTLHIWDISzYzVA1r4BshRfRtzghVkr/nhim7LF9yPZA3PaCwAMqF0mQtFXnujqGxHKuQFk0AuPX4CiTHw2WyMSPnLnecpOcAemtM0gUw8S2D0HfcL1FhRVJ3daJaYttJBV9RVa/zIb12+Bdx+7yzR+yNrl5tXCyPzaGUvmcA6hDPwa0TAwCiHN5xOlElHjewNWGWSB7tOB+EdcOFYKmWoJCJqSkuRyJylEp3zZpnqchjjND9V8WsD4XpIfhhfgXc+RRB1y3+pvd48AY2lAI9P91QPJYbW6jWttwSqq+Zx/eWjyzZiYaXJLCOweVT8ugrvU2yy+5hkNYHO9Rgy1jM0/EHAAABHFBmoRJ4Q8mUwIn//MgAASbS1gV/pUx4DoSbH3Pr+jrgE958s4TxltwdPmWTJDlmaZh9MLBTPtIpnUU7M1rSdTHG9noiJ1tUAv2gRDeMjpMwBv3jBXvzJweB7HQsedz+M88rVbfHeGD2ZAi08kC855Lv56usWExcaCoTq/LeLNjQEk7izT4ieGpbuifn346xYq56Ib66D+rXI59aU7bF3xnsvbzglxE0Vo/60tVEmx55sh/MtrmO2FKFoJNptBO2aXtjkh7zjt85FZTxDxAg7esticrLNtbn9U7XUGYSZMoQU8/VDTOsIJLv66zHY2bY3GjMMxWuL4uJWXebC4qOOBFT5eEBMW5eP7cysfkcwMKmp7nZhi8GZ6LM9RRIXTmCPt5EKqyd2uDzyAYnxg7M2T8EVvNAVi4np2N8rqABDFJejRUAPRm6YieIeytWSaC1+KLF/RzSHCe+kzHCsTwzGkqGMtDKwWlESVtHifZZPvaxXG3anGdmwJim5+u0LC/3P7MCHgvpPCh/ypKv4voiQMyqDmZFWXC1na5d5kAXpfNlTs8rHrsPAK4h0bDuEo572Wm6S3tzfv1vgUmYelWGS9Me/HsCffrdYb7sztAC7djl14ySwNZRzkNwRsBv3Q6avuD8Ly4BMyPRtrRqplQtv7B1wBchMSt1wsxyJ1EcJsB4msGxWDbD43LaKCErRHYUr4lpgzV7wuVBrzNzS0XRpg+C5jmMagmu0YPXw5vUvOJGVZ7Y1xxL4ctnPP4bsiLIqdyC1GpbHIFS28um5wvwYEes7tVJXr7Vs1qgQMoZwRt4pXU8BNZMFjEwbuWhQ7jQNEWFSsbTKgSkk/R+XecHn7UGZA5n6N+Zw6V1W8mALDt2nkxnZ3NiAP0TMJ/PFLNLlfR5X2Ozt+WFQkobad29XzyAgV2JD+zwOQpbPePKdxhFRuU65MN7stT0FuDbigWM2odnqK46UNQJCseORPsOk6GEi3VIkVqoKS0XgcuVgNWmX2X9ZLqSiblVDUSW06vKMANo+2zR+F5IEFkgypX5pj7S/KjveQrR4lDONdb4dX2nQ7RpoX5p0ZoVyYCh288uH4PoWYSlnSS//u3NYN+R4vYG2OBXduAxTwT2osc1JPEC7pLphDCMkK3IJ5moEHB9Nq5RdmEfzfVdLmfnLqRuVFRNN2+6zeaJ5vSOIeS4Hys/dWpzVyaahbuR1ojwBXRAqD0dBzQUCH8EoPC+F+heSAFhWL9wsrDjjlhHpdyrwHzIhZKspwJ7uigWT4uOZpVX3jNAeusooKMekr09OR0RwFHyHVC79OIWVeqBqpXw7khqsR+uzvG0tn8KLkjBghojIPYqR2qoiHhWi9xHsNtYqoIcVDAbbaK2ntDxo8BrIxU74DZ/JsSKXckQRkoAaL9F2UgHkcSSmn7on42Tl+sKzexaPVqk3VxFs85aUjQp2H4odD6UOiD3Jhh7ctnQ1T0Vjq2uH/ITtemSnAh/3rmvSFyPYKPqfCZhdOi+Ljn0lt5MQ8AAASnQZqlSeEPJlMCJ//zIABidIzaCoVi3i6RaQxf/xf2KZpYZunStngQPsc6va+fFH2VEFHEoICTkMbDDN3TvAaWpsGhQkNfRyJLWiJ1vTqsFxP2tVpaEj4C7F2NzbfT9f8nSEvQCQu5nH4nj2H/4YiJWr51S7P+mMyhQ4xbNtUncuYHGa5p//2b0wiuY1lqYQ/NirYvqLFpv64Y9TE13e5LFgrp6e/viQ6gLNDUoAxuIbJTLFUc/C2j8e2/EVq/gT13+5IMBZBf2B6Xldjc5OAd17jqPNABjLzm+05Kgzv0Im6PgbDi43pnAkXg6VeI4eYGMZ25YQJGvUl4qnTF+rlrslhyk47IjXJPfrP3bE2UJyi43ou3QD3qB2UF5fVMxFqnwW2gs/VQgr4Awhf+WJHDprvYp0daLk5n8ul+AXBq3d3gUk+O4hjtcf2qq80t7TWvzxJ5RKuNCYAY7sNTOw+Kl8tUJZK9w8fw7vEdo2Xx+QFraTGs5B3D70k3rD20FML+qEAEvlaNCvdgkjwiUxh+56LlYo4K8f2LjfiOdC5mbQFDvVuJzFmIVICczOinpKNO5qH0xVIP70BR+ZdxsqDUk3B1i5ArykEramhgW8msnZkHg3Ac7lgNd+28lhU9mqSvi3wBYXh25+w0fz8vjgd5KYD0uSE11o+ozPhEEBc7EG9SA6/YL1oBHXZ/tEc57DvZ3xqiGTPBTYF0Exvi1YAUQ0G1U12CN/L3QjmJVHVr1DXTHbvyREj1/eRoeALjUHmsxMnBdNji2yxIE3Ay9N8Kit0X8HkTLQg340cI2nfAka6g1rdfDn+C1b4MG2NI2HL+3Azez4NwPhzo6oETfPF+J4KZmyLr8v2kopIbffxWf3q+0dOjnII+qP9XS4bpfdgButFqOBFbxFYMRj28U5IPiVDR06FxgHgIEOJQRTkRb5gImppqY1Ckc6+TE2HVQas8c8qzjkmENx0sX025Xla1Ttclhz4YOt0CLwplw5G5+FDqPL56S5GvIUALdxnMqpqTugHyVBMlDoFJX7PnopXuZwkctAzKJmT1eiaDWZYzSQFWUcCDm8AonLf42LGuOyZBT9TQXkDCOKLwSI6baU7Vjamb5EmUC0nP2nbDoT7tLDKpyNnhucFF/n/R/0kBKMFT61LdwdTBcEx4B3t4MP/gC1McQKheFvjB4l0r5aL5e6kK5iIuQUVjvW7Ovu8kxSLw/u2qzEOzDWBNH4Tx3qxEfDTqLbSAHQAasAOSrOuDTAuIT1Z/AS+CbcUFhqf7aVVGDw6tDS9rDXwAB6gwNe5HqGX/6DcFXg+BX1AKupHgGXjAbeYeAtgXBktjoEj/j5aQ1WMjnkJTAwjERhZY5tYWW5gP5wmyWwMouoIavzHcEbLaONrGf2gb18jXTygCWrEuamMMXwMNFQhZZnW4f2qp45Oedl7eXXVzYv234ijOdlJvgohyGS/58HpRjzElMjwAVxSAiAQgMLBqoQMubUtsrAJuHSrejhxYMQm0x9js10q7EGtfyUOeeIstBKNt4VcBcTkPis/0DDlA3mtyupPPwRQAdcm7w1RIt/nsomHpsFwdQ0fWlEjZAAAEdUGaxknhDyZTAif/8yAD9wA1F0icaNfUDHAOorgu/NS5adE3Fgo+8pxjBvYVOTBxqLkF3mwN9Hf+DDtESP0uk2QPZ0y+Dv2BvcXZi0VtD+cz6HKwvIxWrYYRJ+CNdJKZ9A+w6FpoVjHTZTYr55JK/jAVYWjZdWKEgssZf5cgCNkB8x9/VjX9ANabtsG/e7ecVK//7+Fs+CxAd03Fz5GPNyCB4nOZMIfK4nl16MNmp6joVnzGhaSd1i8F42GuHx7sj9egz9GfnlD4rSmiBbN+V4KM1bwarAY86mdIJtiOR62BPsYDlkOIFnGRS6V3B2xhI2WZ0lttzJOyUA1ebrg08d8kgbe5OfsEL0JNcKYvxlfpcHODIIK6DouY52g6A1BEIxah0yDxXkPy5t/B1aOw0MFyEoQFRV5qpIhc/dZxM2itg49Am1kOhs0+hqeT1oWU+OLPyvn86302Vgb0eX4e5bpFUqckbcsPVnBhcBn22AE/qxF/lnTrTx64P2dkdZPJKj+QJ0r4ZIqUlVKrhXsmprjMvaUrgrqj3bzB1R2uDYZA8iUPqimaiTEAt7+bil1xvEjYk6pHQuMH6ReKRqOt8AAYeAzACM7EYh0u9+/HW/4loaF1bntEneBZrwILe80y1JbhKSGFZWNM4358AT2v+1j7X4kBaCT1xBtwFll5peoRPp3gGNTFQMuGOAyCYVN0crMM4st3aUMcqvyqOIPPDKdYc7zM1pWfQnscSBg5K5fbcgzPUbN51DWiqBNSwKpjM086H7raRVyThXEgdUiuauPOMhyVIRC7cVCUsng5N19Nm33H97HrG6MYwtMtswtrkDPyBgMg0hTcvrusj43RfC0PSRByoEKjvrcTaX5OmkvSMpdBsiC+bJvrfA8sJuv7mTN1PRf2NT8Wv46pN+J0FnMpMO2zufKED7XGJ3DyZNedQfeDHxiTeqTPCEbAhBqRgb7FMgOD64cpdyef5YcBn6MqghaxpPC40FDkF/aqEI5dKEifjUBQVm5W4iJTrPKhMDyWUFV4h1HKwY9E8+e9ElcG+QY2pBEv5nGpOoXWu6RpzTwDCLxNZ8lJXVVjxN234mMgC8FVgv3QSboXnuLSXEYWNwBkGy7IAABeIe5N0OLYWAFUTX3bE9gcOZYnF+yTCSBRWAHKI1LOLZ6FbrVdtwWKVlVgmmeN2eGCIHtKFDbof7U1woQaxRXAT5NEHxYC39KKI9bXi3gKJ9L4sbxPfn5OoE0Xltf3UbxYhtArP+F1CEA0wyxcoe/qdKiW7rEIPzjYo7q3sQDoLHik0FJ9+bGMBOjc+gclYvwdHOVN0lKV04k+geFjASMshseARCULa1iXy205tNleW//Vz/RDrrV9SDQhCqEAPeDUBRBxzWAmJGRnAVLWwzpJ1/zMHm/gwkt/jn6zTPm+2wivIeER0TjMUyq6MTXOHHgXGrFnZDU9Zey7fA/jMeTrYxH09xiMGeauWlEgwRLbD0w3b8sXzoisibJRwngN8y0ayAsBeqeUupFQApsAAAP1QZroSeEPJlMFETxP8yAD9wAmxm7bHLG64gSKU1sknlmZEwT2ogLIXhjEG9X1vfB3F1scc/5Bw2nne5xVayS7VLB8crpH3p7LCmlolM3NydUasBLDLKNeURvFfbVYx/zn0lY25CiKNoTULIeX6+A3/3XddX4SGsp6yhGhvHgCBPTUfJYoIVLJsUCkHPT1AGupu1GjfGz0JZ53zXNIYMqdOWMDxJo5/E3+sznc5/CcKe+NgMjsINAmVh/xIteBrRa95ZRF+9ZsMuRoT/lKCWyuNHWD3TqYXU+cSWFt/UeQgjYajS2mkiGnBtaC8izzkUIxT1/AqYhey7IEAqgphDkgwqQtnyNvCDlfpHwSk/09aCW6Sd+SNdf/5Kvgzg9ny5jRZOo0EOhuLG7JYZdhyAcFxpYLXCBrxfk79AmvohCrqep1oRbHunIllNg0wHGGVeCu9msJpXVEQZAikDiLGjiv1xocLh+R2ldIxKbIBB6P9Wu9lEoXqBmbos5QVvhNN9giPQs3wJWWHRAs9nDtVZfq+itvtbWLEYzh/gmfMWDHLQL7m4U7aXpbQwJbh1ntgMEuBw1szUkErwgHNzTBjO9jCsJ3KQ6w/3eMaqZ8aDeav1wMY2zZr1yhTljBu/ZlKpPzWSFufqpunH+SFaavA/0svo3m2ZxoLPykqvh9edXw6aO3dgAQpbW3nQAA5+SG3dYKPh16BhJwp9NsVAsCGxfvKw86H5v7hDO5RDL8nfJy3LXMQNcMvcKRbxa4c9Nu1vE6M1I9VJELMEixCpsvxzyR4KM612g2PFaeoTm1a2OaiJpdXhmcCUy39At3H1mONSDN/nu/V8SBS4+K96UCKJfA2UuWMMrjX9Bbr/g1NhQPvrc4b00Af+KkTDkpTc6ygDJSfFoOfxCoYTzzELLgPhRlrap1Jf8Fd0NQsQr/8SKc0CIVXkncdVvS95grkgarVZNqwbl2S/jBkdLDjl2cDR9UomAwchCMyBrIOBt3TTwNp5bHUAdcsT4pJdh1c1KwepyC8nLE3goDOWpCG/unI0TiKqqhyp1Hzc1kbwyYudiUc1PxUpB0MB8HglBIcq9MQ6jZbohNzcIHWOwnbUMg8RM3ne44RF6VtnSFNsrblqMWBY2aiuKJzObZuzXA37kmdpDFK5ycDhYXSEc6anYk9Y44Tp7HyYcqTzAgVj8NgMi0YCLL+vzJbcWUurFy/zjVuX/rgHJIxH4bX/wRCpj2w2aSfJNgy3GyEXOGeNUSfJjgFs++7cwiyqN5e44ghSLXVr2uNtu1fwrD2GKSgjxd1osA7ia/0CFrhhYF0Cle0Xv1o2ZPwAy9W5LlSpt5BKVg4RU9egaYAUkAAAA6AZ8HakR/CuAsnOw+O1ceK1RcNvDvPPz9EodUUD5oO/MG384P1di0DY+yZliFrL9kxajMuv/Qc+AIeAAAA+RBmwlJ4Q8mUwIn//MgAfqVJccwuqTbhbGIGZ4FqVuxS0liED6ePdlVlpmUd98D/IPXQhpCnQsu7y5b1a5e5bt//xEuIhPoXuz/pvaBQhGntlMWtbbpKCUYbNSkBMMFt37jDMMMp2dQl356lcH5PH8AiheXaIHsFKbi2JzgkRFd/Ggi0ox/jGU+4ItyrFHf7jOyVK+UaaKSd3Qu38pEroHpaOTUGDAhtvZMnZFxVCmXwb3hoaFmVQsZsV9n39KGdXVXuccW5Xc3DMOvbWKMWEsZFx8D0wCmY/v1UYtDlMV0RuHXRsSID6FvJOLxcxbDkADKQPe6b+Wk669HjUo2tVv+fLQYfuzWxZAAoVtewcyBbxY9V8cn4wimUMoYhkEAt1rKDlIq5zkj5DYPE6vodw6EIOe4ffwEBKDaef9Jgglwed66iyNsrGWhFc36pjxH4jS2YujoIfdzfEN9nUQNj3+hCZCByEkgCFWkHsu3t5L/dYDxfs1lV7NAyGb0zLNSmBEv5bTSxqCg9kCxZ9L49bYeBZPw7do22AO5xmSwTIcKTHyNNWgWGfyLdUE4aZ3p+3bBhm9vyrTALWDQdz2vwU3RId4dImTZHxgZQM4geyB3iNuhfvpKfpEZkEo7BgvU6XX5LPkbLsvLU71HvoJrtlgl7S/y2dUzh05kHeK0NN1zqPRUT6EX//JE06E3mAyzWmnBlbyScvNZ+R9dptxqSesdM74T6QdIBgnKmhy/TzOYFYL4Wf+ez/r5nP1EjqCuFCB0oZsGM2kEN/xPne3xvmg8uunX20RhHCyW6fk2ddUxfk2vWN1DTolrYAMZS88mK4XZBdY+lEO3hv9Geie00QgS4+Wmo2oGo6bzPjnPT7/phXmABJu5YDVpl7FXSNhZF5tnoIm/pQNvsHKKPFLZyZ6JOwdv6Oh6ibUM+53JTL/cp+pssAPpaxAUuua2NbgQywGjklFL+e1p6c+k4j4w61rSGDQi4H7S8VoCwx2/sZ8S1laji9D54q79EvVj0IOpKcoE4YyFZJUZm7fwcOjuHIe4k8gTN+ytTmfzDG4nhL0UeB7C7xOjffDXuR5vJiQmIVk81GqXKgR1mkbh+94N3tAvTe7uE1ZDShgQDN4mhf6QgChYCG+1dCVPBmCAS6hxYPdyisQmLyM6vOI+5sW97DTHG70baUip47PcmfR/SP366t6WpOMkUQL3u+6RYOblyyjDpvMYiiCV8rtpE6NfvpomGCWiF/JSAAFNxKnruiV17RINJjmJ4ixU+YOuPgjny2dQo+Xm6SS9fpnNTpsYfdgNnilOf0tbsBe9BHcBuIIKJeYAUkAAAAU3QZstSeEPJlMCf1l9Pi37Db/+K+RTNTVeeTlhDESYTtTMZOBi0C8JtVxBMGCNXqw0HdQRe701xBndtLD1eAUxKQ46YV+sH/KYUT2M+cUNj2TC4Jtlpk5FihHEK3n5voFlX3xG/LalekB3X++WClGNOhxQot8+NAgqvu1OTlmIZtjFjCRBWnHgdZTMfnnYsiaFpbWFpEE3WVUn+m7yN1++dNg8Zs7JndK/XB2f32ZyGakmNFbOE13mwGTGdW42fwkAO8rJxWtbk97ecVZpJfeYYEvfUw99x3VMQchRlzbNpTxXo5oD3hot59y/QZfdOHE74cxmTZxxslslGexEuUCOLWNaVNvqWpJEWSr/YMa2dV9EmI8N/rIHUVN0e0vLwDTnGNi9CuSn8opNHrT13ok0lLh6VQSEQ/v+0VNDUidMsGcsgM+ORz0X3LObw+FookSxWsTStmmRwCI8BIKOTjbrolip4bACICojZz2QPucblp6oNDPXxsZ9hnjK9TaCwGS4wBSnvsmvrv0DviGtdkV7kFV8GNI2uTSJ/wiVD1+Bl+CALDx27Mhls6Uc6DSoybiaRGsC4J7TJd664ArJm+9o/3gxDeQf/8hSBxGpmdbf+eBWD/i76j0BrQOz4mEwRv6Xa9uS5KVt6YeAhO+4giIyw1ltWdDmFEUxcUecFuYF6vvQqBQkzpi8v+aAeLw99JoXULR8haBPtvwJdQSrEJB+6tLKxl7UQ8IgD45e8eHWlHNt8ys+gXsJWS3522KZ40ge+/j9XwVnTu2VFzSAIxrr7bOA6ffqz8BVX9Po+xM9lzBkJhW04Jhe6wx0xb7Qd4GIpKfiXb/heIsNPEuQpG+nbJFrA0LZYJu/qTXSp6sOLjzA/lfCMg+9lnN681fUKCEAePpo0cCv0z1I3Uxb3hzvUlkOrA/HWIdG4UMwVOFph8Ju4Q0F2S09U62OCbsIZn2EZwjLMSzTzJWSVzvn9pFSo6H5flUut6KqIcSsGl3OovozrUIALUmL+nAKvOG65fXddeNRJE94xdfcyyqnNyq+7wmUGyBno9zuIbrJIbWp9KOZ4FoBVAlz7vPu28I2u7xn2KcJAVoFSSBTsA/U8wxo9ZZ4jRG38OOIsAFZeGe+GMNyjIfGY0UT+EoadkVYyz439GVxowZdvmqU0Kxz6ai5MR3WQ2xQlCaWMGx9eeBbV5+2k16/AcAE5RPLybYXBi6fJPDmL12a2MU4m2174FruS/VagsFcXjOwO0gSxCWkA9iFzFaQu/BkB6V5Meqjo1t2cejs+g/79iWcz6/QCdoRF1QINuTw/lD+2pNULbIJ9JxXGmgnOjU/pleUmcEYbemKzdsjtNENED6vZybQ3YMv+MXsVGcqN6jjaymETbfY9jMQr83WyeLYlzSUlNxbro+tICpdlMCRKY/a+eX1LtU+ZYwtEzfbPybLb1EoNcf9zXWgWz7+hexwV9ZV/iAXQecq3JXSPxClsU/TWV/rtekIH9rj4DfT225XvGamlW0bTVcV3hXjX1IZm7DHn6IqbpLSYWJnJT4xMV7I/azT8qytMmmgIHJQZZOg5yZOXLJ71tludhSsvKd02WHPopA5jDpyuudb4rwmZa70GheeJDfzFxn6nhOQH/5rZFz1oe0Eby8LghNmuTFejrOZAG8+YhZnGU6b0X6bCe9ufYDfuFAY9qkqkecz2GaPtWpS18GMt1pmkslHY2nAJa+oAV4Kz+6mTbRxTTFATFtQc8Qq/adTa/XK57mbvD5DEMYX9V+coFE+xfMwAA9JAAAANkGfS0URPX/payCJbr/RKmdk5U3+mcTEOSllXwT+/d3aOyZSLqqj4ULvHlD5zpCI0DtJqtADqgAAABQBn2p0RH/oEAGhbiAEqbM43GPKwAAAABcBn2xqRH/XwXrR3b4TWfh7WwAAK0Kl4QAAA/VBm25JqEFomUwJ/7sPIIL1oQD8xIijnsNv5oCbGmVYx6qnaZkoPOZ2JKcpXK8/UH/pu9hs4UZ9PB55MpENJCJYGg2doX+bUQqg/Amfr/YHwMQ4bYBSU0joeDSn3xsxDnwRKba7TpvJtSsORc+Bz//N0Tx91V/14C/izDxzvRgM8Gs6h2Kv8vdMCVHqIWwzy/qcmVoUyPQzIZTASVCfcr/cUAviB3OTiM8UH9XZJc6fA6+Zi6gd3EQAAG0KiW9iGvj2G91bnAsQeIZV+1M7KaiNSQFU7iqRIuK6EZnJ3tyLS04ALqrkwQ+ULOVZ+JWPSHwKrWNvAIKWB6lvogVQroNPn2NvewJztGxp8kWyi9JytoiNsuS18ud//M7ckrA1Hy8EPQGyRUSMobm90j7QIQRWDuoyOVzBqDuDv1gCWuNUQD5SIxy7OsS0AAW6N/v9U4lM0ikaUXY0XF/SNDofzAdhqlSGvlNtyF93ML5Vx9ykQB1ADs1tNvbdtGjib/KiZxWs0ci7m7t0SWp/+YC2xbF0XYhFN0REstsg/HT7/QpXz7N+3KnqeGY1PjTSLaDLRhixyElVwptxvQx8+tyXsvvx1RxdEtVC+iHlxjUZmx1KVoMCswHhG0AAP4stPJzrQc2sR/mV7sgTYRRdhtbifa2E60FdfxouB7WkxPcvaGKXBH6bGgMW5BwTe/cmz9xsT959B1PvHDU5COGtDnIK98n1jfNnqGNw9QpIquInsq4humtR3DbwEz59Uqpi+0hzQQsYQfLNwzkVdSoQA6uYuMthNunp+k19Og1l18JGzFAG+PklDbWdlRfllVmvoPHERqeFzh5wKZQ/BtCY8YfnW58eLPXnIMs03CUSMBRKQmP5Kfj81UDwAUIXK7eP2xOFaIlBpJh/773gTC+DBcVwq7fB+HG3g12rz5OTODf7/HIsqXICO+nxn1w58zHc6gHBjo6hGHLq+nYHvqsbSHDRQHi1ZbVjEmdxjBy6vzlzpFVK38/cnNDphNRQFNpZfvlkqp6iigxlfOHzoLjpQmEtaOkqq3jZ0mu4sgImIXKHVZlTn0PfWFAxFIZUlLuJx+dsjckSFryU0wwyfsQBg8SRaKAZu5qplItXIZNxKpDY4e81TuwvzkmBAcYhn1e9fJHW8z3SB20EjL8y2E0Ea8qZTkyOtVU4DVDZl/XC0euHA5hMHS7PiY2PqEak/GCmkQjawfG+ZBj5gW56wu1/I6Glf355TUxx444esCNmTUqgG0hj8QntBTxf/BGBW/IzckWolUM2d1j34Pdn0eF51kzHoLiGGtRpclaoDhh5Ar/cssPmDh3CDNnIBHuDKyH7D6TRM7mFbgBlwQAAA+tBm49J4QpSZTAn/+RAAQyWtngYxZVECRMYf/z+458p4+h1zyphyC+8GbVPZJ/UXzaAW39N7+FBKWZP2/KKzKgGmm70y1ZgOGNI9H5mWCmMs85/Di7ojGsO3W0Aljxp5If7meSV1M8ImoWOcoEacJRswzGVoXsTiasfv9vFELjQCQ8vgxU+G85YxLJFvLvUJpmzWnB33P76XPqmi2ejirLa3UD/dpM8SXGuW37fLnWS30Wxtff73p7gdmTj33ZsLd2pl1RcITQS3e//TQI5MO7Fn32zSWCF/qNBvFjBeVAe98Oi7JNFUq05AwZGhKu3rdivayBUFxRbyxHZwFlI0+jKZYo6uW7Gek2QN1y+QojHr7MyGVUn1yInQ88+rPgImtk5/RrPzbkwJC229kjIjTPbQaQAbYK8poQQQr2oqX8dC5yIJMAEyDos14JU2XLodcQ29DAFUDdZLPGHEArqdOBUlo3bevLDrvWcJ/hRit/trzpNijU0V4Dn937xnOwGDwBKiCEc4Da/TAB3hX3XYFCi0IddlJx4TgOkkBnhifH/Jvcm9hBW9QDrn3S09LS/2cGMXQqVJxCA0DAK61D+NCd8SzYttyujt14MAY+enLrqACAHgBvTev6Jm8EB3YOzxyVDMhRsQbaMWkB5qFyhj7EodZIJQbb+TTsAzJzHYmlbpaFrdHn3MhkeDks7IBBX/i6IccHDcH/NEtkBtwwKRn/OEo4BUcFEywAMqiKYiPmPOztzKcAUulfvo56w9xBZn2d/wgUxyHJh9YHznBQdndr2fuQ8Af+oy6zLNebcXhucnJxosSxspsEz9QfM4w/CpKhJDe3VE9Ehp/tfOvM4VmCYZJQhgo+EUz3owg7czFwEAn1Pt7uumDz/whH76iIpfwX+ADPT3FEM8SPTkkywKKr2FBdbxLwynHIFjLpY+WmkJoTJF3UF4WHF+4aEFgJmIiR2bB0xF5rSUCYgc7IpIB40oSTkWt4Bu7wkLhq/MQVPFD3GhDcgBIX4TVOtIYFj3GgzirWMhGaZjhG3BNENSF3+2KvAK+PAxwXdGt81xAczwNBERIhd61rLqJG3U41tfXRd+ElGEnTTGmfEsAL4xmHCXK14eHgyaowTYgNHPZdq0LIaCtH4ptNqBcOaBbWG+jJaNSD5q4pCGAirJuIYgCu9ysMZRtaIX/8AhlY1xRf466WxItLLmOHvixEXasUB3iowYEO/0JQGr6QXb0uX5M7BlND2kKvI11nixGSSEhBMzdrfm31119UwhYzWV1/2nD17H0qm0JnJ95lHUhuBZb9cmzg8JJPcTLf737nrI9WnCU+ZzGj3x92GwBXxAAAEGkGbsEnhDomUwJf/hwAqmn/AYc6VWk7f4mvufP8iBQ7osoz/wys3aKF76/+hauG7y6/JwS/8tc1GGxQBh/JqpxFGN2fsl5zWd1Nes4urjGZT+p3/IXvsullWDSdfioZ434jSrm3Olwy2Q7NrGZv9QgksrM1CIkXnJVCteJvJzP8GuTBP836OVZNHhSDeVaC/lxg9CA1gVILSPKQNPolhLqxQcF/CNL4ESmb+DFThQQe+UTdr7d/mV43yR4uwWsQxw2Uuy1hQDx88xPt27TD3cLyMFN5lfmb8/0UpVU0eNn9kigSWt6uTazjLK/+0lPkTq7hSx9EZ5Zc+D+fQJUM/xkmBx7uwPjzN4pWw7obA1KO/eL1lIMHtYBwg0n5mokp7S9z6ZbkgVhUwZFzT7upqA0xFx935rSYs5VN0wUl+dncg1+nfLdQZNGJgM540GcFKgIql68wgXtXMm8DOkT7PPvOe3rixU8uLnYPwoX1siaIy7K6GfuRt3WTirLAwRlBgF+acIHI11l+E5yMge/cry3f512QUBS4NKE5lkmD0noDKSQB1er0CCX1DdsPy4PhUf+uCN764A7cgruQUzL2J/p3YxdVdby8Vt9lQTFM7afmX610DkKGNFCiAUHqhfU/RVOiWoMCEz9Hopmc6cVewY/lMs551tJY/wB9rAaKB4cms6gCBV0J4Yu+3YMY75j8BWsrTxagvHCsACWZ+x44WONhs2+YgiGRqxFYfw3dUy8oRMD5ROSWnIjtRpVO8Vj4sCGA+Wj5h/Ce0Vqe5YEi070b/X+L37SH/yT0xzlMUOi9UOpIF3LqdB+Wf2ms3O9eCwtBSR3i3wxqQppBTtH1bD5YwlxtDWpzp4H2Wsi3NYSvbzcYGu4cIT3g06iI+sldxbgMeJFmNq3BUF9YBiBXo09BJ9eujiKGbaRvLi6cCTIFESt7k4DeVWdy5m/1l2pBIJVXZyXWvf8tvcIyth/Juu4KxcLoWZ/rBS6B2TxMREGj/Xuq8NEskeQuEHfgc/fo2FFAoMLg6/bMsYYe7pnxIQ+N48KwPauGyZbPR3ATNnHbihyb8wznneQH3ICHAC/RiJfE/VeTTx04GaAGgvn0HGo/s101VEuGkbIGqLfcoPW8u8GzhUPAHR1AAPxj2SHquT8UOwi3gd3ReLVQ/kku6edEb9xI7m1Ayrn4mHflS0MRbpfYdj9AtSnaEHhOaP6mDYP4byHTbnevPLMAfJIwjO1GEOuIp2HAGto7nZwUkVUKQW/RuDGulm6XVHIUyh/WZu/msOiFy1bOC1ik5VR4VXwiH6nQEXxYhw3ByAwNDKP+UVfyz5Q+QiwIXaZkaiDqMHK0cWWNrr/f3SGP1AsGENYD7ORNLnNvhVhAeev2sDQkD2aeK7NsVBJgDAgAAA2pBm9RJ4Q8mUwP/AAEsg/CiNTP7CxMzMxFWtToXj07jIhQCcTgD7LPDSeU6oA+hy69mo5f6GMRUoESa0GAiCWx8dbn0u5PiYPXLCTBVAOK1hjjewcdB3ju31W4+VnbeWZwn7QWcAITgw7J3kGuhSZdgABSygnp/QyC1AL0e1dbRmspEG7dJVCc4atuvPuVhsGb1eYQfvYqXKNLUqFi5CdEzq4StqzQ7iUOJ/gz5Z4ev1xsbSY/qCsPehMyxdh/BsYFqhY+QKP4f8eMGGNQmp73dJp1iMEwNRk4pjyW7GmumnsWDr+LnKvMoXd4mvMI5+NaXSGA038eSdy8snDeaXli3SGjCjpRMEDuJjf4nu4IwW3ya+3g0rdkMeWRnwJTzXkL8NGiB+Izz2ojag+buys8+BB8Zu/mFzAOS4fuiceauzVKMmIp2WlgLA7Vp5fYnRRUIqSRDdaNvtvHHK/tX1tDPLBvs4DBi/wGDayckqy1xQLgNu5U2szABaM4UnU9qjY/bA4G64hQHaID31FItLA0awz4zfWs+5V514+XnvwV7t6cUcYaAqkbZpIf/dILIo4D6eVGLEzbw3DQ2/pKEPAahXongEGSo2G4YKlUqA1k8SIQJ5y11aFctFQ59Gcc0anhIp+oxhqzgAtAjrjLiNjwJWJWsTuGEzXFCNKWd9qOPRasvVd/8xL6N838D/i7nP/0q2iDt+06hIvLN4lDdos21GjKpIvevtgMphftMJ6OxHcdaLsPY/Ccz8tiB4mNruRA3Q5DGUN0/fkI0dzUHXVz74jmNx4QdK/YOazkrFlDi7pgsWqJVSvPvX85a7yc5PiYRzZCrLdbZDBJF8iBoKg9znQa9+O75MwNS3Gjig7iqJv47aXRVf3P8hVBm43wBUfgoiD+mIyU4aJQ+EJBpeexyrFeHBEiGYUOZqFiGQGVVH0cwU0CeYrwGgw+m8Pxvd4JW+Fhc1mykO2dIlngCjGbbThiqWBGOUx0hQElhFFyY6uX5JisV2NAQLtdXUVF1L4D84xiHE3f57fgfKg+KULpxGrGKSEgPjGpKOCyXCnk80yV/AzPv8wPyv7iSx/31evYKw+EaGMmgTol74svVd9FgTcZRTcjDEkQ1iHVNRK3Vk3L9vT4PPSjdhB+FuLBKVjujwWEq5QFCvA7oAAAASUGf8kURPJ8HYw8ejAx+bCM4g7dQH+t9+Yuv9QQHvmPt+bBNK/HAf/QAqYzciUkb7Yq4+FyIJ0jhfsrmo5KQXc0LH1Ld8UFHA/0AAAAYAZ4RdER/CYgBLFB93OtEBo08n1j0tAl4AAAAFAGeE2pEfwldD8oK51f9yi3VWAJeAAADCEGaF0moQWiZTAiPAXdw76ZGv7dxVsv/n9cwWaE204KtvJe9q3+d8UeBLC8Q3G6NEMKr61lXwpd86cKTJmykoubzhjsWaJCnJwKHJzZsgvUu8Yq6ncjJd/Q5GNCpCK4FnqUcytBxVMU4GnpA1GFWw/ew4pCXH9TEc9J9Dds+w92qEwJMUE6tJiaKR5idfsELSgYg2PY6frAl/ql5BmNZ+An/fhY1dBQ0W5/dAG1p4uGKPPhqu8BuBIvqOo1CRLIm4n6ZCOlAtmr9vJ0PdKwVqdfOejrijoUNiyqVm4w8yyIu3RScsP6cGowY7+7jCzFZPleU9T9y8aLXCg5C7+OaB7lpsBr95oXQ6tXK8q1FZbunG5cxCOUwrH+ytgSfoZ1IjMMQJ2XgBV/2H0l1jXO4nW7hFGMokLRNv0vCzUYhUQbe7/5AQt1AZS5O0UGEFWnLF004hitAxGpGFhgomCAWGYWQUByejVkI0Nk44qjevCnwtVxwV1mDhUYWSLe5VGK1yyoPqJqJgskHXwSIeNoyF9VNfTszzKh5GOgGm6dMRuYapS2Z6pLSBhwGCqqHJVOx0P+0uKJu3t+u00yfVzQxEmyHCoCGEuSStTZAUjuyPTrXkwCMt4ccnIN35X6YEKzoHJSSzey+ydg3qx5cGZc7CAGOHMQSp2B4zbrYo0c27J0AVS37ppdA8MihGFRD+Xw2nfSEPUXaW9hpl/wUQTPdElj03+DdAmi/jgBngiw6iQg5O9RZFYm986iZsKvdfK47+mCNudSfAvEoI+Dpj5mA5zYQb2k5lXtnaFV9MLshGmkbhTUdMkWkmgR8cK/NwLftgt1z6XmbCFKbf9AbJahujtfYKlSXcg8C6D1ViJVbQmvklu35j6SjrjxA5+vbV/idWF5X0jbZkELk29ZiT0AdKrfPeTgvkza6S17oljn0HozYiaKNM5wjMJ/sEYOpPd71NWhiJCJwIbc87qyi0H1YPS8QvdmMxdLmve2uj+IU6jPJIpcv0MpGGukqu0o0YPm4dUe3x3umIJeBAAAAHEGeNUURLN8zyL5l6hNszvZ23ah0XwZvoJaQG1AAAAAXAZ5WakR/OJ0inxL6K9kUZJUoYeDABW0AAAPqbW9vdgAAAGxtdmhkAAAAAAAAAAAAAAAAAAAD6AAALuAAAQAAAQAAAAAAAAAAAAAAAAEAAAAAAAAAAAAAAAAAAAABAAAAAAAAAAAAAAAAAABAAAAAAAAAAAAAAAAAAAAAAAAAAAAAAAAAAAAAAAAAAgAAAxR0cmFrAAAAXHRraGQAAAADAAAAAAAAAAAAAAABAAAAAAAALuAAAAAAAAAAAAAAAAAAAAAAAAEAAAAAAAAAAAAAAAAAAAABAAAAAAAAAAAAAAAAAABAAAAAAaAAAAGgAAAAAAAkZWR0cwAAABxlbHN0AAAAAAAAAAEAAC7gAABAAAABAAAAAAKMbWRpYQAAACBtZGhkAAAAAAAAAAAAAAAAAABAAAADAABVxAAAAAAALWhkbHIAAAAAAAAAAHZpZGUAAAAAAAAAAAAAAABWaWRlb0hhbmRsZXIAAAACN21pbmYAAAAUdm1oZAAAAAEAAAAAAAAAAAAAACRkaW5mAAAAHGRyZWYAAAAAAAAAAQAAAAx1cmwgAAAAAQAAAfdzdGJsAAAAl3N0c2QAAAAAAAAAAQAAAIdhdmMxAAAAAAAAAAEAAAAAAAAAAAAAAAAAAAAAAaABoABIAAAASAAAAAAAAAABAAAAAAAAAAAAAAAAAAAAAAAAAAAAAAAAAAAAAAAAAAAAGP//AAAAMWF2Y0MBZAAV/+EAGGdkABWs2UGg1oQAAAMABAAAAwAQPFi2WAEABmjr48siwAAAABhzdHRzAAAAAAAAAAEAAAAYAAAgAAAAABRzdHNzAAAAAAAAAAEAAAABAAAAiGN0dHMAAAAAAAAADwAAAAcAAEAAAAAAAQAAYAAAAAABAAAgAAAAAAEAAEAAAAAAAQAAoAAAAAABAABAAAAAAAEAAAAAAAAAAQAAIAAAAAADAABAAAAAAAEAAKAAAAAAAQAAQAAAAAABAAAAAAAAAAEAACAAAAAAAQAAgAAAAAACAAAgAAAAABxzdHNjAAAAAAAAAAEAAAABAAAAGAAAAAEAAAB0c3RzegAAAAAAAAAAAAAAGAAADPUAAANHAAAEXwAABI8AAAR1AAAEqwAABHkAAAP5AAAAPgAAA+gAAAU7AAAAOgAAABgAAAAbAAAD+QAAA+8AAAQeAAADbgAAAE0AAAAcAAAAGAAAAwwAAAAgAAAAGwAAABRzdGNvAAAAAAAAAAEAAAAwAAAAYnVkdGEAAABabWV0YQAAAAAAAAAhaGRscgAAAAAAAAAAbWRpcmFwcGwAAAAAAAAAAAAAAAAtaWxzdAAAACWpdG9vAAAAHWRhdGEAAAABAAAAAExhdmY1OC4yOS4xMDA=\" type=\"video/mp4\">\n",
       "    Your browser does not support the video tag.\n",
       "    </video>"
      ],
      "text/plain": [
       "<IPython.core.display.HTML object>"
      ]
     },
     "execution_count": 22,
     "metadata": {},
     "output_type": "execute_result"
    }
   ],
   "source": [
    "create_policy_battle_video(eval_env, play_policy, play_policy, 'trained-agent-1-self-battle')"
   ]
  }
 ],
 "metadata": {
  "colab": {
   "provenance": [],
   "authorship_tag": "ABX9TyPjQ/0tIsAxyxA8bleYjOk0",
   "include_colab_link": true
  },
  "kernelspec": {
   "display_name": "Python 3",
   "name": "python3"
  },
  "language_info": {
   "name": "python"
  }
 },
 "nbformat": 4,
 "nbformat_minor": 0
}
