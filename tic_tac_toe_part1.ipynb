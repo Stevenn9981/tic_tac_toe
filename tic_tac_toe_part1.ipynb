{
  "cells": [
    {
      "cell_type": "markdown",
      "metadata": {
        "id": "view-in-github",
        "colab_type": "text"
      },
      "source": [
        "<a href=\"https://colab.research.google.com/github/Stevenn9981/tic_tac_toe/blob/master/tic_tac_toe_part1.ipynb\" target=\"_parent\"><img src=\"https://colab.research.google.com/assets/colab-badge.svg\" alt=\"Open In Colab\"/></a>"
      ]
    },
    {
      "cell_type": "markdown",
      "metadata": {
        "id": "iEy_PMnnf-Og"
      },
      "source": [
        "## Setup"
      ]
    },
    {
      "cell_type": "code",
      "execution_count": 1,
      "metadata": {
        "colab": {
          "base_uri": "https://localhost:8080/"
        },
        "id": "fdG6QronfqnR",
        "outputId": "ab43346b-8aa4-4886-ce0b-c1cdd5f7d8db"
      },
      "outputs": [
        {
          "output_type": "stream",
          "name": "stdout",
          "text": [
            "\r0% [Working]\r            \rHit:1 http://security.ubuntu.com/ubuntu jammy-security InRelease\n",
            "\r0% [Connecting to archive.ubuntu.com (91.189.91.83)] [Connected to cloud.r-proj\r                                                                               \rHit:2 https://cloud.r-project.org/bin/linux/ubuntu jammy-cran40/ InRelease\n",
            "\r0% [Waiting for headers] [Connecting to ppa.launchpadcontent.net (185.125.190.5\r                                                                               \rHit:3 http://archive.ubuntu.com/ubuntu jammy InRelease\n",
            "Hit:4 https://developer.download.nvidia.com/compute/cuda/repos/ubuntu2204/x86_64  InRelease\n",
            "Hit:5 http://archive.ubuntu.com/ubuntu jammy-updates InRelease\n",
            "Hit:6 http://archive.ubuntu.com/ubuntu jammy-backports InRelease\n",
            "Hit:7 https://ppa.launchpadcontent.net/c2d4u.team/c2d4u4.0+/ubuntu jammy InRelease\n",
            "Hit:8 https://ppa.launchpadcontent.net/deadsnakes/ppa/ubuntu jammy InRelease\n",
            "Hit:9 https://ppa.launchpadcontent.net/graphics-drivers/ppa/ubuntu jammy InRelease\n",
            "Hit:10 https://ppa.launchpadcontent.net/ubuntugis/ppa/ubuntu jammy InRelease\n",
            "Reading package lists... Done\n",
            "Reading package lists... Done\n",
            "Building dependency tree... Done\n",
            "Reading state information... Done\n",
            "freeglut3-dev is already the newest version (2.8.1-6).\n",
            "ffmpeg is already the newest version (7:4.4.2-0ubuntu0.22.04.1).\n",
            "xvfb is already the newest version (2:21.1.4-2ubuntu1.7~22.04.2).\n",
            "0 upgraded, 0 newly installed, 0 to remove and 34 not upgraded.\n",
            "Requirement already satisfied: imageio in /usr/local/lib/python3.10/dist-packages (2.31.6)\n",
            "Requirement already satisfied: numpy in /usr/local/lib/python3.10/dist-packages (from imageio) (1.23.5)\n",
            "Requirement already satisfied: pillow<10.1.0,>=8.3.2 in /usr/local/lib/python3.10/dist-packages (from imageio) (9.4.0)\n",
            "Requirement already satisfied: pyvirtualdisplay in /usr/local/lib/python3.10/dist-packages (3.0)\n",
            "Requirement already satisfied: tf-agents[reverb] in /usr/local/lib/python3.10/dist-packages (0.18.0)\n",
            "Requirement already satisfied: absl-py>=0.6.1 in /usr/local/lib/python3.10/dist-packages (from tf-agents[reverb]) (1.4.0)\n",
            "Requirement already satisfied: cloudpickle>=1.3 in /usr/local/lib/python3.10/dist-packages (from tf-agents[reverb]) (2.2.1)\n",
            "Requirement already satisfied: gin-config>=0.4.0 in /usr/local/lib/python3.10/dist-packages (from tf-agents[reverb]) (0.5.0)\n",
            "Requirement already satisfied: gym<=0.23.0,>=0.17.0 in /usr/local/lib/python3.10/dist-packages (from tf-agents[reverb]) (0.23.0)\n",
            "Requirement already satisfied: numpy>=1.19.0 in /usr/local/lib/python3.10/dist-packages (from tf-agents[reverb]) (1.23.5)\n",
            "Requirement already satisfied: pillow in /usr/local/lib/python3.10/dist-packages (from tf-agents[reverb]) (9.4.0)\n",
            "Requirement already satisfied: six>=1.10.0 in /usr/local/lib/python3.10/dist-packages (from tf-agents[reverb]) (1.16.0)\n",
            "Requirement already satisfied: protobuf>=3.11.3 in /usr/local/lib/python3.10/dist-packages (from tf-agents[reverb]) (3.20.3)\n",
            "Requirement already satisfied: wrapt>=1.11.1 in /usr/local/lib/python3.10/dist-packages (from tf-agents[reverb]) (1.14.1)\n",
            "Requirement already satisfied: typing-extensions>=3.7.4.3 in /usr/local/lib/python3.10/dist-packages (from tf-agents[reverb]) (4.5.0)\n",
            "Requirement already satisfied: pygame==2.1.3 in /usr/local/lib/python3.10/dist-packages (from tf-agents[reverb]) (2.1.3)\n",
            "Requirement already satisfied: tensorflow-probability~=0.22.0 in /usr/local/lib/python3.10/dist-packages (from tf-agents[reverb]) (0.22.0)\n",
            "Requirement already satisfied: rlds in /usr/local/lib/python3.10/dist-packages (from tf-agents[reverb]) (0.1.8)\n",
            "Requirement already satisfied: dm-reverb~=0.13.0 in /usr/local/lib/python3.10/dist-packages (from tf-agents[reverb]) (0.13.0)\n",
            "Requirement already satisfied: tensorflow~=2.14.0 in /usr/local/lib/python3.10/dist-packages (from tf-agents[reverb]) (2.14.0)\n",
            "Requirement already satisfied: dm-tree in /usr/local/lib/python3.10/dist-packages (from dm-reverb~=0.13.0->tf-agents[reverb]) (0.1.8)\n",
            "Requirement already satisfied: portpicker in /usr/local/lib/python3.10/dist-packages (from dm-reverb~=0.13.0->tf-agents[reverb]) (1.5.2)\n",
            "Requirement already satisfied: gym-notices>=0.0.4 in /usr/local/lib/python3.10/dist-packages (from gym<=0.23.0,>=0.17.0->tf-agents[reverb]) (0.0.8)\n",
            "Requirement already satisfied: astunparse>=1.6.0 in /usr/local/lib/python3.10/dist-packages (from tensorflow~=2.14.0->tf-agents[reverb]) (1.6.3)\n",
            "Requirement already satisfied: flatbuffers>=23.5.26 in /usr/local/lib/python3.10/dist-packages (from tensorflow~=2.14.0->tf-agents[reverb]) (23.5.26)\n",
            "Requirement already satisfied: gast!=0.5.0,!=0.5.1,!=0.5.2,>=0.2.1 in /usr/local/lib/python3.10/dist-packages (from tensorflow~=2.14.0->tf-agents[reverb]) (0.5.4)\n",
            "Requirement already satisfied: google-pasta>=0.1.1 in /usr/local/lib/python3.10/dist-packages (from tensorflow~=2.14.0->tf-agents[reverb]) (0.2.0)\n",
            "Requirement already satisfied: h5py>=2.9.0 in /usr/local/lib/python3.10/dist-packages (from tensorflow~=2.14.0->tf-agents[reverb]) (3.9.0)\n",
            "Requirement already satisfied: libclang>=13.0.0 in /usr/local/lib/python3.10/dist-packages (from tensorflow~=2.14.0->tf-agents[reverb]) (16.0.6)\n",
            "Requirement already satisfied: ml-dtypes==0.2.0 in /usr/local/lib/python3.10/dist-packages (from tensorflow~=2.14.0->tf-agents[reverb]) (0.2.0)\n",
            "Requirement already satisfied: opt-einsum>=2.3.2 in /usr/local/lib/python3.10/dist-packages (from tensorflow~=2.14.0->tf-agents[reverb]) (3.3.0)\n",
            "Requirement already satisfied: packaging in /usr/local/lib/python3.10/dist-packages (from tensorflow~=2.14.0->tf-agents[reverb]) (23.2)\n",
            "Requirement already satisfied: setuptools in /usr/local/lib/python3.10/dist-packages (from tensorflow~=2.14.0->tf-agents[reverb]) (67.7.2)\n",
            "Requirement already satisfied: termcolor>=1.1.0 in /usr/local/lib/python3.10/dist-packages (from tensorflow~=2.14.0->tf-agents[reverb]) (2.3.0)\n",
            "Requirement already satisfied: tensorflow-io-gcs-filesystem>=0.23.1 in /usr/local/lib/python3.10/dist-packages (from tensorflow~=2.14.0->tf-agents[reverb]) (0.34.0)\n",
            "Requirement already satisfied: grpcio<2.0,>=1.24.3 in /usr/local/lib/python3.10/dist-packages (from tensorflow~=2.14.0->tf-agents[reverb]) (1.59.0)\n",
            "Requirement already satisfied: tensorboard<2.15,>=2.14 in /usr/local/lib/python3.10/dist-packages (from tensorflow~=2.14.0->tf-agents[reverb]) (2.14.1)\n",
            "Requirement already satisfied: tensorflow-estimator<2.15,>=2.14.0 in /usr/local/lib/python3.10/dist-packages (from tensorflow~=2.14.0->tf-agents[reverb]) (2.14.0)\n",
            "Requirement already satisfied: keras<2.15,>=2.14.0 in /usr/local/lib/python3.10/dist-packages (from tensorflow~=2.14.0->tf-agents[reverb]) (2.14.0)\n",
            "Requirement already satisfied: decorator in /usr/local/lib/python3.10/dist-packages (from tensorflow-probability~=0.22.0->tf-agents[reverb]) (4.4.2)\n",
            "Requirement already satisfied: wheel<1.0,>=0.23.0 in /usr/local/lib/python3.10/dist-packages (from astunparse>=1.6.0->tensorflow~=2.14.0->tf-agents[reverb]) (0.41.2)\n",
            "Requirement already satisfied: google-auth<3,>=1.6.3 in /usr/local/lib/python3.10/dist-packages (from tensorboard<2.15,>=2.14->tensorflow~=2.14.0->tf-agents[reverb]) (2.17.3)\n",
            "Requirement already satisfied: google-auth-oauthlib<1.1,>=0.5 in /usr/local/lib/python3.10/dist-packages (from tensorboard<2.15,>=2.14->tensorflow~=2.14.0->tf-agents[reverb]) (1.0.0)\n",
            "Requirement already satisfied: markdown>=2.6.8 in /usr/local/lib/python3.10/dist-packages (from tensorboard<2.15,>=2.14->tensorflow~=2.14.0->tf-agents[reverb]) (3.5)\n",
            "Requirement already satisfied: requests<3,>=2.21.0 in /usr/local/lib/python3.10/dist-packages (from tensorboard<2.15,>=2.14->tensorflow~=2.14.0->tf-agents[reverb]) (2.31.0)\n",
            "Requirement already satisfied: tensorboard-data-server<0.8.0,>=0.7.0 in /usr/local/lib/python3.10/dist-packages (from tensorboard<2.15,>=2.14->tensorflow~=2.14.0->tf-agents[reverb]) (0.7.2)\n",
            "Requirement already satisfied: werkzeug>=1.0.1 in /usr/local/lib/python3.10/dist-packages (from tensorboard<2.15,>=2.14->tensorflow~=2.14.0->tf-agents[reverb]) (3.0.1)\n",
            "Requirement already satisfied: psutil in /usr/local/lib/python3.10/dist-packages (from portpicker->dm-reverb~=0.13.0->tf-agents[reverb]) (5.9.5)\n",
            "Requirement already satisfied: cachetools<6.0,>=2.0.0 in /usr/local/lib/python3.10/dist-packages (from google-auth<3,>=1.6.3->tensorboard<2.15,>=2.14->tensorflow~=2.14.0->tf-agents[reverb]) (5.3.2)\n",
            "Requirement already satisfied: pyasn1-modules>=0.2.1 in /usr/local/lib/python3.10/dist-packages (from google-auth<3,>=1.6.3->tensorboard<2.15,>=2.14->tensorflow~=2.14.0->tf-agents[reverb]) (0.3.0)\n",
            "Requirement already satisfied: rsa<5,>=3.1.4 in /usr/local/lib/python3.10/dist-packages (from google-auth<3,>=1.6.3->tensorboard<2.15,>=2.14->tensorflow~=2.14.0->tf-agents[reverb]) (4.9)\n",
            "Requirement already satisfied: requests-oauthlib>=0.7.0 in /usr/local/lib/python3.10/dist-packages (from google-auth-oauthlib<1.1,>=0.5->tensorboard<2.15,>=2.14->tensorflow~=2.14.0->tf-agents[reverb]) (1.3.1)\n",
            "Requirement already satisfied: charset-normalizer<4,>=2 in /usr/local/lib/python3.10/dist-packages (from requests<3,>=2.21.0->tensorboard<2.15,>=2.14->tensorflow~=2.14.0->tf-agents[reverb]) (3.3.1)\n",
            "Requirement already satisfied: idna<4,>=2.5 in /usr/local/lib/python3.10/dist-packages (from requests<3,>=2.21.0->tensorboard<2.15,>=2.14->tensorflow~=2.14.0->tf-agents[reverb]) (3.4)\n",
            "Requirement already satisfied: urllib3<3,>=1.21.1 in /usr/local/lib/python3.10/dist-packages (from requests<3,>=2.21.0->tensorboard<2.15,>=2.14->tensorflow~=2.14.0->tf-agents[reverb]) (2.0.7)\n",
            "Requirement already satisfied: certifi>=2017.4.17 in /usr/local/lib/python3.10/dist-packages (from requests<3,>=2.21.0->tensorboard<2.15,>=2.14->tensorflow~=2.14.0->tf-agents[reverb]) (2023.7.22)\n",
            "Requirement already satisfied: MarkupSafe>=2.1.1 in /usr/local/lib/python3.10/dist-packages (from werkzeug>=1.0.1->tensorboard<2.15,>=2.14->tensorflow~=2.14.0->tf-agents[reverb]) (2.1.3)\n",
            "Requirement already satisfied: pyasn1<0.6.0,>=0.4.6 in /usr/local/lib/python3.10/dist-packages (from pyasn1-modules>=0.2.1->google-auth<3,>=1.6.3->tensorboard<2.15,>=2.14->tensorflow~=2.14.0->tf-agents[reverb]) (0.5.0)\n",
            "Requirement already satisfied: oauthlib>=3.0.0 in /usr/local/lib/python3.10/dist-packages (from requests-oauthlib>=0.7.0->google-auth-oauthlib<1.1,>=0.5->tensorboard<2.15,>=2.14->tensorflow~=2.14.0->tf-agents[reverb]) (3.2.2)\n",
            "Requirement already satisfied: pyglet in /usr/local/lib/python3.10/dist-packages (2.0.9)\n"
          ]
        }
      ],
      "source": [
        "!sudo apt-get update\n",
        "!sudo apt-get install -y xvfb ffmpeg freeglut3-dev\n",
        "!pip install imageio\n",
        "!pip install pyvirtualdisplay\n",
        "!pip install tf-agents[reverb]\n",
        "!pip install pyglet"
      ]
    },
    {
      "cell_type": "code",
      "execution_count": 2,
      "metadata": {
        "id": "h-vtSiPUgOOU",
        "colab": {
          "base_uri": "https://localhost:8080/"
        },
        "outputId": "974cf2b0-57c4-488e-deb7-f51ccd9dddda"
      },
      "outputs": [
        {
          "output_type": "stream",
          "name": "stdout",
          "text": [
            "pygame 2.1.3 (SDL 2.0.22, Python 3.10.12)\n",
            "Hello from the pygame community. https://www.pygame.org/contribute.html\n"
          ]
        }
      ],
      "source": [
        "import base64\n",
        "import imageio\n",
        "import IPython\n",
        "import matplotlib\n",
        "import matplotlib.pyplot as plt\n",
        "import numpy as np\n",
        "import PIL.Image\n",
        "import pyvirtualdisplay\n",
        "import reverb\n",
        "import random\n",
        "import os\n",
        "import shutil\n",
        "import tempfile\n",
        "import zipfile\n",
        "\n",
        "import pygame as pg\n",
        "from pygame import gfxdraw\n",
        "from pygame.locals import *\n",
        "\n",
        "import tensorflow as tf\n",
        "\n",
        "from tf_agents.agents.categorical_dqn import categorical_dqn_agent\n",
        "from tf_agents.agents.dqn import dqn_agent\n",
        "from tf_agents.drivers import py_driver\n",
        "from tf_agents.drivers import dynamic_step_driver\n",
        "from tf_agents.environments import suite_gym\n",
        "from tf_agents.environments import py_environment\n",
        "from tf_agents.environments import tf_environment\n",
        "from tf_agents.environments import tf_py_environment\n",
        "from tf_agents.eval import metric_utils\n",
        "from tf_agents.metrics import tf_metrics\n",
        "from tf_agents.networks import sequential\n",
        "from tf_agents.networks import q_network\n",
        "from tf_agents.networks import categorical_q_network\n",
        "from tf_agents.policies import policy_saver\n",
        "from tf_agents.policies import py_tf_eager_policy\n",
        "from tf_agents.policies import random_tf_policy\n",
        "from tf_agents.policies import random_py_policy\n",
        "from tf_agents.replay_buffers import tf_uniform_replay_buffer\n",
        "from tf_agents.replay_buffers import reverb_replay_buffer\n",
        "from tf_agents.replay_buffers import reverb_utils\n",
        "from tf_agents.trajectories import trajectory\n",
        "from tf_agents.specs import tensor_spec\n",
        "from tf_agents.specs import array_spec\n",
        "from tf_agents.utils import common\n",
        "from tf_agents.trajectories import time_step as ts\n",
        "\n",
        "tempdir = \"./\""
      ]
    },
    {
      "cell_type": "code",
      "execution_count": 3,
      "metadata": {
        "colab": {
          "base_uri": "https://localhost:8080/",
          "height": 35
        },
        "id": "MsV4e7iqg10s",
        "outputId": "f794a387-ed61-4c15-89db-fa765f4ed962"
      },
      "outputs": [
        {
          "output_type": "execute_result",
          "data": {
            "text/plain": [
              "'2.14.0'"
            ],
            "application/vnd.google.colaboratory.intrinsic+json": {
              "type": "string"
            }
          },
          "metadata": {},
          "execution_count": 3
        }
      ],
      "source": [
        "tf.version.VERSION"
      ]
    },
    {
      "cell_type": "markdown",
      "metadata": {
        "id": "sWwU8Wp7g2_X"
      },
      "source": [
        "## Hyper-parameters"
      ]
    },
    {
      "cell_type": "code",
      "execution_count": 4,
      "metadata": {
        "id": "reKJx_ybg7_L"
      },
      "outputs": [],
      "source": [
        "num_iterations = 50000 # @param {type:\"integer\"}\n",
        "\n",
        "initial_collect_steps = 100  # @param {type:\"integer\"}\n",
        "initial_collect_episodes = 5  # @param {type:\"integer\"}\n",
        "collect_steps_per_iteration = 1 # @param {type:\"integer\"}\n",
        "replay_buffer_max_length = 100000  # @param {type:\"integer\"}\n",
        "\n",
        "batch_size = 64  # @param {type:\"integer\"}\n",
        "learning_rate = 1e-3  # @param {type:\"number\"}\n",
        "log_interval = 100  # @param {type:\"integer\"}\n",
        "\n",
        "num_eval_episodes = 10  # @param {type:\"integer\"}\n",
        "eval_interval = 500  # @param {type:\"integer\"}\n",
        "\n",
        "gamma = 0.99    # @param {type:\"number\"}\n",
        "n_step_update = 2  # @param {type:\"integer\"}\n",
        "num_atoms = 51  # @param {type:\"integer\"}\n",
        "min_q_value = -20  # @param {type:\"integer\"}\n",
        "max_q_value = 20  # @param {type:\"integer\"}\n",
        "fc_layer_params = (100,)\n",
        "\n",
        "BOARD_SIZE = 9 # @param {type:\"integer\"}"
      ]
    },
    {
      "cell_type": "markdown",
      "metadata": {
        "id": "WOBVDKmMIcyJ"
      },
      "source": [
        "## Environment"
      ]
    },
    {
      "cell_type": "code",
      "execution_count": 23,
      "metadata": {
        "id": "aq7Q2oxyIhS8"
      },
      "outputs": [],
      "source": [
        "import gym\n",
        "import numpy as np\n",
        "import math\n",
        "from tabulate import tabulate\n",
        "\n",
        "from typing import Tuple, List\n",
        "\n",
        "\n",
        "class TicTacToeEnv1(py_environment.PyEnvironment):\n",
        "    \"\"\"\n",
        "    Implementation of a TicTacToe Environment based on OpenAI Gym standards\n",
        "    This class is modified from https://github.com/MauroLuzzatto/OpenAI-Gym-TicTacToe-Environment\n",
        "    I modified that to follow the instructions of Question 1.\n",
        "    \"\"\"\n",
        "\n",
        "    def __init__(self, mode='rgb_array') -> None:\n",
        "        \"\"\"This class contains a TicTacToe environment for OpenAI Gym\n",
        "\n",
        "        Args:\n",
        "            mode (str): render mode: human or rgb_array, which returns a text or RGB array of a picture that shows the current board\n",
        "        \"\"\"\n",
        "        self.n_actions = BOARD_SIZE * BOARD_SIZE         # 9 * 9 grids to drop\n",
        "        # state: 9 * 9 * 2: the first 9 * 9 layer is the opponent's play history and the second 9 * 9 layer is own.\n",
        "        self._observation_spec = {'state': array_spec.BoundedArraySpec(shape=(BOARD_SIZE, BOARD_SIZE, 2), dtype=np.int_, minimum=0, maximum=1),\n",
        "                                  'legal_moves': array_spec.ArraySpec(shape=(self.n_actions,), dtype=np.bool_)}\n",
        "\n",
        "        self._action_spec = array_spec.BoundedArraySpec(shape=(), dtype=np.int_, minimum=0, maximum=80)\n",
        "        self.render_mode = mode\n",
        "        self.colors = [1, 2]\n",
        "        self.screen = None\n",
        "        self.fields_per_side = BOARD_SIZE\n",
        "        self.reset()\n",
        "\n",
        "    def observation_spec(self):\n",
        "        return self._observation_spec\n",
        "\n",
        "    def action_spec(self):\n",
        "        return self._action_spec\n",
        "\n",
        "    def _reset(self) -> Tuple[np.ndarray, dict]:\n",
        "        \"\"\"\n",
        "        reset the board game and state\n",
        "        \"\"\"\n",
        "        self.board: np.ndarray = np.zeros(\n",
        "            (self.fields_per_side, self.fields_per_side), dtype=int\n",
        "        )\n",
        "        self.current_player = 1\n",
        "        self.info = {\"players\": {1: {\"actions\": []}, 2: {\"actions\": []}}, \"Occupied\": set(), \"legal_moves\": np.ones((self.n_actions,), dtype=bool)}\n",
        "\n",
        "        # return self.decompose_board_to_state()\n",
        "        observations_and_legal_moves = {'state': self.decompose_board_to_state(), 'legal_moves': self.info[\"legal_moves\"]}\n",
        "        return ts.restart(observations_and_legal_moves)\n",
        "\n",
        "    def decompose_board_to_state(self):\n",
        "        \"\"\"\n",
        "        Our state is a 9x9x2 matrix.\n",
        "        The first layer is the opponent's play history, 0 means no stone, 1 means stones placed by the opponent.\n",
        "        The second layer is the current player's history, 0 means no stone, 1 means stones placed by the current player.\n",
        "        \"\"\"\n",
        "        opponent = 2 if self.current_player == 1 else 1\n",
        "        o_plays = (self.board == opponent) * 1\n",
        "        c_plays = (self.board == self.current_player) * 1\n",
        "        return np.stack([o_plays, c_plays], axis=2)\n",
        "\n",
        "\n",
        "    def _step(self, action: int) -> Tuple[np.ndarray, int, bool, dict]:\n",
        "        \"\"\"step function of the tictactoeEnv1\n",
        "\n",
        "        Args:\n",
        "          action (int): integer between [0, 80], each representing a field on the board\n",
        "\n",
        "        Returns:\n",
        "          state (np.array): state of 2 players' history, 0 means no stone, 1 means stones placed by the corresponding player (shape: 9x9x2).\n",
        "          reward (int): reward of the currrent step\n",
        "          done (boolean): true, if the game is finished\n",
        "          (dict): empty dict for future game related information\n",
        "        \"\"\"\n",
        "        action = int(action)\n",
        "        if not (0 <= action < self.n_actions):\n",
        "            raise ValueError(f\"action '{action}' is not in action_space\")\n",
        "\n",
        "        reward = -0.1  # assign (negative) reward for every move done\n",
        "        (row, col) = self.decode_action(action)\n",
        "\n",
        "        # If the agent/player does not choose an empty square, randomly select an empty one.\n",
        "        if self.board[row, col] != 0:\n",
        "            print('WARNING: Not a legal step')\n",
        "            if len(self.info[\"Occupied\"]) == BOARD_SIZE * BOARD_SIZE:\n",
        "                print('Board is full!')\n",
        "            action = random.choice(list(set(range(BOARD_SIZE * BOARD_SIZE)) - self.info[\"Occupied\"]))\n",
        "            (row, col) = self.decode_action(action)\n",
        "            reward -= 1 # assign a negative reward if the play-out position is not empty\n",
        "\n",
        "\n",
        "        # randomly select an adjacent position with probability 1/16\n",
        "        if random.random() < 0.5:\n",
        "            adjs = [[-1, -1], [-1, 0], [-1, 1], [0, 1], [0, -1], [1, -1], [1, 0], [1, 1]]\n",
        "            adj = random.choice(adjs)\n",
        "            row, col = row + adj[0], col + adj[1]\n",
        "\n",
        "        if 0 <= row < BOARD_SIZE and 0 <= col < BOARD_SIZE and self.board[row, col] == 0:\n",
        "            self.board[row, col] = self.current_player  # drop the piece on the field\n",
        "            win = self._is_win(self.current_player, row, col)\n",
        "\n",
        "            action = row * BOARD_SIZE + col\n",
        "            self.info[\"players\"][self.current_player][\"actions\"].append(action)\n",
        "            self.info[\"Occupied\"].add(action)\n",
        "            self.info['legal_moves'][action] = False\n",
        "        else:\n",
        "            win = False\n",
        "\n",
        "        if win:\n",
        "            reward += 3\n",
        "\n",
        "        done = (win or len(self.info[\"Occupied\"]) == BOARD_SIZE * BOARD_SIZE)\n",
        "        self.current_player = self.current_player + 1 if self.current_player == 1 else 1\n",
        "        state = self.decompose_board_to_state()\n",
        "\n",
        "        observations_and_legal_moves = {'state': state, 'legal_moves': self.info['legal_moves']}\n",
        "        # return next_s, reward, done, self.info\n",
        "        if done:\n",
        "            return ts.termination(observations_and_legal_moves, reward)\n",
        "        else:\n",
        "            return ts.transition(observations_and_legal_moves, reward)\n",
        "\n",
        "    def _is_win(self, color: int, r: int, c: int) -> bool:\n",
        "        \"\"\"check if this player results in a winner\n",
        "\n",
        "        Args:\n",
        "            color (int): of the player\n",
        "            r (int): row of the current play\n",
        "            c (int): column of the current play\n",
        "\n",
        "        Returns:\n",
        "            bool: indicating if there is a winner\n",
        "        \"\"\"\n",
        "\n",
        "        # check if four equal stones are aligned (horizontal, verical or diagonal)\n",
        "        directions = [[0, 1], [1, 0], [1, 1], [1, -1]]\n",
        "\n",
        "        for direct in directions:\n",
        "            count = 0\n",
        "            for offset in range(-3, 4):\n",
        "                if 0 <= r + offset * direct[0] < 9 and 0 <= c + offset * direct[1] < 9:\n",
        "                    if self.board[r + offset * direct[0], c + offset * direct[1]] == color:\n",
        "                        count += 1\n",
        "                        if count == 4:\n",
        "                            return True\n",
        "                    else:\n",
        "                        count = 0\n",
        "\n",
        "        return False\n",
        "\n",
        "    def decode_action(self, action: int) -> List[int]:\n",
        "        \"\"\"decode the action integer into a colum and row value\n",
        "\n",
        "        0 = upper left corner\n",
        "        8 = lower right corner\n",
        "\n",
        "        Args:\n",
        "            action (int): action\n",
        "\n",
        "        Returns:\n",
        "            List[int, int]: a list with the [row, col] values\n",
        "        \"\"\"\n",
        "        col = action % BOARD_SIZE\n",
        "        row = action // BOARD_SIZE\n",
        "        assert 0 <= col < BOARD_SIZE\n",
        "        return [row, col]\n",
        "\n",
        "    def render(self) -> None:\n",
        "        \"\"\"render the board\n",
        "\n",
        "        The following charachters are used to represent the fields,\n",
        "            '-' no stone\n",
        "            'O' for player 0\n",
        "            'X' for player 1\n",
        "\n",
        "        An example for a 3x3 game board:\n",
        "            ╒═══╤═══╤═══╕\n",
        "            │ O │ - │ - │\n",
        "            ├───┼───┼───┤\n",
        "            │ - │ X │ - │\n",
        "            ├───┼───┼───┤\n",
        "            │ - │ - │ - │\n",
        "            ╘═══╧═══╧═══╛\n",
        "        \"\"\"\n",
        "        board = np.zeros((BOARD_SIZE, BOARD_SIZE), dtype=str)\n",
        "        for ii in range(BOARD_SIZE):\n",
        "            for jj in range(BOARD_SIZE):\n",
        "                if self.board[ii, jj] == 0:\n",
        "                    board[ii, jj] = \"-\"\n",
        "                elif self.board[ii, jj] == 1:\n",
        "                    board[ii, jj] = \"X\"\n",
        "                elif self.board[ii, jj] == 2:\n",
        "                    board[ii, jj] = \"O\"\n",
        "\n",
        "        if self.render_mode == \"human\":\n",
        "            board = tabulate(board, tablefmt=\"fancy_grid\")\n",
        "            print(board)\n",
        "            print(\"\\n\")\n",
        "\n",
        "\n",
        "        width = height = 400\n",
        "\n",
        "        white = (255, 255, 255)\n",
        "        line_color = (0, 0, 0)\n",
        "\n",
        "        os.environ[\"SDL_VIDEODRIVER\"] = \"dummy\"\n",
        "        pg.init()\n",
        "\n",
        "        # Set up the drawing window\n",
        "        if self.screen is None:\n",
        "          self.screen = pg.display.set_mode([width + 16, height + 16])\n",
        "\n",
        "        self.screen.fill(white)\n",
        "        # drawing vertical lines\n",
        "        for i in range(10):\n",
        "          pg.draw.line(self.screen, line_color, (width / BOARD_SIZE * i, 0), (width / BOARD_SIZE * i, height), 2)\n",
        "\n",
        "        # drawing horizontal lines\n",
        "        for i in range(10):\n",
        "          pg.draw.line(self.screen, line_color, (0, height / BOARD_SIZE * i), (width, height / BOARD_SIZE * i), 2)\n",
        "        pg.display.flip()\n",
        "\n",
        "        # drawing noughts and crosses\n",
        "        for i in range(BOARD_SIZE):\n",
        "          for j in range(BOARD_SIZE):\n",
        "            if self.board[i, j] == 1: # Draw crosses\n",
        "              pg.draw.lines(self.screen, line_color, True, [(width / BOARD_SIZE * (j + 0.5) - 10,\n",
        "                                                        height / BOARD_SIZE * (i + 0.5) - 10),\n",
        "                                                      (width / BOARD_SIZE * (j + 0.5) + 10,\n",
        "                                                        height / BOARD_SIZE * (i + 0.5) + 10)], 3)\n",
        "              pg.draw.lines(self.screen, line_color, True, [(width / BOARD_SIZE * (j + 0.5) - 10,\n",
        "                                                        height / BOARD_SIZE * (i + 0.5) + 10),\n",
        "                                                        (width / BOARD_SIZE * (j + 0.5) + 10,\n",
        "                                                          height / BOARD_SIZE * (i + 0.5) - 10)], 3)\n",
        "            elif self.board[i, j] == 2: # Draw noughts\n",
        "              pg.draw.circle(self.screen, line_color, (width / BOARD_SIZE * (j + 0.5), height / BOARD_SIZE * (i + 0.5)), 12, 3)\n",
        "\n",
        "        board = np.transpose(\n",
        "                np.array(pg.surfarray.pixels3d(self.screen)), axes=(1, 0, 2)\n",
        "            )\n",
        "\n",
        "        return board"
      ]
    },
    {
      "cell_type": "code",
      "execution_count": 24,
      "metadata": {
        "id": "Yhocpw-j36C0"
      },
      "outputs": [],
      "source": [
        "def observation_and_action_constraint_splitter(obs):\n",
        "    return obs['state'], obs['legal_moves']"
      ]
    },
    {
      "cell_type": "markdown",
      "metadata": {
        "id": "LqFsRLWJslkf"
      },
      "source": [
        "## Random play test"
      ]
    },
    {
      "cell_type": "code",
      "execution_count": 25,
      "metadata": {
        "id": "uU1h9wSWa7Lh"
      },
      "outputs": [],
      "source": [
        "# py_env = suite_gym.wrap_env(TicTacToeEnv1())\n",
        "py_env = TicTacToeEnv1()\n",
        "tf_env = tf_py_environment.TFPyEnvironment(py_env)"
      ]
    },
    {
      "cell_type": "code",
      "execution_count": 26,
      "metadata": {
        "id": "qJYsgWM-79vr"
      },
      "outputs": [],
      "source": [
        "def embed_mp4(filename):\n",
        "    \"\"\"Embeds an mp4 file in the notebook.\"\"\"\n",
        "    video = open(filename,'rb').read()\n",
        "    b64 = base64.b64encode(video)\n",
        "    tag = '''\n",
        "    <video width=\"480\" height=\"480\" controls>\n",
        "      <source src=\"data:video/mp4;base64,{0}\" type=\"video/mp4\">\n",
        "    Your browser does not support the video tag.\n",
        "    </video>'''.format(b64.decode())\n",
        "\n",
        "    return IPython.display.HTML(tag)\n",
        "\n",
        "def create_policy_eval_video(policy, filename, fps=2):\n",
        "    py_env = TicTacToeEnv1()\n",
        "    tf_env = tf_py_environment.TFPyEnvironment(py_env)\n",
        "    filename = filename + \".mp4\"\n",
        "    with imageio.get_writer(filename, fps=fps) as video:\n",
        "      time_step = tf_env.reset()\n",
        "      video.append_data(py_env.render())\n",
        "      while not time_step.is_last():\n",
        "        action_step = policy.action(time_step)\n",
        "        time_step = tf_env.step(action_step.action)\n",
        "        video.append_data(py_env.render())\n",
        "\n",
        "    return embed_mp4(filename)"
      ]
    },
    {
      "cell_type": "code",
      "execution_count": 27,
      "metadata": {
        "colab": {
          "base_uri": "https://localhost:8080/",
          "height": 500
        },
        "id": "yNw07pahBY78",
        "outputId": "751b813f-3615-462f-c1c9-f5e9be24b363"
      },
      "outputs": [
        {
          "output_type": "execute_result",
          "data": {
            "text/plain": [
              "<IPython.core.display.HTML object>"
            ],
            "text/html": [
              "\n",
              "    <video width=\"480\" height=\"480\" controls>\n",
              "      <source src=\"data:video/mp4;base64,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\" type=\"video/mp4\">\n",
              "    Your browser does not support the video tag.\n",
              "    </video>"
            ]
          },
          "metadata": {},
          "execution_count": 27
        }
      ],
      "source": [
        "random_policy = random_tf_policy.RandomTFPolicy(tf_env.time_step_spec(), tf_env.action_spec(),\n",
        "    observation_and_action_constraint_splitter=observation_and_action_constraint_splitter)\n",
        "create_policy_eval_video(random_policy, \"random-agent\")"
      ]
    },
    {
      "cell_type": "markdown",
      "metadata": {
        "id": "GPHWdRyT-ND0"
      },
      "source": [
        "## Agent"
      ]
    },
    {
      "cell_type": "code",
      "execution_count": 28,
      "metadata": {
        "id": "MnqVY5icuPi4"
      },
      "outputs": [],
      "source": [
        "train_py_env = TicTacToeEnv1()\n",
        "eval_py_env = TicTacToeEnv1()\n",
        "\n",
        "train_env = tf_py_environment.TFPyEnvironment(train_py_env)\n",
        "eval_env = tf_py_environment.TFPyEnvironment(eval_py_env)"
      ]
    },
    {
      "cell_type": "code",
      "execution_count": 29,
      "metadata": {
        "colab": {
          "base_uri": "https://localhost:8080/"
        },
        "id": "pZmdt4QB8h00",
        "outputId": "27e9bea3-2e4c-4961-e4f0-b1308944a9b1"
      },
      "outputs": [
        {
          "output_type": "execute_result",
          "data": {
            "text/plain": [
              "TimeStep(\n",
              "{'discount': BoundedTensorSpec(shape=(), dtype=tf.float32, name='discount', minimum=array(0., dtype=float32), maximum=array(1., dtype=float32)),\n",
              " 'observation': {'legal_moves': TensorSpec(shape=(81,), dtype=tf.bool, name=None),\n",
              "                 'state': BoundedTensorSpec(shape=(9, 9, 2), dtype=tf.int64, name=None, minimum=array(0), maximum=array(1))},\n",
              " 'reward': TensorSpec(shape=(), dtype=tf.float32, name='reward'),\n",
              " 'step_type': TensorSpec(shape=(), dtype=tf.int32, name='step_type')})"
            ]
          },
          "metadata": {},
          "execution_count": 29
        }
      ],
      "source": [
        "train_env.time_step_spec()"
      ]
    },
    {
      "cell_type": "code",
      "execution_count": 30,
      "metadata": {
        "id": "TgkdEPg_muzV"
      },
      "outputs": [],
      "source": [
        "conv_layer_params = [16, 32]\n",
        "action_tensor_spec = tensor_spec.from_spec(tf_env.action_spec())\n",
        "num_actions = action_tensor_spec.maximum - action_tensor_spec.minimum + 1\n",
        "\n",
        "# Define a helper function to create Conv layers configured with the right\n",
        "# activation and kernel initializer.\n",
        "def conv_layer(num_units):\n",
        "  return tf.keras.layers.Conv2D(\n",
        "                      filters=num_units,\n",
        "                      kernel_size=[3, 3],\n",
        "                      padding=\"same\",\n",
        "                      data_format=\"channels_last\",\n",
        "                      activation=tf.nn.leaky_relu,\n",
        "                      dtype=float)\n",
        "\n",
        "\n",
        "# QNetwork consists of a sequence of Conv layers followed by a dense layer\n",
        "# with `num_actions` units to generate one q_value per available action as\n",
        "# its output.\n",
        "normalization1 = tf.keras.layers.BatchNormalization()\n",
        "normalization2 = tf.keras.layers.BatchNormalization()\n",
        "conv_layers = [conv_layer(num_units) for num_units in conv_layer_params]\n",
        "action_conv = tf.keras.layers.Conv2D(filters=4,\n",
        "                    kernel_size=[1, 1], padding=\"same\",\n",
        "                    data_format=\"channels_last\",\n",
        "                    activation=tf.nn.leaky_relu)\n",
        "flatten = tf.keras.layers.Flatten()\n",
        "q_values_layer = tf.keras.layers.Dense(\n",
        "    num_actions,\n",
        "    activation=None,\n",
        "    kernel_initializer=tf.keras.initializers.RandomUniform(\n",
        "        minval=-0.03, maxval=0.03),\n",
        "    bias_initializer=tf.keras.initializers.Constant(-0.2))\n",
        "q_net = sequential.Sequential([normalization1] + conv_layers + [action_conv, normalization2, flatten, q_values_layer])\n"
      ]
    },
    {
      "cell_type": "code",
      "execution_count": 31,
      "metadata": {
        "id": "BeZ-5rpD-58G"
      },
      "outputs": [],
      "source": [
        "class ConvNestedLayer(tf.keras.layers.Layer):\n",
        "    def __init__(self, *args, **kwds):\n",
        "        super().__init__(*args, **kwds)\n",
        "        self.conv1 = tf.keras.layers.Conv2D(\n",
        "                      filters=32,\n",
        "                      kernel_size=[3, 3],\n",
        "                      padding=\"same\",\n",
        "                      data_format=\"channels_last\",\n",
        "                      activation=tf.nn.leaky_relu,\n",
        "                      dtype=float)\n",
        "        self.conv2 = tf.keras.layers.Conv2D(\n",
        "                      filters=64,\n",
        "                      kernel_size=[3, 3],\n",
        "                      padding=\"same\",\n",
        "                      data_format=\"channels_last\",\n",
        "                      activation=tf.nn.leaky_relu,\n",
        "                      dtype=float)\n",
        "        self.norm1 = tf.keras.layers.BatchNormalization()\n",
        "        self.norm2 = tf.keras.layers.BatchNormalization()\n",
        "        self.flatten = tf.keras.layers.Flatten()\n",
        "\n",
        "    def call(self, x):\n",
        "        x = self.norm1(x)\n",
        "        x = self.conv1(x)\n",
        "        x = self.norm2(x)\n",
        "        x = self.conv2(x)\n",
        "        x = self.flatten(x)\n",
        "        return x"
      ]
    },
    {
      "cell_type": "code",
      "execution_count": 32,
      "metadata": {
        "id": "NtrMeYVG4Jpr"
      },
      "outputs": [],
      "source": [
        "categorical_q_net = categorical_q_network.CategoricalQNetwork(\n",
        "    train_env.observation_spec()['state'],\n",
        "    train_env.action_spec(),\n",
        "    num_atoms=num_atoms,\n",
        "    preprocessing_layers = ConvNestedLayer(),\n",
        "    fc_layer_params=fc_layer_params)"
      ]
    },
    {
      "cell_type": "code",
      "execution_count": 33,
      "metadata": {
        "id": "lg5emNEam75J"
      },
      "outputs": [],
      "source": [
        "optimizer = tf.keras.optimizers.Adam(learning_rate=learning_rate)\n",
        "\n",
        "# agent = dqn_agent.DqnAgent(\n",
        "#     train_env.time_step_spec(),\n",
        "#     train_env.action_spec(),\n",
        "#     q_network=q_net,\n",
        "#     optimizer=optimizer,\n",
        "#     td_errors_loss_fn=common.element_wise_squared_loss,\n",
        "#     train_step_counter=train_step_counter)\n",
        "\n",
        "\n",
        "agent1 = categorical_dqn_agent.CategoricalDqnAgent(\n",
        "    train_env.time_step_spec(),\n",
        "    train_env.action_spec(),\n",
        "    categorical_q_network=categorical_q_net,\n",
        "    observation_and_action_constraint_splitter=observation_and_action_constraint_splitter,\n",
        "    optimizer=optimizer,\n",
        "    min_q_value=min_q_value,\n",
        "    max_q_value=max_q_value,\n",
        "    n_step_update=n_step_update,\n",
        "    td_errors_loss_fn=common.element_wise_squared_loss,\n",
        "    gamma=gamma,\n",
        "    train_step_counter=tf.Variable(0))\n",
        "\n",
        "agent2 = categorical_dqn_agent.CategoricalDqnAgent(\n",
        "    train_env.time_step_spec(),\n",
        "    train_env.action_spec(),\n",
        "    categorical_q_network=categorical_q_net,\n",
        "    observation_and_action_constraint_splitter=observation_and_action_constraint_splitter,\n",
        "    optimizer=optimizer,\n",
        "    min_q_value=min_q_value,\n",
        "    max_q_value=max_q_value,\n",
        "    n_step_update=n_step_update,\n",
        "    td_errors_loss_fn=common.element_wise_squared_loss,\n",
        "    gamma=gamma,\n",
        "    train_step_counter=tf.Variable(0))\n",
        "\n",
        "agent1.initialize()\n",
        "agent2.initialize()"
      ]
    },
    {
      "cell_type": "markdown",
      "metadata": {
        "id": "QaVnWWX4xpa5"
      },
      "source": [
        "## Policy"
      ]
    },
    {
      "cell_type": "code",
      "execution_count": 34,
      "metadata": {
        "id": "uGU0pGS4xsjc"
      },
      "outputs": [],
      "source": [
        "random_policy = random_tf_policy.RandomTFPolicy(train_env.time_step_spec(), train_env.action_spec(),\n",
        "    observation_and_action_constraint_splitter=observation_and_action_constraint_splitter)"
      ]
    },
    {
      "cell_type": "code",
      "execution_count": 35,
      "metadata": {
        "id": "N8vRFWNgx-tj"
      },
      "outputs": [],
      "source": [
        "def compute_avg_return(environment, policy, num_episodes=10):\n",
        "\n",
        "  total_return = 0.0\n",
        "  for _ in range(num_episodes):\n",
        "    time_step = environment.reset()\n",
        "    episode_return = 0.0\n",
        "    while not time_step.is_last():\n",
        "      action_step = policy.action(time_step)\n",
        "      time_step = environment.step(action_step.action)\n",
        "      episode_return += time_step.reward\n",
        "    total_return += episode_return\n",
        "\n",
        "  avg_return = total_return / num_episodes\n",
        "  return avg_return.numpy()[0]\n",
        "\n",
        "\n",
        "def compute_avg_return_battle(environment, policy1, policy2, num_episodes=10):\n",
        "\n",
        "  total_return_1 = 0.0\n",
        "  total_return_2 = 0.0\n",
        "  for _ in range(num_episodes):\n",
        "    time_step = environment.reset()\n",
        "    episode_return_1 = 0.0\n",
        "    episode_return_2 = 0.0\n",
        "    while not time_step.is_last():\n",
        "      action_step = policy1.action(time_step)\n",
        "      time_step = environment.step(action_step.action)\n",
        "      episode_return_1 += time_step.reward\n",
        "      if not time_step.is_last():\n",
        "        action_step = policy2.action(time_step)\n",
        "        time_step = environment.step(action_step.action)\n",
        "        episode_return_2 += time_step.reward\n",
        "    total_return_1 += episode_return_1\n",
        "    total_return_2 += episode_return_2\n",
        "\n",
        "  avg_return_1 = total_return_1 / num_episodes\n",
        "  avg_return_2 = total_return_2 / num_episodes\n",
        "  return [avg_return_1.numpy()[0], avg_return_2.numpy()[0]]\n",
        "\n",
        "\n",
        "# See also the metrics module for standard implementations of different metrics.\n",
        "# https://github.com/tensorflow/agents/tree/master/tf_agents/metrics"
      ]
    },
    {
      "cell_type": "code",
      "execution_count": 36,
      "metadata": {
        "colab": {
          "base_uri": "https://localhost:8080/"
        },
        "id": "vlCXIdRVyAAu",
        "outputId": "eee267ee-5b3a-4fd2-f990-e165c301d1f2"
      },
      "outputs": [
        {
          "output_type": "stream",
          "name": "stdout",
          "text": [
            "0.10000062\n",
            "-0.7999985\n",
            "[-2.1000001, 0.89999986]\n"
          ]
        }
      ],
      "source": [
        "print(compute_avg_return(eval_env, agent1.policy, 1))\n",
        "print(compute_avg_return(eval_env, agent2.policy, 1))\n",
        "print(compute_avg_return_battle(eval_env, agent1.policy, agent2.policy, 1))"
      ]
    },
    {
      "cell_type": "markdown",
      "metadata": {
        "id": "VBEXcoMjy7xO"
      },
      "source": [
        "## Replay Buffer"
      ]
    },
    {
      "cell_type": "code",
      "execution_count": 37,
      "metadata": {
        "id": "CMVmKJF1y_Lt"
      },
      "outputs": [],
      "source": [
        "replay_buffer1 = tf_uniform_replay_buffer.TFUniformReplayBuffer(\n",
        "    data_spec=agent1.collect_data_spec,\n",
        "    batch_size=train_env.batch_size,\n",
        "    max_length=replay_buffer_max_length)\n",
        "\n",
        "replay_buffer2 = tf_uniform_replay_buffer.TFUniformReplayBuffer(\n",
        "    data_spec=agent2.collect_data_spec,\n",
        "    batch_size=train_env.batch_size,\n",
        "    max_length=replay_buffer_max_length)\n",
        "\n",
        "def collect_step(environment, policy, replay_buffer):\n",
        "    time_step = environment.current_time_step()\n",
        "    if time_step.is_last():\n",
        "        time_step = environment.reset()\n",
        "    action_step = policy.action(time_step)\n",
        "    next_time_step = environment.step(action_step.action)\n",
        "    traj = trajectory.from_transition(time_step, action_step, next_time_step)\n",
        "\n",
        "    # Add trajectory to the replay buffer\n",
        "    replay_buffer.add_batch(traj)\n",
        "\n",
        "def collect_episode(environment, policy1, replay_buffer1, policy2, replay_buffer2):\n",
        "    time_step = environment.reset()\n",
        "    while not time_step.is_last():\n",
        "      action_step = policy1.action(time_step)\n",
        "      next_time_step = environment.step(action_step.action)\n",
        "      traj = trajectory.from_transition(time_step, action_step, next_time_step)\n",
        "      replay_buffer1.add_batch(traj)\n",
        "\n",
        "      time_step = next_time_step\n",
        "      if not time_step.is_last():\n",
        "        action_step = policy2.action(time_step)\n",
        "        next_time_step = environment.step(action_step.action)\n",
        "        traj = trajectory.from_transition(time_step, action_step, next_time_step)\n",
        "        replay_buffer2.add_batch(traj)\n",
        "      else:\n",
        "        break\n",
        "\n",
        "def collect_step_for_both(environment, policy1, replay_buffer1, policy2, replay_buffer2):\n",
        "    time_step = environment.current_time_step()\n",
        "    if time_step.is_last():\n",
        "        time_step = environment.reset()\n",
        "    action_step = policy1.action(time_step)\n",
        "    next_time_step = environment.step(action_step.action)\n",
        "    traj = trajectory.from_transition(time_step, action_step, next_time_step)\n",
        "    replay_buffer1.add_batch(traj)\n",
        "\n",
        "    time_step = next_time_step\n",
        "    if time_step.is_last():\n",
        "        time_step = environment.reset()\n",
        "    action_step = policy2.action(time_step)\n",
        "    next_time_step = environment.step(action_step.action)\n",
        "    traj = trajectory.from_transition(time_step, action_step, next_time_step)\n",
        "    replay_buffer2.add_batch(traj)\n",
        "\n",
        "for _ in range(initial_collect_steps):\n",
        "    collect_step_for_both(train_env, agent1.collect_policy, replay_buffer1, agent2.collect_policy, replay_buffer2)\n",
        "    # collect_step(train_env, random_policy, replay_buffer1)\n",
        "    # collect_step(train_env, random_policy, replay_buffer2)\n",
        "\n",
        "dataset1 = replay_buffer1.as_dataset(\n",
        "    num_parallel_calls=3, sample_batch_size=batch_size,\n",
        "    num_steps=n_step_update + 1).prefetch(3)\n",
        "iterator1 = iter(dataset1)\n",
        "\n",
        "dataset2 = replay_buffer2.as_dataset(\n",
        "    num_parallel_calls=3, sample_batch_size=batch_size,\n",
        "    num_steps=n_step_update).prefetch(3)\n",
        "iterator2 = iter(dataset2)"
      ]
    },
    {
      "cell_type": "markdown",
      "metadata": {
        "id": "tmMc8b6mBqli"
      },
      "source": [
        "## Set up the checkpointer and Policy saver"
      ]
    },
    {
      "cell_type": "code",
      "execution_count": 38,
      "metadata": {
        "id": "dRLhR6v4BsEb"
      },
      "outputs": [],
      "source": [
        "def create_zip_file(dirname, base_filename):\n",
        "  return shutil.make_archive(base_filename, 'zip', dirname)"
      ]
    },
    {
      "cell_type": "code",
      "execution_count": 39,
      "metadata": {
        "id": "aI2LVHZXBv4q"
      },
      "outputs": [],
      "source": [
        "policy_dir_1 = os.path.join(tempdir, 'policy_1')\n",
        "tf_policy_saver_1 = policy_saver.PolicySaver(agent1.policy)\n",
        "\n",
        "policy_dir_2 = os.path.join(tempdir, 'policy_2')\n",
        "tf_policy_saver_2 = policy_saver.PolicySaver(agent2.policy)"
      ]
    },
    {
      "cell_type": "markdown",
      "metadata": {
        "id": "jRVMc8V8zxj0"
      },
      "source": [
        "## Train the agent"
      ]
    },
    {
      "cell_type": "code",
      "execution_count": null,
      "metadata": {
        "colab": {
          "base_uri": "https://localhost:8080/"
        },
        "id": "6_1qWkmKz0Ke",
        "outputId": "e65beca7-310a-435a-db98-d0e20e994dcf"
      },
      "outputs": [
        {
          "output_type": "stream",
          "name": "stdout",
          "text": [
            "step = 100: loss = 3.8768036365509033\n",
            "step = 200: loss = 3.192394971847534\n",
            "step = 300: loss = 1.1976025104522705\n",
            "step = 400: loss = 1.293501853942871\n",
            "step = 500: loss = 1.459538459777832\n"
          ]
        },
        {
          "output_type": "stream",
          "name": "stderr",
          "text": [
            "WARNING:absl:`0/step_type` is not a valid tf.function parameter name. Sanitizing to `arg_0_step_type`.\n",
            "WARNING:absl:`0/reward` is not a valid tf.function parameter name. Sanitizing to `arg_0_reward`.\n",
            "WARNING:absl:`0/discount` is not a valid tf.function parameter name. Sanitizing to `arg_0_discount`.\n",
            "WARNING:absl:`0/observation/legal_moves` is not a valid tf.function parameter name. Sanitizing to `arg_0_observation_legal_moves`.\n",
            "WARNING:absl:`0/observation/state` is not a valid tf.function parameter name. Sanitizing to `arg_0_observation_state`.\n"
          ]
        },
        {
          "output_type": "stream",
          "name": "stdout",
          "text": [
            "step = 500: Average Return = [1.3666668, -1.5333334]\n"
          ]
        },
        {
          "output_type": "stream",
          "name": "stderr",
          "text": [
            "/usr/local/lib/python3.10/dist-packages/tensorflow/python/saved_model/nested_structure_coder.py:458: UserWarning: Encoding a StructuredValue with type tfp.distributions.Deterministic_ACTTypeSpec; loading this StructuredValue will require that this type be imported and registered.\n",
            "  warnings.warn(\"Encoding a StructuredValue with type %s; loading this \"\n",
            "/usr/local/lib/python3.10/dist-packages/tensorflow/python/saved_model/nested_structure_coder.py:458: UserWarning: Encoding a StructuredValue with type tfp.distributions.Deterministic_ACTTypeSpec; loading this StructuredValue will require that this type be imported and registered.\n",
            "  warnings.warn(\"Encoding a StructuredValue with type %s; loading this \"\n"
          ]
        },
        {
          "output_type": "stream",
          "name": "stdout",
          "text": [
            "step = 600: loss = 1.3340413570404053\n",
            "step = 700: loss = 1.3549911975860596\n"
          ]
        }
      ],
      "source": [
        "try:\n",
        "  %%time\n",
        "except:\n",
        "  pass\n",
        "\n",
        "# (Optional) Optimize by wrapping some of the code in a graph using TF function.\n",
        "agent1.train = common.function(agent1.train)\n",
        "agent2.train = common.function(agent2.train)\n",
        "\n",
        "# Reset the train step.\n",
        "agent1.train_step_counter.assign(0)\n",
        "agent2.train_step_counter.assign(0)\n",
        "\n",
        "# Evaluate the agent's policy once before training.\n",
        "# avg_return_1 = compute_avg_return(eval_env, agent1.policy, num_eval_episodes)\n",
        "# avg_return_2 = compute_avg_return(eval_env, agent2.policy, num_eval_episodes)\n",
        "# avg_return = (avg_return_1 + avg_return_2) / 2\n",
        "avg_return = compute_avg_return_battle(eval_env, agent1.policy, agent2.policy, 3)\n",
        "returns = [avg_return]\n",
        "\n",
        "# Reset the environment.\n",
        "time_step = train_env.reset()\n",
        "\n",
        "for _ in range(num_iterations):\n",
        "\n",
        "    # Collect a few steps using collect_policy and save to the replay buffer.\n",
        "    for _ in range(collect_steps_per_iteration):\n",
        "      collect_step_for_both(train_env, agent1.collect_policy, replay_buffer1, agent2.collect_policy, replay_buffer2)\n",
        "      # collect_step(train_env, agent1.collect_policy, replay_buffer1)\n",
        "      # collect_step(train_env, agent2.collect_policy, replay_buffer2)\n",
        "\n",
        "    # Sample a batch of data from the buffer and update the agent's network.\n",
        "    experience, unused_info = next(iterator1)\n",
        "    train_loss_1 = agent1.train(experience).loss\n",
        "    experience, unused_info = next(iterator2)\n",
        "    train_loss_2 = agent2.train(experience).loss\n",
        "\n",
        "    step = agent1.train_step_counter.numpy()\n",
        "\n",
        "    if step % log_interval == 0:\n",
        "      print('step = {0}: loss = {1}'.format(step, (train_loss_1 + train_loss_2) / 2))\n",
        "\n",
        "    if step % eval_interval == 0:\n",
        "      # avg_return_1 = compute_avg_return(eval_env, agent1.policy, num_eval_episodes)\n",
        "      # avg_return_2 = compute_avg_return(eval_env, agent2.policy, num_eval_episodes)\n",
        "      # avg_return = (avg_return_1 + avg_return_2) / 2\n",
        "      avg_return = compute_avg_return_battle(eval_env, agent1.policy, agent2.policy, 3)\n",
        "      print('step = {0}: Average Return = {1}'.format(step, str(avg_return)))\n",
        "      tf_policy_saver_1.save(policy_dir_1)\n",
        "      policy_zip_filename = create_zip_file(policy_dir_1, os.path.join(tempdir, 'exported_policy_1'))\n",
        "      tf_policy_saver_2.save(policy_dir_2)\n",
        "      policy_zip_filename = create_zip_file(policy_dir_2, os.path.join(tempdir, 'exported_policy_2'))\n",
        "      returns.append(avg_return)"
      ]
    },
    {
      "cell_type": "markdown",
      "metadata": {
        "id": "euOj19B0B1ky"
      },
      "source": [
        "## Load the trained model"
      ]
    },
    {
      "cell_type": "code",
      "execution_count": null,
      "metadata": {
        "id": "HDMa0xH3rAS6"
      },
      "outputs": [],
      "source": [
        "saved_policy_1 = tf.saved_model.load(policy_dir_1)\n",
        "create_policy_eval_video(saved_policy_1, \"trained-agent-1\")\n",
        "saved_policy_2 = tf.saved_model.load(policy_dir_2)\n",
        "create_policy_eval_video(saved_policy_2, \"trained-agent-2\")"
      ]
    },
    {
      "cell_type": "markdown",
      "metadata": {
        "id": "Fsl0r1fyxpUD"
      },
      "source": []
    },
    {
      "cell_type": "markdown",
      "metadata": {
        "id": "WkOaR2zHrDwC"
      },
      "source": [
        "## TODO\n",
        "\n",
        "\n",
        "\n",
        "*   Check whether all functions are correct\n",
        "*   Check whether the environment is correctly implement\n",
        "*   Add the variant in `step` function\n",
        "*   Test whether the agent always chooses an *empty* square and whether they can go to an adjacent place correctly\n",
        "\n"
      ]
    }
  ],
  "metadata": {
    "colab": {
      "provenance": [],
      "authorship_tag": "ABX9TyN9m8t8CXsMwj9IoGSTSpGc",
      "include_colab_link": true
    },
    "kernelspec": {
      "display_name": "Python 3",
      "name": "python3"
    },
    "language_info": {
      "name": "python"
    }
  },
  "nbformat": 4,
  "nbformat_minor": 0
}