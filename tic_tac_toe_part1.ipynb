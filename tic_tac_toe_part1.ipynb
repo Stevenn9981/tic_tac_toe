{
  "cells": [
    {
      "cell_type": "markdown",
      "metadata": {
        "id": "view-in-github",
        "colab_type": "text"
      },
      "source": [
        "<a href=\"https://colab.research.google.com/github/Stevenn9981/tic_tac_toe/blob/master/tic_tac_toe_part1.ipynb\" target=\"_parent\"><img src=\"https://colab.research.google.com/assets/colab-badge.svg\" alt=\"Open In Colab\"/></a>"
      ]
    },
    {
      "cell_type": "markdown",
      "metadata": {
        "id": "iEy_PMnnf-Og"
      },
      "source": [
        "## Setup"
      ]
    },
    {
      "cell_type": "code",
      "execution_count": 107,
      "metadata": {
        "colab": {
          "base_uri": "https://localhost:8080/"
        },
        "id": "fdG6QronfqnR",
        "outputId": "29bf1fa1-b8bf-4ebe-fac4-3320db37281c"
      },
      "outputs": [
        {
          "output_type": "stream",
          "name": "stdout",
          "text": [
            "\r0% [Working]\r            \rHit:1 https://cloud.r-project.org/bin/linux/ubuntu jammy-cran40/ InRelease\n",
            "\r0% [Connecting to archive.ubuntu.com (91.189.91.83)] [Connecting to security.ub\r                                                                               \rHit:2 https://developer.download.nvidia.com/compute/cuda/repos/ubuntu2204/x86_64  InRelease\n",
            "Hit:3 http://archive.ubuntu.com/ubuntu jammy InRelease\n",
            "Get:4 http://security.ubuntu.com/ubuntu jammy-security InRelease [110 kB]\n",
            "Get:5 http://archive.ubuntu.com/ubuntu jammy-updates InRelease [119 kB]\n",
            "Hit:6 http://archive.ubuntu.com/ubuntu jammy-backports InRelease\n",
            "Hit:7 https://ppa.launchpadcontent.net/c2d4u.team/c2d4u4.0+/ubuntu jammy InRelease\n",
            "Hit:8 https://ppa.launchpadcontent.net/deadsnakes/ppa/ubuntu jammy InRelease\n",
            "Get:9 https://ppa.launchpadcontent.net/graphics-drivers/ppa/ubuntu jammy InRelease [24.3 kB]\n",
            "Hit:10 https://ppa.launchpadcontent.net/ubuntugis/ppa/ubuntu jammy InRelease\n",
            "Get:11 https://ppa.launchpadcontent.net/graphics-drivers/ppa/ubuntu jammy/main amd64 Packages [40.4 kB]\n",
            "Fetched 294 kB in 3s (102 kB/s)\n",
            "Reading package lists... Done\n",
            "Reading package lists... Done\n",
            "Building dependency tree... Done\n",
            "Reading state information... Done\n",
            "freeglut3-dev is already the newest version (2.8.1-6).\n",
            "ffmpeg is already the newest version (7:4.4.2-0ubuntu0.22.04.1).\n",
            "xvfb is already the newest version (2:21.1.4-2ubuntu1.7~22.04.2).\n",
            "0 upgraded, 0 newly installed, 0 to remove and 22 not upgraded.\n",
            "Requirement already satisfied: imageio in /usr/local/lib/python3.10/dist-packages (2.4.0)\n",
            "Requirement already satisfied: numpy in /usr/local/lib/python3.10/dist-packages (from imageio) (1.23.5)\n",
            "Requirement already satisfied: pillow in /usr/local/lib/python3.10/dist-packages (from imageio) (9.4.0)\n",
            "Requirement already satisfied: pyvirtualdisplay in /usr/local/lib/python3.10/dist-packages (3.0)\n",
            "Requirement already satisfied: tf-agents[reverb] in /usr/local/lib/python3.10/dist-packages (0.18.0)\n",
            "Requirement already satisfied: absl-py>=0.6.1 in /usr/local/lib/python3.10/dist-packages (from tf-agents[reverb]) (1.4.0)\n",
            "Requirement already satisfied: cloudpickle>=1.3 in /usr/local/lib/python3.10/dist-packages (from tf-agents[reverb]) (2.2.1)\n",
            "Requirement already satisfied: gin-config>=0.4.0 in /usr/local/lib/python3.10/dist-packages (from tf-agents[reverb]) (0.5.0)\n",
            "Requirement already satisfied: gym<=0.23.0,>=0.17.0 in /usr/local/lib/python3.10/dist-packages (from tf-agents[reverb]) (0.23.0)\n",
            "Requirement already satisfied: numpy>=1.19.0 in /usr/local/lib/python3.10/dist-packages (from tf-agents[reverb]) (1.23.5)\n",
            "Requirement already satisfied: pillow in /usr/local/lib/python3.10/dist-packages (from tf-agents[reverb]) (9.4.0)\n",
            "Requirement already satisfied: six>=1.10.0 in /usr/local/lib/python3.10/dist-packages (from tf-agents[reverb]) (1.16.0)\n",
            "Requirement already satisfied: protobuf>=3.11.3 in /usr/local/lib/python3.10/dist-packages (from tf-agents[reverb]) (3.20.3)\n",
            "Requirement already satisfied: wrapt>=1.11.1 in /usr/local/lib/python3.10/dist-packages (from tf-agents[reverb]) (1.14.1)\n",
            "Requirement already satisfied: typing-extensions>=3.7.4.3 in /usr/local/lib/python3.10/dist-packages (from tf-agents[reverb]) (4.5.0)\n",
            "Requirement already satisfied: pygame==2.1.3 in /usr/local/lib/python3.10/dist-packages (from tf-agents[reverb]) (2.1.3)\n",
            "Requirement already satisfied: tensorflow-probability~=0.22.0 in /usr/local/lib/python3.10/dist-packages (from tf-agents[reverb]) (0.22.0)\n",
            "Requirement already satisfied: rlds in /usr/local/lib/python3.10/dist-packages (from tf-agents[reverb]) (0.1.8)\n",
            "Requirement already satisfied: dm-reverb~=0.13.0 in /usr/local/lib/python3.10/dist-packages (from tf-agents[reverb]) (0.13.0)\n",
            "Requirement already satisfied: tensorflow~=2.14.0 in /usr/local/lib/python3.10/dist-packages (from tf-agents[reverb]) (2.14.0)\n",
            "Requirement already satisfied: dm-tree in /usr/local/lib/python3.10/dist-packages (from dm-reverb~=0.13.0->tf-agents[reverb]) (0.1.8)\n",
            "Requirement already satisfied: portpicker in /usr/local/lib/python3.10/dist-packages (from dm-reverb~=0.13.0->tf-agents[reverb]) (1.5.2)\n",
            "Requirement already satisfied: gym-notices>=0.0.4 in /usr/local/lib/python3.10/dist-packages (from gym<=0.23.0,>=0.17.0->tf-agents[reverb]) (0.0.8)\n",
            "Requirement already satisfied: astunparse>=1.6.0 in /usr/local/lib/python3.10/dist-packages (from tensorflow~=2.14.0->tf-agents[reverb]) (1.6.3)\n",
            "Requirement already satisfied: flatbuffers>=23.5.26 in /usr/local/lib/python3.10/dist-packages (from tensorflow~=2.14.0->tf-agents[reverb]) (23.5.26)\n",
            "Requirement already satisfied: gast!=0.5.0,!=0.5.1,!=0.5.2,>=0.2.1 in /usr/local/lib/python3.10/dist-packages (from tensorflow~=2.14.0->tf-agents[reverb]) (0.5.4)\n",
            "Requirement already satisfied: google-pasta>=0.1.1 in /usr/local/lib/python3.10/dist-packages (from tensorflow~=2.14.0->tf-agents[reverb]) (0.2.0)\n",
            "Requirement already satisfied: h5py>=2.9.0 in /usr/local/lib/python3.10/dist-packages (from tensorflow~=2.14.0->tf-agents[reverb]) (3.9.0)\n",
            "Requirement already satisfied: libclang>=13.0.0 in /usr/local/lib/python3.10/dist-packages (from tensorflow~=2.14.0->tf-agents[reverb]) (16.0.6)\n",
            "Requirement already satisfied: ml-dtypes==0.2.0 in /usr/local/lib/python3.10/dist-packages (from tensorflow~=2.14.0->tf-agents[reverb]) (0.2.0)\n",
            "Requirement already satisfied: opt-einsum>=2.3.2 in /usr/local/lib/python3.10/dist-packages (from tensorflow~=2.14.0->tf-agents[reverb]) (3.3.0)\n",
            "Requirement already satisfied: packaging in /usr/local/lib/python3.10/dist-packages (from tensorflow~=2.14.0->tf-agents[reverb]) (23.2)\n",
            "Requirement already satisfied: setuptools in /usr/local/lib/python3.10/dist-packages (from tensorflow~=2.14.0->tf-agents[reverb]) (67.7.2)\n",
            "Requirement already satisfied: termcolor>=1.1.0 in /usr/local/lib/python3.10/dist-packages (from tensorflow~=2.14.0->tf-agents[reverb]) (2.3.0)\n",
            "Requirement already satisfied: tensorflow-io-gcs-filesystem>=0.23.1 in /usr/local/lib/python3.10/dist-packages (from tensorflow~=2.14.0->tf-agents[reverb]) (0.34.0)\n",
            "Requirement already satisfied: grpcio<2.0,>=1.24.3 in /usr/local/lib/python3.10/dist-packages (from tensorflow~=2.14.0->tf-agents[reverb]) (1.59.0)\n",
            "Requirement already satisfied: tensorboard<2.15,>=2.14 in /usr/local/lib/python3.10/dist-packages (from tensorflow~=2.14.0->tf-agents[reverb]) (2.14.1)\n",
            "Requirement already satisfied: tensorflow-estimator<2.15,>=2.14.0 in /usr/local/lib/python3.10/dist-packages (from tensorflow~=2.14.0->tf-agents[reverb]) (2.14.0)\n",
            "Requirement already satisfied: keras<2.15,>=2.14.0 in /usr/local/lib/python3.10/dist-packages (from tensorflow~=2.14.0->tf-agents[reverb]) (2.14.0)\n",
            "Requirement already satisfied: decorator in /usr/local/lib/python3.10/dist-packages (from tensorflow-probability~=0.22.0->tf-agents[reverb]) (4.4.2)\n",
            "Requirement already satisfied: wheel<1.0,>=0.23.0 in /usr/local/lib/python3.10/dist-packages (from astunparse>=1.6.0->tensorflow~=2.14.0->tf-agents[reverb]) (0.41.2)\n",
            "Requirement already satisfied: google-auth<3,>=1.6.3 in /usr/local/lib/python3.10/dist-packages (from tensorboard<2.15,>=2.14->tensorflow~=2.14.0->tf-agents[reverb]) (2.17.3)\n",
            "Requirement already satisfied: google-auth-oauthlib<1.1,>=0.5 in /usr/local/lib/python3.10/dist-packages (from tensorboard<2.15,>=2.14->tensorflow~=2.14.0->tf-agents[reverb]) (1.0.0)\n",
            "Requirement already satisfied: markdown>=2.6.8 in /usr/local/lib/python3.10/dist-packages (from tensorboard<2.15,>=2.14->tensorflow~=2.14.0->tf-agents[reverb]) (3.5)\n",
            "Requirement already satisfied: requests<3,>=2.21.0 in /usr/local/lib/python3.10/dist-packages (from tensorboard<2.15,>=2.14->tensorflow~=2.14.0->tf-agents[reverb]) (2.31.0)\n",
            "Requirement already satisfied: tensorboard-data-server<0.8.0,>=0.7.0 in /usr/local/lib/python3.10/dist-packages (from tensorboard<2.15,>=2.14->tensorflow~=2.14.0->tf-agents[reverb]) (0.7.2)\n",
            "Requirement already satisfied: werkzeug>=1.0.1 in /usr/local/lib/python3.10/dist-packages (from tensorboard<2.15,>=2.14->tensorflow~=2.14.0->tf-agents[reverb]) (3.0.1)\n",
            "Requirement already satisfied: psutil in /usr/local/lib/python3.10/dist-packages (from portpicker->dm-reverb~=0.13.0->tf-agents[reverb]) (5.9.5)\n",
            "Requirement already satisfied: cachetools<6.0,>=2.0.0 in /usr/local/lib/python3.10/dist-packages (from google-auth<3,>=1.6.3->tensorboard<2.15,>=2.14->tensorflow~=2.14.0->tf-agents[reverb]) (5.3.2)\n",
            "Requirement already satisfied: pyasn1-modules>=0.2.1 in /usr/local/lib/python3.10/dist-packages (from google-auth<3,>=1.6.3->tensorboard<2.15,>=2.14->tensorflow~=2.14.0->tf-agents[reverb]) (0.3.0)\n",
            "Requirement already satisfied: rsa<5,>=3.1.4 in /usr/local/lib/python3.10/dist-packages (from google-auth<3,>=1.6.3->tensorboard<2.15,>=2.14->tensorflow~=2.14.0->tf-agents[reverb]) (4.9)\n",
            "Requirement already satisfied: requests-oauthlib>=0.7.0 in /usr/local/lib/python3.10/dist-packages (from google-auth-oauthlib<1.1,>=0.5->tensorboard<2.15,>=2.14->tensorflow~=2.14.0->tf-agents[reverb]) (1.3.1)\n",
            "Requirement already satisfied: charset-normalizer<4,>=2 in /usr/local/lib/python3.10/dist-packages (from requests<3,>=2.21.0->tensorboard<2.15,>=2.14->tensorflow~=2.14.0->tf-agents[reverb]) (3.3.1)\n",
            "Requirement already satisfied: idna<4,>=2.5 in /usr/local/lib/python3.10/dist-packages (from requests<3,>=2.21.0->tensorboard<2.15,>=2.14->tensorflow~=2.14.0->tf-agents[reverb]) (3.4)\n",
            "Requirement already satisfied: urllib3<3,>=1.21.1 in /usr/local/lib/python3.10/dist-packages (from requests<3,>=2.21.0->tensorboard<2.15,>=2.14->tensorflow~=2.14.0->tf-agents[reverb]) (2.0.7)\n",
            "Requirement already satisfied: certifi>=2017.4.17 in /usr/local/lib/python3.10/dist-packages (from requests<3,>=2.21.0->tensorboard<2.15,>=2.14->tensorflow~=2.14.0->tf-agents[reverb]) (2023.7.22)\n",
            "Requirement already satisfied: MarkupSafe>=2.1.1 in /usr/local/lib/python3.10/dist-packages (from werkzeug>=1.0.1->tensorboard<2.15,>=2.14->tensorflow~=2.14.0->tf-agents[reverb]) (2.1.3)\n",
            "Requirement already satisfied: pyasn1<0.6.0,>=0.4.6 in /usr/local/lib/python3.10/dist-packages (from pyasn1-modules>=0.2.1->google-auth<3,>=1.6.3->tensorboard<2.15,>=2.14->tensorflow~=2.14.0->tf-agents[reverb]) (0.5.0)\n",
            "Requirement already satisfied: oauthlib>=3.0.0 in /usr/local/lib/python3.10/dist-packages (from requests-oauthlib>=0.7.0->google-auth-oauthlib<1.1,>=0.5->tensorboard<2.15,>=2.14->tensorflow~=2.14.0->tf-agents[reverb]) (3.2.2)\n",
            "Requirement already satisfied: pyglet in /usr/local/lib/python3.10/dist-packages (2.0.9)\n"
          ]
        }
      ],
      "source": [
        "!sudo apt-get update\n",
        "!sudo apt-get install -y xvfb ffmpeg freeglut3-dev\n",
        "!pip install imageio\n",
        "!pip install pyvirtualdisplay\n",
        "!pip install tf-agents[reverb]\n",
        "!pip install pyglet"
      ]
    },
    {
      "cell_type": "code",
      "execution_count": 108,
      "metadata": {
        "id": "h-vtSiPUgOOU"
      },
      "outputs": [],
      "source": [
        "import base64\n",
        "import imageio\n",
        "import IPython\n",
        "import matplotlib\n",
        "import matplotlib.pyplot as plt\n",
        "import numpy as np\n",
        "import PIL.Image\n",
        "import pyvirtualdisplay\n",
        "import reverb\n",
        "import random\n",
        "import os\n",
        "\n",
        "import pygame as pg\n",
        "from pygame import gfxdraw\n",
        "from pygame.locals import *\n",
        "\n",
        "import tensorflow as tf\n",
        "\n",
        "from tf_agents.agents.dqn import dqn_agent\n",
        "from tf_agents.drivers import py_driver\n",
        "from tf_agents.environments import suite_gym\n",
        "from tf_agents.environments import py_environment\n",
        "from tf_agents.environments import tf_environment\n",
        "from tf_agents.environments import tf_py_environment\n",
        "from tf_agents.eval import metric_utils\n",
        "from tf_agents.metrics import tf_metrics\n",
        "from tf_agents.networks import sequential\n",
        "from tf_agents.policies import py_tf_eager_policy\n",
        "from tf_agents.policies import random_tf_policy\n",
        "from tf_agents.replay_buffers import reverb_replay_buffer\n",
        "from tf_agents.replay_buffers import reverb_utils\n",
        "from tf_agents.trajectories import trajectory\n",
        "from tf_agents.specs import tensor_spec\n",
        "from tf_agents.utils import common"
      ]
    },
    {
      "cell_type": "code",
      "execution_count": 109,
      "metadata": {
        "colab": {
          "base_uri": "https://localhost:8080/",
          "height": 35
        },
        "id": "MsV4e7iqg10s",
        "outputId": "266af3a3-f2cc-4644-d12f-6593d3e550a4"
      },
      "outputs": [
        {
          "output_type": "execute_result",
          "data": {
            "text/plain": [
              "'2.14.0'"
            ],
            "application/vnd.google.colaboratory.intrinsic+json": {
              "type": "string"
            }
          },
          "metadata": {},
          "execution_count": 109
        }
      ],
      "source": [
        "tf.version.VERSION"
      ]
    },
    {
      "cell_type": "markdown",
      "metadata": {
        "id": "sWwU8Wp7g2_X"
      },
      "source": [
        "## Hyper-parameters"
      ]
    },
    {
      "cell_type": "code",
      "execution_count": 110,
      "metadata": {
        "id": "reKJx_ybg7_L"
      },
      "outputs": [],
      "source": [
        "num_iterations = 100000 # @param {type:\"integer\"}\n",
        "\n",
        "initial_collect_steps = 100  # @param {type:\"integer\"}\n",
        "collect_steps_per_iteration = 1 # @param {type:\"integer\"}\n",
        "replay_buffer_max_length = 100000  # @param {type:\"integer\"}\n",
        "\n",
        "batch_size = 256  # @param {type:\"integer\"}\n",
        "learning_rate = 3e-3  # @param {type:\"number\"}\n",
        "log_interval = 200  # @param {type:\"integer\"}\n",
        "\n",
        "num_eval_episodes = 10  # @param {type:\"integer\"}\n",
        "eval_interval = 1000  # @param {type:\"integer\"}\n",
        "\n",
        "\n",
        "BOARD_SIZE = 9 # @param {type:\"integer\"}"
      ]
    },
    {
      "cell_type": "markdown",
      "metadata": {
        "id": "WOBVDKmMIcyJ"
      },
      "source": [
        "## Environment"
      ]
    },
    {
      "cell_type": "code",
      "execution_count": 111,
      "metadata": {
        "id": "aq7Q2oxyIhS8"
      },
      "outputs": [],
      "source": [
        "import gym\n",
        "import numpy as np\n",
        "import math\n",
        "from tabulate import tabulate\n",
        "\n",
        "from typing import Tuple, List\n",
        "\n",
        "\n",
        "class TicTacToeEnv1(gym.Env):\n",
        "    \"\"\"\n",
        "    Implementation of a TicTacToe Environment based on OpenAI Gym standards\n",
        "    This class is modified from https://github.com/MauroLuzzatto/OpenAI-Gym-TicTacToe-Environment\n",
        "    I modified that to follow the instructions of Question 1.\n",
        "    \"\"\"\n",
        "\n",
        "    def __init__(self, mode='rgb_array') -> None:\n",
        "        \"\"\"This class contains a TicTacToe environment for OpenAI Gym\n",
        "\n",
        "        Args:\n",
        "            small (int): small reward for each move (punishment)\n",
        "            large (int): large reward for game winner\n",
        "        \"\"\"\n",
        "        n_actions = BOARD_SIZE * BOARD_SIZE         # 9 * 9 grids to drop\n",
        "        self.action_space = gym.spaces.Discrete(n_actions)\n",
        "        # state: 9 * 9 * 2: the first 9 * 9 layer is the opponent's play history and the second 9 * 9 layer is ours.\n",
        "        self.observation_space = gym.spaces.MultiBinary([BOARD_SIZE, BOARD_SIZE, 2])\n",
        "        self.render_mode = mode\n",
        "        self.colors = [1, 2]\n",
        "        self.screen = None\n",
        "        self.fields_per_side = int(math.sqrt(n_actions))\n",
        "        self.reset()\n",
        "\n",
        "    def reset(self) -> Tuple[np.ndarray, dict]:\n",
        "        \"\"\"\n",
        "        reset the board game and state\n",
        "        \"\"\"\n",
        "        self.board: np.ndarray = np.zeros(\n",
        "            (self.fields_per_side, self.fields_per_side), dtype=int\n",
        "        )\n",
        "        self.current_player = 1\n",
        "        self.info = {\"players\": {1: {\"actions\": []}, 2: {\"actions\": []}}, \"Occupied\": set()}\n",
        "\n",
        "        if self.render_mode == 'human':\n",
        "            self.render(self.render_mode)\n",
        "        return self.decompose_board_to_state()\n",
        "\n",
        "    def decompose_board_to_state(self):\n",
        "        \"\"\"\n",
        "        Our state is a 9x9x2 matrix.\n",
        "        The first layer is the opponent's play history, 0 means no stone, 1 means stones placed by the opponent.\n",
        "        The second layer is the current player's history, 0 means no stone, 1 means stones placed by the current player.\n",
        "        \"\"\"\n",
        "        opponent = 2 if self.current_player == 1 else 1\n",
        "        o_plays = (self.board == opponent) * 1\n",
        "        c_plays = (self.board == self.current_player) * 1\n",
        "        return np.stack([o_plays, c_plays], axis=2)\n",
        "\n",
        "\n",
        "    def step(self, action: int) -> Tuple[np.ndarray, int, bool, dict]:\n",
        "        \"\"\"step function of the tictactoeEnv1\n",
        "\n",
        "        Args:\n",
        "          action (int): integer between 0-80, each representing a field on the board\n",
        "\n",
        "        Returns:\n",
        "          state (np.array): state of 2 players' history, 0 means no stone, 1 means stones placed by the corresponding player (shape: 9x9x2).\n",
        "          reward (int): reward of the currrent step\n",
        "          done (boolean): true, if the game is finished\n",
        "          (dict): empty dict for future game related information\n",
        "        \"\"\"\n",
        "        if not self.action_space.contains(action):\n",
        "            raise ValueError(f\"action '{action}' is not in action_space\")\n",
        "\n",
        "        reward = -0.1  # assign (negative) reward for every move done\n",
        "        (row, col) = self.decode_action(action)\n",
        "\n",
        "        # If the agent/player does not choose an empty square, randomly select an empty one.\n",
        "        if self.board[row, col] != 0:\n",
        "            action = random.choice(list(set(range(BOARD_SIZE * BOARD_SIZE)) - self.info[\"Occupied\"]))\n",
        "            (row, col) = self.decode_action(action)\n",
        "            reward -= 0.3 # assign a negative reward if the play out position is not empty\n",
        "\n",
        "\n",
        "        # randomly select an adjacent position with probability 1/16\n",
        "        if random.random() < 0.5:\n",
        "            adjs = [[-1, -1], [-1, 0], [-1, 1], [0, 1], [0, -1], [1, -1], [1, 0], [1, 1]]\n",
        "            adj = random.choice(adjs)\n",
        "            row, col = row + adj[0], col + adj[1]\n",
        "\n",
        "        if 0 <= row < BOARD_SIZE and 0 <= col < BOARD_SIZE and self.board[row, col] == 0:\n",
        "            self.board[row, col] = self.current_player  # postion the token on the field\n",
        "            win = self._is_win(self.current_player, row, col)\n",
        "\n",
        "            action = row * BOARD_SIZE + col\n",
        "            self.info[\"players\"][self.current_player][\"actions\"].append(action)\n",
        "            self.info[\"Occupied\"].add(action)\n",
        "        else:\n",
        "            win = False\n",
        "\n",
        "        if win:\n",
        "            reward += 3\n",
        "\n",
        "        done = (win or len(self.info[\"Occupied\"]) == BOARD_SIZE * BOARD_SIZE)\n",
        "        self.current_player = self.current_player + 1 if self.current_player == 1 else 1\n",
        "        state = self.decompose_board_to_state()\n",
        "        return state, reward, done, self.info\n",
        "\n",
        "    def _is_win(self, color: int, r: int, c: int) -> bool:\n",
        "        \"\"\"check if this player results in a winner\n",
        "\n",
        "        Args:\n",
        "            color (int): of the player\n",
        "            r (int): row of the current play\n",
        "            c (int): column of the current play\n",
        "\n",
        "        Returns:\n",
        "            bool: indicating if there is a winner\n",
        "        \"\"\"\n",
        "\n",
        "        # check if four equal stones are aligned (horizontal, verical or diagonal)\n",
        "        directions = [[0, 1], [1, 0], [1, 1], [1, -1]]\n",
        "\n",
        "        for direct in directions:\n",
        "            count = 0\n",
        "            for offset in range(-3, 4):\n",
        "                if 0 <= r + offset * direct[0] < 9 and 0 <= c + offset * direct[1] < 9:\n",
        "                    if self.board[r + offset * direct[0], c + offset * direct[1]] == color:\n",
        "                        count += 1\n",
        "                        if count == 4:\n",
        "                            return True\n",
        "                    else:\n",
        "                        count = 0\n",
        "\n",
        "        return False\n",
        "\n",
        "    def decode_action(self, action: int) -> List[int]:\n",
        "        \"\"\"decode the action integer into a colum and row value\n",
        "\n",
        "        0 = upper left corner\n",
        "        8 = lower right corner\n",
        "\n",
        "        Args:\n",
        "            action (int): action\n",
        "\n",
        "        Returns:\n",
        "            List[int, int]: a list with the [row, col] values\n",
        "        \"\"\"\n",
        "        col = action % BOARD_SIZE\n",
        "        row = action // BOARD_SIZE\n",
        "        assert 0 <= col < BOARD_SIZE\n",
        "        return [row, col]\n",
        "\n",
        "    def render(self, mode=\"human\") -> None:\n",
        "        \"\"\"render the board\n",
        "\n",
        "        The following charachters are used to represent the fields,\n",
        "            '-' no stone\n",
        "            'O' for player 0\n",
        "            'X' for player 1\n",
        "\n",
        "        An example for a 3x3 game board:\n",
        "            ╒═══╤═══╤═══╕\n",
        "            │ O │ - │ - │\n",
        "            ├───┼───┼───┤\n",
        "            │ - │ X │ - │\n",
        "            ├───┼───┼───┤\n",
        "            │ - │ - │ - │\n",
        "            ╘═══╧═══╧═══╛\n",
        "        \"\"\"\n",
        "        board = np.zeros((BOARD_SIZE, BOARD_SIZE), dtype=str)\n",
        "        for ii in range(BOARD_SIZE):\n",
        "            for jj in range(BOARD_SIZE):\n",
        "                if self.board[ii, jj] == 0:\n",
        "                    board[ii, jj] = \"-\"\n",
        "                elif self.board[ii, jj] == 1:\n",
        "                    board[ii, jj] = \"X\"\n",
        "                elif self.board[ii, jj] == 2:\n",
        "                    board[ii, jj] = \"O\"\n",
        "\n",
        "        if mode == \"human\":\n",
        "            board = tabulate(board, tablefmt=\"fancy_grid\")\n",
        "            print(board)\n",
        "            print(\"\\n\")\n",
        "\n",
        "\n",
        "        width = height = 400\n",
        "\n",
        "        white = (255, 255, 255)\n",
        "        line_color = (0, 0, 0)\n",
        "\n",
        "        os.environ[\"SDL_VIDEODRIVER\"] = \"dummy\"\n",
        "        pg.init()\n",
        "\n",
        "        # Set up the drawing window\n",
        "        if self.screen is None:\n",
        "          self.screen = pg.display.set_mode([width + 16, height + 16])\n",
        "\n",
        "        self.screen.fill(white)\n",
        "        # drawing vertical lines\n",
        "        for i in range(10):\n",
        "          pg.draw.line(self.screen, line_color, (width / BOARD_SIZE * i, 0), (width / BOARD_SIZE * i, height), 2)\n",
        "\n",
        "        # drawing horizontal lines\n",
        "        for i in range(10):\n",
        "          pg.draw.line(self.screen, line_color, (0, height / BOARD_SIZE * i), (width, height / BOARD_SIZE * i), 2)\n",
        "        pg.display.flip()\n",
        "\n",
        "        # drawing noughts and crosses\n",
        "        for i in range(BOARD_SIZE):\n",
        "          for j in range(BOARD_SIZE):\n",
        "            if self.board[i, j] == 1: # Draw crosses\n",
        "              pg.draw.lines(self.screen, line_color, True, [(width / BOARD_SIZE * (j + 0.5) - 10,\n",
        "                                                        height / BOARD_SIZE * (i + 0.5) - 10),\n",
        "                                                      (width / BOARD_SIZE * (j + 0.5) + 10,\n",
        "                                                        height / BOARD_SIZE * (i + 0.5) + 10)], 3)\n",
        "              pg.draw.lines(self.screen, line_color, True, [(width / BOARD_SIZE * (j + 0.5) - 10,\n",
        "                                                        height / BOARD_SIZE * (i + 0.5) + 10),\n",
        "                                                        (width / BOARD_SIZE * (j + 0.5) + 10,\n",
        "                                                          height / BOARD_SIZE * (i + 0.5) - 10)], 3)\n",
        "            elif self.board[i, j] == 2: # Draw noughts\n",
        "              pg.draw.circle(self.screen, line_color, (width / BOARD_SIZE * (j + 0.5), height / BOARD_SIZE * (i + 0.5)), 12, 3)\n",
        "\n",
        "        board = np.transpose(\n",
        "                np.array(pg.surfarray.pixels3d(self.screen)), axes=(1, 0, 2)\n",
        "            )\n",
        "\n",
        "        return board"
      ]
    },
    {
      "cell_type": "markdown",
      "metadata": {
        "id": "LqFsRLWJslkf"
      },
      "source": [
        "## Random play test"
      ]
    },
    {
      "cell_type": "code",
      "execution_count": 112,
      "metadata": {
        "id": "qJYsgWM-79vr"
      },
      "outputs": [],
      "source": [
        "def embed_mp4(filename):\n",
        "    \"\"\"Embeds an mp4 file in the notebook.\"\"\"\n",
        "    video = open(filename,'rb').read()\n",
        "    b64 = base64.b64encode(video)\n",
        "    tag = '''\n",
        "    <video width=\"480\" height=\"480\" controls>\n",
        "      <source src=\"data:video/mp4;base64,{0}\" type=\"video/mp4\">\n",
        "    Your browser does not support the video tag.\n",
        "    </video>'''.format(b64.decode())\n",
        "\n",
        "    return IPython.display.HTML(tag)\n",
        "\n",
        "def create_policy_eval_video(policy, filename, fps=2):\n",
        "    filename = filename + \".mp4\"\n",
        "    with imageio.get_writer(filename, fps=fps) as video:\n",
        "      time_step = tf_env.reset()\n",
        "      video.append_data(py_env.render())\n",
        "      while not time_step.is_last():\n",
        "        action_step = policy.action(time_step)\n",
        "        time_step = tf_env.step(action_step.action)\n",
        "        video.append_data(py_env.render())\n",
        "\n",
        "    return embed_mp4(filename)"
      ]
    },
    {
      "cell_type": "code",
      "execution_count": 113,
      "metadata": {
        "id": "uU1h9wSWa7Lh"
      },
      "outputs": [],
      "source": [
        "py_env = suite_gym.wrap_env(TicTacToeEnv1())\n",
        "tf_env = tf_py_environment.TFPyEnvironment(py_env)"
      ]
    },
    {
      "cell_type": "code",
      "execution_count": 114,
      "metadata": {
        "colab": {
          "base_uri": "https://localhost:8080/",
          "height": 501
        },
        "id": "yNw07pahBY78",
        "outputId": "f07ac00e-a104-4db3-f13b-f1a8de78b18f"
      },
      "outputs": [
        {
          "output_type": "execute_result",
          "data": {
            "text/plain": [
              "<IPython.core.display.HTML object>"
            ],
            "text/html": [
              "\n",
              "    <video width=\"480\" height=\"480\" controls>\n",
              "      <source src=\"data:video/mp4;base64,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\" type=\"video/mp4\">\n",
              "    Your browser does not support the video tag.\n",
              "    </video>"
            ]
          },
          "metadata": {},
          "execution_count": 114
        }
      ],
      "source": [
        "random_policy = random_tf_policy.RandomTFPolicy(tf_env.time_step_spec(), tf_env.action_spec())\n",
        "create_policy_eval_video(random_policy, \"random-agent\")"
      ]
    },
    {
      "cell_type": "markdown",
      "metadata": {
        "id": "GPHWdRyT-ND0"
      },
      "source": [
        "## Agent"
      ]
    },
    {
      "cell_type": "code",
      "execution_count": 115,
      "metadata": {
        "id": "MnqVY5icuPi4"
      },
      "outputs": [],
      "source": [
        "train_py_env = suite_gym.wrap_env(TicTacToeEnv1())\n",
        "eval_py_env = suite_gym.wrap_env(TicTacToeEnv1())\n",
        "\n",
        "train_env = tf_py_environment.TFPyEnvironment(train_py_env)\n",
        "eval_env = tf_py_environment.TFPyEnvironment(eval_py_env)"
      ]
    },
    {
      "cell_type": "code",
      "source": [
        "train_env.time_step_spec()"
      ],
      "metadata": {
        "colab": {
          "base_uri": "https://localhost:8080/"
        },
        "id": "pZmdt4QB8h00",
        "outputId": "331cded6-e94d-46cc-e91a-f02c1a8053cc"
      },
      "execution_count": 116,
      "outputs": [
        {
          "output_type": "execute_result",
          "data": {
            "text/plain": [
              "TimeStep(\n",
              "{'discount': BoundedTensorSpec(shape=(), dtype=tf.float32, name='discount', minimum=array(0., dtype=float32), maximum=array(1., dtype=float32)),\n",
              " 'observation': BoundedTensorSpec(shape=(9, 9, 2), dtype=tf.int32, name='observation', minimum=array(0, dtype=int32), maximum=array(1, dtype=int32)),\n",
              " 'reward': TensorSpec(shape=(), dtype=tf.float32, name='reward'),\n",
              " 'step_type': TensorSpec(shape=(), dtype=tf.int32, name='step_type')})"
            ]
          },
          "metadata": {},
          "execution_count": 116
        }
      ]
    },
    {
      "cell_type": "code",
      "execution_count": 133,
      "metadata": {
        "id": "TgkdEPg_muzV"
      },
      "outputs": [],
      "source": [
        "conv_layer_params = [16, 32]\n",
        "action_tensor_spec = tensor_spec.from_spec(tf_env.action_spec())\n",
        "num_actions = action_tensor_spec.maximum - action_tensor_spec.minimum + 1\n",
        "\n",
        "# Define a helper function to create Conv layers configured with the right\n",
        "# activation and kernel initializer.\n",
        "def conv_layer(num_units):\n",
        "  return tf.keras.layers.Conv2D(\n",
        "\n",
        "                      filters=num_units,\n",
        "                      kernel_size=[3, 3],\n",
        "                      padding=\"same\",\n",
        "                      data_format=\"channels_last\",\n",
        "                      activation=tf.nn.leaky_relu,\n",
        "                      dtype=float)\n",
        "\n",
        "\n",
        "# QNetwork consists of a sequence of Conv layers followed by a dense layer\n",
        "# with `num_actions` units to generate one q_value per available action as\n",
        "# its output.\n",
        "normalization1 = tf.keras.layers.BatchNormalization()\n",
        "normalization2 = tf.keras.layers.BatchNormalization()\n",
        "conv_layers = [conv_layer(num_units) for num_units in conv_layer_params]\n",
        "action_conv = tf.keras.layers.Conv2D(filters=4,\n",
        "                    kernel_size=[1, 1], padding=\"same\",\n",
        "                    data_format=\"channels_last\",\n",
        "                    activation=tf.nn.leaky_relu)\n",
        "flatten = tf.keras.layers.Flatten()\n",
        "q_values_layer = tf.keras.layers.Dense(\n",
        "    num_actions,\n",
        "    activation=None,\n",
        "    kernel_initializer=tf.keras.initializers.RandomUniform(\n",
        "        minval=-0.03, maxval=0.03),\n",
        "    bias_initializer=tf.keras.initializers.Constant(-0.2))\n",
        "q_net = sequential.Sequential([normalization1] + conv_layers + [action_conv, normalization2, flatten, q_values_layer])"
      ]
    },
    {
      "cell_type": "code",
      "execution_count": 134,
      "metadata": {
        "id": "lg5emNEam75J"
      },
      "outputs": [],
      "source": [
        "optimizer = tf.keras.optimizers.Adam(learning_rate=learning_rate)\n",
        "\n",
        "train_step_counter = tf.Variable(0)\n",
        "\n",
        "agent = dqn_agent.DqnAgent(\n",
        "    train_env.time_step_spec(),\n",
        "    train_env.action_spec(),\n",
        "    q_network=q_net,\n",
        "    optimizer=optimizer,\n",
        "    td_errors_loss_fn=common.element_wise_squared_loss,\n",
        "    train_step_counter=train_step_counter)\n",
        "\n",
        "agent.initialize()"
      ]
    },
    {
      "cell_type": "markdown",
      "metadata": {
        "id": "QaVnWWX4xpa5"
      },
      "source": [
        "## Policy"
      ]
    },
    {
      "cell_type": "code",
      "execution_count": 135,
      "metadata": {
        "id": "uGU0pGS4xsjc"
      },
      "outputs": [],
      "source": [
        "eval_policy = agent.policy\n",
        "collect_policy = agent.collect_policy\n",
        "random_policy = random_tf_policy.RandomTFPolicy(train_env.time_step_spec(), train_env.action_spec())"
      ]
    },
    {
      "cell_type": "code",
      "execution_count": 136,
      "metadata": {
        "id": "N8vRFWNgx-tj"
      },
      "outputs": [],
      "source": [
        "def compute_avg_return(environment, policy, num_episodes=10):\n",
        "\n",
        "  total_return = 0.0\n",
        "  for _ in range(num_episodes):\n",
        "    time_step = environment.reset()\n",
        "    episode_return = 0.0\n",
        "    while not time_step.is_last():\n",
        "      action_step = policy.action(time_step)\n",
        "      time_step = environment.step(action_step.action)\n",
        "      episode_return += time_step.reward\n",
        "    total_return += episode_return\n",
        "\n",
        "  avg_return = total_return / num_episodes\n",
        "  return avg_return.numpy()[0]\n",
        "\n",
        "\n",
        "# See also the metrics module for standard implementations of different metrics.\n",
        "# https://github.com/tensorflow/agents/tree/master/tf_agents/metrics"
      ]
    },
    {
      "cell_type": "code",
      "execution_count": 137,
      "metadata": {
        "id": "vlCXIdRVyAAu",
        "colab": {
          "base_uri": "https://localhost:8080/"
        },
        "outputId": "073cde7a-5122-42ed-843e-40d36c9c260c"
      },
      "outputs": [
        {
          "output_type": "execute_result",
          "data": {
            "text/plain": [
              "-15.999992"
            ]
          },
          "metadata": {},
          "execution_count": 137
        }
      ],
      "source": [
        "compute_avg_return(eval_env, agent.policy, 1)"
      ]
    },
    {
      "cell_type": "markdown",
      "metadata": {
        "id": "VBEXcoMjy7xO"
      },
      "source": [
        "## Replay Buffer"
      ]
    },
    {
      "cell_type": "code",
      "execution_count": 138,
      "metadata": {
        "id": "CMVmKJF1y_Lt"
      },
      "outputs": [],
      "source": [
        "table_name = 'uniform_table'\n",
        "replay_buffer_signature = tensor_spec.from_spec(\n",
        "      agent.collect_data_spec)\n",
        "replay_buffer_signature = tensor_spec.add_outer_dim(\n",
        "    replay_buffer_signature)\n",
        "\n",
        "table = reverb.Table(\n",
        "    table_name,\n",
        "    max_size=replay_buffer_max_length,\n",
        "    sampler=reverb.selectors.Uniform(),\n",
        "    remover=reverb.selectors.Fifo(),\n",
        "    rate_limiter=reverb.rate_limiters.MinSize(1),\n",
        "    signature=replay_buffer_signature)\n",
        "\n",
        "reverb_server = reverb.Server([table])\n",
        "\n",
        "replay_buffer = reverb_replay_buffer.ReverbReplayBuffer(\n",
        "    agent.collect_data_spec,\n",
        "    table_name=table_name,\n",
        "    sequence_length=2,\n",
        "    local_server=reverb_server)\n",
        "\n",
        "rb_observer = reverb_utils.ReverbAddTrajectoryObserver(\n",
        "  replay_buffer.py_client,\n",
        "  table_name,\n",
        "  sequence_length=2)\n",
        "\n",
        "dataset = replay_buffer.as_dataset(\n",
        "    num_parallel_calls=3,\n",
        "    sample_batch_size=batch_size,\n",
        "    num_steps=2).prefetch(3)\n",
        "\n",
        "iterator = iter(dataset)"
      ]
    },
    {
      "cell_type": "code",
      "execution_count": 139,
      "metadata": {
        "id": "RomK5WUjtYbO",
        "colab": {
          "base_uri": "https://localhost:8080/"
        },
        "outputId": "8036e6a1-6b33-4960-c817-1e00b0dc3834"
      },
      "outputs": [
        {
          "output_type": "execute_result",
          "data": {
            "text/plain": [
              "(TimeStep(\n",
              " {'discount': array(1., dtype=float32),\n",
              "  'observation': array([[[0, 0],\n",
              "         [0, 0],\n",
              "         [0, 1],\n",
              "         [0, 0],\n",
              "         [0, 1],\n",
              "         [0, 0],\n",
              "         [0, 0],\n",
              "         [0, 0],\n",
              "         [0, 1]],\n",
              " \n",
              "        [[0, 0],\n",
              "         [0, 1],\n",
              "         [0, 0],\n",
              "         [0, 0],\n",
              "         [1, 0],\n",
              "         [0, 0],\n",
              "         [1, 0],\n",
              "         [1, 0],\n",
              "         [0, 0]],\n",
              " \n",
              "        [[0, 0],\n",
              "         [0, 1],\n",
              "         [0, 0],\n",
              "         [0, 0],\n",
              "         [0, 1],\n",
              "         [0, 0],\n",
              "         [0, 0],\n",
              "         [0, 0],\n",
              "         [0, 0]],\n",
              " \n",
              "        [[1, 0],\n",
              "         [1, 0],\n",
              "         [0, 0],\n",
              "         [0, 0],\n",
              "         [0, 1],\n",
              "         [0, 0],\n",
              "         [1, 0],\n",
              "         [0, 1],\n",
              "         [0, 0]],\n",
              " \n",
              "        [[0, 0],\n",
              "         [0, 0],\n",
              "         [0, 0],\n",
              "         [1, 0],\n",
              "         [0, 0],\n",
              "         [0, 0],\n",
              "         [0, 1],\n",
              "         [0, 0],\n",
              "         [0, 0]],\n",
              " \n",
              "        [[1, 0],\n",
              "         [0, 0],\n",
              "         [0, 0],\n",
              "         [0, 0],\n",
              "         [1, 0],\n",
              "         [0, 0],\n",
              "         [1, 0],\n",
              "         [0, 0],\n",
              "         [0, 1]],\n",
              " \n",
              "        [[0, 0],\n",
              "         [0, 1],\n",
              "         [0, 0],\n",
              "         [1, 0],\n",
              "         [0, 0],\n",
              "         [0, 0],\n",
              "         [0, 1],\n",
              "         [0, 0],\n",
              "         [0, 0]],\n",
              " \n",
              "        [[1, 0],\n",
              "         [0, 0],\n",
              "         [0, 0],\n",
              "         [0, 0],\n",
              "         [1, 0],\n",
              "         [0, 0],\n",
              "         [1, 0],\n",
              "         [0, 0],\n",
              "         [0, 0]],\n",
              " \n",
              "        [[1, 0],\n",
              "         [0, 0],\n",
              "         [0, 0],\n",
              "         [0, 0],\n",
              "         [0, 0],\n",
              "         [0, 0],\n",
              "         [1, 0],\n",
              "         [0, 0],\n",
              "         [0, 0]]], dtype=int32),\n",
              "  'reward': array(-0.1, dtype=float32),\n",
              "  'step_type': array(1, dtype=int32)}),\n",
              " ())"
            ]
          },
          "metadata": {},
          "execution_count": 139
        }
      ],
      "source": [
        "py_driver.PyDriver(\n",
        "    train_py_env,\n",
        "    py_tf_eager_policy.PyTFEagerPolicy(\n",
        "      random_policy, use_tf_function=True),\n",
        "    [rb_observer],\n",
        "    max_steps=initial_collect_steps).run(train_py_env.reset())"
      ]
    },
    {
      "cell_type": "markdown",
      "metadata": {
        "id": "jRVMc8V8zxj0"
      },
      "source": [
        "## Train the agent"
      ]
    },
    {
      "cell_type": "code",
      "execution_count": null,
      "metadata": {
        "id": "6_1qWkmKz0Ke"
      },
      "outputs": [],
      "source": [
        "try:\n",
        "  %%time\n",
        "except:\n",
        "  pass\n",
        "\n",
        "# (Optional) Optimize by wrapping some of the code in a graph using TF function.\n",
        "agent.train = common.function(agent.train)\n",
        "\n",
        "# Reset the train step.\n",
        "agent.train_step_counter.assign(0)\n",
        "\n",
        "# Evaluate the agent's policy once before training.\n",
        "avg_return = compute_avg_return(eval_env, agent.policy, num_eval_episodes)\n",
        "returns = [avg_return]\n",
        "\n",
        "# Reset the environment.\n",
        "time_step = train_py_env.reset()\n",
        "\n",
        "# Create a driver to collect experience.\n",
        "collect_driver = py_driver.PyDriver(\n",
        "    train_py_env,\n",
        "    py_tf_eager_policy.PyTFEagerPolicy(\n",
        "      agent.collect_policy, use_tf_function=True),\n",
        "    [rb_observer],\n",
        "    max_steps=collect_steps_per_iteration)\n",
        "\n",
        "for _ in range(num_iterations):\n",
        "\n",
        "    # Collect a few steps and save to the replay buffer.\n",
        "    time_step, _ = collect_driver.run(time_step)\n",
        "\n",
        "    # Sample a batch of data from the buffer and update the agent's network.\n",
        "    experience, unused_info = next(iterator)\n",
        "    train_loss = agent.train(experience).loss\n",
        "\n",
        "    step = agent.train_step_counter.numpy()\n",
        "\n",
        "    if step % log_interval == 0:\n",
        "      print('step = {0}: loss = {1}'.format(step, train_loss))\n",
        "\n",
        "    if step % eval_interval == 0:\n",
        "      avg_return = compute_avg_return(eval_env, agent.policy, num_eval_episodes)\n",
        "      print('step = {0}: Average Return = {1}'.format(step, avg_return))\n",
        "      returns.append(avg_return)"
      ]
    },
    {
      "cell_type": "code",
      "execution_count": null,
      "metadata": {
        "id": "HDMa0xH3rAS6"
      },
      "outputs": [],
      "source": [
        "create_policy_eval_video(agent.policy, \"trained-agent\")"
      ]
    },
    {
      "cell_type": "markdown",
      "metadata": {
        "id": "Fsl0r1fyxpUD"
      },
      "source": []
    },
    {
      "cell_type": "markdown",
      "metadata": {
        "id": "WkOaR2zHrDwC"
      },
      "source": [
        "## TODO\n",
        "\n",
        "\n",
        "\n",
        "*   Check whether the `is_winner` function is correct\n",
        "*   Check whether the environment is correctly implement\n",
        "*   Add the variant in `step` function\n",
        "*   Test whether the agent always chooses an *empty* square and whether they can go to an adjacent place correctly\n",
        "\n"
      ]
    }
  ],
  "metadata": {
    "colab": {
      "provenance": [],
      "authorship_tag": "ABX9TyMAy0tnQEkSJacIsjqLzp+k",
      "include_colab_link": true
    },
    "kernelspec": {
      "display_name": "Python 3",
      "name": "python3"
    },
    "language_info": {
      "name": "python"
    }
  },
  "nbformat": 4,
  "nbformat_minor": 0
}