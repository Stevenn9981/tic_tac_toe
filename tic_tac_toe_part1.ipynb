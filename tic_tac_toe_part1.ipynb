{
  "cells": [
    {
      "cell_type": "markdown",
      "metadata": {
        "id": "view-in-github",
        "colab_type": "text"
      },
      "source": [
        "<a href=\"https://colab.research.google.com/github/Stevenn9981/tic_tac_toe/blob/master/tic_tac_toe_part1.ipynb\" target=\"_parent\"><img src=\"https://colab.research.google.com/assets/colab-badge.svg\" alt=\"Open In Colab\"/></a>"
      ]
    },
    {
      "cell_type": "markdown",
      "metadata": {
        "id": "iEy_PMnnf-Og"
      },
      "source": [
        "## Setup"
      ]
    },
    {
      "cell_type": "code",
      "execution_count": 1,
      "metadata": {
        "colab": {
          "base_uri": "https://localhost:8080/"
        },
        "id": "fdG6QronfqnR",
        "outputId": "e6bdbdfd-4853-48f2-9804-a9ea0ce2678d"
      },
      "outputs": [
        {
          "output_type": "stream",
          "name": "stdout",
          "text": [
            "\r0% [Working]\r            \rHit:1 https://cloud.r-project.org/bin/linux/ubuntu jammy-cran40/ InRelease\n",
            "\r0% [Waiting for headers] [Waiting for headers] [Connected to ppa.launchpadconte\r                                                                               \rHit:2 http://security.ubuntu.com/ubuntu jammy-security InRelease\n",
            "Hit:3 https://developer.download.nvidia.com/compute/cuda/repos/ubuntu2204/x86_64  InRelease\n",
            "Hit:4 https://ppa.launchpadcontent.net/c2d4u.team/c2d4u4.0+/ubuntu jammy InRelease\n",
            "Hit:5 https://ppa.launchpadcontent.net/deadsnakes/ppa/ubuntu jammy InRelease\n",
            "Hit:6 https://ppa.launchpadcontent.net/graphics-drivers/ppa/ubuntu jammy InRelease\n",
            "Hit:7 https://ppa.launchpadcontent.net/ubuntugis/ppa/ubuntu jammy InRelease\n",
            "Hit:8 http://archive.ubuntu.com/ubuntu jammy InRelease\n",
            "Hit:9 http://archive.ubuntu.com/ubuntu jammy-updates InRelease\n",
            "Hit:10 http://archive.ubuntu.com/ubuntu jammy-backports InRelease\n",
            "Reading package lists... Done\n",
            "Reading package lists... Done\n",
            "Building dependency tree... Done\n",
            "Reading state information... Done\n",
            "freeglut3-dev is already the newest version (2.8.1-6).\n",
            "ffmpeg is already the newest version (7:4.4.2-0ubuntu0.22.04.1).\n",
            "xvfb is already the newest version (2:21.1.4-2ubuntu1.7~22.04.2).\n",
            "0 upgraded, 0 newly installed, 0 to remove and 41 not upgraded.\n",
            "Requirement already satisfied: imageio in /usr/local/lib/python3.10/dist-packages (2.31.6)\n",
            "Requirement already satisfied: numpy in /usr/local/lib/python3.10/dist-packages (from imageio) (1.23.5)\n",
            "Requirement already satisfied: pillow<10.1.0,>=8.3.2 in /usr/local/lib/python3.10/dist-packages (from imageio) (9.4.0)\n",
            "Requirement already satisfied: pyvirtualdisplay in /usr/local/lib/python3.10/dist-packages (3.0)\n",
            "Requirement already satisfied: tf-agents[reverb] in /usr/local/lib/python3.10/dist-packages (0.18.0)\n",
            "Requirement already satisfied: absl-py>=0.6.1 in /usr/local/lib/python3.10/dist-packages (from tf-agents[reverb]) (1.4.0)\n",
            "Requirement already satisfied: cloudpickle>=1.3 in /usr/local/lib/python3.10/dist-packages (from tf-agents[reverb]) (2.2.1)\n",
            "Requirement already satisfied: gin-config>=0.4.0 in /usr/local/lib/python3.10/dist-packages (from tf-agents[reverb]) (0.5.0)\n",
            "Requirement already satisfied: gym<=0.23.0,>=0.17.0 in /usr/local/lib/python3.10/dist-packages (from tf-agents[reverb]) (0.23.0)\n",
            "Requirement already satisfied: numpy>=1.19.0 in /usr/local/lib/python3.10/dist-packages (from tf-agents[reverb]) (1.23.5)\n",
            "Requirement already satisfied: pillow in /usr/local/lib/python3.10/dist-packages (from tf-agents[reverb]) (9.4.0)\n",
            "Requirement already satisfied: six>=1.10.0 in /usr/local/lib/python3.10/dist-packages (from tf-agents[reverb]) (1.16.0)\n",
            "Requirement already satisfied: protobuf>=3.11.3 in /usr/local/lib/python3.10/dist-packages (from tf-agents[reverb]) (3.20.3)\n",
            "Requirement already satisfied: wrapt>=1.11.1 in /usr/local/lib/python3.10/dist-packages (from tf-agents[reverb]) (1.14.1)\n",
            "Requirement already satisfied: typing-extensions>=3.7.4.3 in /usr/local/lib/python3.10/dist-packages (from tf-agents[reverb]) (4.5.0)\n",
            "Requirement already satisfied: pygame==2.1.3 in /usr/local/lib/python3.10/dist-packages (from tf-agents[reverb]) (2.1.3)\n",
            "Requirement already satisfied: tensorflow-probability~=0.22.0 in /usr/local/lib/python3.10/dist-packages (from tf-agents[reverb]) (0.22.0)\n",
            "Requirement already satisfied: rlds in /usr/local/lib/python3.10/dist-packages (from tf-agents[reverb]) (0.1.8)\n",
            "Requirement already satisfied: dm-reverb~=0.13.0 in /usr/local/lib/python3.10/dist-packages (from tf-agents[reverb]) (0.13.0)\n",
            "Requirement already satisfied: tensorflow~=2.14.0 in /usr/local/lib/python3.10/dist-packages (from tf-agents[reverb]) (2.14.0)\n",
            "Requirement already satisfied: dm-tree in /usr/local/lib/python3.10/dist-packages (from dm-reverb~=0.13.0->tf-agents[reverb]) (0.1.8)\n",
            "Requirement already satisfied: portpicker in /usr/local/lib/python3.10/dist-packages (from dm-reverb~=0.13.0->tf-agents[reverb]) (1.5.2)\n",
            "Requirement already satisfied: gym-notices>=0.0.4 in /usr/local/lib/python3.10/dist-packages (from gym<=0.23.0,>=0.17.0->tf-agents[reverb]) (0.0.8)\n",
            "Requirement already satisfied: astunparse>=1.6.0 in /usr/local/lib/python3.10/dist-packages (from tensorflow~=2.14.0->tf-agents[reverb]) (1.6.3)\n",
            "Requirement already satisfied: flatbuffers>=23.5.26 in /usr/local/lib/python3.10/dist-packages (from tensorflow~=2.14.0->tf-agents[reverb]) (23.5.26)\n",
            "Requirement already satisfied: gast!=0.5.0,!=0.5.1,!=0.5.2,>=0.2.1 in /usr/local/lib/python3.10/dist-packages (from tensorflow~=2.14.0->tf-agents[reverb]) (0.5.4)\n",
            "Requirement already satisfied: google-pasta>=0.1.1 in /usr/local/lib/python3.10/dist-packages (from tensorflow~=2.14.0->tf-agents[reverb]) (0.2.0)\n",
            "Requirement already satisfied: h5py>=2.9.0 in /usr/local/lib/python3.10/dist-packages (from tensorflow~=2.14.0->tf-agents[reverb]) (3.9.0)\n",
            "Requirement already satisfied: libclang>=13.0.0 in /usr/local/lib/python3.10/dist-packages (from tensorflow~=2.14.0->tf-agents[reverb]) (16.0.6)\n",
            "Requirement already satisfied: ml-dtypes==0.2.0 in /usr/local/lib/python3.10/dist-packages (from tensorflow~=2.14.0->tf-agents[reverb]) (0.2.0)\n",
            "Requirement already satisfied: opt-einsum>=2.3.2 in /usr/local/lib/python3.10/dist-packages (from tensorflow~=2.14.0->tf-agents[reverb]) (3.3.0)\n",
            "Requirement already satisfied: packaging in /usr/local/lib/python3.10/dist-packages (from tensorflow~=2.14.0->tf-agents[reverb]) (23.2)\n",
            "Requirement already satisfied: setuptools in /usr/local/lib/python3.10/dist-packages (from tensorflow~=2.14.0->tf-agents[reverb]) (67.7.2)\n",
            "Requirement already satisfied: termcolor>=1.1.0 in /usr/local/lib/python3.10/dist-packages (from tensorflow~=2.14.0->tf-agents[reverb]) (2.3.0)\n",
            "Requirement already satisfied: tensorflow-io-gcs-filesystem>=0.23.1 in /usr/local/lib/python3.10/dist-packages (from tensorflow~=2.14.0->tf-agents[reverb]) (0.34.0)\n",
            "Requirement already satisfied: grpcio<2.0,>=1.24.3 in /usr/local/lib/python3.10/dist-packages (from tensorflow~=2.14.0->tf-agents[reverb]) (1.59.0)\n",
            "Requirement already satisfied: tensorboard<2.15,>=2.14 in /usr/local/lib/python3.10/dist-packages (from tensorflow~=2.14.0->tf-agents[reverb]) (2.14.1)\n",
            "Requirement already satisfied: tensorflow-estimator<2.15,>=2.14.0 in /usr/local/lib/python3.10/dist-packages (from tensorflow~=2.14.0->tf-agents[reverb]) (2.14.0)\n",
            "Requirement already satisfied: keras<2.15,>=2.14.0 in /usr/local/lib/python3.10/dist-packages (from tensorflow~=2.14.0->tf-agents[reverb]) (2.14.0)\n",
            "Requirement already satisfied: decorator in /usr/local/lib/python3.10/dist-packages (from tensorflow-probability~=0.22.0->tf-agents[reverb]) (4.4.2)\n",
            "Requirement already satisfied: wheel<1.0,>=0.23.0 in /usr/local/lib/python3.10/dist-packages (from astunparse>=1.6.0->tensorflow~=2.14.0->tf-agents[reverb]) (0.41.2)\n",
            "Requirement already satisfied: google-auth<3,>=1.6.3 in /usr/local/lib/python3.10/dist-packages (from tensorboard<2.15,>=2.14->tensorflow~=2.14.0->tf-agents[reverb]) (2.17.3)\n",
            "Requirement already satisfied: google-auth-oauthlib<1.1,>=0.5 in /usr/local/lib/python3.10/dist-packages (from tensorboard<2.15,>=2.14->tensorflow~=2.14.0->tf-agents[reverb]) (1.0.0)\n",
            "Requirement already satisfied: markdown>=2.6.8 in /usr/local/lib/python3.10/dist-packages (from tensorboard<2.15,>=2.14->tensorflow~=2.14.0->tf-agents[reverb]) (3.5)\n",
            "Requirement already satisfied: requests<3,>=2.21.0 in /usr/local/lib/python3.10/dist-packages (from tensorboard<2.15,>=2.14->tensorflow~=2.14.0->tf-agents[reverb]) (2.31.0)\n",
            "Requirement already satisfied: tensorboard-data-server<0.8.0,>=0.7.0 in /usr/local/lib/python3.10/dist-packages (from tensorboard<2.15,>=2.14->tensorflow~=2.14.0->tf-agents[reverb]) (0.7.2)\n",
            "Requirement already satisfied: werkzeug>=1.0.1 in /usr/local/lib/python3.10/dist-packages (from tensorboard<2.15,>=2.14->tensorflow~=2.14.0->tf-agents[reverb]) (3.0.1)\n",
            "Requirement already satisfied: psutil in /usr/local/lib/python3.10/dist-packages (from portpicker->dm-reverb~=0.13.0->tf-agents[reverb]) (5.9.5)\n",
            "Requirement already satisfied: cachetools<6.0,>=2.0.0 in /usr/local/lib/python3.10/dist-packages (from google-auth<3,>=1.6.3->tensorboard<2.15,>=2.14->tensorflow~=2.14.0->tf-agents[reverb]) (5.3.2)\n",
            "Requirement already satisfied: pyasn1-modules>=0.2.1 in /usr/local/lib/python3.10/dist-packages (from google-auth<3,>=1.6.3->tensorboard<2.15,>=2.14->tensorflow~=2.14.0->tf-agents[reverb]) (0.3.0)\n",
            "Requirement already satisfied: rsa<5,>=3.1.4 in /usr/local/lib/python3.10/dist-packages (from google-auth<3,>=1.6.3->tensorboard<2.15,>=2.14->tensorflow~=2.14.0->tf-agents[reverb]) (4.9)\n",
            "Requirement already satisfied: requests-oauthlib>=0.7.0 in /usr/local/lib/python3.10/dist-packages (from google-auth-oauthlib<1.1,>=0.5->tensorboard<2.15,>=2.14->tensorflow~=2.14.0->tf-agents[reverb]) (1.3.1)\n",
            "Requirement already satisfied: charset-normalizer<4,>=2 in /usr/local/lib/python3.10/dist-packages (from requests<3,>=2.21.0->tensorboard<2.15,>=2.14->tensorflow~=2.14.0->tf-agents[reverb]) (3.3.1)\n",
            "Requirement already satisfied: idna<4,>=2.5 in /usr/local/lib/python3.10/dist-packages (from requests<3,>=2.21.0->tensorboard<2.15,>=2.14->tensorflow~=2.14.0->tf-agents[reverb]) (3.4)\n",
            "Requirement already satisfied: urllib3<3,>=1.21.1 in /usr/local/lib/python3.10/dist-packages (from requests<3,>=2.21.0->tensorboard<2.15,>=2.14->tensorflow~=2.14.0->tf-agents[reverb]) (2.0.7)\n",
            "Requirement already satisfied: certifi>=2017.4.17 in /usr/local/lib/python3.10/dist-packages (from requests<3,>=2.21.0->tensorboard<2.15,>=2.14->tensorflow~=2.14.0->tf-agents[reverb]) (2023.7.22)\n",
            "Requirement already satisfied: MarkupSafe>=2.1.1 in /usr/local/lib/python3.10/dist-packages (from werkzeug>=1.0.1->tensorboard<2.15,>=2.14->tensorflow~=2.14.0->tf-agents[reverb]) (2.1.3)\n",
            "Requirement already satisfied: pyasn1<0.6.0,>=0.4.6 in /usr/local/lib/python3.10/dist-packages (from pyasn1-modules>=0.2.1->google-auth<3,>=1.6.3->tensorboard<2.15,>=2.14->tensorflow~=2.14.0->tf-agents[reverb]) (0.5.0)\n",
            "Requirement already satisfied: oauthlib>=3.0.0 in /usr/local/lib/python3.10/dist-packages (from requests-oauthlib>=0.7.0->google-auth-oauthlib<1.1,>=0.5->tensorboard<2.15,>=2.14->tensorflow~=2.14.0->tf-agents[reverb]) (3.2.2)\n",
            "Requirement already satisfied: pyglet in /usr/local/lib/python3.10/dist-packages (2.0.9)\n"
          ]
        }
      ],
      "source": [
        "!sudo apt-get update\n",
        "!sudo apt-get install -y xvfb ffmpeg freeglut3-dev\n",
        "!pip install imageio\n",
        "!pip install pyvirtualdisplay\n",
        "!pip install tf-agents[reverb]\n",
        "!pip install pyglet"
      ]
    },
    {
      "cell_type": "code",
      "execution_count": 2,
      "metadata": {
        "colab": {
          "base_uri": "https://localhost:8080/"
        },
        "id": "h-vtSiPUgOOU",
        "outputId": "480019b0-70ca-4aa1-cf6c-16997574f513"
      },
      "outputs": [
        {
          "output_type": "stream",
          "name": "stdout",
          "text": [
            "pygame 2.1.3 (SDL 2.0.22, Python 3.10.12)\n",
            "Hello from the pygame community. https://www.pygame.org/contribute.html\n"
          ]
        }
      ],
      "source": [
        "import base64\n",
        "import imageio\n",
        "import IPython\n",
        "import matplotlib\n",
        "import matplotlib.pyplot as plt\n",
        "import numpy as np\n",
        "import PIL.Image\n",
        "import pyvirtualdisplay\n",
        "import reverb\n",
        "import random\n",
        "import os\n",
        "import shutil\n",
        "import tempfile\n",
        "import zipfile\n",
        "\n",
        "import pygame as pg\n",
        "from pygame import gfxdraw\n",
        "from pygame.locals import *\n",
        "\n",
        "import tensorflow as tf\n",
        "\n",
        "from tf_agents.agents.categorical_dqn import categorical_dqn_agent\n",
        "from tf_agents.agents.dqn import dqn_agent\n",
        "from tf_agents.drivers import py_driver\n",
        "from tf_agents.drivers import dynamic_step_driver\n",
        "from tf_agents.environments import suite_gym\n",
        "from tf_agents.environments import py_environment\n",
        "from tf_agents.environments import tf_environment\n",
        "from tf_agents.environments import tf_py_environment\n",
        "from tf_agents.eval import metric_utils\n",
        "from tf_agents.metrics import tf_metrics\n",
        "from tf_agents.networks import sequential\n",
        "from tf_agents.networks import q_network\n",
        "from tf_agents.networks import categorical_q_network\n",
        "from tf_agents.policies import policy_saver\n",
        "from tf_agents.policies import py_tf_eager_policy\n",
        "from tf_agents.policies import random_tf_policy\n",
        "from tf_agents.policies import random_py_policy\n",
        "from tf_agents.replay_buffers import tf_uniform_replay_buffer\n",
        "from tf_agents.replay_buffers import reverb_replay_buffer\n",
        "from tf_agents.replay_buffers import reverb_utils\n",
        "from tf_agents.trajectories import trajectory\n",
        "from tf_agents.specs import tensor_spec\n",
        "from tf_agents.specs import array_spec\n",
        "from tf_agents.utils import common\n",
        "from tf_agents.trajectories import time_step as ts\n",
        "\n",
        "tempdir = \"./\""
      ]
    },
    {
      "cell_type": "code",
      "execution_count": 3,
      "metadata": {
        "colab": {
          "base_uri": "https://localhost:8080/",
          "height": 35
        },
        "id": "MsV4e7iqg10s",
        "outputId": "859bf9e6-b0d0-4803-95c9-dde328284e65"
      },
      "outputs": [
        {
          "output_type": "execute_result",
          "data": {
            "text/plain": [
              "'2.14.0'"
            ],
            "application/vnd.google.colaboratory.intrinsic+json": {
              "type": "string"
            }
          },
          "metadata": {},
          "execution_count": 3
        }
      ],
      "source": [
        "tf.version.VERSION"
      ]
    },
    {
      "cell_type": "markdown",
      "metadata": {
        "id": "sWwU8Wp7g2_X"
      },
      "source": [
        "## Hyper-parameters"
      ]
    },
    {
      "cell_type": "code",
      "execution_count": 4,
      "metadata": {
        "id": "reKJx_ybg7_L"
      },
      "outputs": [],
      "source": [
        "num_iterations = 3000 # @param {type:\"integer\"}\n",
        "\n",
        "initial_collect_steps = 100  # @param {type:\"integer\"}\n",
        "initial_collect_episodes = 5  # @param {type:\"integer\"}\n",
        "collect_steps_per_iteration = 1 # @param {type:\"integer\"}\n",
        "collect_episodes_per_iteration = 1 # @param {type:\"integer\"}\n",
        "replay_buffer_max_length = 100000  # @param {type:\"integer\"}\n",
        "\n",
        "batch_size = 64  # @param {type:\"integer\"}\n",
        "learning_rate = 1e-3  # @param {type:\"number\"}\n",
        "log_interval = 10  # @param {type:\"integer\"}\n",
        "\n",
        "num_eval_episodes = 10  # @param {type:\"integer\"}\n",
        "eval_interval = 30  # @param {type:\"integer\"}\n",
        "\n",
        "gamma = 0.99    # @param {type:\"number\"}\n",
        "n_step_update = 2  # @param {type:\"integer\"}\n",
        "num_atoms = 51  # @param {type:\"integer\"}\n",
        "min_q_value = -20  # @param {type:\"integer\"}\n",
        "max_q_value = 20  # @param {type:\"integer\"}\n",
        "fc_layer_params = (100,)\n",
        "\n",
        "BOARD_SIZE = 9 # @param {type:\"integer\"}\n",
        "\n",
        "REWARD_WIN = 3    # @param {type:\"number\"}\n",
        "REWARD_LOSE = -3    # @param {type:\"number\"}\n",
        "REWARD_DRAW = 1    # @param {type:\"number\"}"
      ]
    },
    {
      "cell_type": "markdown",
      "metadata": {
        "id": "WOBVDKmMIcyJ"
      },
      "source": [
        "## Environment"
      ]
    },
    {
      "cell_type": "code",
      "execution_count": 5,
      "metadata": {
        "id": "aq7Q2oxyIhS8"
      },
      "outputs": [],
      "source": [
        "import gym\n",
        "import numpy as np\n",
        "import math\n",
        "from tabulate import tabulate\n",
        "\n",
        "from typing import Tuple, List\n",
        "\n",
        "\n",
        "class TicTacToeEnv1(py_environment.PyEnvironment):\n",
        "    \"\"\"\n",
        "    Implementation of a TicTacToe Environment based on OpenAI Gym standards\n",
        "    This class is modified from https://github.com/MauroLuzzatto/OpenAI-Gym-TicTacToe-Environment\n",
        "    I modified that to follow the instructions of Question 1.\n",
        "    \"\"\"\n",
        "\n",
        "    def __init__(self, mode='rgb_array') -> None:\n",
        "        \"\"\"This class contains a TicTacToe environment for OpenAI Gym\n",
        "\n",
        "        Args:\n",
        "            mode (str): render mode: human or rgb_array, which returns a text or RGB array of a picture that shows the current board\n",
        "        \"\"\"\n",
        "        self.n_actions = BOARD_SIZE * BOARD_SIZE         # 9 * 9 grids to drop\n",
        "        # state: 9 * 9 * 2: the first 9 * 9 layer is the opponent's play history and the second 9 * 9 layer is own.\n",
        "        self._observation_spec = {'state': array_spec.BoundedArraySpec(shape=(BOARD_SIZE, BOARD_SIZE, 2), dtype=np.int_, minimum=0, maximum=1),\n",
        "                                  'legal_moves': array_spec.ArraySpec(shape=(self.n_actions,), dtype=np.bool_)}\n",
        "\n",
        "        self._action_spec = array_spec.BoundedArraySpec(shape=(), dtype=np.int_, minimum=0, maximum=80)\n",
        "        self.render_mode = mode\n",
        "        self.colors = [1, 2]\n",
        "        self.screen = None\n",
        "        self.fields_per_side = BOARD_SIZE\n",
        "        self.reset()\n",
        "\n",
        "    def observation_spec(self):\n",
        "        return self._observation_spec\n",
        "\n",
        "    def action_spec(self):\n",
        "        return self._action_spec\n",
        "\n",
        "    def _reset(self) -> Tuple[np.ndarray, dict]:\n",
        "        \"\"\"\n",
        "        reset the board game and state\n",
        "        \"\"\"\n",
        "        self.board: np.ndarray = np.zeros(\n",
        "            (self.fields_per_side, self.fields_per_side), dtype=int\n",
        "        )\n",
        "        self.current_player = 1\n",
        "        self.info = {\"players\": {1: {\"actions\": []}, 2: {\"actions\": []}}, \"Occupied\": set(), \"legal_moves\": np.ones((self.n_actions,), dtype=bool)}\n",
        "\n",
        "        # return self.decompose_board_to_state()\n",
        "        observations_and_legal_moves = {'state': self.decompose_board_to_state(), 'legal_moves': self.info[\"legal_moves\"]}\n",
        "        return ts.restart(observations_and_legal_moves)\n",
        "\n",
        "    def decompose_board_to_state(self):\n",
        "        \"\"\"\n",
        "        Our state is a 9x9x2 matrix.\n",
        "        The first layer is the opponent's play history, 0 means no stone, 1 means stones placed by the opponent.\n",
        "        The second layer is the current player's history, 0 means no stone, 1 means stones placed by the current player.\n",
        "        \"\"\"\n",
        "        opponent = 2 if self.current_player == 1 else 1\n",
        "        o_plays = (self.board == opponent) * 1\n",
        "        c_plays = (self.board == self.current_player) * 1\n",
        "        return np.stack([o_plays, c_plays], axis=2)\n",
        "\n",
        "\n",
        "    def _step(self, action: int) -> Tuple[np.ndarray, int, bool, dict]:\n",
        "        \"\"\"step function of the tictactoeEnv1\n",
        "\n",
        "        Args:\n",
        "          action (int): integer between [0, 80], each representing a field on the board\n",
        "\n",
        "        Returns:\n",
        "          state (np.array): state of 2 players' history, 0 means no stone, 1 means stones placed by the corresponding player (shape: 9x9x2).\n",
        "          reward (int): reward of the currrent step\n",
        "          done (boolean): true, if the game is finished\n",
        "          (dict): empty dict for future game related information\n",
        "        \"\"\"\n",
        "        action = int(action)\n",
        "        if not (0 <= action < self.n_actions):\n",
        "            raise ValueError(f\"action '{action}' is not in action_space\")\n",
        "\n",
        "        reward = 0\n",
        "        (row, col) = self.decode_action(action)\n",
        "\n",
        "        # If the agent/player does not choose an empty square, randomly select an empty one.\n",
        "        if self.board[row, col] != 0:\n",
        "            if len(self.info[\"Occupied\"]) == BOARD_SIZE * BOARD_SIZE:\n",
        "                print('BOARD IS FULL!')\n",
        "            raise ValueError('ERROR: Not A LEGAL MOVE (NOT EMPTY)')\n",
        "            # action = random.choice(list(set(range(BOARD_SIZE * BOARD_SIZE)) - self.info[\"Occupied\"]))\n",
        "            # (row, col) = self.decode_action(action)\n",
        "            # reward -= 5 # assign a negative reward if the play-out position is not empty\n",
        "\n",
        "\n",
        "        # randomly select an adjacent position with probability 1/16\n",
        "        if random.random() < 0.5:\n",
        "            adjs = [[-1, -1], [-1, 0], [-1, 1], [0, 1], [0, -1], [1, -1], [1, 0], [1, 1]]\n",
        "            adj = random.choice(adjs)\n",
        "            row, col = row + adj[0], col + adj[1]\n",
        "\n",
        "        if 0 <= row < BOARD_SIZE and 0 <= col < BOARD_SIZE and self.board[row, col] == 0:\n",
        "            self.board[row, col] = self.current_player  # drop the piece on the field\n",
        "            win = self._is_win(self.current_player, row, col)\n",
        "\n",
        "            action = row * BOARD_SIZE + col\n",
        "            self.info[\"players\"][self.current_player][\"actions\"].append(action)\n",
        "            self.info[\"Occupied\"].add(action)\n",
        "            self.info['legal_moves'][action] = False\n",
        "        else:\n",
        "            win = False\n",
        "\n",
        "        if win:\n",
        "            reward = REWARD_WIN\n",
        "        elif len(self.info[\"Occupied\"]) == BOARD_SIZE * BOARD_SIZE: # Draw\n",
        "            reward = REWARD_DRAW\n",
        "\n",
        "        done = (win or len(self.info[\"Occupied\"]) == BOARD_SIZE * BOARD_SIZE)\n",
        "        self.current_player = self.current_player + 1 if self.current_player == 1 else 1\n",
        "        state = self.decompose_board_to_state()\n",
        "\n",
        "        observations_and_legal_moves = {'state': state, 'legal_moves': self.info['legal_moves']}\n",
        "        # return next_s, reward, done, self.info\n",
        "        if done:\n",
        "            return ts.termination(observations_and_legal_moves, reward)\n",
        "        else:\n",
        "            return ts.transition(observations_and_legal_moves, reward)\n",
        "\n",
        "    def _is_win(self, color: int, r: int, c: int) -> bool:\n",
        "        \"\"\"check if this player results in a winner\n",
        "\n",
        "        Args:\n",
        "            color (int): of the player\n",
        "            r (int): row of the current play\n",
        "            c (int): column of the current play\n",
        "\n",
        "        Returns:\n",
        "            bool: indicating if there is a winner\n",
        "        \"\"\"\n",
        "\n",
        "        # check if four equal stones are aligned (horizontal, verical or diagonal)\n",
        "        directions = [[0, 1], [1, 0], [1, 1], [1, -1]]\n",
        "\n",
        "        for direct in directions:\n",
        "            count = 0\n",
        "            for offset in range(-3, 4):\n",
        "                if 0 <= r + offset * direct[0] < 9 and 0 <= c + offset * direct[1] < 9:\n",
        "                    if self.board[r + offset * direct[0], c + offset * direct[1]] == color:\n",
        "                        count += 1\n",
        "                        if count == 4:\n",
        "                            return True\n",
        "                    else:\n",
        "                        count = 0\n",
        "\n",
        "        return False\n",
        "\n",
        "    def decode_action(self, action: int) -> List[int]:\n",
        "        \"\"\"decode the action integer into a colum and row value\n",
        "\n",
        "        0 = upper left corner\n",
        "        8 = lower right corner\n",
        "\n",
        "        Args:\n",
        "            action (int): action\n",
        "\n",
        "        Returns:\n",
        "            List[int, int]: a list with the [row, col] values\n",
        "        \"\"\"\n",
        "        col = action % BOARD_SIZE\n",
        "        row = action // BOARD_SIZE\n",
        "        assert 0 <= col < BOARD_SIZE\n",
        "        return [row, col]\n",
        "\n",
        "    def render(self) -> None:\n",
        "        \"\"\"render the board\n",
        "\n",
        "        The following charachters are used to represent the fields,\n",
        "            '-' no stone\n",
        "            'O' for player 0\n",
        "            'X' for player 1\n",
        "\n",
        "        An example for a 3x3 game board:\n",
        "            ╒═══╤═══╤═══╕\n",
        "            │ O │ - │ - │\n",
        "            ├───┼───┼───┤\n",
        "            │ - │ X │ - │\n",
        "            ├───┼───┼───┤\n",
        "            │ - │ - │ - │\n",
        "            ╘═══╧═══╧═══╛\n",
        "        \"\"\"\n",
        "        board = np.zeros((BOARD_SIZE, BOARD_SIZE), dtype=str)\n",
        "        for ii in range(BOARD_SIZE):\n",
        "            for jj in range(BOARD_SIZE):\n",
        "                if self.board[ii, jj] == 0:\n",
        "                    board[ii, jj] = \"-\"\n",
        "                elif self.board[ii, jj] == 1:\n",
        "                    board[ii, jj] = \"X\"\n",
        "                elif self.board[ii, jj] == 2:\n",
        "                    board[ii, jj] = \"O\"\n",
        "\n",
        "        if self.render_mode == \"human\":\n",
        "            board = tabulate(board, tablefmt=\"fancy_grid\")\n",
        "            print(board)\n",
        "            print(\"\\n\")\n",
        "\n",
        "\n",
        "        width = height = 400\n",
        "\n",
        "        white = (255, 255, 255)\n",
        "        line_color = (0, 0, 0)\n",
        "\n",
        "        os.environ[\"SDL_VIDEODRIVER\"] = \"dummy\"\n",
        "        pg.init()\n",
        "\n",
        "        # Set up the drawing window\n",
        "        if self.screen is None:\n",
        "          self.screen = pg.display.set_mode([width + 16, height + 16])\n",
        "\n",
        "        self.screen.fill(white)\n",
        "        # drawing vertical lines\n",
        "        for i in range(10):\n",
        "          pg.draw.line(self.screen, line_color, (width / BOARD_SIZE * i, 0), (width / BOARD_SIZE * i, height), 2)\n",
        "\n",
        "        # drawing horizontal lines\n",
        "        for i in range(10):\n",
        "          pg.draw.line(self.screen, line_color, (0, height / BOARD_SIZE * i), (width, height / BOARD_SIZE * i), 2)\n",
        "        pg.display.flip()\n",
        "\n",
        "        # drawing noughts and crosses\n",
        "        for i in range(BOARD_SIZE):\n",
        "          for j in range(BOARD_SIZE):\n",
        "            if self.board[i, j] == 1: # Draw crosses\n",
        "              pg.draw.lines(self.screen, line_color, True, [(width / BOARD_SIZE * (j + 0.5) - 10,\n",
        "                                                        height / BOARD_SIZE * (i + 0.5) - 10),\n",
        "                                                      (width / BOARD_SIZE * (j + 0.5) + 10,\n",
        "                                                        height / BOARD_SIZE * (i + 0.5) + 10)], 3)\n",
        "              pg.draw.lines(self.screen, line_color, True, [(width / BOARD_SIZE * (j + 0.5) - 10,\n",
        "                                                        height / BOARD_SIZE * (i + 0.5) + 10),\n",
        "                                                        (width / BOARD_SIZE * (j + 0.5) + 10,\n",
        "                                                          height / BOARD_SIZE * (i + 0.5) - 10)], 3)\n",
        "            elif self.board[i, j] == 2: # Draw noughts\n",
        "              pg.draw.circle(self.screen, line_color, (width / BOARD_SIZE * (j + 0.5), height / BOARD_SIZE * (i + 0.5)), 12, 3)\n",
        "\n",
        "        board = np.transpose(\n",
        "                np.array(pg.surfarray.pixels3d(self.screen)), axes=(1, 0, 2)\n",
        "            )\n",
        "\n",
        "        return board"
      ]
    },
    {
      "cell_type": "code",
      "execution_count": 6,
      "metadata": {
        "id": "Yhocpw-j36C0"
      },
      "outputs": [],
      "source": [
        "def observation_and_action_constraint_splitter(obs):\n",
        "    return obs['state'], obs['legal_moves']"
      ]
    },
    {
      "cell_type": "markdown",
      "metadata": {
        "id": "LqFsRLWJslkf"
      },
      "source": [
        "## Random play test"
      ]
    },
    {
      "cell_type": "code",
      "execution_count": 7,
      "metadata": {
        "id": "uU1h9wSWa7Lh"
      },
      "outputs": [],
      "source": [
        "# py_env = suite_gym.wrap_env(TicTacToeEnv1())\n",
        "py_env = TicTacToeEnv1()\n",
        "tf_env = tf_py_environment.TFPyEnvironment(py_env)"
      ]
    },
    {
      "cell_type": "code",
      "execution_count": 8,
      "metadata": {
        "id": "qJYsgWM-79vr"
      },
      "outputs": [],
      "source": [
        "def embed_mp4(filename):\n",
        "    \"\"\"Embeds an mp4 file in the notebook.\"\"\"\n",
        "    video = open(filename,'rb').read()\n",
        "    b64 = base64.b64encode(video)\n",
        "    tag = '''\n",
        "    <video width=\"480\" height=\"480\" controls>\n",
        "      <source src=\"data:video/mp4;base64,{0}\" type=\"video/mp4\">\n",
        "    Your browser does not support the video tag.\n",
        "    </video>'''.format(b64.decode())\n",
        "\n",
        "    return IPython.display.HTML(tag)\n",
        "\n",
        "def create_policy_eval_video(policy, filename, fps=2):\n",
        "    py_env = TicTacToeEnv1()\n",
        "    tf_env = tf_py_environment.TFPyEnvironment(py_env)\n",
        "    filename = filename + \".mp4\"\n",
        "    with imageio.get_writer(filename, fps=fps) as video:\n",
        "      time_step = tf_env.reset()\n",
        "      video.append_data(py_env.render())\n",
        "      while not time_step.is_last():\n",
        "        action_step = policy.action(time_step)\n",
        "        time_step = tf_env.step(action_step.action)\n",
        "        video.append_data(py_env.render())\n",
        "\n",
        "    return embed_mp4(filename)"
      ]
    },
    {
      "cell_type": "code",
      "execution_count": 9,
      "metadata": {
        "colab": {
          "base_uri": "https://localhost:8080/",
          "height": 501
        },
        "id": "yNw07pahBY78",
        "outputId": "ac1c48de-a4af-40e2-c04c-2f9913053d5a"
      },
      "outputs": [
        {
          "output_type": "execute_result",
          "data": {
            "text/plain": [
              "<IPython.core.display.HTML object>"
            ],
            "text/html": [
              "\n",
              "    <video width=\"480\" height=\"480\" controls>\n",
              "      <source src=\"data:video/mp4;base64,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\" type=\"video/mp4\">\n",
              "    Your browser does not support the video tag.\n",
              "    </video>"
            ]
          },
          "metadata": {},
          "execution_count": 9
        }
      ],
      "source": [
        "random_policy = random_tf_policy.RandomTFPolicy(tf_env.time_step_spec(), tf_env.action_spec(),\n",
        "    observation_and_action_constraint_splitter=observation_and_action_constraint_splitter)\n",
        "create_policy_eval_video(random_policy, \"random-agent\")"
      ]
    },
    {
      "cell_type": "markdown",
      "metadata": {
        "id": "GPHWdRyT-ND0"
      },
      "source": [
        "## Agent"
      ]
    },
    {
      "cell_type": "code",
      "execution_count": 10,
      "metadata": {
        "id": "MnqVY5icuPi4"
      },
      "outputs": [],
      "source": [
        "train_py_env = TicTacToeEnv1()\n",
        "eval_py_env = TicTacToeEnv1()\n",
        "\n",
        "train_env = tf_py_environment.TFPyEnvironment(train_py_env)\n",
        "eval_env = tf_py_environment.TFPyEnvironment(eval_py_env)"
      ]
    },
    {
      "cell_type": "code",
      "execution_count": 11,
      "metadata": {
        "colab": {
          "base_uri": "https://localhost:8080/"
        },
        "id": "pZmdt4QB8h00",
        "outputId": "e9ed6a23-f045-4b55-b261-8f27370dfb11"
      },
      "outputs": [
        {
          "output_type": "execute_result",
          "data": {
            "text/plain": [
              "TimeStep(\n",
              "{'discount': BoundedTensorSpec(shape=(), dtype=tf.float32, name='discount', minimum=array(0., dtype=float32), maximum=array(1., dtype=float32)),\n",
              " 'observation': {'legal_moves': TensorSpec(shape=(81,), dtype=tf.bool, name=None),\n",
              "                 'state': BoundedTensorSpec(shape=(9, 9, 2), dtype=tf.int64, name=None, minimum=array(0), maximum=array(1))},\n",
              " 'reward': TensorSpec(shape=(), dtype=tf.float32, name='reward'),\n",
              " 'step_type': TensorSpec(shape=(), dtype=tf.int32, name='step_type')})"
            ]
          },
          "metadata": {},
          "execution_count": 11
        }
      ],
      "source": [
        "train_env.time_step_spec()"
      ]
    },
    {
      "cell_type": "code",
      "execution_count": 12,
      "metadata": {
        "id": "TgkdEPg_muzV"
      },
      "outputs": [],
      "source": [
        "conv_layer_params = [16, 32]\n",
        "action_tensor_spec = tensor_spec.from_spec(tf_env.action_spec())\n",
        "num_actions = action_tensor_spec.maximum - action_tensor_spec.minimum + 1\n",
        "\n",
        "# Define a helper function to create Conv layers configured with the right\n",
        "# activation and kernel initializer.\n",
        "def conv_layer(num_units):\n",
        "  return tf.keras.layers.Conv2D(\n",
        "                      filters=num_units,\n",
        "                      kernel_size=[3, 3],\n",
        "                      padding=\"same\",\n",
        "                      data_format=\"channels_last\",\n",
        "                      activation=tf.nn.leaky_relu,\n",
        "                      dtype=float)\n",
        "\n",
        "\n",
        "# QNetwork consists of a sequence of Conv layers followed by a dense layer\n",
        "# with `num_actions` units to generate one q_value per available action as\n",
        "# its output.\n",
        "normalization1 = tf.keras.layers.BatchNormalization()\n",
        "normalization2 = tf.keras.layers.BatchNormalization()\n",
        "conv_layers = [conv_layer(num_units) for num_units in conv_layer_params]\n",
        "action_conv = tf.keras.layers.Conv2D(filters=4,\n",
        "                    kernel_size=[1, 1], padding=\"same\",\n",
        "                    data_format=\"channels_last\",\n",
        "                    activation=tf.nn.leaky_relu)\n",
        "flatten = tf.keras.layers.Flatten()\n",
        "q_values_layer = tf.keras.layers.Dense(\n",
        "    num_actions,\n",
        "    activation=None,\n",
        "    kernel_initializer=tf.keras.initializers.RandomUniform(\n",
        "        minval=-0.03, maxval=0.03),\n",
        "    bias_initializer=tf.keras.initializers.Constant(-0.2))\n",
        "q_net = sequential.Sequential([normalization1] + conv_layers + [action_conv, normalization2, flatten, q_values_layer])\n"
      ]
    },
    {
      "cell_type": "code",
      "execution_count": 13,
      "metadata": {
        "id": "BeZ-5rpD-58G"
      },
      "outputs": [],
      "source": [
        "class ConvNestedLayer(tf.keras.layers.Layer):\n",
        "    def __init__(self, *args, **kwds):\n",
        "        super().__init__(*args, **kwds)\n",
        "        self.conv1 = tf.keras.layers.Conv2D(\n",
        "                      filters=32,\n",
        "                      kernel_size=[3, 3],\n",
        "                      padding=\"same\",\n",
        "                      data_format=\"channels_last\",\n",
        "                      activation=tf.nn.leaky_relu,\n",
        "                      dtype=float)\n",
        "        self.conv2 = tf.keras.layers.Conv2D(\n",
        "                      filters=64,\n",
        "                      kernel_size=[3, 3],\n",
        "                      padding=\"same\",\n",
        "                      data_format=\"channels_last\",\n",
        "                      activation=tf.nn.leaky_relu,\n",
        "                      dtype=float)\n",
        "        self.norm1 = tf.keras.layers.BatchNormalization()\n",
        "        self.norm2 = tf.keras.layers.BatchNormalization()\n",
        "        self.flatten = tf.keras.layers.Flatten()\n",
        "\n",
        "    def call(self, x):\n",
        "        x = self.norm1(x)\n",
        "        x = self.conv1(x)\n",
        "        x = self.norm2(x)\n",
        "        x = self.conv2(x)\n",
        "        x = self.flatten(x)\n",
        "        return x"
      ]
    },
    {
      "cell_type": "code",
      "execution_count": 14,
      "metadata": {
        "id": "NtrMeYVG4Jpr"
      },
      "outputs": [],
      "source": [
        "categorical_q_net = categorical_q_network.CategoricalQNetwork(\n",
        "    train_env.observation_spec()['state'],\n",
        "    train_env.action_spec(),\n",
        "    num_atoms=num_atoms,\n",
        "    preprocessing_layers = ConvNestedLayer(),\n",
        "    fc_layer_params=fc_layer_params)"
      ]
    },
    {
      "cell_type": "code",
      "execution_count": 15,
      "metadata": {
        "id": "lg5emNEam75J"
      },
      "outputs": [],
      "source": [
        "optimizer = tf.keras.optimizers.Adam(learning_rate=learning_rate)\n",
        "\n",
        "# agent = dqn_agent.DqnAgent(\n",
        "#     train_env.time_step_spec(),\n",
        "#     train_env.action_spec(),\n",
        "#     q_network=q_net,\n",
        "#     optimizer=optimizer,\n",
        "#     td_errors_loss_fn=common.element_wise_squared_loss,\n",
        "#     train_step_counter=train_step_counter)\n",
        "\n",
        "\n",
        "agent1 = categorical_dqn_agent.CategoricalDqnAgent(\n",
        "    train_env.time_step_spec(),\n",
        "    train_env.action_spec(),\n",
        "    categorical_q_network=categorical_q_net,\n",
        "    observation_and_action_constraint_splitter=observation_and_action_constraint_splitter,\n",
        "    optimizer=optimizer,\n",
        "    min_q_value=min_q_value,\n",
        "    max_q_value=max_q_value,\n",
        "    n_step_update=n_step_update,\n",
        "    td_errors_loss_fn=common.element_wise_squared_loss,\n",
        "    gamma=gamma,\n",
        "    train_step_counter=tf.Variable(0))\n",
        "\n",
        "agent2 = categorical_dqn_agent.CategoricalDqnAgent(\n",
        "    train_env.time_step_spec(),\n",
        "    train_env.action_spec(),\n",
        "    categorical_q_network=categorical_q_net,\n",
        "    observation_and_action_constraint_splitter=observation_and_action_constraint_splitter,\n",
        "    optimizer=optimizer,\n",
        "    min_q_value=min_q_value,\n",
        "    max_q_value=max_q_value,\n",
        "    n_step_update=n_step_update,\n",
        "    td_errors_loss_fn=common.element_wise_squared_loss,\n",
        "    gamma=gamma,\n",
        "    train_step_counter=tf.Variable(0))\n",
        "\n",
        "agent1.initialize()\n",
        "agent2.initialize()"
      ]
    },
    {
      "cell_type": "markdown",
      "metadata": {
        "id": "QaVnWWX4xpa5"
      },
      "source": [
        "## Policy"
      ]
    },
    {
      "cell_type": "code",
      "execution_count": 16,
      "metadata": {
        "id": "uGU0pGS4xsjc"
      },
      "outputs": [],
      "source": [
        "random_policy = random_tf_policy.RandomTFPolicy(train_env.time_step_spec(), train_env.action_spec(),\n",
        "    observation_and_action_constraint_splitter=observation_and_action_constraint_splitter)"
      ]
    },
    {
      "cell_type": "code",
      "execution_count": 17,
      "metadata": {
        "id": "N8vRFWNgx-tj"
      },
      "outputs": [],
      "source": [
        "def compute_avg_return(environment, policy, num_episodes=10):\n",
        "\n",
        "  total_return = 0.0\n",
        "  for _ in range(num_episodes):\n",
        "    time_step = environment.reset()\n",
        "    episode_return = 0.0\n",
        "    while not time_step.is_last():\n",
        "      action_step = policy.action(time_step)\n",
        "      time_step = environment.step(action_step.action)\n",
        "      episode_return += time_step.reward\n",
        "    total_return += episode_return\n",
        "\n",
        "  avg_return = total_return / num_episodes\n",
        "  return avg_return.numpy()[0]\n",
        "\n",
        "\n",
        "def compute_avg_return_battle(environment, policy1, policy2, num_episodes=10):\n",
        "\n",
        "  total_return_1 = 0.0\n",
        "  total_return_2 = 0.0\n",
        "  for _ in range(num_episodes):\n",
        "    time_step = environment.reset()\n",
        "    episode_return_1 = 0.0\n",
        "    episode_return_2 = 0.0\n",
        "    while not time_step.is_last():\n",
        "      action_step = policy1.action(time_step)\n",
        "      time_step = environment.step(action_step.action)\n",
        "      episode_return_1 += time_step.reward\n",
        "      if not time_step.is_last():\n",
        "        action_step = policy2.action(time_step)\n",
        "        time_step = environment.step(action_step.action)\n",
        "        episode_return_2 += time_step.reward\n",
        "    total_return_1 += episode_return_1\n",
        "    total_return_2 += episode_return_2\n",
        "\n",
        "  avg_return_1 = total_return_1 / num_episodes\n",
        "  avg_return_2 = total_return_2 / num_episodes\n",
        "  return [avg_return_1.numpy()[0], avg_return_2.numpy()[0]]\n",
        "\n",
        "\n",
        "# See also the metrics module for standard implementations of different metrics.\n",
        "# https://github.com/tensorflow/agents/tree/master/tf_agents/metrics"
      ]
    },
    {
      "cell_type": "code",
      "execution_count": 18,
      "metadata": {
        "colab": {
          "base_uri": "https://localhost:8080/"
        },
        "id": "vlCXIdRVyAAu",
        "outputId": "5f6b620c-2ec6-4223-989b-e4d9ccf8b75d"
      },
      "outputs": [
        {
          "output_type": "stream",
          "name": "stdout",
          "text": [
            "3.0\n",
            "3.0\n",
            "[0.0, 3.0]\n"
          ]
        }
      ],
      "source": [
        "print(compute_avg_return(eval_env, agent1.policy, 1))\n",
        "print(compute_avg_return(eval_env, agent2.policy, 1))\n",
        "print(compute_avg_return_battle(eval_env, agent1.policy, agent2.policy, 1))"
      ]
    },
    {
      "cell_type": "markdown",
      "metadata": {
        "id": "VBEXcoMjy7xO"
      },
      "source": [
        "## Replay Buffer"
      ]
    },
    {
      "cell_type": "code",
      "execution_count": 19,
      "metadata": {
        "id": "CMVmKJF1y_Lt",
        "colab": {
          "base_uri": "https://localhost:8080/"
        },
        "outputId": "f01da2fb-09cb-4077-f9d2-776ffe7a02ba"
      },
      "outputs": [
        {
          "output_type": "stream",
          "name": "stderr",
          "text": [
            "WARNING:tensorflow:From /usr/local/lib/python3.10/dist-packages/tf_agents/replay_buffers/tf_uniform_replay_buffer.py:364: CounterV2 (from tensorflow.python.data.experimental.ops.counter) is deprecated and will be removed in a future version.\n",
            "Instructions for updating:\n",
            "Use `tf.data.Dataset.counter(...)` instead.\n",
            "WARNING:tensorflow:From /usr/local/lib/python3.10/dist-packages/tensorflow/python/autograph/impl/api.py:377: ReplayBuffer.get_next (from tf_agents.replay_buffers.replay_buffer) is deprecated and will be removed in a future version.\n",
            "Instructions for updating:\n",
            "Use `as_dataset(..., single_deterministic_pass=False) instead.\n"
          ]
        }
      ],
      "source": [
        "replay_buffer1 = tf_uniform_replay_buffer.TFUniformReplayBuffer(\n",
        "    data_spec=agent1.collect_data_spec,\n",
        "    batch_size=train_env.batch_size,\n",
        "    max_length=replay_buffer_max_length)\n",
        "\n",
        "replay_buffer2 = tf_uniform_replay_buffer.TFUniformReplayBuffer(\n",
        "    data_spec=agent2.collect_data_spec,\n",
        "    batch_size=train_env.batch_size,\n",
        "    max_length=replay_buffer_max_length)\n",
        "\n",
        "# def collect_step(environment, policy, replay_buffer):\n",
        "#     time_step = environment.current_time_step()\n",
        "#     if time_step.is_last():\n",
        "#         time_step = environment.reset()\n",
        "#     action_step = policy.action(time_step)\n",
        "#     next_time_step = environment.step(action_step.action)\n",
        "#     traj = trajectory.from_transition(time_step, action_step, next_time_step)\n",
        "\n",
        "#     # Add trajectory to the replay buffer\n",
        "#     replay_buffer.add_batch(traj)\n",
        "\n",
        "def collect_episode(environment, policy1, replay_buffer1, policy2, replay_buffer2):\n",
        "    time_step1 = train_env.reset()\n",
        "    trajs_1, trajs_2 = [], []\n",
        "    done_flag = False\n",
        "\n",
        "    while not time_step1.is_last():\n",
        "      action_step1 = agent1.collect_policy.action(time_step1)\n",
        "      next_time_step1 = train_env.step(action_step1.action)\n",
        "      traj1 = trajectory.from_transition(time_step1, action_step1, next_time_step1)\n",
        "      time_step2 = next_time_step1\n",
        "      trajs_1.append(traj1)\n",
        "\n",
        "      if not time_step2.is_last():\n",
        "        action_step2 = agent2.collect_policy.action(time_step2)\n",
        "        next_time_step2 = train_env.step(action_step2.action)\n",
        "        traj2 = trajectory.from_transition(time_step2, action_step2, next_time_step2)\n",
        "        trajs_2.append(traj2)\n",
        "        time_step1 = next_time_step2\n",
        "      else:\n",
        "        if tf.equal(next_time_step1.reward, REWARD_DRAW):\n",
        "            trajs_2[-1] = trajs_2[-1].replace(reward=next_time_step1.reward)\n",
        "        elif tf.equal(next_time_step1.reward, REWARD_WIN):\n",
        "            trajs_2[-1] = trajs_2[-1].replace(reward=-next_time_step1.reward)\n",
        "        done_flag = True\n",
        "\n",
        "      if done_flag:\n",
        "        break\n",
        "\n",
        "    if not done_flag:\n",
        "        if tf.equal(time_step1.reward, REWARD_DRAW):\n",
        "            trajs_1[-1] = trajs_1[-1].replace(reward=time_step1.reward)\n",
        "        elif tf.equal(time_step1.reward, REWARD_WIN):\n",
        "            trajs_1[-1] = trajs_1[-1].replace(reward=-time_step1.reward)\n",
        "\n",
        "    for tsj in trajs_1:\n",
        "        # print(f'Policy 1: {tsj.reward}')\n",
        "        replay_buffer1.add_batch(tsj)\n",
        "    for tsj in trajs_2:\n",
        "        # print(f'Policy 2: {tsj.reward}')\n",
        "        replay_buffer2.add_batch(tsj)\n",
        "\n",
        "    return done_flag # if True, means Player 1 wins, then change the order of players\n",
        "\n",
        "# def collect_step_for_both(environment, policy1, replay_buffer1, policy2, replay_buffer2):\n",
        "#     time_step = environment.current_time_step()\n",
        "#     if time_step.is_last():\n",
        "#         time_step = environment.reset()\n",
        "#     action_step = policy1.action(time_step)\n",
        "#     next_time_step = environment.step(action_step.action)\n",
        "#     traj = trajectory.from_transition(time_step, action_step, next_time_step)\n",
        "#     replay_buffer1.add_batch(traj)\n",
        "\n",
        "#     time_step = next_time_step\n",
        "#     if time_step.is_last():\n",
        "#         time_step = environment.reset()\n",
        "#     action_step = policy2.action(time_step)\n",
        "#     next_time_step = environment.step(action_step.action)\n",
        "#     traj = trajectory.from_transition(time_step, action_step, next_time_step)\n",
        "#     replay_buffer2.add_batch(traj)\n",
        "\n",
        "for _ in range(initial_collect_episodes):\n",
        "    change_player_flag = collect_episode(train_env, agent1.collect_policy, replay_buffer1, agent2.collect_policy, replay_buffer2)\n",
        "    # collect_step(train_env, random_policy, replay_buffer1)\n",
        "    # collect_step(train_env, random_policy, replay_buffer2)\n",
        "\n",
        "dataset1 = replay_buffer1.as_dataset(\n",
        "    num_parallel_calls=3, sample_batch_size=batch_size,\n",
        "    num_steps=n_step_update + 1).prefetch(3)\n",
        "iterator1 = iter(dataset1)\n",
        "\n",
        "dataset2 = replay_buffer2.as_dataset(\n",
        "    num_parallel_calls=3, sample_batch_size=batch_size,\n",
        "    num_steps=n_step_update).prefetch(3)\n",
        "iterator2 = iter(dataset2)"
      ]
    },
    {
      "cell_type": "markdown",
      "metadata": {
        "id": "tmMc8b6mBqli"
      },
      "source": [
        "## Set up the checkpointer and Policy saver"
      ]
    },
    {
      "cell_type": "code",
      "execution_count": 20,
      "metadata": {
        "id": "dRLhR6v4BsEb"
      },
      "outputs": [],
      "source": [
        "def create_zip_file(dirname, base_filename):\n",
        "  return shutil.make_archive(base_filename, 'zip', dirname)"
      ]
    },
    {
      "cell_type": "code",
      "execution_count": 21,
      "metadata": {
        "id": "aI2LVHZXBv4q"
      },
      "outputs": [],
      "source": [
        "policy_dir_1 = os.path.join(tempdir, 'policy_1')\n",
        "tf_policy_saver_1 = policy_saver.PolicySaver(agent1.policy)\n",
        "\n",
        "policy_dir_2 = os.path.join(tempdir, 'policy_2')\n",
        "tf_policy_saver_2 = policy_saver.PolicySaver(agent2.policy)"
      ]
    },
    {
      "cell_type": "markdown",
      "metadata": {
        "id": "jRVMc8V8zxj0"
      },
      "source": [
        "## Train the agent"
      ]
    },
    {
      "cell_type": "code",
      "execution_count": null,
      "metadata": {
        "colab": {
          "base_uri": "https://localhost:8080/"
        },
        "id": "6_1qWkmKz0Ke",
        "outputId": "b6ccec7a-e4b8-47d7-da0a-5d8a1a953802"
      },
      "outputs": [
        {
          "output_type": "stream",
          "name": "stderr",
          "text": [
            "WARNING:tensorflow:From /usr/local/lib/python3.10/dist-packages/tensorflow/python/util/dispatch.py:1260: calling foldr_v2 (from tensorflow.python.ops.functional_ops) with back_prop=False is deprecated and will be removed in a future version.\n",
            "Instructions for updating:\n",
            "back_prop=False is deprecated. Consider using tf.stop_gradient instead.\n",
            "Instead of:\n",
            "results = tf.foldr(fn, elems, back_prop=False)\n",
            "Use:\n",
            "results = tf.nest.map_structure(tf.stop_gradient, tf.foldr(fn, elems))\n"
          ]
        },
        {
          "output_type": "stream",
          "name": "stdout",
          "text": [
            "step = 10: loss = 3.853548288345337\n",
            "step = 20: loss = 3.914017677307129\n",
            "step = 30: loss = 3.9030117988586426\n"
          ]
        },
        {
          "output_type": "stream",
          "name": "stderr",
          "text": [
            "WARNING:absl:`0/step_type` is not a valid tf.function parameter name. Sanitizing to `arg_0_step_type`.\n",
            "WARNING:absl:`0/reward` is not a valid tf.function parameter name. Sanitizing to `arg_0_reward`.\n",
            "WARNING:absl:`0/discount` is not a valid tf.function parameter name. Sanitizing to `arg_0_discount`.\n",
            "WARNING:absl:`0/observation/legal_moves` is not a valid tf.function parameter name. Sanitizing to `arg_0_observation_legal_moves`.\n",
            "WARNING:absl:`0/observation/state` is not a valid tf.function parameter name. Sanitizing to `arg_0_observation_state`.\n"
          ]
        },
        {
          "output_type": "stream",
          "name": "stdout",
          "text": [
            "step = 30: Average Return = [2.4, 0.6]\n"
          ]
        },
        {
          "output_type": "stream",
          "name": "stderr",
          "text": [
            "/usr/local/lib/python3.10/dist-packages/tensorflow/python/saved_model/nested_structure_coder.py:458: UserWarning: Encoding a StructuredValue with type tfp.distributions.Deterministic_ACTTypeSpec; loading this StructuredValue will require that this type be imported and registered.\n",
            "  warnings.warn(\"Encoding a StructuredValue with type %s; loading this \"\n",
            "/usr/local/lib/python3.10/dist-packages/tensorflow/python/saved_model/nested_structure_coder.py:458: UserWarning: Encoding a StructuredValue with type tfp.distributions.Deterministic_ACTTypeSpec; loading this StructuredValue will require that this type be imported and registered.\n",
            "  warnings.warn(\"Encoding a StructuredValue with type %s; loading this \"\n"
          ]
        },
        {
          "output_type": "stream",
          "name": "stdout",
          "text": [
            "step = 40: loss = 3.851694107055664\n",
            "step = 50: loss = 3.907681465148926\n",
            "step = 60: loss = 3.893800735473633\n",
            "step = 60: Average Return = [1.8, 1.2]\n"
          ]
        },
        {
          "output_type": "stream",
          "name": "stderr",
          "text": [
            "/usr/local/lib/python3.10/dist-packages/tensorflow/python/saved_model/nested_structure_coder.py:458: UserWarning: Encoding a StructuredValue with type tfp.distributions.Deterministic_ACTTypeSpec; loading this StructuredValue will require that this type be imported and registered.\n",
            "  warnings.warn(\"Encoding a StructuredValue with type %s; loading this \"\n",
            "/usr/local/lib/python3.10/dist-packages/tensorflow/python/saved_model/nested_structure_coder.py:458: UserWarning: Encoding a StructuredValue with type tfp.distributions.Deterministic_ACTTypeSpec; loading this StructuredValue will require that this type be imported and registered.\n",
            "  warnings.warn(\"Encoding a StructuredValue with type %s; loading this \"\n"
          ]
        },
        {
          "output_type": "stream",
          "name": "stdout",
          "text": [
            "step = 70: loss = 3.893742799758911\n",
            "step = 80: loss = 3.905400514602661\n",
            "step = 90: loss = 3.8897597789764404\n",
            "step = 90: Average Return = [1.8, 1.2]\n"
          ]
        },
        {
          "output_type": "stream",
          "name": "stderr",
          "text": [
            "/usr/local/lib/python3.10/dist-packages/tensorflow/python/saved_model/nested_structure_coder.py:458: UserWarning: Encoding a StructuredValue with type tfp.distributions.Deterministic_ACTTypeSpec; loading this StructuredValue will require that this type be imported and registered.\n",
            "  warnings.warn(\"Encoding a StructuredValue with type %s; loading this \"\n",
            "/usr/local/lib/python3.10/dist-packages/tensorflow/python/saved_model/nested_structure_coder.py:458: UserWarning: Encoding a StructuredValue with type tfp.distributions.Deterministic_ACTTypeSpec; loading this StructuredValue will require that this type be imported and registered.\n",
            "  warnings.warn(\"Encoding a StructuredValue with type %s; loading this \"\n"
          ]
        },
        {
          "output_type": "stream",
          "name": "stdout",
          "text": [
            "step = 100: loss = 3.9088611602783203\n",
            "step = 110: loss = 3.898538827896118\n",
            "step = 120: loss = 3.8709864616394043\n",
            "step = 120: Average Return = [1.8, 1.2]\n"
          ]
        },
        {
          "output_type": "stream",
          "name": "stderr",
          "text": [
            "/usr/local/lib/python3.10/dist-packages/tensorflow/python/saved_model/nested_structure_coder.py:458: UserWarning: Encoding a StructuredValue with type tfp.distributions.Deterministic_ACTTypeSpec; loading this StructuredValue will require that this type be imported and registered.\n",
            "  warnings.warn(\"Encoding a StructuredValue with type %s; loading this \"\n",
            "/usr/local/lib/python3.10/dist-packages/tensorflow/python/saved_model/nested_structure_coder.py:458: UserWarning: Encoding a StructuredValue with type tfp.distributions.Deterministic_ACTTypeSpec; loading this StructuredValue will require that this type be imported and registered.\n",
            "  warnings.warn(\"Encoding a StructuredValue with type %s; loading this \"\n"
          ]
        },
        {
          "output_type": "stream",
          "name": "stdout",
          "text": [
            "step = 130: loss = 3.841935873031616\n"
          ]
        }
      ],
      "source": [
        "try:\n",
        "  %%time\n",
        "except:\n",
        "  pass\n",
        "\n",
        "# (Optional) Optimize by wrapping some of the code in a graph using TF function.\n",
        "agent1.train = common.function(agent1.train)\n",
        "agent2.train = common.function(agent2.train)\n",
        "\n",
        "# Reset the train step.\n",
        "agent1.train_step_counter.assign(0)\n",
        "agent2.train_step_counter.assign(0)\n",
        "\n",
        "# Evaluate the agent's policy once before training.\n",
        "avg_return = compute_avg_return_battle(eval_env, agent1.policy, agent2.policy, 1)\n",
        "returns = [avg_return]\n",
        "\n",
        "# Reset the environment.\n",
        "time_step = train_env.reset()\n",
        "\n",
        "for _ in range(num_iterations):\n",
        "\n",
        "    # Collect a few episodes using collect_policy and save to the replay buffer.\n",
        "    for _ in range(collect_episodes_per_iteration):\n",
        "      if change_player_flag:\n",
        "          agent1, agent2 = agent2, agent1\n",
        "      change_player_flag = collect_episode(train_env, agent1.collect_policy, replay_buffer1, agent2.collect_policy, replay_buffer2)\n",
        "      # collect_step(train_env, agent1.collect_policy, replay_buffer1)\n",
        "      # collect_step(train_env, agent2.collect_policy, replay_buffer2)\n",
        "\n",
        "    # Sample a batch of data from the buffer and update the agent's network.\n",
        "    experience, unused_info = next(iterator1)\n",
        "    train_loss_1 = agent1.train(experience).loss\n",
        "    experience, unused_info = next(iterator2)\n",
        "    train_loss_2 = agent2.train(experience).loss\n",
        "\n",
        "    step = agent1.train_step_counter.numpy()\n",
        "\n",
        "    if step % log_interval == 0:\n",
        "      print('step = {0}: loss = {1}'.format(step, (train_loss_1 + train_loss_2) / 2))\n",
        "\n",
        "    if step % eval_interval == 0:\n",
        "      avg_return = compute_avg_return_battle(eval_env, agent1.policy, agent2.policy, 5)\n",
        "      print('step = {0}: Average Return = {1}'.format(step, str(avg_return)))\n",
        "      tf_policy_saver_1.save(policy_dir_1)\n",
        "      policy_zip_filename = create_zip_file(policy_dir_1, os.path.join(tempdir, 'exported_policy_1'))\n",
        "      tf_policy_saver_2.save(policy_dir_2)\n",
        "      policy_zip_filename = create_zip_file(policy_dir_2, os.path.join(tempdir, 'exported_policy_2'))\n",
        "      returns.append(avg_return)"
      ]
    },
    {
      "cell_type": "markdown",
      "metadata": {
        "id": "euOj19B0B1ky"
      },
      "source": [
        "## Load the trained model"
      ]
    },
    {
      "cell_type": "code",
      "execution_count": null,
      "metadata": {
        "id": "HDMa0xH3rAS6"
      },
      "outputs": [],
      "source": [
        "saved_policy_1 = tf.saved_model.load(policy_dir_1)\n",
        "create_policy_eval_video(saved_policy_1, \"trained-agent-1\")\n",
        "saved_policy_2 = tf.saved_model.load(policy_dir_2)\n",
        "create_policy_eval_video(saved_policy_2, \"trained-agent-2\")"
      ]
    },
    {
      "cell_type": "markdown",
      "metadata": {
        "id": "Fsl0r1fyxpUD"
      },
      "source": []
    },
    {
      "cell_type": "markdown",
      "metadata": {
        "id": "WkOaR2zHrDwC"
      },
      "source": [
        "## TODO\n",
        "\n",
        "\n",
        "\n",
        "*   Check whether all functions are correct\n",
        "*   Check whether the environment is correctly implement\n",
        "*   Add the variant in `step` function\n",
        "*   Test whether the agent always chooses an *empty* square and whether they can go to an adjacent place correctly\n",
        "\n"
      ]
    }
  ],
  "metadata": {
    "colab": {
      "provenance": [],
      "authorship_tag": "ABX9TyOtuT2tczs8RxR9n5N+nXk5",
      "include_colab_link": true
    },
    "kernelspec": {
      "display_name": "Python 3",
      "name": "python3"
    },
    "language_info": {
      "name": "python"
    }
  },
  "nbformat": 4,
  "nbformat_minor": 0
}