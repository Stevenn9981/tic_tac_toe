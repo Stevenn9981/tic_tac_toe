{
  "cells": [
    {
      "cell_type": "markdown",
      "metadata": {
        "id": "view-in-github",
        "colab_type": "text"
      },
      "source": [
        "<a href=\"https://colab.research.google.com/github/Stevenn9981/tic_tac_toe/blob/master/tic_tac_toe_part1.ipynb\" target=\"_parent\"><img src=\"https://colab.research.google.com/assets/colab-badge.svg\" alt=\"Open In Colab\"/></a>"
      ]
    },
    {
      "cell_type": "markdown",
      "metadata": {
        "id": "iEy_PMnnf-Og"
      },
      "source": [
        "## Setup"
      ]
    },
    {
      "cell_type": "code",
      "execution_count": 1,
      "metadata": {
        "colab": {
          "base_uri": "https://localhost:8080/"
        },
        "id": "fdG6QronfqnR",
        "outputId": "3b43b7f6-882b-4843-9809-a8cf53214bcc"
      },
      "outputs": [
        {
          "output_type": "stream",
          "name": "stdout",
          "text": [
            "\r0% [Working]\r            \rHit:1 http://security.ubuntu.com/ubuntu jammy-security InRelease\n",
            "Hit:2 https://cloud.r-project.org/bin/linux/ubuntu jammy-cran40/ InRelease\n",
            "Hit:3 http://archive.ubuntu.com/ubuntu jammy InRelease\n",
            "Hit:4 https://developer.download.nvidia.com/compute/cuda/repos/ubuntu2204/x86_64  InRelease\n",
            "Hit:5 http://archive.ubuntu.com/ubuntu jammy-updates InRelease\n",
            "Hit:6 http://archive.ubuntu.com/ubuntu jammy-backports InRelease\n",
            "Hit:7 https://ppa.launchpadcontent.net/c2d4u.team/c2d4u4.0+/ubuntu jammy InRelease\n",
            "Hit:8 https://ppa.launchpadcontent.net/deadsnakes/ppa/ubuntu jammy InRelease\n",
            "Hit:9 https://ppa.launchpadcontent.net/graphics-drivers/ppa/ubuntu jammy InRelease\n",
            "Hit:10 https://ppa.launchpadcontent.net/ubuntugis/ppa/ubuntu jammy InRelease\n",
            "Reading package lists... Done\n",
            "Reading package lists... Done\n",
            "Building dependency tree... Done\n",
            "Reading state information... Done\n",
            "freeglut3-dev is already the newest version (2.8.1-6).\n",
            "ffmpeg is already the newest version (7:4.4.2-0ubuntu0.22.04.1).\n",
            "xvfb is already the newest version (2:21.1.4-2ubuntu1.7~22.04.2).\n",
            "0 upgraded, 0 newly installed, 0 to remove and 42 not upgraded.\n",
            "Requirement already satisfied: imageio in /usr/local/lib/python3.10/dist-packages (2.31.6)\n",
            "Requirement already satisfied: numpy in /usr/local/lib/python3.10/dist-packages (from imageio) (1.23.5)\n",
            "Requirement already satisfied: pillow<10.1.0,>=8.3.2 in /usr/local/lib/python3.10/dist-packages (from imageio) (9.4.0)\n",
            "Requirement already satisfied: pyvirtualdisplay in /usr/local/lib/python3.10/dist-packages (3.0)\n",
            "Requirement already satisfied: tf-agents[reverb] in /usr/local/lib/python3.10/dist-packages (0.18.0)\n",
            "Requirement already satisfied: absl-py>=0.6.1 in /usr/local/lib/python3.10/dist-packages (from tf-agents[reverb]) (1.4.0)\n",
            "Requirement already satisfied: cloudpickle>=1.3 in /usr/local/lib/python3.10/dist-packages (from tf-agents[reverb]) (2.2.1)\n",
            "Requirement already satisfied: gin-config>=0.4.0 in /usr/local/lib/python3.10/dist-packages (from tf-agents[reverb]) (0.5.0)\n",
            "Requirement already satisfied: gym<=0.23.0,>=0.17.0 in /usr/local/lib/python3.10/dist-packages (from tf-agents[reverb]) (0.23.0)\n",
            "Requirement already satisfied: numpy>=1.19.0 in /usr/local/lib/python3.10/dist-packages (from tf-agents[reverb]) (1.23.5)\n",
            "Requirement already satisfied: pillow in /usr/local/lib/python3.10/dist-packages (from tf-agents[reverb]) (9.4.0)\n",
            "Requirement already satisfied: six>=1.10.0 in /usr/local/lib/python3.10/dist-packages (from tf-agents[reverb]) (1.16.0)\n",
            "Requirement already satisfied: protobuf>=3.11.3 in /usr/local/lib/python3.10/dist-packages (from tf-agents[reverb]) (3.20.3)\n",
            "Requirement already satisfied: wrapt>=1.11.1 in /usr/local/lib/python3.10/dist-packages (from tf-agents[reverb]) (1.14.1)\n",
            "Requirement already satisfied: typing-extensions>=3.7.4.3 in /usr/local/lib/python3.10/dist-packages (from tf-agents[reverb]) (4.5.0)\n",
            "Requirement already satisfied: pygame==2.1.3 in /usr/local/lib/python3.10/dist-packages (from tf-agents[reverb]) (2.1.3)\n",
            "Requirement already satisfied: tensorflow-probability~=0.22.0 in /usr/local/lib/python3.10/dist-packages (from tf-agents[reverb]) (0.22.0)\n",
            "Requirement already satisfied: rlds in /usr/local/lib/python3.10/dist-packages (from tf-agents[reverb]) (0.1.8)\n",
            "Requirement already satisfied: dm-reverb~=0.13.0 in /usr/local/lib/python3.10/dist-packages (from tf-agents[reverb]) (0.13.0)\n",
            "Requirement already satisfied: tensorflow~=2.14.0 in /usr/local/lib/python3.10/dist-packages (from tf-agents[reverb]) (2.14.0)\n",
            "Requirement already satisfied: dm-tree in /usr/local/lib/python3.10/dist-packages (from dm-reverb~=0.13.0->tf-agents[reverb]) (0.1.8)\n",
            "Requirement already satisfied: portpicker in /usr/local/lib/python3.10/dist-packages (from dm-reverb~=0.13.0->tf-agents[reverb]) (1.5.2)\n",
            "Requirement already satisfied: gym-notices>=0.0.4 in /usr/local/lib/python3.10/dist-packages (from gym<=0.23.0,>=0.17.0->tf-agents[reverb]) (0.0.8)\n",
            "Requirement already satisfied: astunparse>=1.6.0 in /usr/local/lib/python3.10/dist-packages (from tensorflow~=2.14.0->tf-agents[reverb]) (1.6.3)\n",
            "Requirement already satisfied: flatbuffers>=23.5.26 in /usr/local/lib/python3.10/dist-packages (from tensorflow~=2.14.0->tf-agents[reverb]) (23.5.26)\n",
            "Requirement already satisfied: gast!=0.5.0,!=0.5.1,!=0.5.2,>=0.2.1 in /usr/local/lib/python3.10/dist-packages (from tensorflow~=2.14.0->tf-agents[reverb]) (0.5.4)\n",
            "Requirement already satisfied: google-pasta>=0.1.1 in /usr/local/lib/python3.10/dist-packages (from tensorflow~=2.14.0->tf-agents[reverb]) (0.2.0)\n",
            "Requirement already satisfied: h5py>=2.9.0 in /usr/local/lib/python3.10/dist-packages (from tensorflow~=2.14.0->tf-agents[reverb]) (3.9.0)\n",
            "Requirement already satisfied: libclang>=13.0.0 in /usr/local/lib/python3.10/dist-packages (from tensorflow~=2.14.0->tf-agents[reverb]) (16.0.6)\n",
            "Requirement already satisfied: ml-dtypes==0.2.0 in /usr/local/lib/python3.10/dist-packages (from tensorflow~=2.14.0->tf-agents[reverb]) (0.2.0)\n",
            "Requirement already satisfied: opt-einsum>=2.3.2 in /usr/local/lib/python3.10/dist-packages (from tensorflow~=2.14.0->tf-agents[reverb]) (3.3.0)\n",
            "Requirement already satisfied: packaging in /usr/local/lib/python3.10/dist-packages (from tensorflow~=2.14.0->tf-agents[reverb]) (23.2)\n",
            "Requirement already satisfied: setuptools in /usr/local/lib/python3.10/dist-packages (from tensorflow~=2.14.0->tf-agents[reverb]) (67.7.2)\n",
            "Requirement already satisfied: termcolor>=1.1.0 in /usr/local/lib/python3.10/dist-packages (from tensorflow~=2.14.0->tf-agents[reverb]) (2.3.0)\n",
            "Requirement already satisfied: tensorflow-io-gcs-filesystem>=0.23.1 in /usr/local/lib/python3.10/dist-packages (from tensorflow~=2.14.0->tf-agents[reverb]) (0.34.0)\n",
            "Requirement already satisfied: grpcio<2.0,>=1.24.3 in /usr/local/lib/python3.10/dist-packages (from tensorflow~=2.14.0->tf-agents[reverb]) (1.59.0)\n",
            "Requirement already satisfied: tensorboard<2.15,>=2.14 in /usr/local/lib/python3.10/dist-packages (from tensorflow~=2.14.0->tf-agents[reverb]) (2.14.1)\n",
            "Requirement already satisfied: tensorflow-estimator<2.15,>=2.14.0 in /usr/local/lib/python3.10/dist-packages (from tensorflow~=2.14.0->tf-agents[reverb]) (2.14.0)\n",
            "Requirement already satisfied: keras<2.15,>=2.14.0 in /usr/local/lib/python3.10/dist-packages (from tensorflow~=2.14.0->tf-agents[reverb]) (2.14.0)\n",
            "Requirement already satisfied: decorator in /usr/local/lib/python3.10/dist-packages (from tensorflow-probability~=0.22.0->tf-agents[reverb]) (4.4.2)\n",
            "Requirement already satisfied: wheel<1.0,>=0.23.0 in /usr/local/lib/python3.10/dist-packages (from astunparse>=1.6.0->tensorflow~=2.14.0->tf-agents[reverb]) (0.41.2)\n",
            "Requirement already satisfied: google-auth<3,>=1.6.3 in /usr/local/lib/python3.10/dist-packages (from tensorboard<2.15,>=2.14->tensorflow~=2.14.0->tf-agents[reverb]) (2.17.3)\n",
            "Requirement already satisfied: google-auth-oauthlib<1.1,>=0.5 in /usr/local/lib/python3.10/dist-packages (from tensorboard<2.15,>=2.14->tensorflow~=2.14.0->tf-agents[reverb]) (1.0.0)\n",
            "Requirement already satisfied: markdown>=2.6.8 in /usr/local/lib/python3.10/dist-packages (from tensorboard<2.15,>=2.14->tensorflow~=2.14.0->tf-agents[reverb]) (3.5)\n",
            "Requirement already satisfied: requests<3,>=2.21.0 in /usr/local/lib/python3.10/dist-packages (from tensorboard<2.15,>=2.14->tensorflow~=2.14.0->tf-agents[reverb]) (2.31.0)\n",
            "Requirement already satisfied: tensorboard-data-server<0.8.0,>=0.7.0 in /usr/local/lib/python3.10/dist-packages (from tensorboard<2.15,>=2.14->tensorflow~=2.14.0->tf-agents[reverb]) (0.7.2)\n",
            "Requirement already satisfied: werkzeug>=1.0.1 in /usr/local/lib/python3.10/dist-packages (from tensorboard<2.15,>=2.14->tensorflow~=2.14.0->tf-agents[reverb]) (3.0.1)\n",
            "Requirement already satisfied: psutil in /usr/local/lib/python3.10/dist-packages (from portpicker->dm-reverb~=0.13.0->tf-agents[reverb]) (5.9.5)\n",
            "Requirement already satisfied: cachetools<6.0,>=2.0.0 in /usr/local/lib/python3.10/dist-packages (from google-auth<3,>=1.6.3->tensorboard<2.15,>=2.14->tensorflow~=2.14.0->tf-agents[reverb]) (5.3.2)\n",
            "Requirement already satisfied: pyasn1-modules>=0.2.1 in /usr/local/lib/python3.10/dist-packages (from google-auth<3,>=1.6.3->tensorboard<2.15,>=2.14->tensorflow~=2.14.0->tf-agents[reverb]) (0.3.0)\n",
            "Requirement already satisfied: rsa<5,>=3.1.4 in /usr/local/lib/python3.10/dist-packages (from google-auth<3,>=1.6.3->tensorboard<2.15,>=2.14->tensorflow~=2.14.0->tf-agents[reverb]) (4.9)\n",
            "Requirement already satisfied: requests-oauthlib>=0.7.0 in /usr/local/lib/python3.10/dist-packages (from google-auth-oauthlib<1.1,>=0.5->tensorboard<2.15,>=2.14->tensorflow~=2.14.0->tf-agents[reverb]) (1.3.1)\n",
            "Requirement already satisfied: charset-normalizer<4,>=2 in /usr/local/lib/python3.10/dist-packages (from requests<3,>=2.21.0->tensorboard<2.15,>=2.14->tensorflow~=2.14.0->tf-agents[reverb]) (3.3.1)\n",
            "Requirement already satisfied: idna<4,>=2.5 in /usr/local/lib/python3.10/dist-packages (from requests<3,>=2.21.0->tensorboard<2.15,>=2.14->tensorflow~=2.14.0->tf-agents[reverb]) (3.4)\n",
            "Requirement already satisfied: urllib3<3,>=1.21.1 in /usr/local/lib/python3.10/dist-packages (from requests<3,>=2.21.0->tensorboard<2.15,>=2.14->tensorflow~=2.14.0->tf-agents[reverb]) (2.0.7)\n",
            "Requirement already satisfied: certifi>=2017.4.17 in /usr/local/lib/python3.10/dist-packages (from requests<3,>=2.21.0->tensorboard<2.15,>=2.14->tensorflow~=2.14.0->tf-agents[reverb]) (2023.7.22)\n",
            "Requirement already satisfied: MarkupSafe>=2.1.1 in /usr/local/lib/python3.10/dist-packages (from werkzeug>=1.0.1->tensorboard<2.15,>=2.14->tensorflow~=2.14.0->tf-agents[reverb]) (2.1.3)\n",
            "Requirement already satisfied: pyasn1<0.6.0,>=0.4.6 in /usr/local/lib/python3.10/dist-packages (from pyasn1-modules>=0.2.1->google-auth<3,>=1.6.3->tensorboard<2.15,>=2.14->tensorflow~=2.14.0->tf-agents[reverb]) (0.5.0)\n",
            "Requirement already satisfied: oauthlib>=3.0.0 in /usr/local/lib/python3.10/dist-packages (from requests-oauthlib>=0.7.0->google-auth-oauthlib<1.1,>=0.5->tensorboard<2.15,>=2.14->tensorflow~=2.14.0->tf-agents[reverb]) (3.2.2)\n",
            "Requirement already satisfied: pyglet in /usr/local/lib/python3.10/dist-packages (2.0.9)\n"
          ]
        }
      ],
      "source": [
        "!sudo apt-get update\n",
        "!sudo apt-get install -y xvfb ffmpeg freeglut3-dev\n",
        "!pip install imageio\n",
        "!pip install pyvirtualdisplay\n",
        "!pip install tf-agents[reverb]\n",
        "!pip install pyglet"
      ]
    },
    {
      "cell_type": "code",
      "execution_count": 2,
      "metadata": {
        "colab": {
          "base_uri": "https://localhost:8080/"
        },
        "id": "h-vtSiPUgOOU",
        "outputId": "ba1ad6f1-9bd2-492f-b88d-dc89f718cbea"
      },
      "outputs": [
        {
          "output_type": "stream",
          "name": "stdout",
          "text": [
            "pygame 2.1.3 (SDL 2.0.22, Python 3.10.12)\n",
            "Hello from the pygame community. https://www.pygame.org/contribute.html\n"
          ]
        }
      ],
      "source": [
        "import base64\n",
        "import imageio\n",
        "import IPython\n",
        "import matplotlib\n",
        "import matplotlib.pyplot as plt\n",
        "import numpy as np\n",
        "import PIL.Image\n",
        "import pyvirtualdisplay\n",
        "import reverb\n",
        "import random\n",
        "import os\n",
        "import shutil\n",
        "import tempfile\n",
        "import zipfile\n",
        "\n",
        "import pygame as pg\n",
        "from pygame import gfxdraw\n",
        "from pygame.locals import *\n",
        "\n",
        "import tensorflow as tf\n",
        "\n",
        "from tf_agents.agents.categorical_dqn import categorical_dqn_agent\n",
        "from tf_agents.agents.dqn import dqn_agent\n",
        "from tf_agents.drivers import py_driver\n",
        "from tf_agents.drivers import dynamic_step_driver\n",
        "from tf_agents.environments import suite_gym\n",
        "from tf_agents.environments import py_environment\n",
        "from tf_agents.environments import tf_environment\n",
        "from tf_agents.environments import tf_py_environment\n",
        "from tf_agents.eval import metric_utils\n",
        "from tf_agents.metrics import tf_metrics\n",
        "from tf_agents.networks import sequential\n",
        "from tf_agents.networks import q_network\n",
        "from tf_agents.networks import categorical_q_network\n",
        "from tf_agents.policies import policy_saver\n",
        "from tf_agents.policies import py_tf_eager_policy\n",
        "from tf_agents.policies import random_tf_policy\n",
        "from tf_agents.policies import random_py_policy\n",
        "from tf_agents.replay_buffers import tf_uniform_replay_buffer\n",
        "from tf_agents.replay_buffers import reverb_replay_buffer\n",
        "from tf_agents.replay_buffers import reverb_utils\n",
        "from tf_agents.trajectories import trajectory\n",
        "from tf_agents.specs import tensor_spec\n",
        "from tf_agents.specs import array_spec\n",
        "from tf_agents.utils import common\n",
        "from tf_agents.trajectories import time_step as ts\n",
        "\n",
        "tempdir = \"./\""
      ]
    },
    {
      "cell_type": "code",
      "execution_count": 3,
      "metadata": {
        "colab": {
          "base_uri": "https://localhost:8080/",
          "height": 35
        },
        "id": "MsV4e7iqg10s",
        "outputId": "ff39c33d-9952-45ce-d523-74a535a121c1"
      },
      "outputs": [
        {
          "output_type": "execute_result",
          "data": {
            "text/plain": [
              "'2.14.0'"
            ],
            "application/vnd.google.colaboratory.intrinsic+json": {
              "type": "string"
            }
          },
          "metadata": {},
          "execution_count": 3
        }
      ],
      "source": [
        "tf.version.VERSION"
      ]
    },
    {
      "cell_type": "markdown",
      "metadata": {
        "id": "sWwU8Wp7g2_X"
      },
      "source": [
        "## Hyper-parameters"
      ]
    },
    {
      "cell_type": "code",
      "execution_count": 4,
      "metadata": {
        "id": "reKJx_ybg7_L"
      },
      "outputs": [],
      "source": [
        "num_iterations = 2000 # @param {type:\"integer\"}\n",
        "\n",
        "initial_collect_steps = 100  # @param {type:\"integer\"}\n",
        "initial_collect_episodes = 5  # @param {type:\"integer\"}\n",
        "collect_steps_per_iteration = 1 # @param {type:\"integer\"}\n",
        "collect_episodes_per_iteration = 1 # @param {type:\"integer\"}\n",
        "replay_buffer_max_length = 100000  # @param {type:\"integer\"}\n",
        "\n",
        "batch_size = 64  # @param {type:\"integer\"}\n",
        "learning_rate = 1e-3  # @param {type:\"number\"}\n",
        "log_interval = 10  # @param {type:\"integer\"}\n",
        "\n",
        "num_eval_episodes = 10  # @param {type:\"integer\"}\n",
        "eval_interval = 50  # @param {type:\"integer\"}\n",
        "\n",
        "gamma = 0.99    # @param {type:\"number\"}\n",
        "n_step_update = 2  # @param {type:\"integer\"}\n",
        "num_atoms = 51  # @param {type:\"integer\"}\n",
        "min_q_value = -20  # @param {type:\"integer\"}\n",
        "max_q_value = 20  # @param {type:\"integer\"}\n",
        "fc_layer_params = (100,)\n",
        "\n",
        "BOARD_SIZE = 9 # @param {type:\"integer\"}\n",
        "\n",
        "REWARD_WIN = 3    # @param {type:\"number\"}\n",
        "REWARD_LOSE = -3    # @param {type:\"number\"}\n",
        "REWARD_DRAW = 1    # @param {type:\"number\"}\n",
        "REWARD_ALIVE = 0    # @param {type:\"number\"}\n",
        "REWARD_NON_ADJ = -0.2    # @param {type:\"number\"}"
      ]
    },
    {
      "cell_type": "markdown",
      "metadata": {
        "id": "WOBVDKmMIcyJ"
      },
      "source": [
        "## Environment"
      ]
    },
    {
      "cell_type": "code",
      "execution_count": 5,
      "metadata": {
        "id": "aq7Q2oxyIhS8"
      },
      "outputs": [],
      "source": [
        "import gym\n",
        "import numpy as np\n",
        "import math\n",
        "from tabulate import tabulate\n",
        "\n",
        "from typing import Tuple, List\n",
        "\n",
        "\n",
        "class TicTacToeEnv1(py_environment.PyEnvironment):\n",
        "    \"\"\"\n",
        "    Implementation of a TicTacToe Environment based on OpenAI Gym standards\n",
        "    This class is modified from https://github.com/MauroLuzzatto/OpenAI-Gym-TicTacToe-Environment\n",
        "    I modified that to follow the instructions of Question 1.\n",
        "    \"\"\"\n",
        "\n",
        "    def __init__(self, mode='rgb_array') -> None:\n",
        "        \"\"\"This class contains a TicTacToe environment for OpenAI Gym\n",
        "\n",
        "        Args:\n",
        "            mode (str): render mode: human or rgb_array, which returns a text or RGB array of a picture that shows the current board\n",
        "        \"\"\"\n",
        "        self.n_actions = BOARD_SIZE * BOARD_SIZE         # 9 * 9 grids to drop\n",
        "\n",
        "        self._observation_spec = {'state': array_spec.BoundedArraySpec(shape=(BOARD_SIZE, BOARD_SIZE, 4), dtype=np.int_, minimum=0, maximum=1),\n",
        "                                  'legal_moves': array_spec.ArraySpec(shape=(self.n_actions,), dtype=np.bool_)}\n",
        "\n",
        "        self._action_spec = array_spec.BoundedArraySpec(shape=(), dtype=np.int_, minimum=0, maximum=80)\n",
        "        self.render_mode = mode\n",
        "        self.colors = [1, 2]\n",
        "        self.screen = None\n",
        "        self.fields_per_side = BOARD_SIZE\n",
        "        self.reset()\n",
        "\n",
        "    def observation_spec(self):\n",
        "        return self._observation_spec\n",
        "\n",
        "    def action_spec(self):\n",
        "        return self._action_spec\n",
        "\n",
        "    def get_result(self):\n",
        "        return self.result\n",
        "\n",
        "    def if_chess_nearby(self, row, col) -> bool:\n",
        "        \"\"\"\n",
        "        Determine whether there are chess pieces in 2 squares around the given position (row, col)\n",
        "\n",
        "        Args:\n",
        "          row (int): row index\n",
        "          col (int): column index\n",
        "\n",
        "        Returns:\n",
        "          res (boolean): true, if there are\n",
        "        \"\"\"\n",
        "        for i in range(-2, 3):\n",
        "            for j in range(-2, 3):\n",
        "                if 0 <= row + i < BOARD_SIZE and 0 <= col + j < BOARD_SIZE:\n",
        "                    if self.board[row + i, col + j] != 0:\n",
        "                        return True\n",
        "        return False\n",
        "\n",
        "\n",
        "\n",
        "    def _reset(self) -> Tuple[np.ndarray, dict]:\n",
        "        \"\"\"\n",
        "        reset the board game and state\n",
        "        \"\"\"\n",
        "        self.board: np.ndarray = np.zeros(\n",
        "            (self.fields_per_side, self.fields_per_side), dtype=int\n",
        "        )\n",
        "        self.current_player = 1\n",
        "        self.info = {\"players\": {1: {\"actions\": []}, 2: {\"actions\": []}}, \"Occupied\": set(), \"legal_moves\": np.ones((self.n_actions,), dtype=bool)}\n",
        "        self.latest_action = None\n",
        "\n",
        "        # 0 means not finished, 1 or 2 means the winner and 3 means draw\n",
        "        self.result = 0\n",
        "\n",
        "        # return self.decompose_board_to_state()\n",
        "        observations_and_legal_moves = {'state': self.decompose_board_to_state(), 'legal_moves': self.info[\"legal_moves\"]}\n",
        "        return ts.restart(observations_and_legal_moves)\n",
        "\n",
        "    def decompose_board_to_state(self):\n",
        "        \"\"\"\n",
        "        Our state is a 9x9x4 matrix.\n",
        "        The first layer is the opponent's play history, 0 means no stone, 1 means stones placed by the opponent.\n",
        "        The second layer is the current player's history, 0 means no stone, 1 means stones placed by the current player.\n",
        "        The third layer is the opponent's latest play-out; only one entry is 1 and the others are 0.\n",
        "        The fourth layer is whether the current player is the first hand. an array that is full of 1 means yes, and 0 means no.\n",
        "        \"\"\"\n",
        "        opponent = 2 if self.current_player == 1 else 1\n",
        "        o_plays = (self.board == opponent) * 1\n",
        "        c_plays = (self.board == self.current_player) * 1\n",
        "        l_play = np.zeros_like(self.board)\n",
        "        if self.latest_action:\n",
        "            r, c = self.decode_action(self.latest_action)\n",
        "            l_play[r, c] = 1\n",
        "        if_first = np.full_like(self.board, (self.current_player == 1) * 1)\n",
        "        return np.stack([o_plays, c_plays, l_play, if_first], axis=2)\n",
        "\n",
        "\n",
        "    def _step(self, action: int) -> Tuple[np.ndarray, int, bool, dict]:\n",
        "        \"\"\"step function of the tictactoeEnv1\n",
        "\n",
        "        Args:\n",
        "          action (int): integer between [0, 80], each representing a field on the board\n",
        "\n",
        "        Returns:\n",
        "          state (np.array): state of 2 players' history, 0 means no stone, 1 means stones placed by the corresponding player (shape: 9x9x2).\n",
        "          reward (int): reward of the currrent step\n",
        "          done (boolean): true, if the game is finished\n",
        "          (dict): empty dict for future game related information\n",
        "        \"\"\"\n",
        "        action = int(action)\n",
        "        if not (0 <= action < self.n_actions):\n",
        "            raise ValueError(f\"action '{action}' is not in action_space\")\n",
        "\n",
        "        reward = REWARD_ALIVE\n",
        "        (row, col) = self.decode_action(action)\n",
        "\n",
        "        # If the agent/player does not choose an empty square, randomly select an empty one.\n",
        "        if self.board[row, col] != 0:\n",
        "            if len(self.info[\"Occupied\"]) == BOARD_SIZE * BOARD_SIZE:\n",
        "                print('BOARD IS FULL!')\n",
        "            raise ValueError('ERROR: Not A LEGAL MOVE (NOT EMPTY)')\n",
        "            # action = random.choice(list(set(range(BOARD_SIZE * BOARD_SIZE)) - self.info[\"Occupied\"]))\n",
        "            # (row, col) = self.decode_action(action)\n",
        "            # reward -= 5 # assign a negative reward if the play-out position is not empty\n",
        "\n",
        "        if len(self.info[\"Occupied\"]) != 0 and not self.if_chess_nearby(row, col):\n",
        "            reward += REWARD_NON_ADJ\n",
        "\n",
        "        # randomly select an adjacent position with probability 1/16\n",
        "        if random.random() < 0.5:\n",
        "            adjs = [[-1, -1], [-1, 0], [-1, 1], [0, 1], [0, -1], [1, -1], [1, 0], [1, 1]]\n",
        "            adj = random.choice(adjs)\n",
        "            row, col = row + adj[0], col + adj[1]\n",
        "\n",
        "        if 0 <= row < BOARD_SIZE and 0 <= col < BOARD_SIZE and self.board[row, col] == 0:\n",
        "            self.board[row, col] = self.current_player  # drop the piece on the field\n",
        "            win = self._is_win(self.current_player, row, col)\n",
        "\n",
        "            action = row * BOARD_SIZE + col\n",
        "            self.latest_action = action\n",
        "            self.info[\"players\"][self.current_player][\"actions\"].append(action)\n",
        "            self.info[\"Occupied\"].add(action)\n",
        "            self.info['legal_moves'][action] = False\n",
        "        else:\n",
        "            win = False\n",
        "\n",
        "        if win:\n",
        "            self.result = self.current_player\n",
        "            reward += REWARD_WIN\n",
        "        elif len(self.info[\"Occupied\"]) == BOARD_SIZE * BOARD_SIZE: # Draw\n",
        "            self.result = 3\n",
        "            reward += REWARD_DRAW\n",
        "\n",
        "        done = (win or len(self.info[\"Occupied\"]) == BOARD_SIZE * BOARD_SIZE)\n",
        "        self.current_player = self.current_player + 1 if self.current_player == 1 else 1\n",
        "        state = self.decompose_board_to_state()\n",
        "\n",
        "        observations_and_legal_moves = {'state': state, 'legal_moves': self.info['legal_moves']}\n",
        "        # return next_s, reward, done, self.info\n",
        "        if done:\n",
        "            return ts.termination(observations_and_legal_moves, reward)\n",
        "        else:\n",
        "            return ts.transition(observations_and_legal_moves, reward)\n",
        "\n",
        "    def _is_win(self, color: int, r: int, c: int) -> bool:\n",
        "        \"\"\"check if this player results in a winner\n",
        "\n",
        "        Args:\n",
        "            color (int): of the player\n",
        "            r (int): row of the current play\n",
        "            c (int): column of the current play\n",
        "\n",
        "        Returns:\n",
        "            bool: indicating if there is a winner\n",
        "        \"\"\"\n",
        "\n",
        "        # check if four equal stones are aligned (horizontal, verical or diagonal)\n",
        "        directions = [[0, 1], [1, 0], [1, 1], [1, -1]]\n",
        "\n",
        "        for direct in directions:\n",
        "            count = 0\n",
        "            for offset in range(-3, 4):\n",
        "                if 0 <= r + offset * direct[0] < 9 and 0 <= c + offset * direct[1] < 9:\n",
        "                    if self.board[r + offset * direct[0], c + offset * direct[1]] == color:\n",
        "                        count += 1\n",
        "                        if count == 4:\n",
        "                            return True\n",
        "                    else:\n",
        "                        count = 0\n",
        "\n",
        "        return False\n",
        "\n",
        "    def decode_action(self, action: int) -> List[int]:\n",
        "        \"\"\"decode the action integer into a colum and row value\n",
        "\n",
        "        0 = upper left corner\n",
        "        8 = lower right corner\n",
        "\n",
        "        Args:\n",
        "            action (int): action\n",
        "\n",
        "        Returns:\n",
        "            List[int, int]: a list with the [row, col] values\n",
        "        \"\"\"\n",
        "        col = action % BOARD_SIZE\n",
        "        row = action // BOARD_SIZE\n",
        "        assert 0 <= col < BOARD_SIZE\n",
        "        return [row, col]\n",
        "\n",
        "    def render(self) -> None:\n",
        "        \"\"\"render the board\n",
        "\n",
        "        The following charachters are used to represent the fields,\n",
        "            '-' no stone\n",
        "            'O' for player 0\n",
        "            'X' for player 1\n",
        "\n",
        "        An example for a 3x3 game board:\n",
        "            ╒═══╤═══╤═══╕\n",
        "            │ O │ - │ - │\n",
        "            ├───┼───┼───┤\n",
        "            │ - │ X │ - │\n",
        "            ├───┼───┼───┤\n",
        "            │ - │ - │ - │\n",
        "            ╘═══╧═══╧═══╛\n",
        "        \"\"\"\n",
        "        board = np.zeros((BOARD_SIZE, BOARD_SIZE), dtype=str)\n",
        "        for ii in range(BOARD_SIZE):\n",
        "            for jj in range(BOARD_SIZE):\n",
        "                if self.board[ii, jj] == 0:\n",
        "                    board[ii, jj] = \"-\"\n",
        "                elif self.board[ii, jj] == 1:\n",
        "                    board[ii, jj] = \"X\"\n",
        "                elif self.board[ii, jj] == 2:\n",
        "                    board[ii, jj] = \"O\"\n",
        "\n",
        "        if self.render_mode == \"human\":\n",
        "            board = tabulate(board, tablefmt=\"fancy_grid\")\n",
        "            print(board)\n",
        "            print(\"\\n\")\n",
        "\n",
        "\n",
        "        width = height = 400\n",
        "\n",
        "        white = (255, 255, 255)\n",
        "        line_color = (0, 0, 0)\n",
        "\n",
        "        os.environ[\"SDL_VIDEODRIVER\"] = \"dummy\"\n",
        "        pg.init()\n",
        "\n",
        "        # Set up the drawing window\n",
        "        if self.screen is None:\n",
        "          self.screen = pg.display.set_mode([width + 16, height + 16])\n",
        "\n",
        "        self.screen.fill(white)\n",
        "        # drawing vertical lines\n",
        "        for i in range(10):\n",
        "          pg.draw.line(self.screen, line_color, (width / BOARD_SIZE * i, 0), (width / BOARD_SIZE * i, height), 2)\n",
        "\n",
        "        # drawing horizontal lines\n",
        "        for i in range(10):\n",
        "          pg.draw.line(self.screen, line_color, (0, height / BOARD_SIZE * i), (width, height / BOARD_SIZE * i), 2)\n",
        "        pg.display.flip()\n",
        "\n",
        "        # drawing noughts and crosses\n",
        "        for i in range(BOARD_SIZE):\n",
        "          for j in range(BOARD_SIZE):\n",
        "            if self.board[i, j] == 1: # Draw crosses\n",
        "              pg.draw.lines(self.screen, line_color, True, [(width / BOARD_SIZE * (j + 0.5) - 10,\n",
        "                                                        height / BOARD_SIZE * (i + 0.5) - 10),\n",
        "                                                      (width / BOARD_SIZE * (j + 0.5) + 10,\n",
        "                                                        height / BOARD_SIZE * (i + 0.5) + 10)], 3)\n",
        "              pg.draw.lines(self.screen, line_color, True, [(width / BOARD_SIZE * (j + 0.5) - 10,\n",
        "                                                        height / BOARD_SIZE * (i + 0.5) + 10),\n",
        "                                                        (width / BOARD_SIZE * (j + 0.5) + 10,\n",
        "                                                          height / BOARD_SIZE * (i + 0.5) - 10)], 3)\n",
        "            elif self.board[i, j] == 2: # Draw noughts\n",
        "              pg.draw.circle(self.screen, line_color, (width / BOARD_SIZE * (j + 0.5), height / BOARD_SIZE * (i + 0.5)), 12, 3)\n",
        "\n",
        "        board = np.transpose(\n",
        "                np.array(pg.surfarray.pixels3d(self.screen)), axes=(1, 0, 2)\n",
        "            )\n",
        "\n",
        "        return board"
      ]
    },
    {
      "cell_type": "code",
      "execution_count": 6,
      "metadata": {
        "id": "Yhocpw-j36C0"
      },
      "outputs": [],
      "source": [
        "def observation_and_action_constraint_splitter(obs):\n",
        "    return obs['state'], obs['legal_moves']"
      ]
    },
    {
      "cell_type": "markdown",
      "metadata": {
        "id": "LqFsRLWJslkf"
      },
      "source": [
        "## Random play test"
      ]
    },
    {
      "cell_type": "code",
      "execution_count": 7,
      "metadata": {
        "id": "uU1h9wSWa7Lh"
      },
      "outputs": [],
      "source": [
        "# py_env = suite_gym.wrap_env(TicTacToeEnv1())\n",
        "py_env = TicTacToeEnv1()\n",
        "tf_env = tf_py_environment.TFPyEnvironment(py_env)"
      ]
    },
    {
      "cell_type": "code",
      "source": [
        "tf_env.time_step_spec()"
      ],
      "metadata": {
        "colab": {
          "base_uri": "https://localhost:8080/"
        },
        "id": "5uNp0IZiTKNM",
        "outputId": "0b442862-8e18-45cf-8a73-d85bb882604e"
      },
      "execution_count": 8,
      "outputs": [
        {
          "output_type": "execute_result",
          "data": {
            "text/plain": [
              "TimeStep(\n",
              "{'discount': BoundedTensorSpec(shape=(), dtype=tf.float32, name='discount', minimum=array(0., dtype=float32), maximum=array(1., dtype=float32)),\n",
              " 'observation': {'legal_moves': TensorSpec(shape=(81,), dtype=tf.bool, name=None),\n",
              "                 'state': BoundedTensorSpec(shape=(9, 9, 4), dtype=tf.int64, name=None, minimum=array(0), maximum=array(1))},\n",
              " 'reward': TensorSpec(shape=(), dtype=tf.float32, name='reward'),\n",
              " 'step_type': TensorSpec(shape=(), dtype=tf.int32, name='step_type')})"
            ]
          },
          "metadata": {},
          "execution_count": 8
        }
      ]
    },
    {
      "cell_type": "code",
      "execution_count": 9,
      "metadata": {
        "id": "qJYsgWM-79vr"
      },
      "outputs": [],
      "source": [
        "def embed_mp4(filename):\n",
        "    \"\"\"Embeds an mp4 file in the notebook.\"\"\"\n",
        "    video = open(filename,'rb').read()\n",
        "    b64 = base64.b64encode(video)\n",
        "    tag = '''\n",
        "    <video width=\"480\" height=\"480\" controls>\n",
        "      <source src=\"data:video/mp4;base64,{0}\" type=\"video/mp4\">\n",
        "    Your browser does not support the video tag.\n",
        "    </video>'''.format(b64.decode())\n",
        "\n",
        "    return IPython.display.HTML(tag)\n",
        "\n",
        "def create_policy_eval_video(policy, filename, fps=2):\n",
        "    py_env = TicTacToeEnv1()\n",
        "    tf_env = tf_py_environment.TFPyEnvironment(py_env)\n",
        "    filename = filename + \".mp4\"\n",
        "    with imageio.get_writer(filename, fps=fps) as video:\n",
        "      time_step = tf_env.reset()\n",
        "      video.append_data(py_env.render())\n",
        "      while not time_step.is_last():\n",
        "        action_step = policy.action(time_step)\n",
        "        time_step = tf_env.step(action_step.action)\n",
        "        video.append_data(py_env.render())\n",
        "\n",
        "    return embed_mp4(filename)"
      ]
    },
    {
      "cell_type": "code",
      "execution_count": 10,
      "metadata": {
        "colab": {
          "base_uri": "https://localhost:8080/",
          "height": 500
        },
        "id": "yNw07pahBY78",
        "outputId": "ae8d8d28-01ec-4454-c067-ac42ab81af49"
      },
      "outputs": [
        {
          "output_type": "execute_result",
          "data": {
            "text/plain": [
              "<IPython.core.display.HTML object>"
            ],
            "text/html": [
              "\n",
              "    <video width=\"480\" height=\"480\" controls>\n",
              "      <source src=\"data:video/mp4;base64,AAAAIGZ0eXBpc29tAAACAGlzb21pc28yYXZjMW1wNDEAAAAIZnJlZQAAWGttZGF0AAACrQYF//+p3EXpvebZSLeWLNgg2SPu73gyNjQgLSBjb3JlIDE1OSByMjk5MSAxNzcxYjU1IC0gSC4yNjQvTVBFRy00IEFWQyBjb2RlYyAtIENvcHlsZWZ0IDIwMDMtMjAxOSAtIGh0dHA6Ly93d3cudmlkZW9sYW4ub3JnL3gyNjQuaHRtbCAtIG9wdGlvbnM6IGNhYmFjPTEgcmVmPTMgZGVibG9jaz0xOjA6MCBhbmFseXNlPTB4MzoweDExMyBtZT1oZXggc3VibWU9NyBwc3k9MSBwc3lfcmQ9MS4wMDowLjAwIG1peGVkX3JlZj0xIG1lX3JhbmdlPTE2IGNocm9tYV9tZT0xIHRyZWxsaXM9MSA4eDhkY3Q9MSBjcW09MCBkZWFkem9uZT0yMSwxMSBmYXN0X3Bza2lwPTEgY2hyb21hX3FwX29mZnNldD0tMiB0aHJlYWRzPTMgbG9va2FoZWFkX3RocmVhZHM9MSBzbGljZWRfdGhyZWFkcz0wIG5yPTAgZGVjaW1hdGU9MSBpbnRlcmxhY2VkPTAgYmx1cmF5X2NvbXBhdD0wIGNvbnN0cmFpbmVkX2ludHJhPTAgYmZyYW1lcz0zIGJfcHlyYW1pZD0yIGJfYWRhcHQ9MSBiX2JpYXM9MCBkaXJlY3Q9MSB3ZWlnaHRiPTEgb3Blbl9nb3A9MCB3ZWlnaHRwPTIga2V5aW50PTI1MCBrZXlpbnRfbWluPTIgc2NlbmVjdXQ9NDAgaW50cmFfcmVmcmVzaD0wIHJjX2xvb2thaGVhZD00MCByYz1jcmYgbWJ0cmVlPTEgY3JmPTIzLjAgcWNvbXA9MC42MCBxcG1pbj0wIHFwbWF4PTY5IHFwc3RlcD00IGlwX3JhdGlvPTEuNDAgYXE9MToxLjAwAIAAAAoBZYiEAE927CE63r4Z55OSLoBY9auNNnqYZ96pxKHDZa01TG3wI9ylQvkSjM84Z55MF7kxvAzuL1I1ZS5e5O2NmePdEWS0d3AbT9NWtMNiIJR2W2wMISLflSw+clmrEz9ixlL/DAk8A+6rnw9L/D95lml1i3v9gCN26AvmiFeAfeluqOq/4+W2qTYdpmb4045zPu0jfzYbCmD8FZ8abzjB+7FD8H1GRa8RjEhMYmqbHA+gWWcYSDi+DXSIUkyPmZcyE6VzvsJjb86xcTCwD2D5oWDqPGZFLyb+OLBHWlk1p+586haBHjn1wQfY/TtldHY1b8/Jaysm+aCCBHIW/z9ggSLcZ+gs5VM/x0ZLDeGaTmyAsTTxjO+lWPRMWQphkFd6+i4H/sAQ8TlecpavIsENv2vhpXb1HLF+y+iXXUSU2zETOt2J84BiyC6lLCPJ797SdIpQEGboGkP3lt4Z/rvzIPD14BfOuq/pVAWA676y5oFJeaW/5f7kHQBAhpOMtfpLPxE4ET6c33G1TY4H0CyzjCQbzzd54UkyPmZcyE6V2WJf15u23//K909rTpC78vtcTZWpIIpT31f+7zKpWMVQwMhLEZD9YLpJREV46Yx5gs9dFydwojWX1aZHuR7kwT+AAAADAF1TrBfteHaVe4CqsGSt00NjsMIAMOqivhAfgo4ylEqnpQKFt7tWnUFZtmly1XB0U45jj7LnOb3o+6qZK8kmk2rxHkcu++uXupoJEGeNvO6V4SniYReR/PTpZ0F81246gOBbw9eHw9mSpfYwmTDsjKiLbWxJxJRiMzCKWzEYAM/KHld9LndE1TY4H0CyzjCQcbN8i4UkyPmZcyE6V2X5rsl9gq7U1XuntadIXfl9riqgczDDnG2ECxSNWn+XCSGb/kHbeBwiBQAAJqCyw14P4qe897DRfzvp5UdUhTm+HlFIz//oQq3pOLt8OWItIvIwd4OacJgxiaR5vZqAcaO5+CPQGYc9UOVYSL1t7iHh/ASsv01R5YyWsdaeOCbkcnIKXS8O54JzUbZ/LvUtXpE5N80/ozLjq18iawP3YtOUZZ7wyBcPvtc8q/fbg4msDfo4du/KVkSnPkqn71jNoTqoizwpT6+zUk8pFoAyRpgkkokHQlHNOxG8nO/Hr7eA3eUegAAAhguDjEBh4pQbaztCjR7FI1Hus5BNiwGWUAI+L8BCgOW99lunRRB4XBzJGfUWNhNnhTfB/8YxaIlosqFEn7/3/k8zK5UQdCCQpW78qwr3xCVforqiJHlwSdZUDX7EPggaNzVa9p4CwO5gD0exKa2T2okT78JNUIZt6k3fx96pwaMBGZG4XZqmjYWmqOQs7iu4FaEI7CWL+dW6MJnArb+ECUQiswAAC6ZS/2HwRZTO2EV4IAG6CfSnLcsVW0Hzp2gFVo5X9lv6GUW12rcO3xkY7UBUiswQ3v3nv/CLjnQlqyrG39JVgsnwzGQcDTexSaondLBZPhmOyo/pfHDExNKxiK49nYVuYoSuQB734hBQPzvysRn34oEN/4MnyDjN55ogqbzMZG3WDYauLPj3hRBczn/Tn/FSffZaBFdrHgxlxEVNwBjNLPlu27LjEPoggWfHRHlF35LRB3cs0W2G+BkLYuioQy9OLR8ZVc023aQG3msszVxd/XRvJ9tQoOXGJUg/IRML1ytJYvTLJrbFM3an34/QdBdlRxXFE7X3s7zZhGLFbxTcQX6sLl6nncM8gCIr1HufgNERQEA7ynvoCnEpkHxV7yFZmC28iSetANL9+EgQngNP/svDRGuIcwNkUC51nyZMZkDSmrKG12uvLAASpP3PdzC4Ib2TyyPxMcIei+rGSg9DR5Ny3HN3GHMoXTQ232WAgMxk2jEvnqjD/LwEPMMEbzEOPpkv6kIh17NzEwmUInLVmFiMAz2hHJ8JPsJ4+jGtkFW6n0klPHZiSn7MLQiCtP+doRyCu4PW+q76iTX274iuPZ2FbmKErkAe988piTVv8qjFzXw5Bsq4tI3eSH/mFcAMD3up9dSyc9sT9MQ7750eOaF/y5/TUjuEaOfQ68PPHdh+k71lc7h2VGSrAVe+wdi9gbfaFxONdsnHcR8X36trmOVPfwVbXtVMfq4/abfWcDExe4mzUkj+IhQkkHdhQ+fxfv/MxGIcSYZiYnE6hO48RI/9wsfUUel8gEAeH8MRQyrxC5gAAAY6kd2C9DKV1X3txVadMZeLYi2vWZ3wN0IYsF+YxsjgRMa2NZQZPS/mFtiNxhMy50q/RzvLV+Sc1wbZWUfBsnhTykyJw3aZn7De8R+x9Oaybqieh3YYaNcR51WUqN5lYG9zkFtWSJ4PynHBMTDRYsyGdN6h9jz5AisgsOCKY9T8zCeX6P/KWNCPGr1msa+ICXYLPSbjksPUc6zGlwPRlNLnSieOTF3UNafNcJfFE61ArSthkftv5M7LEut9i5msyZ8Hi7Xp2cd8gYEz7rGvhPG6hK0c2YElYtdNOkOg5uCDrS6qyi6SNyOdJU2dClZAGjhY0rw8XlQBsaYeNHT0v8+iGnNeqec/wYZUQaxfjAsh1Q4p6e4hbU53xnlAb9w36WbpPtYviJd1lDjMTtl5GXSLJl8yLjaJneW2vjaW12RakIGG4cMdw/JFtgZ7QFsUbywsjboS/NsuX6JXSi8VATxGRFPCDw/Rm8UzP14XDGCuAYwbQMfY7fZgS6qSBfjovMpb/LUlcdqeLiWQaAMXYWjnkBZzHm0oLz9Xt+jGg5Kr+9jPiFCZl34t9bRGMyIU+2lP39xjZTtjP4rhA/c3jwG/3gk80xzrJAAAAwAAFPd/gSHNaATJxql/Ea8gSUkEpsg6I/ue1sK2loW18BYTbjcfz0HnT3lHNN0PJ164fsfTmyC4MqnR/DQqoQRO3yYnzSreYmPl4uZ9EwiIL5LbFghEj1LhY2DOjWaygbDtJ4HUJ3v1TbqsigpBr5g+ZLI6omkhJSzVTT10hWbCs/O2oG4GFJDdhXE7JNxq+u95EzUPZ5aMk+aeOuV8HY2MA3NT1G0nKY2IH6lRRm7DVLojHctf8CCWlWl9EpwjIQHFKhiv+1V5JceWTNiZqAErfmbK9F9n8cm91H7LDT6Iac2mKGYvhnm71s/VWh9L+kj3XzCuhoq9qC/s3E3yC83oZ034L/invQ4rXQYxTGRUzxEIsyGOX+Mfs0c6XNV7d0xjPiFCZl34t9bhiMzgs7ZlbTa4cMdw/JFtgZ7Dn2DYXCEyPRm8UzP1wmDGUmAYv/ZlE7RKiBk7X/1bxj1hpqCoSUtzilmf1GBpM8L3eanpkyjvZX5edycYu1LWWh4Jo1QMSDnQvVLcgjJh+uaozKTu/qwFgAAABTxmTUcbyybKQWD2btK/cJHXRO2ZE9eWkA+OSTjS98GFJRAXLX8EGcaUNjTs0scAAAXjQZokbET/8yEnMjcJwuqTexjySSMzBcbd3BbJMhYrFLSbjkJBeoK/Ji7XH7Pf9/l7bYAjoEwbq3z6+UjudssVadR2ZiSn4rZGJeMZ1xyjeBrZWcUm1RPfa87DqR6sHOJoXlx79zrxEdob2L9M8vmuzc0gR44YN154NUC/NxGF7pPhWq9CPkppUAQybmy31JpqNeIVUGF1X90jwY3jXSCwWhcKAIZNzZb6ki3pFvpAW2HCrSbjiZAH+8AFuo5jzwuRSAibwlucEQdXy9bgz0RXw1an5a1Ao2BUxUK+DLg0d20mpBeZTduEYdKrVu8xWQLSBywsMY5BBGc/57jrmkCe+MrpYCmy9KF8Eb+rjZs3x5UG567leuAQVL6x9UzkgHpkoyJtv0BawNEo3WI4659QKTXKQdzCq0FFn5RTgTHrdYDrKHK4e9GatU2TB5DCQ3f3+v1NSbmV4RmrMC6DordFSHukqEMxen4Oaeql7UKv0FhBM/AK9aW4O2iYYS/Z77MBQxt9ifIWbTJwBuEsbHOWFJdki9QCEn2BESJsDgV3Q+rkaR4HPzCuzXxDRe8Au9t4wW7+WoQTbaI1KvunxUSP+6YeLq6npVGP7g4x1yihFFsbFMUNR6PmCtXtIPcA4hwYYyQ7eyq8Hs95jZ1qVEwjRmXlz7u8gR7VR3ywoaq46NPEBlHfPEcHcHNJiIP2b12Uq4F5WfpBKOQIxJOS1V8iWDyQ7TIhbW5KfWYhS0zIJQKo9MwPlcBdyeO+f71k/jbgLx7XgqQvaGoc8TF0giolP7d0MPf8aQYzG2UifqPVVxiBZby8JFrKS02gNXPGkNwlRzE0ijsFHe2NYTbaKr7amwcVTnR0JfUkziMltwQ+ClwW5RTZPNEKjLQcv/t8Ce3j5XwnoLAWdABmiGV0iSv/T5y2jipNNkuZOriv/TewCwf9oshjc0f3wDS+nNQ8dvCzY/RjdRiE9lTQEBWf4cCC1xHvZNoiqidKwz+aG9YOK5rMw47gIxtsBQbW9hPD+ljUDL16Z2eCYqHQj/PfCsJ/i7d4sEM3qzit8Z06LfZ16EGQqBY/VZb8mawzlK3um+D30V+0bu1haiS6VFw1Xhxj0c4iZvsgW0zk3ZU5trpYpt/aiJjzV5W47+Zg4AvF+66fjFulaZ4n4FIa6kEdc0am/02VfUe35tLp58WfHqYYN0KZw4lfBKG+WW8SZ5U7Wf1uhaZXTfXBeFs8tOSOu82EOXc4w2wxWfehDYxlxrTyoHqgNlWEKCA16N0NKCsgymiKgkqA2VX3sGW1DWXjheZh696Z4SvjBH7GmGtWJyottkq+truwwqkINvyTQ2PIIJ70QfTNspOmhjbwEGcK9w/VKlZLrMusAT7kClL+DCX7Pf+aI/h0//hGnwEvmohmjJiYthvubt4TLBnbVuExoc0wvjAI0ncTgUnN5xS+fMLmwdrv110Gun51V4P8py4+VMiht8f8fm7aC7vfhd3gLCNRuLavPbRpNutjilZ8UuYpUWjwjhCjRvbBEf/c5ooccuz6coUccKRvQNGZ6WOZlZwsvuhmZ5kN2lWgGL7AKu/iFDIjCQOJc9+OLfh/nGtLy7IDVdCfvP4Kp128cUqq4e6stvnbvyWDWhgb0jaxC9iObP2zmOHm4s+N4td3Rg/jUVudrMeFSl3bcDIVtyCBoISF8m0eXOYsVAI8+q9mz9cZKMRsCyUqv3CcPytWIhpdce5QKCIkSVV93/Lxq1/Sd3K7Cdet0ywQPT7igy4D3eqHJiIQ4ydUqKUdUYz9mSyQwVYDUVJB5rObcmdKQFrd82y/8s0KtPUi6g1sdH/pHKIIG69rH0Ct31LnuQn/1G7qASN4YuC/xs46m5Mfnhw8Eo6D4n+j09NM9XdU7LMj9DSaYPakiZtYb8/uVmo3zRMM382//QeZlo3vvaRPThTesVoL1GOtJHpIj7EMpND0nZ2Xm6wr4aMiO2jYqsShi7hrSd9NrpKhyPx+bD5SoUrTEJfboX64yAAAAExBnkJ4k/8qdWuNsBdyBh0MqZaIj9X8FHcNH/YswrgMRurebJxCatIvlMF7aKi5LEePG3BbiREcw8mE8NCYIDs67zOrIaxsdfQDvg7pAAAAHQGeYXREfzOK39bELapD3QfUJosMBmJTIkdvxqCAAAAAOgGeY2pEfwAr/u6bh80sydeubiHqLSfHj6N+eWgYIj79F7Di6nGTSiYn9ywXfVKUuIWB06Pkhp2N4UEAAAUVQZpoSahBaJlMCJ/zISRiObko0fFlmPoqLGJF5yk6qlNmmX9vKBeKG07vTIHCaIHW4Ccb6jKT5gAQCElDGclz+ufrg6p8LQTP+7heHuFCeOw3/iM0jF/3rbG4+IyrCHYZFMjtyRicC60gQyzGNVS7deZS8G9i1lO9S6Qtt/49SJvQZeSxr0yO6vULlfobeecCvivv7b/ubx1Ou0yo1/jLgOJJhQnvd7pyUJl1CsBfzorYR8s45Iz34c4UMj9uyjKPLKwzczLHpC65dpc1BCpdI6++Kd4B4X+ftHv2VGKIiM3jYJTplrH4yixsSavRVldp9aOV8HcmK3RsvksFWU+4qgsxWa9pSJMjF9oBEqk/Rq/H7s0lHEsxVTIZaeDFHN8eutdTACQxAny3DoBIqiXx2mQEZJO+l9BApjxTELFLzCs6Mb3THJO37Zn7RAUxcEKMlzyBNIn0pi61Z680AgLA6zODKqgd1D5IAJmXdZ/dTiJ0HqVRTqCKgZOSOSMsmRsGekgOL6CflLe7HnhubtBaPZ/mbDCHmO5AIjbE/zaAykWOaQuXi3Ji6hjVYD2v4s33CtfYWVXebuwhRcyBAK8XHq4h1cEm80+0y/jDmrV1/wg5lct+F91XjmlQf0s8N4WkLD9gk7UFApKAMOIl1oSYAiu2jCsb5s1YdmphYpiSK4ISQKHDIsSOwe+HGk1psqdr+SMMevGbnMhNCVIR4J+vmk7gWC9bMayPORdER1vn8IaYX1176/t6n+tT+73bVnGkPKA4QPK+nMwzAKl//XrwtXO+HZ5krsFPV0xXQmDx7jJmB3acivRIdHHiXNLVFZysE1rbldC6fq5VmANb1KEe+xpFDIfbYmhFCahvgiS0U8x1AcSHdyCZV5yA3ywFmLUEemWigkUGSOU5xS1jub55ENeA4fi/i8c5V2I2xnXx/+4qHlRuvAD49lql8A6VrmMG8bkMV7KBEm/0oYET7XFcXI+wPZFzq0rfm9gPi6i7iVjARWS9u2ZgeFnhy48ysjtgiIxhjQdgH8LmL2zYMphYMP/UEf+MJV68kiiE1m2ruuSUq4JMik6qbM23LEvOZ9Zosgi6cOfTs5X1+Cg2E2xWQV740VntZRCc5Os0ABpHzOZJthpMc2n1KN0Z07NTZBu9dVIv9N6/xxtwtOGPpkldGMbLXS1COvaJ3v+Ze+15YxpkImC++eiHsDvAVF6nmygpD9/X1TVrfSTmBJv8ZrYefze3nRsW0uS1lesf5vQ6z/DrniCbhUTj1G9/GinuGlPWS4zOnHo1L9o3Np9nDsjhlSgnsCcWeWEOluBlesozpd2qzAbjRTjHlFt7VmWY5VymHk5/3P/9hmdYfmkjNsjLmy6J1DGf4meSFqmqZGg+l4j2wZZSePaqQd0YJQYTshP+fLHdV832eMWSDTMvYy9/NlOynLkS6x/ffm7V2THpe5wbSI5Fb/U16FCo1noGceNsSWwZAKhXmagDJyAAgXstYEDF3q2IXdM05bqK9RRtllqsl2/QArbFs7lSBXy/2v7CsRspaRDpgfz6+EalDC4itucSu8qQ/dNGU9iyK/Ye7iYZeYOPPJeRWUtxfsW+qJCNyjrX9jBITqUokj7l8h94MKLSctq/Ss5QTH23Z1BP2EgpyWzMTrFffv4Gw7XhGe1czXp9wASUVtPjNNl1ZFg3d2ArwXeOa5nrKPxH06+3RR4p/eXU1eS32ie2SdzPLcxFjpwcHakAAAA+QZ6GRREsnwZynWVUhcvOPwBVn2aKLn+2kdI7XIu9u3ryeD7m9thIdKEQG4EKfG/LlXxK3avyyX3z6WupCPEAAAAdAZ6ldER/APF3Ds1VBNal8Olv5b572Uu+i1GIUUEAAAA2AZ6nakR/CB0Om4msBa+e91lUFVGQ0dDTyUYw7qvqR+egjvHEpyTrW79irY62h3NYck4F+HFTAAAEikGarEmoQWyZTAif9d/6BPc6PJPO0rL3v/+PJ/h3iv6GET5bvGKF6LLz3GVfa01PvkJeOrcLsHt8QOB8LQsVMuPC3tCW2PRQQFQeZR9OS2S+LqaU7ekx7Dnzt1R7+fkuXANJIPXewNNaQoNUnGqUtKDR9eU3hUJs6REX8vGdxNOfh73R2qhJ0zkRc7zIkNRfmWDs8Jj64qt/AxocmR4w9HS5uDiN5kKIqgNdH95rxSMDblAFU6DJAnsFam/mXv6xeS925rBvyPF7A0ERgKdL8JNVq8pylWqFe2zZ17mj460HD+rCSJkXdEzkGCS1FZv2PA/GxB4mNrLrEZQrsfV5hzGrx/QA9HTvpaPvXh/dvQgRBham1WL2Rc71AAHQn7OpywGp/N1TK1QAJHZrF7JFaskgUSSxW5MfVXu/T5v/6gOg6KzLSoy7C6CqNYjli46xJVi3mCv7uwdFHaXvuZWBZUbYgqj1/ePfR6RXfKkanvJGoJozNA+jz3znvFjFVN/TgWYFZ2+/is6R/3qtQAQISdhVR98KYT63RMJx/JJYqFK686ZYm4BrbDBiyUo5sCM139LddKqhKSWmkv5HpCljEN73UAhUXqZXxTmSrAqxaTIv781NgwseNlEOpJa9H00TGe4bdT6J6m9iLeXkumWpKsLOdmQTh+38tNOGEc2VwOarW8hjo3qAGFPlssgZVB2PyyfT1Twv3C57CmBch2Cca2NOv1zcLs4FH2Mk5hQ7z8FrEgQAO94OAn9e069RWV7sjFwqVYehxXUcOfKhGJqsoy23/byWuRfQEu88VJCK6P7XDhZde+NsgAIxuAzuKZYi0XwK+otNg1CPh/6ZyLAn3niVXFzLz2ICvu8YC20hD3Q8AIS+BFF3vEFDDs6zAFo1bJcOPZmodpczisiAZV/eAUibFfNE3bmVmMdYonwCakLtuumNxzItmWrUoVYxkPwn9skuKPfSGPJsWOXGADqmSqLCYvBsujiV0FaRX7uMN7nlBLKS6Xk38FCv3lckk5K6uE+gomqAqLfL4T2G8oivryHq5iWMnw/7+Z8SReGFt9cIPRbUGFLmii1kqeZe+u0aMblMChEjzYMF9l1O+ux2jCX23BfhmuJW7uSLL/mX9/2e5D79htsyGfiN3/5FYhA+jbbpTawq/7G3+wTUZJTrKhX0fIjZb8m2IwMjt0GSIHSLaMK9BZ/WKHp6A+RNb+h+ywAEDl+SHRRgGXK+umR/FRMjUsBieduqPRJBsLwyd4jZeu9VtDU4fyur4N2Bz+AePLFYxYC/7TBmUd8Abyx8w4RuhoiPl/fDiHiHvSWoHHXmYXm2FFux9ng70/aMuwIlmyZ6Q+9eN00NbRk1Z4V9N820YAbs5oNqhMFoCze5UkjJ6w8X9OPj1Y3oAOsDyg+eDWbHMaFIF8gikkZDmnMjObfI6kPc6b+f3vkAAwR/1hk+aotPAh28/biQdfS95EFyx6a0nf9/cP511SWojMX+jmxX65n04ns8aD3vVPdjPe1kFX8FkkjJeTIoLYNZFqcdiJGqoX7EkdqCXSYAAABIQZ7KRRUsn3rGSF/BgBlUtORDCF8CY64HnW67t/5vGL1mXc3pkRGLZPQXgWgtN8KEOiAwbS3WQanlhq7XjvNCLbmVGv1hRVexAAAAHgGe6XREfwldP65RaPRdQynS8H0aE3iQUKre9UxZMAAAAC4BnutqRH+Abrxiu43++hC5R/SjaOZ8HbKxovOWwY2f/pRS04coGUEiv7i19G8wAAAEgUGa8EmoQWyZTAif9XJ707S4XVJiW471/ThbpBd6Sf1GUnwD+CaPqHSbLiN2NkACopRRZ/3/wI3XAUm4GVnatqVry4iLIllxm9S+YzUKR0ZR3+Rm9A4ucofUtbR5VisRgv5ihYlfSUw//rRWuis7p96b3B6rncVG1Cp7HA96dewLk/GvOzWl38JN1xOSto3gfLgAt4QL6vN4RNNtz3OqSo/kMoKTRD+qFLRHrQuDWdTB27RTtrgCo6nUMBfOUt+y7i3WEgs0YIN5O5fVDdvk8/eUtHIdqFkoUpdUA/fnUf9D9A20HcA5Hmd1+xZJvukoeTgA9WhAUMJD9dHPn7sTDegwi+zGLf1ea7wO+2pmg3lxJLmgGr+uQCk6QBiz8CCE1Lp2OBjWTowRO0Y25BUswLItk/1d6VW/OnDJwePAIEl94jnF/mqWMlSrKSX4CoEA9oYGUYLcG5CY9bXIxJQ5iftHsLs697p4n8Dt17fbfm+fAex7ITKRfzrKHNWxGLgrGttXGPzaSxt8BL7ANA4JWjWujo7sPO91RFu2P3X9E7ca2MPjG9fJI0y2I0r6kixjRqL4djUXhj4vEN/SW3mpmFb5KtxK90cSkI2SEfKCvTV0qrqhcrqLPqd4VpGNGPHs7tCfZyuA231Utb7xq+0Y5+x4UPs42hq2cLSpishfCWEloqRkNysgVA3v7SMHMdNUPLw7VK2lLy1T1nUPKs6voqzeaRnCH1y88TeF8KinJz7tM9fnVoH4h3zen8Fdnf/8ROQKYg0lpFaIdnciJnAgnIERZ4D0PLhpcxGOlf+YlGY+sGhmF0+BmIXNWFounHxA0XPxx+WrWaQejivYcHlWGVyxkPUqXHV0iXtLMJ7HIFbuxAdIgYWBZ/7MZgrLlcrOEGba6ODnK4hVSWu1QDShC4hnD1rlCC8TgS6MTUZurXFv0ORnnBqKiMPRTyPt6fimln04C3v3+g5f0d4oCvnWPJwHpLWbZinwV7/9WKGo3m1DTpfa8Yx8YNYokPvSmwN20T9K1R3N8o86yDNwIbuQMWxpi1T1/iIoc1kl4CdDrmwqj3Qv2OC2qR5dD9QaTYLqsLXQSXGQz1G4kAdnQvw66KcdnIvrYW+MWyw+MLy9wguTIoCnV3b77HHyZXTmSUbz4WY2BJe3OQaryZfzn28/ZI1UnJ1h//G4tCdOIf2+5mBAXVnpBZim9w5xLPFapphIq7PzT4+Ox+ESi8pqcQtv8lcykNBaItAbHSlMYOQXlMS/GSbsI9TdSUubhxU10OBLIlV0VZOqf/KWw4FSDbr7/Wf48lpAviKsXcYYIYIPgrVSjKKjtIfU+dWrsAlPP+lV+RgDPxrG35MY/RBv9xP830S1mvtqLk6Cpp2xhiX51H/Q/PvRWQn3JKl2btRIPmQyGc4jGI4E4wFH7473btrYbzh2SapsmT8PnfHRfqa74bqUP3fI4IUwiJ6n5PEd5ZhBKx2rNvcKBaVlC1Pcj1FF7Gd4p4+ACdFDYOyJSv5lk7gTXcviJqMNXiDLMSNHBCGQQmEAAABCQZ8ORRUsn3ffsWXXmxtyRExnpXpWWk+Sr6ssfg71OyRb2n0u/z3t1P9VEZJvJ+8YTv8Jk/aUyh/+MfTNuvgBEgd5AAAAFQGfLXREf3/CuahzBuovAFNZJdYoNwAAAC0Bny9qRH8BlgbI7B5D2+p9FvL93d7OukAQJC0R6GP0HRY59Z3pTA2Qm7EJBBwAAAMfQZs0SahBbJlMCJ/PgwRxprFlOqFZVNkH5VkZ6vfRGvTdwYC2oyQU2nFw4nxJzZDk0a06V3n5l8cGqfdgnnNxpgro6cc5FFvFmCQ2W+9/PstHg6sOyvWB1Vp7BemlL8BhXMrRZ1OUQAnrNDlx2NLGTVM4pzDbV+M8NbnIbjpv/SqHvKyx+E5mrwPtorFw5NcQPhConSkntBnp77Zr+BGS1xK7PDAsfo6hahXPMr9g3vjWtq1/23dqQpB9sp9f9do6CjCsyrCExopgSxltWJkcHVUGBBH9Q4TRjMBWvEFShVHBFInG6rfQlCFPfSvGin+xgcIRhg8e4onvxOgAqXJjd1Wj+1MQD3kNaCOw1Z4AyTPAWby04eK9t2I7NAS+eScs/MzqlPraFoabvFBfHun+XUNB5+NcoNXaH81FaxOElCusExansih4azDuKZMG1tEs8R0PBXn/JNGje29gWchYt6dEPzU85rzFOoVrZVLmg5NJIqjx8FHOQLrZ2DJFy11oWkAUHrmeQr0VWU0L4t4QYf4XWm2/loPxBD0MMYBjABqFuclziPEPk9ZvNBiSaUKgrnmSIE+B6GGMAEgFuevUKRXWLJhJI86oOiPd/vQWBcTsVV/E3rJYHz0oLCTfUqsMhE0kaOK7mGAPd3Un+rpVGPadJEjbcAFRU+Kts/4bLo13CLb6BTXqz3jV6Bq4vmyib/U8bmeWH2aIZRtQKmToWP5Ov0dvj7GId5Pbt/Bu34SLRfAr8GyMo0Lwla3S1Dlsv+yk9BLxU+wIleksWPpRH0xs+vJwN7Ia6KbdiygyAZXNVCMs7k68x1AVOHoZ9+N1xfuF+fxRodm4Vk9/Lj9YbDgeP7J1VCUah+fu4NRf8+MtJiPR6oFYkey33QDZC2AieNknP365EjNrqJ6PLesi1hTt7WgtVNzT3b+dufNvWxJt3LiDy1BoU0RHclNMn79g9aniOlRMV7fhS6065djGIBD/Bkwr8ke+5XOs+fkqkHmLwbRZO4OYfiheKSZ5eFhS2Wx+Jc0HQ4ESDucW5vI2m0c7Uy0Ino9r6otQHLcm4AAAAC1Bn1JFFSyfzU1lyKzgx2/D+ofJVthSVJIp6cy/W7urbq984WyTZQiqKwEFCokAAAAPAZ9xdER/zY8DKIAE0KUOAAAAHwGfc2pEfwFgHGHTaqBwreL5uNgsvoSd0Q0dT4/uAZUAAAXeQZt4SahBbJlMCJ/zJP4EBPc6PJPOyhJDF//HZ/OBd8engeOeT4nqrOnDylwIXoo5YNeCf2LkpelRr7Q79JbjwvGiD8oO0Ifa08/WNdAvaelYIVbsBqBkRA2gsI5ss0Fw2/eAyy6fD1TOqB0yApskqgyH/lRD5R2id9VlsL9WrPQrEzRNfgOQ+o5mkbEuYHLZZz53lMHGgyhZv+9mAr3Jw5D3Pu4TQT/Owcse9goYTbsYOzCHaDT5krTjSv+smxQcwcq8cYtabA4WPB3rn7CbYRCGPL+N6FHr5kWkqLYxEkGauzW+gKhR4VVL59m56mD3Bwj1r7tRF0sqSXMyrcrGWoQzVVfd4a+dacZmCGOOkDqhd51PRa0Xeq0/XQRrX+XnpJYUf54xOYY9Lwmy918eQQv58xMMjL8R3BQd5Q5VMU9lBqVtExWmVC8hEnlJsvXVkKvWXSGlAU5gGHukzwMPDjHBIw5f4jgPi39KK6ZAwshw7OuqGTVUJYuyDf1uqJOCmEgb8qHSSLFmsSh75QipDbax8kUl4Z4GxnUAC0WhCp/jQmkYjwT5qBCvvDiV4gh1fpG7ihnixOmTLBuGSiiaYhKaylYM3zMpc3pznHaWOoQsO3fC+JZqjTr9aRMaJYHbTsSFFzU7OIDZbuiI/sPrgRPis2Msq4r1G/DRyMzdYCm8DAlD/qRiOluL/sT8t3g3NdrhbzJzjKq7TCwZfaZiUD28BAtqoFxF1xy+P/wXXHs88YVdp6cljFSK+3lpjiexj5ylrGNHOq5WtvSSrNbRfovef7ZnoFsqnHJsRVpZxJpg1Xhqx8f4T1KnIDO6n+zvIBzZf+AQmd7vb878o9TOyiumbjODVKUeQoFjD3y84IPoRrrHPE7d+xR82Y/P0pI3PTFHZBl26iztFGfBulDwfdylqF03pXgbmgwp5wMztCYTEGk8zIh6TeSane6jSwkL45w1JEoGvw9fnqNCxLDXUDJPXYXTef+ALYa1oNmi31z3jpdwNx1k4PwR2PsiMxV5C1NL7aOnJFdHOCRoM4n/Eh+8DWu3P5wEL72/t0e1/Ft4SlsM7mV6IUD4oVcknuL4rG6iCSU+xAMPRDSdouh5YnTEU0l9EbsUUMIhT3+1uPA+a8w+xMSlaQjX+su6e1nB3wZcoTqO9Ifk4hEX/iyHcqKPSCSrzJIkR2LzplF05AHZvsyCqIgtI6ZVX/+FmLO+uI6c2eQA90v/ef2WIFKKs4liBytGwctAcqRzucyhXBoSUBP5ZNm7cZ8LEAjokrM04QQ1uBnNobFBWbeHa60G/CV/+Z18tTap3KXogUP/8r7fmJSXPucAjD5xhmazXTQ4/LjES3+DxuspSoYv70B/gp6ckzMLeIhACYmua/hlaELIWIk1Dvbf6kUjUOGtajQ+sWFY+bvoSVjgNw2B/ycRYwHT36PYM4hg9JFlSszcARvxVmg2rYUiYz2LweFwurSi/CP9Q+qKJl0W4MXt/Wg4oy3qak/XnrD98oBwtP6G/wpV3m5F5Xc0kfxGoP7CrFysQpIXeREn/Er9gtfazaGfOVQgfdMwQCI5Bmh6/k40UeUiWkDnWYkrTCOiFIfHMhFQdm323KQeNKfF7PcpIp62D9ne1LNG0M6qvnJ2mPctvQAUCt/eAPtx0I6ArGI+LDrE9m2aZwiRWe6M0B2+VL1tHxGvPDoEmF4DfFhGSGrW+gbNKiI2Akal1z5f+bZZo5/eCSeyhVFZnK9Zs1yNQeZgk/leARHvnvPpdTeOBNSvBcEGqb/uitb0hODk6C1AC9/t8tr24DsiXD9k3BeRpObcP6FDMA7TVZt0Z9sxQnHz1aXrKfZMJHlICHyTtxyqRWm54Rf/LvnLkn8rUwkB/7LOr/whZa/ZrCZAz8QwYAacjmur6W9sY0XJGW+f1Y528YFb2BEjzvsauEEr4jzB7oT150zDafPwJquq/f55xbVg7DfxyZmfWAgl6KfWOdtcfknLEdjtexkD/VEEYMfeoHMAAAA/QZ+WRRUsnzbV/SyEq691BAH1qdkPDonaUUf+qVl3a9R+J8dCaDx4rA1FgJcUIJWvdIHQR3p7Xgs2xNvw+mtVAAAAGQGftXREfwFfCaNDjT/ZlZLQujAOOVDBubcAAAA6AZ+3akR/P7HLgqX/7kZDQcmP8KTjJwsoCPs8qXjT+G5A2Xtoo0KqgBaLNpm1AZpgJhMk41e5sw2GhQAABE9Bm7xJqEFsmUwIn/Ms9e9+SQxf/xl+ws/PuuIcXSscB8/0Jsj9XB3NAUZp9EGcoF1scC+ASBPRGXu13JIRXA5B5vc3fSovr0KtOS/t2pv5CIqAvag8jBIsnwms/mIYNQQcpo9wVfAd+ktMak+epgGMlg45ZbUrZYIo2bIrJMRNyFDAmHNgYHXZHXXCEaLmVDtfiGf1mYr6jIO5ESKlK8N9ieXAh7BBR/L+EvnJYVWE3edB3Nry9XoVEZEheezL6pTrLWIYPC9Kqedlj8x2G+rTutwizLHaEXzbI8xgWWvhQqF/SJzFkx0M9vHbW4Rw4ksqxkun5PyptRrtAvoFPeC1HBnHaWAxKMj6C8nNnL1vchQcOcIU2+IAeVjNQIWaVlItjsqg2yMbjRlulBH7NiFQ3G/pGKvqgZihjapPWGEcx2tQM05w6MGBzfKnTDOaVa3ZZyNgEH4+Ih7dxEnmZNdp0ejGonBEcsC6IuiOPOxfEYHVOCQcNR2mVUW4iV9s2pVOVKnYT14sPbskt9C7VIGTtjcC1O03k6PCaVx7sLlZVjmb0dy9TljsEo067640LQ8NQTqop2J0X4SkdSQrjR2YddcGKQHpodYMTdcCSjTdzqiZgLYLF8VBUCjce6qiWWdv7aZ1/lTEsSy+ywZ9lFiBbHLqYAESP1fNLvQgo74b+VlHS9O9Ueii9xxIFT15Ljj1McxgowkhNvEjsyBTznwzif+wlQVflN+sAcA1ndwAwSEw4Q4Or9nflWOQP3kJy9K7/v8nKcnGyNPaP1d9vJ2gjjKCJxsRpCntX7fGuTht7/1vcMCojhQ1Rpb7uwgdpJxZ9l8af0oAegliXXNJXNfbtVWXVE6LV7vkHnoU9/bbvypXWCDFjVr+dwuHSqnSq+mRq6ov8XLib/EmHi6A4zaazQvVrUar3Dhzxw+09fgbek0sgC3fzsqAK82WZ4gmQJRMSnCGad7ldtUcHtoRBg+2rbvmksllEXOmtfqQkXA/6jWxo6bL6YAoPDv6X33lzcxiu/4pWaO8HbVjKU2APIzuYB8qnih8O1kJ0HnhK2zvowYsmJDQxihmJmivwbQApNNkzDvJi3PH2AJX0BzzvFq+GNipyJ/jLxOCf5iZngNUIgW6OzRFpjkclAvoErUKYARCVQs8t4ISO/9ZtiK8d6BSVesEIBtcGsaU9dc2wlIYtpMUJ11fLLZyXM1DyQlD6fOUEllvlpjyohyvP4M9NcqCQ33ct4mfl9i0HWZ+vnyL3HwViUu1up45R6+CC38B36yr88JicD5pRE1sMbqDC1x0wr0Noyz7DZlMV54fyk/nT881WyJZE40cGrowOn87g2GOeSZOwfj0GIN1oXG0L3vfpoq/E1qfTYXE0EJTXkhgDoDZnCuUn1Gs7zV9madpJihOuwlgWLdRbBAfRlirytuJuPfIby0efldNGIo82W2TQGNBYeRWGRssYZcYoC+fQAAAAEJBn9pFFSyfQR47KM/egWANSjiJTqvYWCPgHIOY/18t979REkuT3wMFMF16xLEjhkFWlwC7G+vTi7FMiv4IQrigib8AAAAdAZ/5dER/P5ErgVfzCaqrXQCW94PoMZR8ZFANYhoAAAA3AZ/7akR/SsJDBTV/4OpXoBn8KmvLv0R4G88bzQOP37djhj83R3PtN28VfLK5FAUfwfK5epBoYQAABJlBm+BJqEFsmUwIn/MqDeDP7dj2qTesy6HHNUGjF3dScimlKlpNewFBCQzYVL7YkQXin+/zEC2HBTn3t0Q15svX0df57U4eXjJawTggTbWnHAiWaiyG11qk2U9O/FgJ7VzjybulWfhBYvFB0l6bmuO/j9VGWGmmnRz/s0szIs84q2YsuRMW/MFxYqR2lhzil7ptnMGhJ59n78A37fceyhQcLL3f1yw1E8rd0aQD1amHF+T400MFmAj4TfCmJEhQI4RO2DlLSGapxrMjEPTl5gxrL/0BqDyrP1A4l1l7Kk7WgHTiRWs/DnE23bmj4MNBFJGbtl7ZzeGYIlM3whZRWJGLAobzOqamj8HwMVphcuV6OA9bW81qB77dCVRDASP/+LhsSOpWu4Alk5ZPdD3gqgEEckAeLwHh52yXrxiMcPYMzCw0nnvlCG6O0yTPn2+cBf6jAtLpmVF0RG6CEVG8DHMrOzooWkGbLgk92A9S/JXDEs7LPCXeW6Nj4xVczviK+Np1asuAkg6eT2hqckxuEzQIlsv6CPZMuocqlmrUB/qjxyMwfdZLTpv0gPdN8HvosBAe+eorNVQu3uPSi9ug/+sPC5BHwXiftiz5RPT1dfILhHj/lN+fzk0DlOAT768VodsKW3xcGgVX+ut790T9JQE6nJ7yva3VMfapWtzu/HRVmk/MgmcBsUV9f7YitEfMgXOFHNxptRqOPNOo3p1Ey2k4Iug0X8OhVaJjgZCcZQBRaHV1y03JAYP4EnFkqpt1wpmDc/CveuexIG0NXPUjPnrBHmWVxcAp1O4qXkUKjbT+vyH22dJAQ3KBxPy9n+nARGh/uio8Ja2zijcRRd9CMyJNBIda1pZy9ff9SgS93VXLjfEtd8acVx2r5mfmJIet+cO7gVO7P5KO41mArrX9C+iZPna+b31ZFg2MesvmF2olxJ/v3K3QiiUzDTrae5uDi9qvHhH+v9eLjR8wM5fkh0UYAPDP8rEQJvrmp3gi+cqN2JZRA3bp3XUwJs8yKcvEaLVYsDGQNRzzUOC/H59Qth6nYjRZX4lyRm0gdZ3+fH5OE6BhUDmwf1wVGZ/wvXC6J6RVC8Li0YfdxbaYOS4AvYn7e1eqHbDcZER+sRm8pDyNMR47Sx1CFh272RCTZNqqGLn9z/lft7EKDcqtU03Feo34aORmbrjy1Ew1Om/34ovVIMaAArY1lOmqSX3E6r3gz9FA0bMV8eD/N02gnDHzbXGfJFjZVAwoZUN6f6SLe277vvd7Mp1YqabwQVkOL8zsJdKxhVtQiTTBqu7JK/y9K0iuSY0i94B1DO1wM0JQxg4y6W0z+VfovC5NsoZvcQ4WeLgLEUNFsIkBD+bn//ZdUtubPBqVA19rlGZgiIi6VVwsKn7WLrjl9DDsTyzrXTsE7txDiPg1Gaczz2v7zB8GMsEYf0KOLzPVtjSln1X/UkgWlYe+XzQ6K/4Y4bWn9TsTlYUh2qX47nIS9un0TiBvNrFFEdw92JS9x5S9/7EqTHft/h+YC4M5GmCIy/1Qk3x8VrUhPvouYS21u8EtnNC6UVff83TaCqALgheBAAAAQ0GeHkUVLJ88lKn6EcKt3nqoP7oupy8yKt2qzjOhXyeW3/nGyUeWVVaNNetp7ZmAOyu+BituAmrKa2KxN+DHDAd/LwQAAAAdAZ49dER/RtXddNSMwI1eSivUwAEJAYzBpjlcP8AAAAAXAZ4/akR/Brcxh02tGErUG30dO+KEPCEAAASRQZokSahBbJlMCJ/zIAKjlwyU/DuwOEsv5l//F/wG3iKJS2gR/ju+bnIZd99K2mpw5cIMjvVBIdaHWLnKIFk6i96PLsKWCzldaKeizAP88XRCu0fyM+0fH02+q2snIvNQVVV26k9w3qvEiRBeTIYmcGrRmNrssIBxUpdX/g277hQZ9sJKOiTYhoNg+nqM0P/aHIc4ysT/SlsexZKmYlA9vDl4prQTtC4yb0WIoNjwjKvPtxXu+XOYpr2TEr5r84N+IynSqgfTnT4lcNHIzN1i+Oaw6J4+hsT7nGluXyRBOlQLwKkirbqiPO0Tbf0N08EPq21uVyWs0KqFTSOv+4PwkD9zmv/3wgeedLo1u4eGvcbNOInEB0y8+eVPvJULRkYSakQjou7ELD7jrwcEqFn7giJLLK7b7kAge5Aqmijdcw++j89+yd83/Cxr/L381RNKCP67KBAlfQ/IhtMMKBh7w9xiF0GBQag1jov7Z3un2Gqb4KReWsTopSwphqyIW/3cLh2m9nNSWuyOhBGsQeTtCYpuP+7Q4JQ6pqpqHgTuL9u1yhYmklyDadH56e+Gc+wj/wZ8tNCSUnTwna9GsRF0gSd/pHo3Zg44iqcrF4Onltokqbb8iLGnKz5UTxlEzyBP0NVzu8LHdEcZEvkii1fcVW/QbSfg+NJWjWPk+MUcY25tzTS3KsX7nl4lltXg7sVUh38i4sIvhKZUXMlyzRGEb0KxYA/u+oZDyXFuycsWhAuFet2u9dPnWGwCjEeCTIayQf2dnHw7nt62sqKUZzE1yV7UPDuzlc7lIRWPkTMOcabOTHAATPamn0iQzWwjBaRdHSQIDPEfySEGsp7DF2rbX1N/XPOReYnYEoYRDQ/8GydgXYAhSs9mIIZVEA1f1/qtPspYDziVhtwDLZ70jkEw7VStBFI/XAwC8zkpWyEoqVUgo/TNQjoQmhuuTb2+A8bfRY2RCf7/UZ9Tjgz2eVGfbvP3Y0qoUqLFPusec+Afn5Ik+g2tlFkRdkpCigzTuqqLY7Cd8DrC2YIbvhQDKkUFRmqMl/egAi2AVUGHJdg1Yj+JI8EVWY+SnbARvd0deA/MvdbeLY3TdRiPISTgcGkWdDjP4bnfGWTZcVB8Spsk3wHvZ+maLtKhYBAhZA4nnIC0bIFE5wx+ptI2Tp1yJrKwqrKE1prPR8UBs7MJMGgcMsD7KGET0MgyzUArmRf2mXzdNL3w5aOU5qVqLZCeZiWdaU5OjexgezPyuo91tRNt+oi3V4VVuI8rvMGaM61+srInvTw7SiFLRvoSapBRFs1qQBYrV1VLGujqNQzlQcRbDsqDnC1Ovn5WZGgnRCB8s/ZnDIbr0RBf1cPJWmA7vVY8pViWMszPNtQKNU4KKuynOxuxCrnE0kJ6rlDQFMEELatnsQ9HLOYbnUPbyG8gLbwWuzze6sdqKVX8NrwCGYgjhxaLeS6nmdtyXoY5DhCm5Mw87pqvuXGKZho3gWEBg+0B5lQIxCahMECFgVrSDv9vlbPa5hUn0lQ3R/0fMagJ6qYwRAWhI7vNjEuofocwV64BBIMAAABLQZ5CRRUsnwWHwBhDHb/zXuntC6jgYRAZV4396JCAMmRxzi740K4lbvGyXr/+aXRQuuofbUNwQGkP/IXs11C+baZLQH/ZAP69z63hAAAAHgGeYXREfwb4AMAVtCNZIC9SeYF4DoeGUd+9hFS4gAAAACsBnmNqRH8HCCRp8+VZXCTEc177MBT1ZZlabMNcbVVRfoIJyshDAip0QeVpAAADJ0GaaEmoQWyZTAif8yACoAT3/0fDwkCko421Axa8oI6fHEmF0K3R0hKue1zXSbzlBuy/p0WbO01u+6OabHBEKT/xcCEJveWt/5q9qRb7R94lwV6lid7pxqO3yJBWkaqghm2TTuAp9A1KelhI8V7kqMuB2XR+hIC4c1xmfs3hx2M3JIDMjejIByYg40ND2bt6uE3BuufocFAuXhei3RbqOnWEv0vBEF+moOLt5Zt0W3OUqyna86QfGLDmxK6phCsBMQivKWgnV08rhEKCobRQ5aAuVXas5PFhkBTYGgSBxQwlqDdMupD2U+MT/psTzgUuptCPXaLIacRYwHT3b7sA+Dsm544reMrbEqUfiAKeFNzc5QSx+tKzXw4gQhOMYZ+/Z2kYMGL3fXYtXrJgMIH3SN9iSJrdYlNlK1dxzTHwFKDHQUWVJUXJsJLjKBQ45K/VJazSTUg8tGfTax9Uquf99HH7L8VChiAUB2PUUZ3ATqDAgR8F8RbL0gAQ8rav3ZMMXpOPtThVuvaMo0xKqvNPmUbeR1KLdYUV1kCiamAr6UOX86Vlgj71bFXoW1V/wwg1tLspL5EQX72Ku5Od+Xd3ir9ZiYxyjC6z4TSaiv41lB++U38M4vvqRay9UaD0s+CgeNffzwxVsO0J3tjScLBHHzf/+ldNfKdqPFswRI1v25mw9fosIrtvb4LqEoQ3SrIhVNtjxwQy9kO49ezZIhoFgWFrQnud/Io1JrBG4mZuf64L2OjDBpiHjgiMDHMZOX1q57ClMCQIoRqjDFhGzUbA8ecoWchN6Ktd+chPHNyRjzQWu3poYsFMgphUqXuduLUdbtcVIvosEEn46r12Sp41UOGY2ol847Nw+JFJtfv1VokH+S/Y9YkJO+Uoc0fqdAvB5RHEOSiNIxq44WK4LOThvj295W2rd6ziqcmcpT63yf7eotErwqJck6SFgC7fsKHFSq1+BeKiklF9GD94yPFtYBRCoNgeEIvHEM+DeIq/NGjsd8Co434hXltOtdO0A2Jjku/0ANsYf7ywXuAiMXE3wB0OvziMqcmjtAvnXdI9uwOxt9VJ425Q4QAAAF1BnoZFFSyfBZAagE8+3yg+HpbZ3+sxmC+leCBJSzSQmrf97cSQ57uhCILGB21a+VMHzBfSq/GJgav3Zm0KRbgL7Oz7Z9TTtKNhvaO8gApNE09I/4dr3yocUdIaY90AAAAvAZ6ldER/BvlADXPnYY8k387cE5f32wQBjX2hphIZ39AFJE+0r/+x+aedo1YEdeEAAAAlAZ6nakR/AAGPxctIGDVNoRICWonHoApH/2lf/2PzTztGrAlzIAAAApxBmqxJqEFsmUwIn/MgAACSp1j6bcr/aRKMSgs+A3dbL0gXr3H+HgLMiZ7uhbAkVWr5BLwuEP1LjsqOP/sGGKaRU8uxuARzyZ4yTgPlCk0/5ivMHvn3R6AU8kqgLEESImmH8mQqF5tTldx0DHwWFU5hS95UFvUsLiSAbs7vlr5AR8wyvjRLxB4ht4zDa2l4kCDX2Wlcp3XNKhxUQhvTyVekuFHIX3iJfd4/4M8D4mnnvSG6+ikYzHVwtwkNod8gpka0JSXT9OiJ86zvTH80FEWuyQwuz8MzROP12AVbPdpIltegrg+o9CibjRCVwTtbZFQ3pbMXnADv1wbVjqJNdn6C/0eQaOQ+7+VhOfWLT+A8bOYGog4HCD95DgeoE6W2Qw4CT/ceTqXyl+jS79XICFYdTJYVAZRZXz8muzsfZ09WWnuDq//t5GLigF1B7BzezlY2USSmhJUj61JOXmFPJSkQiKVEjUceiPY+1YY7QaISEnT8kLZLWS+g5VRCe89qBST21ZlgzCYG5ileFuHhRMI7LhLT/d/dgFWFUo5kAecAjjpgqJIzvMOIrCqUcyALhV2eH1M+ABAheK8mtKE0D5wL+gI5yU/yhdQ9IJEm0wG6NDftco28k3TFSn5hkYxNpPBbbp/qDb8WHvDB3HysUgarcYp8fVFPhTAgZYMdbjGHF5UxTse2bU5Akam10pf5D5VBTF/yvFE686LeeyoEhapSnBTysqnqgBvyXDQPRK6vgZZ14maoVcWrOLsdTe7IWyb3oNWCSoTeYPFs131kjE/lgMqQcHBX3yXU62UVA/EY8dR565WJd8kwUdW4LLnVB4iKjLWpCRXEzUQsPFvWfN6f8ShjiaQtYnRSliFolvXDX/vuO2uGrcG3DE0k/AAAAFpBnspFFSyfAAE1h4aTk4+9v+OuNgcIv/l2X4Nr1CQfF6NsT+e7+hgJhqyTa/we//tVh/RbjVSXDPLoT2uWRH/LiMedzJpmUnm1t5ABhtX9pzfmwm5RUBRSG7EAAAAmAZ7pdER/AAGMTYmK4+AG4kUGkA4t5j6AKSC9pX/9j8087Rqg6ocAAAAyAZ7rakR/AAAJHMq6IgZOXldFvPjIqN4y8+Tbf/wzaSrbkW9AFCzHBoXU+aedo1QeiSwAAAWXQZrwSahBbJlMCf9ZfRpHRH8GghUfp3LTGUsab3Dcy1Qz//hxjgD8rvcnIwTXL57FFElwD57sMeeqPWZFo1bMAkiyCMVRkGTjTTH51XjazCu3Rb3yUzpH1WRUEnfpLk5rJq5vc/yNqEFY6DcpY8ERfIA5t1ICT6W++4u80gOl7SOo6lk4sMGlGagQN9YUGumgdXZK1buHxHUwUXalUmlriIiE5KiwozExv8vfsccGQYkIFLL+vXWamzhM9Gc9BdUUHOax9S7CReIr/x2SeJNOu8evfHhRbiCC4ol1KVgPRXZFwTrsfLINC0rEUMWqpy3x0BS/1r4kwv0WtxVbn4/YC2uaEmzqdBE3Pt4EQHkf+tyu/pe6VjwVRV0gRHTZIhqu04yF/xjJHsEsUOLmUQIN5pibeQA+dfR5ODgojdbAPJyFtccO9rebhf0QbgBMGVXTBGZDcWGWL5AJOzv7Bilf5Dwycp2zLwe6d0hFZISQP93sPWDQWnHy5hQS9yDDulNP/7qsYqa1f7wOGkGWC3M9n/pq0Mh+0JGkJGeBsm7XZN2AHPJXP4TUWIvvvO9TChiI2E1zOAo7ysvlhrOocww+Nyfy43FNT5YGXssJ/Dhlks3bOIonniVXpSH4c2GAc8+iTvskrIPiJUSVlt83RIOliOv/6UiwhvRBQe01E0EeSwy0FaeM6qUaWbPwmfKofK11JI5qutjrudFUTWoSx/+J99ycwzHvSyjQItrTEluD0LktAu8WL+15ZdMDuNlliHvLl9kh28oUThNc4d6+KT77kXZwnvGrx3IBXIAssAeuuURIspvS3ZQn2rrDUrzrhAL1mRcTgJFvGJRzTcLpKWThNYyWrLR5oX3DjlJ1H1Lyjauhz211rcJc7urARk3Cmxt96OJ2MrgOU2mEOweHzJa7BW9w6+2D/svNP+Eys5Y4Y+571ehmE74tLNASu8vLNQWD4qhB9HLIoVzVD5HB+kmBgupnKZ1Dv34PXQg8wBs8ZQaxieGSTJa+XTz9jErmNoFByxU3zY8bqcEbMQRsLihbZq8QFY4WarFWs2VwtL3X3BxSyUOvakNGLdpH+VZybxyfo/yZSM0J8Ed3+0RU0V1jjMp0Mku4OAXYYi46lvNTCFp7veBPSYco+ZH7iFBlnj1JAVGMx9MkHXVFQGBIB8mJZI1LWPxAbLMEPcyF5lyKIN9tt37oYUuMBiLIV69DwS4NkqVZYima+xdk+gWujmDBXe3XgSwa9YEV19CLV/9jSPEJ/PJ75AGvTw8F4EkSdo3cfROZFP/EXXhXUwUvXOo+j7Aa2+EXo7o+mGljaQEEpNmZzBGGnSIrFJO/+P5qRrbqIr56N5ciqaazNGUG0kzSWYUx7qyxB+O115EMYFV2kLdSejejnqpcYZjfkyXzu8QBgqV88qSxcne94mT4KzMSj1KtF7JCyCNGQLSWNqk9R9ysmluzPd02YkP6BQ2MZQ6Y+W8WjRv+LRD6dZhtMcxP4ttZG99JKS4AliWmKj9rz8LizcGwQbS02+cmq1MbHbyDMebfqZE4Hdf2CPGrvPmr9+W4OJnQwkHgr4DZ+pRMeoxeITOAYk5rePeMe9yf+2yaz6SKTDFDFYpXSm1b++NBfum34leJgy4Z0heQf6LI7S0BvgCKTqftoSmV4PRLL6LhhEM8VTPFerl/7ajOSASPNi+Q0onrCLuLdotTZaSsOR9hJLKwi3fFKPFiaFDMWQb0kgZBmRnQ8VxF9aZgiluIO4UlkspfowRilAwlddEvafT8nmZEXQRRaN6mzUDuNH/UXn70gWmt+VB6Aj9HUT4XYeSv8udBw99j4bzyCGFn5RMzD7Yyh/7DoRx3E/bgawigGFcWGgqyf38/xPDlfByIwkJmYnsHVVJzajyqbY9DoKL+kND6BRbRAAAAYEGfDkUVLX/pgHTQNq/8uULp2G09dBxwEVl2byNJEKFF7rX5aCdQZoAKvTarILZKOKUoUC/VcILX625zqLgW8nhgGs/Jg3XwlDyc4pR4wzyADPjksdmfttf8p0xlJfWOwQAAACwBny10RH/oEQxnEZUJ0Dw4Ae2RmUtZILOV83e1+gCkjPaV//Y/NPO0asBZOQAAADgBny9qRH8yYAFi2DOeNBiKFi+kbn1KUCJT/MdGU9QaNIE1jU6AHjxmuj8qdsXFdP7Xw4wJArASPgAABB5BmzRJqEFsmUwJf4cGemjhV5b0ykoxt27i3zNI3Z5k4vWokdH7IbMUxpdZzFwFOQNt2mmCgyO+Jp4mP3mClqeNIX2YlxOe3jvFUiW9+aTc7eA9XwtHDu5yVCwx0ewdHMoeD/0KLZZR7kIBIbAZi267w4fgnBiddwRAbKxvZeU3rYWzoC+W48Ps52ZZ+8mku20VQapLaiFqk2eL6jLfsnMsEcU7QIxxfrFTuNhamdkuGK2x7I0u5Jk8EnRqEibktrM86DIJkYprKg0m36fIPSx2A5nLmdJkZgKU7GXIDRCdX5vn0SNxy4A5rB0f6yXGmTSwxEyXub0kIASb7YLB9F6klVDPKpXPZoVHk36u7hBvdEKgPskQlipJLrPZNwA8uiAPoSQcATUpQBqWXuL53PXEXQC0G0PSDJsXzivqSPuLHg7Yx3D8cOgpHFW27i1fc9Q/n1ECkGEF9j8D/5UmXRUPvyV81GJz+Pwhe29a36H9P73qWzXbFgUUYpuXGgwON7pLQ5XDZPY1eu7d2+CGHwKKZLltQr3C3DBfay/cXAMxDbVQT1iTdG170Qzjm9V6cwGkMKLel16eiaOWI/uyg/btL4YmTiFVL32Btr8ujyGEyO+YRq6LSNssczJO5aXZFwTrsfLIOGBhJ2aLNsVRgrxiIL5S7VQpOC0Lb0KsNfx1EiUZQJps4/JWY74R+JnowAVK7YbRra3UOu9zmV3VJMhgLOM/wtYftgZd+YCnNj5mFtbO9eAB3s0Li7qpVBzybqgmaix77jKBNNnH5Ky7VLEtC11DEAK8cWSIg3VWXQ+D3NIN7YCYMTvm4wRc/XEke9a72qvVdIvU3+0fljlZc72G3ysVWdq+txlAxpYJ1axr2zB+8cf98XQQ1KfPIKpRbZ/o6R9sni3UWYoNhyhRqpamGeLFqyp8fd+6GTMTUcDnR5GjUEvAx7RL8jdUkEDkpWJzRTcyLNPmEqlapZEGVr62q+SnaXGM+PidrIe0TOi/oojUnXu/sI0TN2J6DnUWdzylgKbw9J5N4oX3Ie4FjhaUvIJfqDF7jiFxL+9x9fmITbvQdFHBSSl7rVbRjw530/BpiR7HDw4NhrBsAaXywCpzEk91ejrjiKar4pSMl74h8fcoTe7V1NpJF8XSOY+R1S84MdDLL3PyCJqUVUIeYY3DXTlC5W7KLmjI7d5gs74CjC/G2kmWLw3Hrc8yDjAVliQ6Bd0jdvSZnXSnO/zMjZ3A9u2VUdHtVQy4LiRIR+Due8ErnykRvfWANJpzgX4wXJX+LMSG2J44yTUXETcdc/xQNmB3VcSxWFpWbWsqIlMmn1mqxDngCB485V+auuOs/7JVupWjGayrQeheQlbLeTK0MoySFcAvCyIM4s+fhjfio7qVy2hiLciaILoDNjNkAAAAVkGfUkUVLJ8ov5laXnRmK1Fg4Hhxvp8F/M69Hl9Pu/abuvzFphPkkE+YbTBiiXpml3IjF6Xp1YMdySca8yzURTPgaCncrEX29TZg/c/tt95vS8k8GmmBAAAANgGfcXREfzGwAMaGQ7xdceHEiptznf28Zhma4KRweBl0rQBRcsdCR+VRH+0r/+x+aedo1YC3MAAAADcBn3NqRH8AD28ovvDFbQ793HcwvFvfHuik7C+c41Xw+32ETxUsWS36AJ94W+trqe8Ll0UKHwOAAAAE7kGbeEmoQWyZTA//ADAEDNRDPs/+QqC7yenqU375G9E8LSaN4GnzyAzOUJij3J8E5h372H5g98ruw3OjOACd0J9UYqBjzlkAP8AWWfI0v0vcQev8xsyxCyRr1mPCsOQ/XlIwa8dpA6jRVPYKKy5F57XHwwZAxzCRAc13Qbi9Ie++Be2z/vy4v7NgjcnlOEhF24+eYLQStpT5k0jVa1cPHBo5wgxsuFNIJH8OVi1dT1BSkWaLlN7Fc2XTVF7N8kfj3hOzQc+dGMUTUSWN0LLriMONhPrTMWS8f/0kMuIQb23e+wA8KuCy1qd2cwGo0NvNGD0WrPVSLU+88IKRPYhgY+qPgMGLQP994+eJLgBFiecycC93HojRaf5T12t4nt+y0S79SSrb2zx/MpmaMCF+a1GrYMs4SY2xTHOBz5vGo0nIMvnc0SIkwZ3CfS1QdyUr4F2KsS8pUAxpU3fQLgAj0TEwTRsSf4x4EjSEPweoyLK1dapWMPTQ9YF+p2MzmiMdS33dSxVROyUOLpYEiriWPcDN/ey9JB/C4A6TMgVYZurZTQsFliYt0toesFOHO+O3RVf71gIK/ZkftrfC4ks5PJDx9EsQuLTULD0WwoRlaW2EIa7VpExqjtciT6RdGUKV8L3R0y18akXCo5eMu+cdpLQLzyI8Rr6UjAErjFt1keeIgPjyIO/5b7/tUKeRiR7u4Qhvw8Vsa6rLBTAwE5oRkcAVGfC1qmrarQHw/BNcsUJZrL2MNTUhlTq51oCuy9yfmEcJ2qEXGp2F/KAszxJ3mt4P6MDdZWuDlkzd6Gtq0vIZZTac9Zz4KymsIr971dJz2EGjUjcDmYSFwhmhq5Csj0HFmBvfzcnc96bnUHs+2Oyinx2vZTsVJoJTytQ5/D2i7fsL2UYtO3fpu9ZMY9amA+qt+RftdGf4Wh/yuffu2iUa3SFlR4VRF1rPBhEjPEkq78DTkqxSFkypuVhYr4lMwl0KIGZej7FEiRX835CTlmBzL7bFZhkbScBb6Jvmn7Vaj2elBRaEOTEufv70o+9ru0tGnc/yeLPe+qxbZ/gQq2DBNPAIjMPUxWmNgqsNDiC5xqHCxfwc0J7TsZwN5kMRsthu/ZZ86kGsV9GCyefjAEM7aNICdmsU/4UHFQ/AWu5ZKAeJiD8DslqA/8vTzLNuS++foIw56jUiulgyFmDHA/uD7gSzCf01GRvT6i+y6JmFanvawf/db86rM+9IHwC10wJz57qGvOBDcXnu2HdSxnt5hFpyOUvvHKVlc/nQHQ8UmEV0fuoRpV+jByCbyVJ1HqkV3KarGdlW/6LOpPjDmH6zI0CooUMR6vqPGod6DGZxdqXWF1ipJFT7Uyf7qaRzRxn8nGt27Xb4veZ8bJsZCJkSmn3BHIT/HWV8Z+vgKbG1gdop1T41Rw374BxKuA9G6Um10X8wDLYsxn8SeFTYQC/o/HJtSNWE2lFUFdwYN0az4QcpBowfFjbm7qW+STKm6/POBWqHYU3d+AJCrCmyWpRM/eZ8YNFu18M4pHOfcG486WYyBQ38OB0iZyhNPsjiTZzPVXiQknbVU/OwiF5pSMOe7Rv1zyuT3WZtKkQE3/e2yFNFW+fJfby6E31J22J15SbWC/nGev1+/VWWmKL2jcvPK/wmxd7tG0i8joTx86daAIE7HKGk6DXmYl2vMHlXAAAAf0GflkUVLJ8uXwOknS/fg7/t+dFMTRVK7vdX56keATzCOGQYVuN7d/v5jxgMhK9iGXamAvO6I37h2j/0XUNesUEmCBAw92TzD5hid8/Y46WPrw7mpPxQEPqKhCEma6NXUvtJSi0GowQsZbK0b8kReqxF8vBw/xftrc/tWIe0iRgAAAAxAZ+1dER/OET8yd/jHpZEIMNLLuMAsCEGiw+XEzwEopovj8qiJTJX/9j1KStGrAXDgQAAAFcBn7dqRH82UVIAreMb0tJR2z/9ij4RF1xCZ8berFkRa/kt9bpI/WNsBQJK+2YVy7yc/Eh/H+4fAWkxv55l9x6dWzNhBKTpx+VQhiMG3Y/OLQun9OeyfuEAAAKIQZu7SahBbJlMCI8BM/SimHRZNak6Cex2D03/Pk0ERUDgaOKAayItfyXBg5Gkk5rKuC1D00v8u8nQjQvjGVnBjRvWvNLNgLQdSk4XHC+0uBO/xUb6TZ/iv+l5S8krVuyNM2BThjGj4RauWP8Zb0GIsqlgmbF7Yyhps/Kubp5yvUjgaATBuDmR7lE4pDzFVXNQKoZyWLktCfDGq6qq5otQvSBNIsylRA50mR235VnsPnvw4PLKgYITbOlUXpECVIAKUkHrrQdIIcT742lTKPslnNwejCHOzz9fCLoGx6QOyF9Hxb/qLmLb0ZMQRkTy/KdHdfFJfe8WBT1UXN+28l5OLGfULDs9Rl4BoDfofVE4VbqeVOkFOoRBm5vIfbP6aR5dTig/30QnPeI+JSPuLltyA9so7ZkNevJmlmG3Uk213ea43EaY4xARHZwa67tesIsoLxaSj9npTwyUOdcA0coYvVpNbxfLhXuAjIDDUI8ENAg1fzsg36tmCTchriJGQnS4zAhKVIPbZUKyy755DaRECK9Oi7ablJZgWxO0Qw3CbpOnRFeixiYUq3hZIc/xNMFu4U87XayilqBom3aX+uzY4D/gbwd2VsFEljGMtWCMZ7/p5IF75nsTfZsQZPITUCmvTGxBNMPYc0azucuqAkG9iFQoTzXI3ZHKhSr4C7t78B/YQLMcuOr1sUxDBLQiour7VgGgGkZYsgr8+UxQHdVCmlqDhPMFM7ImKeqxPRsOJW/lpfYhnQLdHGZKcL/CRXZO26g5z+8nCur81/GcWp4MRKHiDUw2b26UTQaRUVY8gAd/B7hGhz3KhfaHpUM0RlAOulSQk2b2WDDDbYcC3sNVGzBEPH++xPoQAAAAOkGf2UUVLN8xDBcOUw4QcrQjGpUEKWaZDHS7gACRvLMMyDpd3hlv6bEt2pAGuPOXM/8/8IPPBccqbjEAAABVAZ/6akR/AA1tP/1atdR2v1zA17HAT/dRUAO8106iueGQ5kil/8fUUB0+Rlx49OGz3hmVyiXEuOHogdQkx1qtgatmmUBFL3H5U3wC1nM+EGBIFX2ZYAAABdptb292AAAAbG12aGQAAAAAAAAAAAAAAAAAAAPoAAB1MAABAAABAAAAAAAAAAAAAAAAAQAAAAAAAAAAAAAAAAAAAAEAAAAAAAAAAAAAAAAAAEAAAAAAAAAAAAAAAAAAAAAAAAAAAAAAAAAAAAAAAAACAAAFBHRyYWsAAABcdGtoZAAAAAMAAAAAAAAAAAAAAAEAAAAAAAB1MAAAAAAAAAAAAAAAAAAAAAAAAQAAAAAAAAAAAAAAAAAAAAEAAAAAAAAAAAAAAAAAAEAAAAABoAAAAaAAAAAAACRlZHRzAAAAHGVsc3QAAAAAAAAAAQAAdTAAAEAAAAEAAAAABHxtZGlhAAAAIG1kaGQAAAAAAAAAAAAAAAAAAEAAAAeAAFXEAAAAAAAtaGRscgAAAAAAAAAAdmlkZQAAAAAAAAAAAAAAAFZpZGVvSGFuZGxlcgAAAAQnbWluZgAAABR2bWhkAAAAAQAAAAAAAAAAAAAAJGRpbmYAAAAcZHJlZgAAAAAAAAABAAAADHVybCAAAAABAAAD53N0YmwAAACXc3RzZAAAAAAAAAABAAAAh2F2YzEAAAAAAAAAAQAAAAAAAAAAAAAAAAAAAAABoAGgAEgAAABIAAAAAAAAAAEAAAAAAAAAAAAAAAAAAAAAAAAAAAAAAAAAAAAAAAAAAAAY//8AAAAxYXZjQwFkABX/4QAYZ2QAFazZQaDWhAAAAwAEAAADABA8WLZYAQAGaOvjyyLAAAAAGHN0dHMAAAAAAAAAAQAAADwAACAAAAAAFHN0c3MAAAAAAAAAAQAAAAEAAAHoY3R0cwAAAAAAAAA7AAAAAQAAQAAAAAABAACgAAAAAAEAAEAAAAAAAQAAAAAAAAABAAAgAAAAAAEAAKAAAAAAAQAAQAAAAAABAAAAAAAAAAEAACAAAAAAAQAAoAAAAAABAABAAAAAAAEAAAAAAAAAAQAAIAAAAAABAACgAAAAAAEAAEAAAAAAAQAAAAAAAAABAAAgAAAAAAEAAKAAAAAAAQAAQAAAAAABAAAAAAAAAAEAACAAAAAAAQAAoAAAAAABAABAAAAAAAEAAAAAAAAAAQAAIAAAAAABAACgAAAAAAEAAEAAAAAAAQAAAAAAAAABAAAgAAAAAAEAAKAAAAAAAQAAQAAAAAABAAAAAAAAAAEAACAAAAAAAQAAoAAAAAABAABAAAAAAAEAAAAAAAAAAQAAIAAAAAABAACgAAAAAAEAAEAAAAAAAQAAAAAAAAABAAAgAAAAAAEAAKAAAAAAAQAAQAAAAAABAAAAAAAAAAEAACAAAAAAAQAAoAAAAAABAABAAAAAAAEAAAAAAAAAAQAAIAAAAAABAACgAAAAAAEAAEAAAAAAAQAAAAAAAAABAAAgAAAAAAEAAKAAAAAAAQAAQAAAAAABAAAAAAAAAAEAACAAAAAAAQAAgAAAAAACAAAgAAAAABxzdHNjAAAAAAAAAAEAAAABAAAAPAAAAAEAAAEEc3RzegAAAAAAAAAAAAAAPAAADLYAAAXnAAAAUAAAACEAAAA+AAAFGQAAAEIAAAAhAAAAOgAABI4AAABMAAAAIgAAADIAAASFAAAARgAAABkAAAAxAAADIwAAADEAAAATAAAAIwAABeIAAABDAAAAHQAAAD4AAARTAAAARgAAACEAAAA7AAAEnQAAAEcAAAAhAAAAGwAABJUAAABPAAAAIgAAAC8AAAMrAAAAYQAAADMAAAApAAACoAAAAF4AAAAqAAAANgAABZsAAABkAAAAMAAAADwAAAQiAAAAWgAAADoAAAA7AAAE8gAAAIMAAAA1AAAAWwAAAowAAAA+AAAAWQAAABRzdGNvAAAAAAAAAAEAAAAwAAAAYnVkdGEAAABabWV0YQAAAAAAAAAhaGRscgAAAAAAAAAAbWRpcmFwcGwAAAAAAAAAAAAAAAAtaWxzdAAAACWpdG9vAAAAHWRhdGEAAAABAAAAAExhdmY1OC4yOS4xMDA=\" type=\"video/mp4\">\n",
              "    Your browser does not support the video tag.\n",
              "    </video>"
            ]
          },
          "metadata": {},
          "execution_count": 10
        }
      ],
      "source": [
        "random_policy = random_tf_policy.RandomTFPolicy(tf_env.time_step_spec(), tf_env.action_spec(),\n",
        "    observation_and_action_constraint_splitter=observation_and_action_constraint_splitter)\n",
        "create_policy_eval_video(random_policy, \"random-agent\")"
      ]
    },
    {
      "cell_type": "markdown",
      "metadata": {
        "id": "GPHWdRyT-ND0"
      },
      "source": [
        "## Agent"
      ]
    },
    {
      "cell_type": "code",
      "execution_count": 11,
      "metadata": {
        "id": "MnqVY5icuPi4"
      },
      "outputs": [],
      "source": [
        "train_py_env = TicTacToeEnv1()\n",
        "eval_py_env = TicTacToeEnv1()\n",
        "\n",
        "train_env = tf_py_environment.TFPyEnvironment(train_py_env)\n",
        "eval_env = tf_py_environment.TFPyEnvironment(eval_py_env)"
      ]
    },
    {
      "cell_type": "code",
      "execution_count": 12,
      "metadata": {
        "id": "TgkdEPg_muzV"
      },
      "outputs": [],
      "source": [
        "conv_layer_params = [16, 32]\n",
        "action_tensor_spec = tensor_spec.from_spec(tf_env.action_spec())\n",
        "num_actions = action_tensor_spec.maximum - action_tensor_spec.minimum + 1\n",
        "\n",
        "# Define a helper function to create Conv layers configured with the right\n",
        "# activation and kernel initializer.\n",
        "def conv_layer(num_units):\n",
        "  return tf.keras.layers.Conv2D(\n",
        "                      filters=num_units,\n",
        "                      kernel_size=[3, 3],\n",
        "                      padding=\"same\",\n",
        "                      data_format=\"channels_last\",\n",
        "                      activation=tf.nn.leaky_relu,\n",
        "                      dtype=float)\n",
        "\n",
        "\n",
        "# QNetwork consists of a sequence of Conv layers followed by a dense layer\n",
        "# with `num_actions` units to generate one q_value per available action as\n",
        "# its output.\n",
        "normalization1 = tf.keras.layers.BatchNormalization()\n",
        "normalization2 = tf.keras.layers.BatchNormalization()\n",
        "conv_layers = [conv_layer(num_units) for num_units in conv_layer_params]\n",
        "action_conv = tf.keras.layers.Conv2D(filters=4,\n",
        "                    kernel_size=[1, 1], padding=\"same\",\n",
        "                    data_format=\"channels_last\",\n",
        "                    activation=tf.nn.leaky_relu)\n",
        "flatten = tf.keras.layers.Flatten()\n",
        "q_values_layer = tf.keras.layers.Dense(\n",
        "    num_actions,\n",
        "    activation=None,\n",
        "    kernel_initializer=tf.keras.initializers.RandomUniform(\n",
        "        minval=-0.03, maxval=0.03),\n",
        "    bias_initializer=tf.keras.initializers.Constant(-0.2))\n",
        "q_net = sequential.Sequential([normalization1] + conv_layers + [action_conv, normalization2, flatten, q_values_layer])\n"
      ]
    },
    {
      "cell_type": "code",
      "execution_count": 13,
      "metadata": {
        "id": "BeZ-5rpD-58G"
      },
      "outputs": [],
      "source": [
        "class ConvNestedLayer(tf.keras.layers.Layer):\n",
        "    def __init__(self, *args, **kwds):\n",
        "        super().__init__(*args, **kwds)\n",
        "        self.conv1 = tf.keras.layers.Conv2D(\n",
        "                      filters=32,\n",
        "                      kernel_size=[3, 3],\n",
        "                      padding=\"same\",\n",
        "                      data_format=\"channels_last\",\n",
        "                      activation=tf.nn.leaky_relu,\n",
        "                      dtype=float)\n",
        "        self.conv2 = tf.keras.layers.Conv2D(\n",
        "                      filters=64,\n",
        "                      kernel_size=[3, 3],\n",
        "                      padding=\"same\",\n",
        "                      data_format=\"channels_last\",\n",
        "                      activation=tf.nn.leaky_relu,\n",
        "                      dtype=float)\n",
        "        self.norm1 = tf.keras.layers.BatchNormalization()\n",
        "        self.norm2 = tf.keras.layers.BatchNormalization()\n",
        "        self.flatten = tf.keras.layers.Flatten()\n",
        "\n",
        "    def call(self, x):\n",
        "        x = self.norm1(x)\n",
        "        x = self.conv1(x)\n",
        "        x = self.norm2(x)\n",
        "        x = self.conv2(x)\n",
        "        x = self.flatten(x)\n",
        "        return x"
      ]
    },
    {
      "cell_type": "code",
      "execution_count": 14,
      "metadata": {
        "id": "NtrMeYVG4Jpr"
      },
      "outputs": [],
      "source": [
        "categorical_q_net = categorical_q_network.CategoricalQNetwork(\n",
        "    train_env.observation_spec()['state'],\n",
        "    train_env.action_spec(),\n",
        "    num_atoms=num_atoms,\n",
        "    preprocessing_layers = ConvNestedLayer(),\n",
        "    fc_layer_params=fc_layer_params)"
      ]
    },
    {
      "cell_type": "code",
      "execution_count": 15,
      "metadata": {
        "id": "lg5emNEam75J"
      },
      "outputs": [],
      "source": [
        "optimizer = tf.keras.optimizers.Adam(learning_rate=learning_rate)\n",
        "\n",
        "# agent = dqn_agent.DqnAgent(\n",
        "#     train_env.time_step_spec(),\n",
        "#     train_env.action_spec(),\n",
        "#     q_network=q_net,\n",
        "#     optimizer=optimizer,\n",
        "#     td_errors_loss_fn=common.element_wise_squared_loss,\n",
        "#     train_step_counter=train_step_counter)\n",
        "\n",
        "\n",
        "agent1 = categorical_dqn_agent.CategoricalDqnAgent(\n",
        "    train_env.time_step_spec(),\n",
        "    train_env.action_spec(),\n",
        "    categorical_q_network=categorical_q_net,\n",
        "    observation_and_action_constraint_splitter=observation_and_action_constraint_splitter,\n",
        "    optimizer=optimizer,\n",
        "    min_q_value=min_q_value,\n",
        "    max_q_value=max_q_value,\n",
        "    n_step_update=n_step_update,\n",
        "    td_errors_loss_fn=common.element_wise_squared_loss,\n",
        "    gamma=gamma,\n",
        "    train_step_counter=tf.Variable(0))\n",
        "\n",
        "agent2 = categorical_dqn_agent.CategoricalDqnAgent(\n",
        "    train_env.time_step_spec(),\n",
        "    train_env.action_spec(),\n",
        "    categorical_q_network=categorical_q_net,\n",
        "    observation_and_action_constraint_splitter=observation_and_action_constraint_splitter,\n",
        "    optimizer=optimizer,\n",
        "    min_q_value=min_q_value,\n",
        "    max_q_value=max_q_value,\n",
        "    n_step_update=n_step_update,\n",
        "    td_errors_loss_fn=common.element_wise_squared_loss,\n",
        "    gamma=gamma,\n",
        "    train_step_counter=tf.Variable(0))\n",
        "\n",
        "agent1.initialize()\n",
        "agent2.initialize()"
      ]
    },
    {
      "cell_type": "markdown",
      "metadata": {
        "id": "QaVnWWX4xpa5"
      },
      "source": [
        "## Policy"
      ]
    },
    {
      "cell_type": "code",
      "execution_count": 16,
      "metadata": {
        "id": "uGU0pGS4xsjc"
      },
      "outputs": [],
      "source": [
        "random_policy = random_tf_policy.RandomTFPolicy(train_env.time_step_spec(), train_env.action_spec(),\n",
        "    observation_and_action_constraint_splitter=observation_and_action_constraint_splitter)"
      ]
    },
    {
      "cell_type": "code",
      "execution_count": 17,
      "metadata": {
        "id": "N8vRFWNgx-tj"
      },
      "outputs": [],
      "source": [
        "def compute_avg_return(environment, policy, num_episodes=10):\n",
        "\n",
        "  total_return = 0.0\n",
        "  for _ in range(num_episodes):\n",
        "    time_step = environment.reset()\n",
        "    episode_return = 0.0\n",
        "    while not time_step.is_last():\n",
        "      action_step = policy.action(time_step)\n",
        "      time_step = environment.step(action_step.action)\n",
        "      episode_return += time_step.reward\n",
        "    total_return += episode_return\n",
        "\n",
        "  avg_return = total_return / num_episodes\n",
        "  return avg_return.numpy()[0]\n",
        "\n",
        "def compute_avg_return_battle(environment, policy1, policy2, num_episodes=10):\n",
        "\n",
        "  total_return_1 = 0.0\n",
        "  total_return_2 = 0.0\n",
        "  for _ in range(num_episodes):\n",
        "    episode_return_1 = 0.0\n",
        "    episode_return_2 = 0.0\n",
        "    time_step = environment.reset()\n",
        "    while not time_step.is_last():\n",
        "      action_step = policy1.action(time_step)\n",
        "      time_step = environment.step(action_step.action)\n",
        "      episode_return_1 += time_step.reward\n",
        "      if not time_step.is_last():\n",
        "        action_step = policy2.action(time_step)\n",
        "        time_step = environment.step(action_step.action)\n",
        "        episode_return_2 += time_step.reward\n",
        "    total_return_1 += episode_return_1\n",
        "    total_return_2 += episode_return_2\n",
        "\n",
        "  avg_return_1 = total_return_1 / num_episodes\n",
        "  avg_return_2 = total_return_2 / num_episodes\n",
        "  return [avg_return_1.numpy()[0], avg_return_2.numpy()[0]]\n",
        "\n",
        "def compute_avg_win_battle(environment, policy1, policy2, num_episodes=10):\n",
        "\n",
        "  total_return_1 = 0.0\n",
        "  total_return_2 = 0.0\n",
        "  for _ in range(num_episodes):\n",
        "    time_step = environment.reset()\n",
        "    while not time_step.is_last():\n",
        "      action_step = policy1.action(time_step)\n",
        "      time_step = environment.step(action_step.action)\n",
        "      if not time_step.is_last():\n",
        "        action_step = policy2.action(time_step)\n",
        "        time_step = environment.step(action_step.action)\n",
        "    if environment._envs[0].get_result() == 1:\n",
        "        total_return_1 += 1\n",
        "    elif environment._envs[0].get_result() == 2:\n",
        "        total_return_2 += 1\n",
        "\n",
        "  avg_return_1 = total_return_1 / num_episodes\n",
        "  avg_return_2 = total_return_2 / num_episodes\n",
        "  return [avg_return_1, avg_return_2]\n",
        "\n",
        "\n",
        "# See also the metrics module for standard implementations of different metrics.\n",
        "# https://github.com/tensorflow/agents/tree/master/tf_agents/metrics"
      ]
    },
    {
      "cell_type": "code",
      "execution_count": 18,
      "metadata": {
        "colab": {
          "base_uri": "https://localhost:8080/"
        },
        "id": "vlCXIdRVyAAu",
        "outputId": "e796228c-2bdc-41fc-e95a-3e874e560f02"
      },
      "outputs": [
        {
          "output_type": "stream",
          "name": "stdout",
          "text": [
            "2.2\n",
            "2.4\n",
            "[0.7, 0.3]\n"
          ]
        }
      ],
      "source": [
        "print(compute_avg_return(eval_env, agent1.policy, 1))\n",
        "print(compute_avg_return(eval_env, agent2.policy, 1))\n",
        "print(compute_avg_win_battle(eval_env, agent1.policy, agent2.policy, 10))"
      ]
    },
    {
      "cell_type": "markdown",
      "metadata": {
        "id": "VBEXcoMjy7xO"
      },
      "source": [
        "## Replay Buffer"
      ]
    },
    {
      "cell_type": "code",
      "execution_count": 19,
      "metadata": {
        "id": "CMVmKJF1y_Lt",
        "colab": {
          "base_uri": "https://localhost:8080/"
        },
        "outputId": "77d2e081-24e9-4034-f3b2-8d87addc2127"
      },
      "outputs": [
        {
          "output_type": "stream",
          "name": "stderr",
          "text": [
            "WARNING:tensorflow:From /usr/local/lib/python3.10/dist-packages/tf_agents/replay_buffers/tf_uniform_replay_buffer.py:364: CounterV2 (from tensorflow.python.data.experimental.ops.counter) is deprecated and will be removed in a future version.\n",
            "Instructions for updating:\n",
            "Use `tf.data.Dataset.counter(...)` instead.\n",
            "WARNING:tensorflow:From /usr/local/lib/python3.10/dist-packages/tensorflow/python/autograph/impl/api.py:377: ReplayBuffer.get_next (from tf_agents.replay_buffers.replay_buffer) is deprecated and will be removed in a future version.\n",
            "Instructions for updating:\n",
            "Use `as_dataset(..., single_deterministic_pass=False) instead.\n"
          ]
        }
      ],
      "source": [
        "replay_buffer1 = tf_uniform_replay_buffer.TFUniformReplayBuffer(\n",
        "    data_spec=agent1.collect_data_spec,\n",
        "    batch_size=train_env.batch_size,\n",
        "    max_length=replay_buffer_max_length)\n",
        "\n",
        "replay_buffer2 = tf_uniform_replay_buffer.TFUniformReplayBuffer(\n",
        "    data_spec=agent2.collect_data_spec,\n",
        "    batch_size=train_env.batch_size,\n",
        "    max_length=replay_buffer_max_length)\n",
        "\n",
        "# def collect_step(environment, policy, replay_buffer):\n",
        "#     time_step = environment.current_time_step()\n",
        "#     if time_step.is_last():\n",
        "#         time_step = environment.reset()\n",
        "#     action_step = policy.action(time_step)\n",
        "#     next_time_step = environment.step(action_step.action)\n",
        "#     traj = trajectory.from_transition(time_step, action_step, next_time_step)\n",
        "\n",
        "#     # Add trajectory to the replay buffer\n",
        "#     replay_buffer.add_batch(traj)\n",
        "\n",
        "def collect_episode(environment, policy1, replay_buffer1, policy2, replay_buffer2):\n",
        "    time_step1 = environment.reset()\n",
        "    trajs_1, trajs_2 = [], []\n",
        "    done_flag = False\n",
        "\n",
        "    while not time_step1.is_last():\n",
        "      action_step1 = agent1.collect_policy.action(time_step1)\n",
        "      next_time_step1 = environment.step(action_step1.action)\n",
        "      traj1 = trajectory.from_transition(time_step1, action_step1, next_time_step1)\n",
        "      time_step2 = next_time_step1\n",
        "      trajs_1.append(traj1)\n",
        "\n",
        "      if not time_step2.is_last():\n",
        "        action_step2 = agent2.collect_policy.action(time_step2)\n",
        "        next_time_step2 = environment.step(action_step2.action)\n",
        "        traj2 = trajectory.from_transition(time_step2, action_step2, next_time_step2)\n",
        "        trajs_2.append(traj2)\n",
        "        time_step1 = next_time_step2\n",
        "      else:\n",
        "        if environment._envs[0].get_result() == 3:\n",
        "            trajs_2[-1] = trajs_2[-1].replace(reward=trajs_2[-1].reward + REWARD_DRAW)\n",
        "        elif environment._envs[0].get_result() > 0:\n",
        "            trajs_2[-2] = trajs_2[-2].replace(reward=trajs_2[-2].reward + REWARD_LOSE * gamma)\n",
        "            trajs_2[-1] = trajs_2[-1].replace(reward=trajs_2[-1].reward + REWARD_LOSE)\n",
        "        done_flag = True\n",
        "\n",
        "      if done_flag:\n",
        "        break\n",
        "\n",
        "    if not done_flag:\n",
        "        if environment._envs[0].get_result() == 3:\n",
        "            trajs_1[-1] = trajs_1[-1].replace(reward=trajs_1[-1].reward + REWARD_DRAW)\n",
        "        elif environment._envs[0].get_result() > 0:\n",
        "            trajs_1[-2] = trajs_1[-2].replace(reward=trajs_1[-2].reward + REWARD_LOSE * gamma)\n",
        "            trajs_1[-1] = trajs_1[-1].replace(reward=trajs_1[-1].reward + REWARD_LOSE)\n",
        "\n",
        "    for tsj in trajs_1:\n",
        "        # print(f'Policy 1: {tsj.reward}')\n",
        "        replay_buffer1.add_batch(tsj)\n",
        "    for tsj in trajs_2:\n",
        "        # print(f'Policy 2: {tsj.reward}')\n",
        "        replay_buffer2.add_batch(tsj)\n",
        "\n",
        "# def collect_step_for_both(environment, policy1, replay_buffer1, policy2, replay_buffer2):\n",
        "#     time_step = environment.current_time_step()\n",
        "#     if time_step.is_last():\n",
        "#         time_step = environment.reset()\n",
        "#     action_step = policy1.action(time_step)\n",
        "#     next_time_step = environment.step(action_step.action)\n",
        "#     traj = trajectory.from_transition(time_step, action_step, next_time_step)\n",
        "#     replay_buffer1.add_batch(traj)\n",
        "\n",
        "#     time_step = next_time_step\n",
        "#     if time_step.is_last():\n",
        "#         time_step = environment.reset()\n",
        "#     action_step = policy2.action(time_step)\n",
        "#     next_time_step = environment.step(action_step.action)\n",
        "#     traj = trajectory.from_transition(time_step, action_step, next_time_step)\n",
        "#     replay_buffer2.add_batch(traj)\n",
        "\n",
        "for _ in range(initial_collect_episodes):\n",
        "    collect_episode(train_env, agent1.collect_policy, replay_buffer1, agent2.collect_policy, replay_buffer2)\n",
        "    # collect_step(train_env, random_policy, replay_buffer1)\n",
        "    # collect_step(train_env, random_policy, replay_buffer2)\n",
        "\n",
        "dataset1 = replay_buffer1.as_dataset(\n",
        "    num_parallel_calls=3, sample_batch_size=batch_size,\n",
        "    num_steps=n_step_update + 1).prefetch(3)\n",
        "iterator1 = iter(dataset1)\n",
        "\n",
        "dataset2 = replay_buffer2.as_dataset(\n",
        "    num_parallel_calls=3, sample_batch_size=batch_size,\n",
        "    num_steps=n_step_update).prefetch(3)\n",
        "iterator2 = iter(dataset2)"
      ]
    },
    {
      "cell_type": "markdown",
      "metadata": {
        "id": "tmMc8b6mBqli"
      },
      "source": [
        "## Set up the checkpointer and Policy saver"
      ]
    },
    {
      "cell_type": "code",
      "execution_count": 20,
      "metadata": {
        "id": "dRLhR6v4BsEb"
      },
      "outputs": [],
      "source": [
        "def create_zip_file(dirname, base_filename):\n",
        "  return shutil.make_archive(base_filename, 'zip', dirname)"
      ]
    },
    {
      "cell_type": "code",
      "execution_count": 21,
      "metadata": {
        "id": "aI2LVHZXBv4q"
      },
      "outputs": [],
      "source": [
        "policy_dir_1 = os.path.join(tempdir, 'policy_1')\n",
        "tf_policy_saver_1 = policy_saver.PolicySaver(agent1.policy)\n",
        "\n",
        "policy_dir_2 = os.path.join(tempdir, 'policy_2')\n",
        "tf_policy_saver_2 = policy_saver.PolicySaver(agent2.policy)"
      ]
    },
    {
      "cell_type": "markdown",
      "metadata": {
        "id": "jRVMc8V8zxj0"
      },
      "source": [
        "## Train the agent"
      ]
    },
    {
      "cell_type": "code",
      "execution_count": null,
      "metadata": {
        "colab": {
          "base_uri": "https://localhost:8080/"
        },
        "id": "6_1qWkmKz0Ke",
        "outputId": "34a5ec10-1f11-4fc1-f140-8586390b54ae"
      },
      "outputs": [
        {
          "output_type": "stream",
          "name": "stderr",
          "text": [
            "WARNING:tensorflow:From /usr/local/lib/python3.10/dist-packages/tensorflow/python/util/dispatch.py:1260: calling foldr_v2 (from tensorflow.python.ops.functional_ops) with back_prop=False is deprecated and will be removed in a future version.\n",
            "Instructions for updating:\n",
            "back_prop=False is deprecated. Consider using tf.stop_gradient instead.\n",
            "Instead of:\n",
            "results = tf.foldr(fn, elems, back_prop=False)\n",
            "Use:\n",
            "results = tf.nest.map_structure(tf.stop_gradient, tf.foldr(fn, elems))\n"
          ]
        },
        {
          "output_type": "stream",
          "name": "stdout",
          "text": [
            "step = 10: loss = 3.8843681812286377\n",
            "step = 20: loss = 3.8782505989074707\n",
            "step = 30: loss = 3.9110517501831055\n",
            "step = 40: loss = 3.8026881217956543\n",
            "step = 50: loss = 3.7721261978149414\n"
          ]
        },
        {
          "output_type": "stream",
          "name": "stderr",
          "text": [
            "WARNING:absl:`0/step_type` is not a valid tf.function parameter name. Sanitizing to `arg_0_step_type`.\n",
            "WARNING:absl:`0/reward` is not a valid tf.function parameter name. Sanitizing to `arg_0_reward`.\n",
            "WARNING:absl:`0/discount` is not a valid tf.function parameter name. Sanitizing to `arg_0_discount`.\n",
            "WARNING:absl:`0/observation/legal_moves` is not a valid tf.function parameter name. Sanitizing to `arg_0_observation_legal_moves`.\n",
            "WARNING:absl:`0/observation/state` is not a valid tf.function parameter name. Sanitizing to `arg_0_observation_state`.\n"
          ]
        },
        {
          "output_type": "stream",
          "name": "stdout",
          "text": [
            "step = 50: Average Return = [2.7600002, -0.2]\n"
          ]
        },
        {
          "output_type": "stream",
          "name": "stderr",
          "text": [
            "/usr/local/lib/python3.10/dist-packages/tensorflow/python/saved_model/nested_structure_coder.py:458: UserWarning: Encoding a StructuredValue with type tfp.distributions.Deterministic_ACTTypeSpec; loading this StructuredValue will require that this type be imported and registered.\n",
            "  warnings.warn(\"Encoding a StructuredValue with type %s; loading this \"\n",
            "/usr/local/lib/python3.10/dist-packages/tensorflow/python/saved_model/nested_structure_coder.py:458: UserWarning: Encoding a StructuredValue with type tfp.distributions.Deterministic_ACTTypeSpec; loading this StructuredValue will require that this type be imported and registered.\n",
            "  warnings.warn(\"Encoding a StructuredValue with type %s; loading this \"\n"
          ]
        },
        {
          "output_type": "stream",
          "name": "stdout",
          "text": [
            "step = 60: loss = 3.816462993621826\n",
            "step = 70: loss = 3.771420478820801\n",
            "step = 80: loss = 3.930342197418213\n",
            "step = 90: loss = 3.830005168914795\n",
            "step = 100: loss = 3.8558921813964844\n",
            "step = 100: Average Return = [2.2, -0.04]\n"
          ]
        },
        {
          "output_type": "stream",
          "name": "stderr",
          "text": [
            "/usr/local/lib/python3.10/dist-packages/tensorflow/python/saved_model/nested_structure_coder.py:458: UserWarning: Encoding a StructuredValue with type tfp.distributions.Deterministic_ACTTypeSpec; loading this StructuredValue will require that this type be imported and registered.\n",
            "  warnings.warn(\"Encoding a StructuredValue with type %s; loading this \"\n",
            "/usr/local/lib/python3.10/dist-packages/tensorflow/python/saved_model/nested_structure_coder.py:458: UserWarning: Encoding a StructuredValue with type tfp.distributions.Deterministic_ACTTypeSpec; loading this StructuredValue will require that this type be imported and registered.\n",
            "  warnings.warn(\"Encoding a StructuredValue with type %s; loading this \"\n"
          ]
        },
        {
          "output_type": "stream",
          "name": "stdout",
          "text": [
            "step = 110: loss = 3.7905385494232178\n",
            "step = 120: loss = 3.8713464736938477\n",
            "step = 130: loss = 3.8505611419677734\n",
            "step = 140: loss = 3.671520709991455\n",
            "step = 150: loss = 3.6704115867614746\n",
            "step = 150: Average Return = [1.68, 0.91999996]\n"
          ]
        },
        {
          "output_type": "stream",
          "name": "stderr",
          "text": [
            "/usr/local/lib/python3.10/dist-packages/tensorflow/python/saved_model/nested_structure_coder.py:458: UserWarning: Encoding a StructuredValue with type tfp.distributions.Deterministic_ACTTypeSpec; loading this StructuredValue will require that this type be imported and registered.\n",
            "  warnings.warn(\"Encoding a StructuredValue with type %s; loading this \"\n",
            "/usr/local/lib/python3.10/dist-packages/tensorflow/python/saved_model/nested_structure_coder.py:458: UserWarning: Encoding a StructuredValue with type tfp.distributions.Deterministic_ACTTypeSpec; loading this StructuredValue will require that this type be imported and registered.\n",
            "  warnings.warn(\"Encoding a StructuredValue with type %s; loading this \"\n"
          ]
        },
        {
          "output_type": "stream",
          "name": "stdout",
          "text": [
            "step = 160: loss = 3.7219693660736084\n",
            "step = 170: loss = 3.695255756378174\n",
            "step = 180: loss = 3.722649574279785\n",
            "step = 190: loss = 3.4582056999206543\n",
            "step = 200: loss = 2.0948262214660645\n",
            "step = 200: Average Return = [1.5200001, 1.0]\n"
          ]
        },
        {
          "output_type": "stream",
          "name": "stderr",
          "text": [
            "/usr/local/lib/python3.10/dist-packages/tensorflow/python/saved_model/nested_structure_coder.py:458: UserWarning: Encoding a StructuredValue with type tfp.distributions.Deterministic_ACTTypeSpec; loading this StructuredValue will require that this type be imported and registered.\n",
            "  warnings.warn(\"Encoding a StructuredValue with type %s; loading this \"\n",
            "/usr/local/lib/python3.10/dist-packages/tensorflow/python/saved_model/nested_structure_coder.py:458: UserWarning: Encoding a StructuredValue with type tfp.distributions.Deterministic_ACTTypeSpec; loading this StructuredValue will require that this type be imported and registered.\n",
            "  warnings.warn(\"Encoding a StructuredValue with type %s; loading this \"\n"
          ]
        },
        {
          "output_type": "stream",
          "name": "stdout",
          "text": [
            "step = 210: loss = 2.0886690616607666\n",
            "step = 220: loss = 1.8227593898773193\n",
            "step = 230: loss = 1.5336483716964722\n",
            "step = 240: loss = 2.937582015991211\n",
            "step = 250: loss = 2.818056344985962\n",
            "step = 250: Average Return = [0.31999996, 2.16]\n"
          ]
        },
        {
          "output_type": "stream",
          "name": "stderr",
          "text": [
            "/usr/local/lib/python3.10/dist-packages/tensorflow/python/saved_model/nested_structure_coder.py:458: UserWarning: Encoding a StructuredValue with type tfp.distributions.Deterministic_ACTTypeSpec; loading this StructuredValue will require that this type be imported and registered.\n",
            "  warnings.warn(\"Encoding a StructuredValue with type %s; loading this \"\n",
            "/usr/local/lib/python3.10/dist-packages/tensorflow/python/saved_model/nested_structure_coder.py:458: UserWarning: Encoding a StructuredValue with type tfp.distributions.Deterministic_ACTTypeSpec; loading this StructuredValue will require that this type be imported and registered.\n",
            "  warnings.warn(\"Encoding a StructuredValue with type %s; loading this \"\n"
          ]
        },
        {
          "output_type": "stream",
          "name": "stdout",
          "text": [
            "step = 260: loss = 2.7263407707214355\n",
            "step = 270: loss = 3.1368155479431152\n",
            "step = 280: loss = 3.331851005554199\n",
            "step = 290: loss = 3.2051613330841064\n",
            "step = 300: loss = 3.2835590839385986\n",
            "step = 300: Average Return = [1.3199999, 0.8]\n"
          ]
        },
        {
          "output_type": "stream",
          "name": "stderr",
          "text": [
            "/usr/local/lib/python3.10/dist-packages/tensorflow/python/saved_model/nested_structure_coder.py:458: UserWarning: Encoding a StructuredValue with type tfp.distributions.Deterministic_ACTTypeSpec; loading this StructuredValue will require that this type be imported and registered.\n",
            "  warnings.warn(\"Encoding a StructuredValue with type %s; loading this \"\n",
            "/usr/local/lib/python3.10/dist-packages/tensorflow/python/saved_model/nested_structure_coder.py:458: UserWarning: Encoding a StructuredValue with type tfp.distributions.Deterministic_ACTTypeSpec; loading this StructuredValue will require that this type be imported and registered.\n",
            "  warnings.warn(\"Encoding a StructuredValue with type %s; loading this \"\n"
          ]
        },
        {
          "output_type": "stream",
          "name": "stdout",
          "text": [
            "step = 310: loss = 3.127804756164551\n",
            "step = 320: loss = 3.297438144683838\n",
            "step = 330: loss = 2.663003444671631\n",
            "step = 340: loss = 2.4300293922424316\n",
            "step = 350: loss = 2.2811970710754395\n",
            "step = 350: Average Return = [0.39999995, 2.0]\n"
          ]
        },
        {
          "output_type": "stream",
          "name": "stderr",
          "text": [
            "/usr/local/lib/python3.10/dist-packages/tensorflow/python/saved_model/nested_structure_coder.py:458: UserWarning: Encoding a StructuredValue with type tfp.distributions.Deterministic_ACTTypeSpec; loading this StructuredValue will require that this type be imported and registered.\n",
            "  warnings.warn(\"Encoding a StructuredValue with type %s; loading this \"\n",
            "/usr/local/lib/python3.10/dist-packages/tensorflow/python/saved_model/nested_structure_coder.py:458: UserWarning: Encoding a StructuredValue with type tfp.distributions.Deterministic_ACTTypeSpec; loading this StructuredValue will require that this type be imported and registered.\n",
            "  warnings.warn(\"Encoding a StructuredValue with type %s; loading this \"\n"
          ]
        },
        {
          "output_type": "stream",
          "name": "stdout",
          "text": [
            "step = 360: loss = 2.2699735164642334\n",
            "step = 370: loss = 1.9916949272155762\n",
            "step = 380: loss = 2.1425018310546875\n",
            "step = 390: loss = 2.0879178047180176\n",
            "step = 400: loss = 2.2861642837524414\n",
            "step = 400: Average Return = [2.08, -0.03999999]\n"
          ]
        },
        {
          "output_type": "stream",
          "name": "stderr",
          "text": [
            "/usr/local/lib/python3.10/dist-packages/tensorflow/python/saved_model/nested_structure_coder.py:458: UserWarning: Encoding a StructuredValue with type tfp.distributions.Deterministic_ACTTypeSpec; loading this StructuredValue will require that this type be imported and registered.\n",
            "  warnings.warn(\"Encoding a StructuredValue with type %s; loading this \"\n",
            "/usr/local/lib/python3.10/dist-packages/tensorflow/python/saved_model/nested_structure_coder.py:458: UserWarning: Encoding a StructuredValue with type tfp.distributions.Deterministic_ACTTypeSpec; loading this StructuredValue will require that this type be imported and registered.\n",
            "  warnings.warn(\"Encoding a StructuredValue with type %s; loading this \"\n"
          ]
        },
        {
          "output_type": "stream",
          "name": "stdout",
          "text": [
            "step = 410: loss = 2.1515731811523438\n",
            "step = 420: loss = 2.118103504180908\n",
            "step = 430: loss = 2.055727243423462\n",
            "step = 440: loss = 2.3205201625823975\n",
            "step = 450: loss = 2.2623958587646484\n",
            "step = 450: Average Return = [0.23999998, 2.2]\n"
          ]
        },
        {
          "output_type": "stream",
          "name": "stderr",
          "text": [
            "/usr/local/lib/python3.10/dist-packages/tensorflow/python/saved_model/nested_structure_coder.py:458: UserWarning: Encoding a StructuredValue with type tfp.distributions.Deterministic_ACTTypeSpec; loading this StructuredValue will require that this type be imported and registered.\n",
            "  warnings.warn(\"Encoding a StructuredValue with type %s; loading this \"\n",
            "/usr/local/lib/python3.10/dist-packages/tensorflow/python/saved_model/nested_structure_coder.py:458: UserWarning: Encoding a StructuredValue with type tfp.distributions.Deterministic_ACTTypeSpec; loading this StructuredValue will require that this type be imported and registered.\n",
            "  warnings.warn(\"Encoding a StructuredValue with type %s; loading this \"\n"
          ]
        },
        {
          "output_type": "stream",
          "name": "stdout",
          "text": [
            "step = 460: loss = 2.207958698272705\n"
          ]
        }
      ],
      "source": [
        "try:\n",
        "  %%time\n",
        "except:\n",
        "  pass\n",
        "\n",
        "# (Optional) Optimize by wrapping some of the code in a graph using TF function.\n",
        "agent1.train = common.function(agent1.train)\n",
        "agent2.train = common.function(agent2.train)\n",
        "\n",
        "# Reset the train step.\n",
        "agent1.train_step_counter.assign(0)\n",
        "agent2.train_step_counter.assign(0)\n",
        "\n",
        "# Evaluate the agent's policy once before training.\n",
        "avg_return = compute_avg_win_battle(eval_env, agent1.policy, agent2.policy, 5)\n",
        "returns = [avg_return]\n",
        "\n",
        "# Reset the environment.\n",
        "time_step = train_env.reset()\n",
        "\n",
        "for idx in range(num_iterations):\n",
        "\n",
        "    # Collect a few episodes using collect_policy and save to the replay buffer.\n",
        "    for _ in range(collect_episodes_per_iteration):\n",
        "      if idx % 2:\n",
        "          collect_episode(train_env, agent1.collect_policy, replay_buffer1, agent2.collect_policy, replay_buffer2)\n",
        "      else:\n",
        "          collect_episode(train_env, agent2.collect_policy, replay_buffer2, agent1.collect_policy, replay_buffer1)\n",
        "      # collect_step(train_env, agent1.collect_policy, replay_buffer1)\n",
        "      # collect_step(train_env, agent2.collect_policy, replay_buffer2)\n",
        "\n",
        "    # Sample a batch of data from the buffer and update the agent's network.\n",
        "    experience, unused_info = next(iterator1)\n",
        "    train_loss_1 = agent1.train(experience).loss\n",
        "    experience, unused_info = next(iterator2)\n",
        "    train_loss_2 = agent2.train(experience).loss\n",
        "\n",
        "    step = agent1.train_step_counter.numpy()\n",
        "\n",
        "    if step % log_interval == 0:\n",
        "      print('step = {0}: loss = {1}'.format(step, (train_loss_1 + train_loss_2) / 2))\n",
        "\n",
        "    if step % eval_interval == 0:\n",
        "      avg_return = compute_avg_return_battle(eval_env, agent1.policy, agent2.policy, 5)\n",
        "      print('step = {0}: Average Return = {1}'.format(step, str(avg_return)))\n",
        "      tf_policy_saver_1.save(policy_dir_1)\n",
        "      policy_zip_filename = create_zip_file(policy_dir_1, os.path.join(tempdir, 'exported_policy_1'))\n",
        "      tf_policy_saver_2.save(policy_dir_2)\n",
        "      policy_zip_filename = create_zip_file(policy_dir_2, os.path.join(tempdir, 'exported_policy_2'))\n",
        "      returns.append(avg_return)"
      ]
    },
    {
      "cell_type": "markdown",
      "metadata": {
        "id": "euOj19B0B1ky"
      },
      "source": [
        "## Load the trained model"
      ]
    },
    {
      "cell_type": "code",
      "source": [
        "random_policy = random_tf_policy.RandomTFPolicy(train_env.time_step_spec(), train_env.action_spec(),\n",
        "    observation_and_action_constraint_splitter=observation_and_action_constraint_splitter)"
      ],
      "metadata": {
        "id": "NSRWvH6Udnd1"
      },
      "execution_count": null,
      "outputs": []
    },
    {
      "cell_type": "code",
      "execution_count": null,
      "metadata": {
        "id": "HDMa0xH3rAS6"
      },
      "outputs": [],
      "source": [
        "saved_policy_1 = tf.saved_model.load(policy_dir_1)\n",
        "print(compute_avg_win_battle(eval_env, saved_policy_1, random_policy, 20))\n",
        "create_policy_eval_video(saved_policy_1, \"trained-agent-1\")"
      ]
    },
    {
      "cell_type": "code",
      "source": [
        "saved_policy_2 = tf.saved_model.load(policy_dir_2)\n",
        "print(compute_avg_win_battle(eval_env, saved_policy_2, random_policy, 20))\n",
        "create_policy_eval_video(saved_policy_2, \"trained-agent-2\")"
      ],
      "metadata": {
        "id": "aUd9jzRPMdTa"
      },
      "execution_count": null,
      "outputs": []
    },
    {
      "cell_type": "markdown",
      "metadata": {
        "id": "Fsl0r1fyxpUD"
      },
      "source": []
    },
    {
      "cell_type": "markdown",
      "metadata": {
        "id": "WkOaR2zHrDwC"
      },
      "source": [
        "## TODO\n",
        "\n",
        "\n",
        "\n",
        "*   Check whether all functions are correct\n",
        "*   Check whether the environment is correctly implement\n",
        "*   Add the variant in `step` function\n",
        "*   Test whether the agent always chooses an *empty* square and whether they can go to an adjacent place correctly\n",
        "\n"
      ]
    }
  ],
  "metadata": {
    "colab": {
      "provenance": [],
      "authorship_tag": "ABX9TyPSwemiiOSxKX72ThrZBJYx",
      "include_colab_link": true
    },
    "kernelspec": {
      "display_name": "Python 3",
      "name": "python3"
    },
    "language_info": {
      "name": "python"
    }
  },
  "nbformat": 4,
  "nbformat_minor": 0
}